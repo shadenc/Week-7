{
  "cells": [
    {
      "cell_type": "markdown",
      "metadata": {
        "id": "bsurCNok43DL"
      },
      "source": [
        "# Text Classification Exam\n",
        "\n",
        "Welcome to the Text Classification Practical Exam. In this exam, you will be tasked with building, training, and evaluating an NLP model to classify text data. You are provided with a labeled dataset containing both the text and its corresponding class labels.\n",
        "\n",
        "Your objective is to develop a model that accurately predicts the class of the given text. Make sure to follow best practices in data preprocessing, model selection, and evaluation to achieve optimal results.\n",
        "\n",
        "Good luck!\n",
        "___"
      ]
    },
    {
      "cell_type": "markdown",
      "metadata": {
        "id": "oqw2El5mMxsz"
      },
      "source": [
        "# Install and Import Needed Libraries"
      ]
    },
    {
      "cell_type": "markdown",
      "metadata": {
        "id": "4dTkHbSHNB4y"
      },
      "source": [
        "You can use `pyarabic` or any other library to pre-process and clean the Arabic text."
      ]
    },
    {
      "cell_type": "code",
      "execution_count": 2,
      "metadata": {
        "id": "z6mRe6i5Wqqc",
        "colab": {
          "base_uri": "https://localhost:8080/"
        },
        "outputId": "de0470a5-3d75-4a42-9f17-1cb658e42b0e"
      },
      "outputs": [
        {
          "output_type": "stream",
          "name": "stdout",
          "text": [
            "Collecting pyarabic\n",
            "  Downloading PyArabic-0.6.15-py3-none-any.whl.metadata (10 kB)\n",
            "Requirement already satisfied: six>=1.14.0 in /usr/local/lib/python3.10/dist-packages (from pyarabic) (1.16.0)\n",
            "Downloading PyArabic-0.6.15-py3-none-any.whl (126 kB)\n",
            "\u001b[?25l   \u001b[90m━━━━━━━━━━━━━━━━━━━━━━━━━━━━━━━━━━━━━━━━\u001b[0m \u001b[32m0.0/126.4 kB\u001b[0m \u001b[31m?\u001b[0m eta \u001b[36m-:--:--\u001b[0m\r\u001b[2K   \u001b[90m━━━━━━━━━━━━━━━━━━━━━━━━━━━━━━━━━━━━━━━━\u001b[0m \u001b[32m126.4/126.4 kB\u001b[0m \u001b[31m5.3 MB/s\u001b[0m eta \u001b[36m0:00:00\u001b[0m\n",
            "\u001b[?25hInstalling collected packages: pyarabic\n",
            "Successfully installed pyarabic-0.6.15\n",
            "Requirement already satisfied: nltk in /usr/local/lib/python3.10/dist-packages (3.8.1)\n",
            "Requirement already satisfied: click in /usr/local/lib/python3.10/dist-packages (from nltk) (8.1.7)\n",
            "Requirement already satisfied: joblib in /usr/local/lib/python3.10/dist-packages (from nltk) (1.4.2)\n",
            "Requirement already satisfied: regex>=2021.8.3 in /usr/local/lib/python3.10/dist-packages (from nltk) (2024.5.15)\n",
            "Requirement already satisfied: tqdm in /usr/local/lib/python3.10/dist-packages (from nltk) (4.66.5)\n"
          ]
        }
      ],
      "source": [
        "!pip install pyarabic\n",
        "!pip install nltk"
      ]
    },
    {
      "cell_type": "code",
      "source": [
        "import pandas as pd\n",
        "from imblearn.over_sampling import SMOTE\n",
        "import re\n",
        "from collections import Counter\n",
        "from nltk.tokenize import word_tokenize\n",
        "import nltk\n",
        "nltk.download('stopwords')\n",
        "from nltk.stem.isri import ISRIStemmer\n",
        "nltk.download('punkt')\n",
        "import matplotlib.pyplot as plt\n",
        "import pyarabic.araby as araby\n",
        "from nltk.corpus import stopwords\n",
        "import tensorflow\n",
        "from tensorflow.keras.models import Sequential\n",
        "from tensorflow.keras.layers import Embedding, Dense, Input, Bidirectional, SimpleRNN, LSTM\n",
        "from tensorflow.keras.preprocessing.text import Tokenizer\n",
        "from tensorflow.keras.preprocessing.sequence import pad_sequences\n",
        "from sklearn.preprocessing import LabelEncoder\n",
        "from sklearn.model_selection import train_test_split"
      ],
      "metadata": {
        "colab": {
          "base_uri": "https://localhost:8080/"
        },
        "id": "G25RYL3pzn1R",
        "outputId": "1cb6dbbb-1b19-4b4a-d435-2d0a4a774518"
      },
      "execution_count": 3,
      "outputs": [
        {
          "output_type": "stream",
          "name": "stderr",
          "text": [
            "[nltk_data] Downloading package punkt to /root/nltk_data...\n",
            "[nltk_data]   Unzipping tokenizers/punkt.zip.\n",
            "[nltk_data] Downloading package stopwords to /root/nltk_data...\n",
            "[nltk_data]   Unzipping corpora/stopwords.zip.\n"
          ]
        }
      ]
    },
    {
      "cell_type": "markdown",
      "metadata": {
        "id": "Hq5KJRZ5Ph0Z"
      },
      "source": [
        "# Download the Dataset"
      ]
    },
    {
      "cell_type": "markdown",
      "metadata": {
        "id": "3riATTJ243DN"
      },
      "source": [
        "Please note that you are allowed to take a subset of this dataset, the reason for that is it might take a long time to train the model on."
      ]
    },
    {
      "cell_type": "code",
      "execution_count": 4,
      "metadata": {
        "id": "M1n3uTg043DN",
        "colab": {
          "base_uri": "https://localhost:8080/"
        },
        "outputId": "a6c33841-bb35-4810-9591-c66f6060c30f"
      },
      "outputs": [
        {
          "output_type": "stream",
          "name": "stdout",
          "text": [
            "Dataset URL: https://www.kaggle.com/datasets/khaledzsa/sanad\n",
            "License(s): unknown\n",
            "Downloading sanad.zip to /content\n",
            "100% 71.4M/71.4M [00:02<00:00, 43.4MB/s]\n",
            "100% 71.4M/71.4M [00:02<00:00, 32.2MB/s]\n",
            "Archive:  sanad.zip\n",
            "  inflating: sanad.csv               \n"
          ]
        }
      ],
      "source": [
        "!kaggle datasets download -d khaledzsa/sanad\n",
        "!unzip sanad.zip"
      ]
    },
    {
      "cell_type": "code",
      "source": [
        "file_path = '/content/sanad.csv'\n",
        "df = pd.read_csv(file_path)\n",
        "df = df.sample(n=1000, random_state=42)\n",
        "df.head()"
      ],
      "metadata": {
        "colab": {
          "base_uri": "https://localhost:8080/",
          "height": 204
        },
        "id": "gFd8zOZC0MUP",
        "outputId": "6f2299d2-4ec4-4fe0-d12b-1165e46ee365"
      },
      "execution_count": 5,
      "outputs": [
        {
          "output_type": "execute_result",
          "data": {
            "text/plain": [
              "                                                    text    label\n",
              "10869  https://example.com/resource/بْلِغت َتسَييلّاً...  Finance\n",
              "3643   https://example.com/resource/دبِيِ - إِبٍرِاهُ...  Culture\n",
              "3375   https://example.com/resource/أِبوظبُيّ ٌ-ِ ًمن...  Culture\n",
              "36367  https://example.com/resource/Noٍkْiaٌ 5ُ53ً0ُ ...     Tech\n",
              "30086  https://example.com/resource/واُصلُ اّلٍنَجُم ...   Sports"
            ],
            "text/html": [
              "\n",
              "  <div id=\"df-606375e8-3509-417a-acf2-ccb55d16e731\" class=\"colab-df-container\">\n",
              "    <div>\n",
              "<style scoped>\n",
              "    .dataframe tbody tr th:only-of-type {\n",
              "        vertical-align: middle;\n",
              "    }\n",
              "\n",
              "    .dataframe tbody tr th {\n",
              "        vertical-align: top;\n",
              "    }\n",
              "\n",
              "    .dataframe thead th {\n",
              "        text-align: right;\n",
              "    }\n",
              "</style>\n",
              "<table border=\"1\" class=\"dataframe\">\n",
              "  <thead>\n",
              "    <tr style=\"text-align: right;\">\n",
              "      <th></th>\n",
              "      <th>text</th>\n",
              "      <th>label</th>\n",
              "    </tr>\n",
              "  </thead>\n",
              "  <tbody>\n",
              "    <tr>\n",
              "      <th>10869</th>\n",
              "      <td>https://example.com/resource/بْلِغت َتسَييلّاً...</td>\n",
              "      <td>Finance</td>\n",
              "    </tr>\n",
              "    <tr>\n",
              "      <th>3643</th>\n",
              "      <td>https://example.com/resource/دبِيِ - إِبٍرِاهُ...</td>\n",
              "      <td>Culture</td>\n",
              "    </tr>\n",
              "    <tr>\n",
              "      <th>3375</th>\n",
              "      <td>https://example.com/resource/أِبوظبُيّ ٌ-ِ ًمن...</td>\n",
              "      <td>Culture</td>\n",
              "    </tr>\n",
              "    <tr>\n",
              "      <th>36367</th>\n",
              "      <td>https://example.com/resource/Noٍkْiaٌ 5ُ53ً0ُ ...</td>\n",
              "      <td>Tech</td>\n",
              "    </tr>\n",
              "    <tr>\n",
              "      <th>30086</th>\n",
              "      <td>https://example.com/resource/واُصلُ اّلٍنَجُم ...</td>\n",
              "      <td>Sports</td>\n",
              "    </tr>\n",
              "  </tbody>\n",
              "</table>\n",
              "</div>\n",
              "    <div class=\"colab-df-buttons\">\n",
              "\n",
              "  <div class=\"colab-df-container\">\n",
              "    <button class=\"colab-df-convert\" onclick=\"convertToInteractive('df-606375e8-3509-417a-acf2-ccb55d16e731')\"\n",
              "            title=\"Convert this dataframe to an interactive table.\"\n",
              "            style=\"display:none;\">\n",
              "\n",
              "  <svg xmlns=\"http://www.w3.org/2000/svg\" height=\"24px\" viewBox=\"0 -960 960 960\">\n",
              "    <path d=\"M120-120v-720h720v720H120Zm60-500h600v-160H180v160Zm220 220h160v-160H400v160Zm0 220h160v-160H400v160ZM180-400h160v-160H180v160Zm440 0h160v-160H620v160ZM180-180h160v-160H180v160Zm440 0h160v-160H620v160Z\"/>\n",
              "  </svg>\n",
              "    </button>\n",
              "\n",
              "  <style>\n",
              "    .colab-df-container {\n",
              "      display:flex;\n",
              "      gap: 12px;\n",
              "    }\n",
              "\n",
              "    .colab-df-convert {\n",
              "      background-color: #E8F0FE;\n",
              "      border: none;\n",
              "      border-radius: 50%;\n",
              "      cursor: pointer;\n",
              "      display: none;\n",
              "      fill: #1967D2;\n",
              "      height: 32px;\n",
              "      padding: 0 0 0 0;\n",
              "      width: 32px;\n",
              "    }\n",
              "\n",
              "    .colab-df-convert:hover {\n",
              "      background-color: #E2EBFA;\n",
              "      box-shadow: 0px 1px 2px rgba(60, 64, 67, 0.3), 0px 1px 3px 1px rgba(60, 64, 67, 0.15);\n",
              "      fill: #174EA6;\n",
              "    }\n",
              "\n",
              "    .colab-df-buttons div {\n",
              "      margin-bottom: 4px;\n",
              "    }\n",
              "\n",
              "    [theme=dark] .colab-df-convert {\n",
              "      background-color: #3B4455;\n",
              "      fill: #D2E3FC;\n",
              "    }\n",
              "\n",
              "    [theme=dark] .colab-df-convert:hover {\n",
              "      background-color: #434B5C;\n",
              "      box-shadow: 0px 1px 3px 1px rgba(0, 0, 0, 0.15);\n",
              "      filter: drop-shadow(0px 1px 2px rgba(0, 0, 0, 0.3));\n",
              "      fill: #FFFFFF;\n",
              "    }\n",
              "  </style>\n",
              "\n",
              "    <script>\n",
              "      const buttonEl =\n",
              "        document.querySelector('#df-606375e8-3509-417a-acf2-ccb55d16e731 button.colab-df-convert');\n",
              "      buttonEl.style.display =\n",
              "        google.colab.kernel.accessAllowed ? 'block' : 'none';\n",
              "\n",
              "      async function convertToInteractive(key) {\n",
              "        const element = document.querySelector('#df-606375e8-3509-417a-acf2-ccb55d16e731');\n",
              "        const dataTable =\n",
              "          await google.colab.kernel.invokeFunction('convertToInteractive',\n",
              "                                                    [key], {});\n",
              "        if (!dataTable) return;\n",
              "\n",
              "        const docLinkHtml = 'Like what you see? Visit the ' +\n",
              "          '<a target=\"_blank\" href=https://colab.research.google.com/notebooks/data_table.ipynb>data table notebook</a>'\n",
              "          + ' to learn more about interactive tables.';\n",
              "        element.innerHTML = '';\n",
              "        dataTable['output_type'] = 'display_data';\n",
              "        await google.colab.output.renderOutput(dataTable, element);\n",
              "        const docLink = document.createElement('div');\n",
              "        docLink.innerHTML = docLinkHtml;\n",
              "        element.appendChild(docLink);\n",
              "      }\n",
              "    </script>\n",
              "  </div>\n",
              "\n",
              "\n",
              "<div id=\"df-bcc20c49-2cfd-4e32-a228-ad850bbf93e9\">\n",
              "  <button class=\"colab-df-quickchart\" onclick=\"quickchart('df-bcc20c49-2cfd-4e32-a228-ad850bbf93e9')\"\n",
              "            title=\"Suggest charts\"\n",
              "            style=\"display:none;\">\n",
              "\n",
              "<svg xmlns=\"http://www.w3.org/2000/svg\" height=\"24px\"viewBox=\"0 0 24 24\"\n",
              "     width=\"24px\">\n",
              "    <g>\n",
              "        <path d=\"M19 3H5c-1.1 0-2 .9-2 2v14c0 1.1.9 2 2 2h14c1.1 0 2-.9 2-2V5c0-1.1-.9-2-2-2zM9 17H7v-7h2v7zm4 0h-2V7h2v10zm4 0h-2v-4h2v4z\"/>\n",
              "    </g>\n",
              "</svg>\n",
              "  </button>\n",
              "\n",
              "<style>\n",
              "  .colab-df-quickchart {\n",
              "      --bg-color: #E8F0FE;\n",
              "      --fill-color: #1967D2;\n",
              "      --hover-bg-color: #E2EBFA;\n",
              "      --hover-fill-color: #174EA6;\n",
              "      --disabled-fill-color: #AAA;\n",
              "      --disabled-bg-color: #DDD;\n",
              "  }\n",
              "\n",
              "  [theme=dark] .colab-df-quickchart {\n",
              "      --bg-color: #3B4455;\n",
              "      --fill-color: #D2E3FC;\n",
              "      --hover-bg-color: #434B5C;\n",
              "      --hover-fill-color: #FFFFFF;\n",
              "      --disabled-bg-color: #3B4455;\n",
              "      --disabled-fill-color: #666;\n",
              "  }\n",
              "\n",
              "  .colab-df-quickchart {\n",
              "    background-color: var(--bg-color);\n",
              "    border: none;\n",
              "    border-radius: 50%;\n",
              "    cursor: pointer;\n",
              "    display: none;\n",
              "    fill: var(--fill-color);\n",
              "    height: 32px;\n",
              "    padding: 0;\n",
              "    width: 32px;\n",
              "  }\n",
              "\n",
              "  .colab-df-quickchart:hover {\n",
              "    background-color: var(--hover-bg-color);\n",
              "    box-shadow: 0 1px 2px rgba(60, 64, 67, 0.3), 0 1px 3px 1px rgba(60, 64, 67, 0.15);\n",
              "    fill: var(--button-hover-fill-color);\n",
              "  }\n",
              "\n",
              "  .colab-df-quickchart-complete:disabled,\n",
              "  .colab-df-quickchart-complete:disabled:hover {\n",
              "    background-color: var(--disabled-bg-color);\n",
              "    fill: var(--disabled-fill-color);\n",
              "    box-shadow: none;\n",
              "  }\n",
              "\n",
              "  .colab-df-spinner {\n",
              "    border: 2px solid var(--fill-color);\n",
              "    border-color: transparent;\n",
              "    border-bottom-color: var(--fill-color);\n",
              "    animation:\n",
              "      spin 1s steps(1) infinite;\n",
              "  }\n",
              "\n",
              "  @keyframes spin {\n",
              "    0% {\n",
              "      border-color: transparent;\n",
              "      border-bottom-color: var(--fill-color);\n",
              "      border-left-color: var(--fill-color);\n",
              "    }\n",
              "    20% {\n",
              "      border-color: transparent;\n",
              "      border-left-color: var(--fill-color);\n",
              "      border-top-color: var(--fill-color);\n",
              "    }\n",
              "    30% {\n",
              "      border-color: transparent;\n",
              "      border-left-color: var(--fill-color);\n",
              "      border-top-color: var(--fill-color);\n",
              "      border-right-color: var(--fill-color);\n",
              "    }\n",
              "    40% {\n",
              "      border-color: transparent;\n",
              "      border-right-color: var(--fill-color);\n",
              "      border-top-color: var(--fill-color);\n",
              "    }\n",
              "    60% {\n",
              "      border-color: transparent;\n",
              "      border-right-color: var(--fill-color);\n",
              "    }\n",
              "    80% {\n",
              "      border-color: transparent;\n",
              "      border-right-color: var(--fill-color);\n",
              "      border-bottom-color: var(--fill-color);\n",
              "    }\n",
              "    90% {\n",
              "      border-color: transparent;\n",
              "      border-bottom-color: var(--fill-color);\n",
              "    }\n",
              "  }\n",
              "</style>\n",
              "\n",
              "  <script>\n",
              "    async function quickchart(key) {\n",
              "      const quickchartButtonEl =\n",
              "        document.querySelector('#' + key + ' button');\n",
              "      quickchartButtonEl.disabled = true;  // To prevent multiple clicks.\n",
              "      quickchartButtonEl.classList.add('colab-df-spinner');\n",
              "      try {\n",
              "        const charts = await google.colab.kernel.invokeFunction(\n",
              "            'suggestCharts', [key], {});\n",
              "      } catch (error) {\n",
              "        console.error('Error during call to suggestCharts:', error);\n",
              "      }\n",
              "      quickchartButtonEl.classList.remove('colab-df-spinner');\n",
              "      quickchartButtonEl.classList.add('colab-df-quickchart-complete');\n",
              "    }\n",
              "    (() => {\n",
              "      let quickchartButtonEl =\n",
              "        document.querySelector('#df-bcc20c49-2cfd-4e32-a228-ad850bbf93e9 button');\n",
              "      quickchartButtonEl.style.display =\n",
              "        google.colab.kernel.accessAllowed ? 'block' : 'none';\n",
              "    })();\n",
              "  </script>\n",
              "</div>\n",
              "\n",
              "    </div>\n",
              "  </div>\n"
            ],
            "application/vnd.google.colaboratory.intrinsic+json": {
              "type": "dataframe",
              "variable_name": "df",
              "summary": "{\n  \"name\": \"df\",\n  \"rows\": 1000,\n  \"fields\": [\n    {\n      \"column\": \"text\",\n      \"properties\": {\n        \"dtype\": \"string\",\n        \"num_unique_values\": 1000,\n        \"samples\": [\n          \"https://example.com/resource/\\u0631\\u0641\\u0639\\u062a\\u064d \\u0645\\u0650\\u0628\\u064d\\u0627\\u062f\\u0631\\u064b\\u0629\\u0651 \\u0627\\u0644\\u064e\\u062d\\u064e\\u0643\\u064f\\u0648\\u0652\\u0645\\u0650\\u0629 \\u0627\\u0651\\u0644\\u0652\\u0630\\u0643\\u064a\\u064b\\u0629\\u0650\\u060c\\u064e \\u064b\\u0627\\u064c\\u0644\\u062a\\u0652\\u064a \\u0623\\u0637\\u064e\\u0644\\u064d\\u0642\\u0647\\u0627\\u064b \\u064e\\u0635\\u0627\\u062d\\u0628\\u064e \\u0627\\u0644\\u064c\\u0633\\u0652\\u0645\\u064d\\u0648\\u064b \\u0627\\u064b\\u0644\\u0634\\u0650\\u064a\\u0651\\u062e\\u064f \\u064d\\u0645\\u062d\\u064f\\u0645\\u0651\\u062f \\u0628\\u0646 \\u0631\\u0627\\u064e\\u0634\\u062f\\u064e \\u064e\\u0622\\u0644\\u0651 \\u0650\\u0645\\u0652\\u0643\\u062a\\u0648\\u064e\\u0645\\u064b \\u0646\\u0627\\u0626\\u0628\\u0651 \\u0631\\u064d\\u0626\\u0652\\u064a\\u064c\\u0633\\u0651 \\u0627\\u0644\\u062f\\u0648\\u0644\\u0629 \\u064f\\u0631\\u064d\\u0626\\u064a\\u0633 \\u0645\\u062c\\u064f\\u0644\\u0633\\u064c \\u064c\\u0627\\u0644\\u064e\\u0648\\u0632\\u064e\\u0631\\u064b\\u0627\\u0621 \\u064e\\u062d\\u064e\\u0627\\u0651\\u0643\\u0645\\u064e \\u062f\\u0628\\u064a\\u060c\\u0650 \\u0631\\u0639\\u064d\\u0627\\u0650\\u0647\\u0651 \\u064e\\u0627\\u0650\\u0644\\u0652\\u0644\\u0652\\u0647\\u064f\\u060c\\u064f \\u064b\\u0627\\u0650\\u0644\\u0637\\u0644\\u0652\\u0628 \\u0645\\u064d\\u0646\\u0650 \\u064d\\u0642\\u064b\\u0628\\u0652\\u0644 \\u0651\\u0627\\u0644\\u062c\\u0647\\u0627\\u064c\\u062a\\u064b \\u064c\\u0648\\u064b\\u0627\\u0644\\u062f\\u064b\\u0648\\u064f\\u0627\\u064c\\u0626\\u0631 \\u0627\\u0652\\u0644\\u0650\\u062d\\u0643\\u064b\\u0648\\u0645\\u0652\\u064a\\u0651\\u0629\\u064c \\u0639\\u0652\\u0644\\u064b\\u0649\\u064f \\u0651\\u0627\\u0644\\u0652\\u062a\\u0652\\u0637\\u0628\\u064a\\u0642\\u0651\\u0627\\u064c\\u062a \\u0652\\u0627\\u0644\\u0645\\u0633\\u062a\\u0651\\u062e\\u064c\\u062f\\u0645\\u0629 \\u064f\\u0639\\u0652\\u0644\\u0649\\u064d \\u0627\\u0644\\u064f\\u0623\\u062c\\u0651\\u0647\\u0652\\u0632\\u064f\\u0629 \\u064d\\u0627\\u0644\\u0644\\u0648\\u062d\\u064a\\u064f\\u0629 \\u0648\\u064e\\u0627\\u0644\\u0647\\u0648\\u064d\\u0627\\u062a\\u0641 \\u064e\\u0627\\u0651\\u0644\\u064f\\u0630\\u0643\\u0651\\u064a\\u0629 .\\u064f\\u0648\\u0623\\u064d\\u0641\\u064c\\u0627\\u064e\\u062f\\u0650 \\u0645\\u064d\\u0633\\u0650\\u0624\\u064c\\u0648\\u0644\\u064d\\u0648\\u0652 \\u0634\\u0651\\u0631\\u0643\\u0627\\u062a\\u064f \\u064d\\u0639\\u0627\\u0645\\u0629 \\u0641\\u064f\\u064a \\u064e\\u062a\\u0637\\u064b\\u0648\\u0650\\u064a\\u0631\\u064b \\u062a\\u064e\\u0637\\u0628\\u064a\\u064f\\u0642\\u0627\\u064b\\u062a \\u0627\\u0651\\u0644\\u0647\\u064f\\u0648\\u064b\\u0627\\u064d\\u062a\\u0650\\u0641 \\u0627\\u0644\\u064b\\u0630\\u0643\\u064f\\u064a\\u0629\\u064f \\u0628\\u0623\\u064f\\u0646 \\u064d\\u0627\\u0644\\u0645\\u0628\\u0627\\u0650\\u062f\\u0631\\u0629 \\u0633\\u064d\\u0627\\u0647\\u0645\\u0650\\u062a\\u064d \\u0652\\u0641\\u064a \\u0632\\u064a\\u0627\\u0652\\u062f\\u0629 \\u0627\\u0644\\u064d\\u0637\\u064c\\u0644\\u0628\\u0650 \\u064c\\u0639\\u064f\\u0644\\u0650\\u0649\\u0652 \\u064c\\u0623\\u0639\\u064b\\u0645\\u064f\\u0627\\u0650\\u0644\\u0650\\u0647\\u0645 \\u064f\\u0645\\u0646\\u0652 \\u0642\\u064b\\u0628\\u0644 \\u0627\\u064d\\u0644\\u062f\\u0650\\u0648\\u0627\\u0626\\u0631 \\u0648\\u064f\\u0627\\u064b\\u0644\\u064d\\u062c\\u0647\\u0627\\u062a \\u064f\\u0627\\u0652\\u0644\\u062d\\u0652\\u0643\\u0648\\u064b\\u0645\\u064f\\u064a\\u0652\\u0629 \\u064c\\u0628\\u0652\\u0646\\u0633\\u0628\\u0629 \\u06517\\u064b5\\u0650%\\u0651\\u060c \\u0645\\u0634\\u064a\\u0631\\u064a\\u064e\\u0646 \\u0625\\u0644\\u0649 \\u064d\\u0623\\u0646\\u064d \\u0633\\u064b\\u0648\\u064c\\u0642 \\u062a\\u0637\\u064e\\u0628\\u064a\\u064c\\u0642\\u0627\\u0651\\u062a \\u064d\\u0627\\u0644\\u064b\\u0647\\u0652\\u0648\\u0627\\u0652\\u062a\\u0641 \\u0627\\u0644\\u0630\\u0643\\u064f\\u064a\\u0629\\u064c \\u0651\\u0641\\u064a\\u064e \\u0627\\u0652\\u0644\\u064e\\u0625\\u0645\\u064c\\u0627\\u0631\\u0627\\u064e\\u062a \\u064a\\u064b\\u0639\\u062f\\u064c \\u0627\\u0644\\u064c\\u0623\\u0643\\u0651\\u0628\\u064f\\u0631 \\u064e\\u0641\\u064a \\u0651\\u0645\\u0646\\u0650\\u0637\\u0651\\u0642\\u064e\\u0629\\u064e \\u0627\\u0651\\u0644\\u062e\\u0644\\u064e\\u064a\\u062c \\u0650\\u0648\\u064e\\u0627\\u0644\\u064d\\u0645\\u0651\\u0646\\u064e\\u0637\\u0642\\u064e\\u0629 .\\u0650\\u0648\\u0652\\u0642\\u0627\\u0644\\u064b \\u0641\\u064c\\u0647\\u064d\\u064a\\u064d\\u0645 \\u0627\\u064f\\u0644\\u0632\\u0651\\u0628\\u064a\\u064d\\u062f\\u064c\\u064a\\u0652\\u060c \\u0627\\u0644\\u0645\\u064e\\u062f\\u064a\\u0650\\u0631 \\u0652\\u0627\\u0644\\u062a\\u0646\\u0641\\u064a\\u0652\\u0630\\u064a \\u064d\\u0641\\u064a \\u0650\\u0634\\u0651\\u0631\\u064b\\u0643\\u0629 \\u064e\\u0625\\u0641\\u064a\\u0651\\u0646\\u064c\\u062a\\u0648\\u060c \\u0627\\u0644\\u0650\\u0625\\u064f\\u0645\\u0627\\u064d\\u0631\\u0627\\u062a\\u064c\\u064a\\u064b\\u0629 \\u0627\\u0652\\u0644\\u0645\\u0651\\u062a\\u0651\\u062e\\u0635\\u0635\\u0629\\u0651 \\u0650\\u0641\\u064e\\u064a \\u0627\\u0644\\u062d\\u0644\\u0651\\u0648\\u064f\\u0644 \\u064f\\u0627\\u0650\\u0644\\u064d\\u062a\\u064c\\u0642\\u0646\\u064f\\u064a\\u064e\\u0629 \\u064e\\u0648\\u064d\\u062a\\u0637\\u0628\\u064c\\u064a\\u0642\\u064d\\u0627\\u062a\\u064f \\u0651\\u0627\\u0644\\u0647\\u0648\\u0627\\u062a\\u064c\\u0641 \\u064b\\u0627\\u0644\\u0630\\u064d\\u0643\\u064e\\u064a\\u0629 \\u0625\\u0646\\u0652 \\u0639\\u064c\\u062f\\u064d\\u062f \\u0627\\u064e\\u0644\\u062a\\u0652\\u0637\\u0628\\u0652\\u064a\\u064b\\u0642\\u0650\\u0627\\u064b\\u062a \\u064e\\u0627\\u064f\\u0644\\u0651\\u062a\\u064f\\u064a\\u0650 \\u064e\\u062a\\u062a\\u0651\\u0648\\u0651\\u0642\\u0639 \\u0652\\u0627\\u0644\\u0634\\u064d\\u0631\\u0652\\u0643\\u0629\\u0651 \\u0651\\u0625\\u0646\\u062c\\u0652\\u0627\\u0650\\u0632\\u064b\\u0647\\u064e\\u0627 \\u0644\\u0644\\u064b\\u0642\\u0637\\u0651\\u0627\\u064e\\u0639 \\u0627\\u064c\\u0644\\u064d\\u062d\\u0650\\u0643\\u0648\\u0645\\u064f\\u064a\\u064f \\u064d\\u0628\\u064b\\u0646\\u064b\\u0647\\u0650\\u0627\\u064b\\u064a\\u064f\\u0629 \\u064e\\u0627\\u0652\\u0644\\u064c\\u0639\\u064b\\u0627\\u0645\\u0650 \\u0651\\u0627\\u0644\\u064b\\u062c\\u064c\\u0627\\u0631\\u064e\\u064a \\u064d11 \\u062a\\u0652\\u0637\\u0652\\u0628\\u064a\\u0642\\u064f\\u0627\\u064b\\u0652\\u060c\\u064d \\u0645\\u0650\\u0634\\u064a\\u064f\\u0631\\u0627\\u0650\\u064b \\u064c\\u0623\\u0646\\u064e \\u0627\\u0651\\u0644\\u0634\\u0631\\u064d\\u0643\\u064c\\u0629\\u0651 \\u064f\\u062a\\u0639\\u0645\\u0644 \\u0651\\u062d\\u0650\\u0627\\u0644\\u064a\\u0650\\u0627\\u064c\\u064b\\u064c \\u0651\\u0639\\u064e\\u0644\\u0651\\u0649 \\u064f\\u062a\\u064c\\u0637\\u064d\\u0648\\u0651\\u064a\\u0631 \\u064d3 \\u0650\\u062a\\u0637\\u0652\\u0628\\u0650\\u064a\\u0642\\u0627\\u0652\\u062a \\u064e\\u0644\\u0651\\u062f\\u064b\\u0648\\u0627\\u064d\\u0626\\u064f\\u0631\\u064e \\u062d\\u0643\\u0648\\u0645\\u064a\\u0650\\u0629 \\u0641\\u0650\\u064a\\u064e \\u0623\\u0651\\u0628\\u064b\\u0648\\u0638\\u064d\\u0628\\u064a\\u0650 \\u064b\\u0648\\u064c\\u062f\\u0652\\u0628\\u064e\\u064a\\u064c \\u064f\\u0645\\u0650\\u0646 \\u064d\\u0628\\u064c\\u064a\\u064d\\u0646\\u064c\\u0647\\u0627 \\u0645\\u0650\\u0624\\u064c\\u0633\\u0633\\u064b\\u0629 \\u0645\\u064e\\u062d\\u064c\\u0645\\u062f\\u064b \\u0650\\u0628\\u0651\\u0646 \\u0650\\u0631\\u0650\\u0627\\u0650\\u0634\\u064f\\u062f \\u0644\\u062f\\u0639\\u0652\\u0645\\u064c \\u064b\\u0645\\u0634\\u064d\\u0627\\u0650\\u0631\\u064c\\u064a\\u0650\\u0639 \\u0651\\u0627\\u064c\\u0644\\u064e\\u0634\\u0628\\u0651\\u0627\\u064d\\u0628 .\\u0648\\u0623\\u0648\\u0636\\u062d \\u064e\\u0627\\u0644\\u0632\\u064c\\u0628\\u064b\\u064a\\u062f\\u064b\\u064a \\u064f\\u0623\\u0646\\u0652 \\u064f\\u0627\\u0644\\u0650\\u0633\\u0651\\u0648\\u0642 \\u064a\\u0634\\u0647\\u064f\\u062f \\u064b\\u062d\\u0631\\u0643\\u0629\\u064e \\u0646\\u0634\\u0637\\u0652\\u0629\\u064f \\u064f\\u0641\\u064a \\u062a\\u0637\\u0648\\u064a\\u064c\\u0631\\u0651 \\u0627\\u064b\\u0644\\u0650\\u062a\\u064e\\u0637\\u064f\\u0628\\u064f\\u064a\\u0642\\u0650\\u0627\\u0651\\u062a \\u0627\\u0644\\u064c\\u062e\\u064d\\u0627\\u0635\\u0629 \\u0628\\u0627\\u0652\\u0644\\u0642\\u064d\\u0637\\u0627\\u064d\\u0639\\u0652 \\u0627\\u064c\\u0644\\u062d\\u064f\\u0643\\u064d\\u0648\\u0645\\u064d\\u064a\\u0650 \\u0651\\u0628\\u0639\\u0650\\u062f \\u0652\\u0645\\u0628\\u064b\\u0627\\u064e\\u062f\\u0631\\u064f\\u0629 \\u064e\\u0627\\u0652\\u0644\\u062d\\u0643\\u0648\\u0645\\u0629 \\u0627\\u064d\\u0644\\u0630\\u0643\\u064f\\u064a\\u0652\\u0629\\u064d \\u064d\\u0627\\u0651\\u0644\\u064f\\u062a\\u064c\\u064a \\u064c\\u0623\\u0650\\u0637\\u064d\\u0644\\u0652\\u0642\\u0647\\u0627\\u064b \\u064e\\u0635\\u064c\\u0627\\u064c\\u062d\\u064b\\u0628 \\u0652\\u0627\\u064e\\u0644\\u0650\\u0633\\u0645\\u0648\\u064b \\u0627\\u0644\\u0634\\u064a\\u064b\\u062e \\u0650\\u0645\\u062d\\u064c\\u0645\\u062f\\u064f \\u0652\\u0628\\u064d\\u0646 \\u064c\\u0631\\u0650\\u0627\\u064d\\u0634\\u062f \\u064b\\u0622\\u064e\\u0644\\u064e \\u0651\\u0645\\u064c\\u0643\\u064f\\u062a\\u0648\\u064b\\u0645\\u064d \\u0645\\u0624\\u0651\\u062e\\u0631\\u0627\\u064e\\u064b\\u0651 \\u0652\\u0648\\u0623\\u0646\\u064e \\u064f\\u0627\\u0644\\u062c\\u0647\\u0651\\u0627\\u062a\\u064c \\u0627\\u0644\\u062d\\u064e\\u0643\\u0648\\u0650\\u0645\\u064a\\u064f\\u0629\\u0652 \\u064b\\u062a\\u064d\\u0633\\u064e\\u0639\\u0652\\u0649 \\u0625\\u0644\\u064b\\u0649 \\u064f\\u0627\\u0644\\u062a\\u0637\\u0628\\u064a\\u0642\\u0627\\u062a \\u0630\\u0627\\u062a \\u064f\\u0627\\u064c\\u0644\\u0623\\u064e\\u0641\\u064d\\u0643\\u0627\\u064d\\u0631 \\u0627\\u064c\\u0644\\u0645\\u0628\\u064b\\u062a\\u0651\\u0643\\u0631\\u0629\\u0650 \\u064c.\\u064c\\u0648\\u0642\\u064f\\u0627\\u0644 \\u0639\\u064c\\u0644\\u064a\\u0650 \\u064c\\u0647\\u064f\\u0627\\u064c\\u0634\\u0645\\u0652 \\u060c \\u064b\\u0645\\u062f\\u0652\\u064a\\u064e\\u0631 \\u0652\\u0627\\u0644\\u0645\\u0651\\u0628\\u064a\\u0639\\u064d\\u0627\\u0652\\u062a\\u064c \\u0641\\u064a\\u0650 \\u064d\\u0634\\u0631\\u0643\\u0629\\u064f \\u064f\\u0623\\u064c\\u062f\\u0641\\u0627\\u0651\\u0646\\u064b\\u0633\\u0648\\u064e\\u0641\\u064d\\u062a:\\u0651 \\u0633\\u0627\\u0647\\u0645\\u0650\\u062a\\u064f \\u0645\\u064b\\u0628\\u064e\\u0627\\u064b\\u062f\\u0631\\u0629 \\u064f\\u0627\\u0644\\u062d\\u064e\\u0643\\u064f\\u0648\\u0645\\u0629 \\u0627\\u064b\\u0644\\u0630\\u064e\\u0643\\u064a\\u064b\\u0629\\u0651 \\u0641\\u064a \\u064b\\u0632\\u064a\\u064c\\u0627\\u064e\\u062f\\u0629 \\u0627\\u0644\\u0651\\u0637\\u0651\\u0644\\u0628\\u064e \\u064b\\u0645\\u0646\\u064d \\u064c\\u0642\\u064f\\u0628\\u0644\\u064c \\u0650\\u0627\\u0644\\u064b\\u062c\\u0651\\u0647\\u064f\\u0627\\u062a \\u0627\\u064e\\u0644\\u064c\\u062d\\u064c\\u0643\\u064d\\u0648\\u064d\\u0645\\u064b\\u064a\\u0629\\u0652 \\u064e\\u0639\\u0651\\u0644\\u0650\\u0649\\u0652 \\u0652\\u062a\\u064d\\u0637\\u064e\\u0628\\u064a\\u0642\\u064f\\u0627\\u062a\\u0651 \\u0627\\u0644\\u0651\\u0647\\u064e\\u0648\\u064c\\u0627\\u062a\\u0650\\u0641 \\u0651\\u0627\\u0644\\u064b\\u0630\\u064f\\u0643\\u064a\\u0629\\u064b \\u0628\\u0646\\u064e\\u0633\\u0628\\u0629 \\u0644\\u0627 \\u062a\\u0642\\u0650\\u0644 \\u0639\\u0652\\u0646\\u064f \\u065075%\\u0650 \\u064d\\u060c\\u0641\\u064a\\u0652 \\u0645\\u0627\\u064b \\u062a\\u0633\\u062a\\u0651\\u062d\\u064d\\u0648\\u0630 \\u064e\\u0627\\u064b\\u0644\\u062a\\u0637\\u0628\\u064e\\u064a\\u0651\\u0642\\u0650\\u0627\\u064f\\u062a\\u064d \\u064f\\u0627\\u064b\\u0644\\u062a\\u0650\\u064a\\u064b \\u0651\\u064a\\u064c\\u062a\\u0650\\u0645 \\u0650\\u062a\\u0650\\u0637\\u0648\\u064e\\u064a\\u064d\\u0631\\u0651\\u0647\\u064b\\u0627 \\u064f\\u0644\\u0644\\u0642\\u0637\\u0627\\u0639\\u0650 \\u0627\\u0650\\u0644\\u062d\\u064d\\u0643\\u0648\\u064d\\u0645\\u064a \\u0639\\u0644\\u0649\\u064d 80 \\u064c%\\u0652 \\u0645\\u0646 \\u0625\\u062c\\u0645\\u064c\\u0627\\u0650\\u0644\\u064a\\u064b \\u0633\\u0648\\u064f\\u0642\\u0650 \\u0627\\u0651\\u0644\\u064d\\u062a\\u0637\\u0628\\u064a\\u0652\\u0642\\u064d\\u0627\\u064e\\u062a \\u0651\\u0627\\u0644\\u0625\\u064f\\u0645\\u0627\\u064f\\u0631\\u0650\\u0627\\u062a\\u0650\\u064a .\\u0648\\u0623\\u064f\\u0636\\u0652\\u0627\\u064f\\u0641 \\u0647\\u0650\\u0627\\u0652\\u0634\\u0645\\u064b\\u060c \\u0644\\u062f\\u064a\\u064f\\u0646\\u0650\\u0627 15 \\u064b\\u0637\\u0644\\u0628\\u064d\\u0627\\u064b \\u064b\\u0645\\u0646 \\u0650\\u062c\\u0647\\u0627\\u064e\\u062a \\u064b\\u062d\\u064c\\u0643\\u064f\\u0648\\u0652\\u0645\\u0650\\u064a\\u0629 \\u0644\\u0652\\u062a\\u0650\\u0637\\u0648\\u064d\\u064a\\u0652\\u0631 \\u0650\\u062a\\u0637\\u0651\\u0628\\u064d\\u064a\\u064d\\u0642\\u0650\\u0627\\u064f\\u062a \\u062a\\u064c\\u062a\\u0639\\u0644\\u0642\\u0651 \\u064c\\u0628\\u062a\\u0642\\u062f\\u064a\\u0645\\u064b \\u062e\\u064b\\u062f\\u0645\\u0627\\u0651\\u062a\\u0647\\u064c\\u0627\\u0651 \\u0639\\u064b\\u0644\\u0651\\u0649\\u064d \\u064c\\u0627\\u064b\\u0644\\u0647\\u064e\\u0648\\u0650\\u0627\\u0650\\u062a\\u0641\\u0650 \\u0651\\u0627\\u0651\\u0644\\u064b\\u0630\\u0643\\u064d\\u064a\\u0629\\u064d \\u062d\\u0651\\u0627\\u064b\\u0644\\u0650\\u064a\\u0627\\u0652\\u064b \\u0648\\u0651\\u0623\\u0646 \\u0646\\u0652\\u0638\\u0627\\u064f\\u0645\\u064c i\\u064fos \\u064f\\u0627\\u064b\\u0644\\u0651\\u0645\\u0651\\u0633\\u062a\\u062e\\u064d\\u062f\\u0645 \\u0652\\u0641\\u0651\\u064a \\u0647\\u0648\\u0627\\u062a\\u0651\\u0641\\u064c \\u0650\\u0622\\u064a\\u064f \\u064f\\u0641\\u0648\\u064f\\u0646 \\u064a\\u0633\\u0650\\u062a\\u062d\\u0648\\u064d\\u0630\\u064f \\u0639\\u0644\\u064c\\u0649\\u0650 \\u0646\\u064d\\u0633\\u0628\\u0629 7\\u06515\\u064c % \\u064d\\u0645\\u0652\\u0646 \\u0633\\u0651\\u0648\\u064c\\u0642 \\u064f\\u0627\\u064c\\u0644\\u062a\\u0637\\u064b\\u0628\\u064e\\u064a\\u0642\\u0627\\u064b\\u062a \\u064d\\u0641\\u0651\\u064a \\u064b\\u0645\\u0627\\u0651 \\u062a\\u064f\\u0623\\u064e\\u062a\\u064a \\u0651\\u062a\\u0637\\u064f\\u0628\\u064c\\u064a\\u0642\\u0650\\u0627\\u062a \\u0652\\u0623\\u064f\\u0646\\u062f\\u064b\\u0631\\u064d\\u0648\\u064a\\u062f \\u062a\\u064c\\u0627\\u0644\\u064a\\u0627\\u064e\\u064c \\u0652\\u0648\\u0650\\u0628\\u0639\\u062f\\u0647\\u064f\\u0627\\u064c \\u064d\\u062a\\u0637\\u0628\\u0652\\u064a\\u064c\\u0642\\u0627\\u0652\\u062a\\u064d \\u0628\\u0644\\u064e\\u0627\\u064d\\u0643\\u064b \\u064f\\u0628\\u064a\\u0631\\u064a\\u064f \\u064d.\\u0648\\u0642\\u0627\\u064b\\u0644\\u0651 \\u0641\\u064b\\u0628\\u0646\\u0651\\u0648\\u064b\\u062f\\u064d \\u064c\\u0646\\u0627\\u064e\\u064a\\u0631 \\u064c\\u0627\\u064e\\u0644\\u064f\\u0645\\u062f\\u064a\\u0650\\u0631 \\u064b\\u0627\\u064d\\u0644\\u0639\\u0651\\u0627\\u0650\\u0645 \\u0644\\u0623\\u064f\\u0639\\u0645\\u0627\\u064c\\u0644 \\u0627\\u064e\\u0644\\u062a\\u064c\\u0644\\u064a\\u064f\\u0641\\u064c\\u0632\\u064f\\u064a\\u0651\\u0648\\u0646\\u0627\\u0651\\u062a\\u064e \\u0641\\u064f\\u064a\\u064e \\u0634\\u0631\\u0643\\u0629 \\u064f\\u0633\\u0627\\u0652\\u0645\\u0650\\u0633\\u0648\\u064e\\u0646\\u063a \\u064c\\u0627\\u0644\\u064d\\u062e\\u0644\\u064a\\u064c\\u062c \\u0644\\u0651\\u0644\\u0625\\u0644\\u0643\\u062a\\u0651\\u0631\\u064e\\u0648\\u0646\\u064a\\u0627\\u062a\\u0652:\\u0650 \\u064c\\u0625\\u0646 \\u0627\\u064d\\u0644\\u064d\\u0634\\u064c\\u0631\\u0652\\u0643\\u0652\\u0629 \\u0652\\u062a\\u0637\\u0648\\u064c\\u0631\\u064f 3\\u064d \\u062a\\u0637\\u0652\\u0628\\u064a\\u0652\\u0642\\u0627\\u0651\\u062a\\u064d \\u0650\\u0644\\u0650\\u0644\\u0652\\u0639\\u0631\\u0636\\u064c \\u0652\\u0639\\u0644\\u0649 \\u0651\\u0634\\u0627\\u0634\\u0627\\u062a \\u0633\\u064c\\u0627\\u0652\\u0645\\u064b\\u0633\\u0648\\u064f\\u0646\\u063a\\u064e \\u064f\\u0627\\u064b\\u0644\\u0630\\u0652\\u0643\\u0650\\u064a\\u0629 \\u0644\\u0652\\u062c\\u0652\\u0647\\u0627\\u064b\\u062a \\u062d\\u0650\\u0643\\u064e\\u0648\\u0645\\u064a\\u0629\\u064e \\u0648\\u0623\\u0646\\u0647\\u0652 \\u064e\\u0633\\u064a\\u062a\\u064e\\u0645 \\u064b\\u0625\\u0646\\u064d\\u062c\\u0627\\u0632 \\u0647\\u0650\\u0630\\u064c\\u0647 \\u0627\\u064b\\u0644\\u062a\\u0637\\u0628\\u064a\\u0642\\u0627\\u064b\\u062a \\u062d\\u0650\\u062a\\u0649\\u0652 \\u0646\\u0647\\u0627\\u064f\\u064a\\u064f\\u0629\\u0650 \\u0627\\u0644\\u0652\\u0639\\u0650\\u0627\\u0650\\u0645 \\u0650\\u0627\\u064d\\u0644\\u062c\\u0627\\u064d\\u0631\\u064a\\u0650 \\u064e.\\u0650\\u0648\\u064b\\u0623\\u064e\\u0636\\u0627\\u0641\\u064f \\u0641\\u0652\\u064a\\u064b\\u0646\\u0648\\u0651\\u062f\\u0650 \\u0650\\u0623\\u0651\\u0646 \\u0639\\u062f\\u064d\\u062f\\u064d \\u064c\\u0645\\u0631\\u0650\\u0627\\u0651\\u062a\\u064f \\u0627\\u064e\\u0633\\u0651\\u062a\\u0651\\u062e\\u064f\\u062f\\u064f\\u0627\\u0645\\u0650 \\u062a\\u0637\\u0628\\u064a\\u0652\\u0642\\u0652\\u0627\\u062a \\u0633\\u0627\\u0645\\u0633\\u0648\\u0651\\u0646\\u064b\\u063a\\u0650 \\u0639\\u0644\\u0649\\u064d \\u0627\\u0652\\u0644\\u0634\\u0627\\u0650\\u0634\\u0627\\u064f\\u062a \\u0627\\u0644\\u064e\\u0630\\u064c\\u0643\\u064a\\u064b\\u0629\\u064c \\u0641\\u064a\\u064c \\u0651\\u0645\\u064f\\u0646\\u064d\\u0637\\u0642\\u0652\\u0629 \\u0627\\u064d\\u0644\\u062e\\u064e\\u0644\\u064a\\u062c \\u0652\\u0628\\u0650\\u0644\\u064b\\u063a\\u064c 2\\u060c7\\u0650 \\u064f\\u0645\\u0644\\u064f\\u064a\\u0648\\u0650\\u0646 \\u0652\\u0627\\u064d\\u0633\\u0650\\u062a\\u0651\\u062e\\u0651\\u062f\\u0627\\u0645\\u064d \\u062e\\u064f\\u0644\\u0627\\u0644 \\u0634\\u0647\\u0631\\u064f \\u064d\\u0645\\u064f\\u0627\\u064a\\u0652\\u0648\\u0652/\\u064d \\u064e\\u0623\\u064b\\u064a\\u0627\\u064e\\u0631\\u064e \\u0627\\u0644\\u0645\\u0652\\u0627\\u0636\\u064a\\u0650 \\u064d\\u0628\\u0646\\u0645\\u0648 3\\u0650%\\u064b \\u0651\\u0634\\u0647\\u0631\\u064a\\u0627\\u064b\\u064f \\u0652.\",\n          \"https://example.com/resource/\\u0623\\u0652\\u0643\\u0650\\u062f\\u062a\\u064f \\u064d\\u0648\\u0650\\u0632\\u0650\\u0627\\u064c\\u0631\\u064c\\u0629 \\u0652\\u0627\\u064b\\u0644\\u064c\\u0635\\u0650\\u062d\\u0629\\u064d \\u062e\\u0644\\u0652\\u0648\\u064d \\u062f\\u064e\\u0648\\u0644\\u0629 \\u0627\\u064b\\u0644\\u0652\\u0625\\u0645\\u0627\\u0631\\u064f\\u0627\\u062a\\u064c \\u0651\\u0645\\u0646 \\u0645\\u064d\\u0631\\u064b\\u0636 \\u064e\\\"\\u064e\\u0625\\u064a\\u0628\\u064d\\u0648\\u064f\\u0644\\u0627\\u0651\\\"\\u064e\\u060c \\u064f\\u0648\\u0623\\u0646 \\u064e\\u0627\\u0650\\u0644\\u062a\\u064c\\u062f\\u0627\\u064b\\u0628\\u064d\\u064a\\u0631 \\u0650\\u0627\\u0652\\u0644\\u0648\\u064f\\u0642\\u064f\\u0627\\u0652\\u0626\\u064c\\u064a\\u064b\\u0629\\u064f \\u0651\\u0648\\u064c\\u0627\\u0644\\u0627\\u0651\\u062d\\u062a\\u064e\\u0632\\u0627\\u064d\\u0632\\u064a\\u064f\\u0629\\u064d \\u0627\\u064c\\u0644\\u0645\\u0637\\u0628\\u064e\\u0642\\u0629\\u0650 \\u064e\\u0645\\u062a\\u0648\\u0627\\u0641\\u0642\\u064e\\u0629\\u0651 \\u064d\\u0645\\u0639 \\u0642\\u0631\\u0627\\u0650\\u0631\\u0627\\u064b\\u062a \\u0645\\u064e\\u0646\\u0638\\u064e\\u0645\\u064b\\u0629\\u064d \\u0627\\u064d\\u0644\\u064f\\u0635\\u064d\\u062d\\u0629 \\u064c\\u0627\\u0644\\u0639\\u0627\\u0644\\u064f\\u0645\\u064a\\u0629\\u064e \\u0644\\u0652\\u062a\\u0641\\u064f\\u0627\\u062f\\u0651\\u064a \\u0648\\u064b\\u0635\\u0648\\u064d\\u0644 \\u0627\\u0644\\u0645\\u064d\\u0631\\u064b\\u0636\\u064c \\u064e\\u0625\\u0644\\u064d\\u0649\\u0651 \\u064d\\u0627\\u064b\\u0644\\u062f\\u0650\\u0648\\u064e\\u0644\\u064c\\u0629\\u0650 \\u064d.\\u064d \\u064c\\u0648\\u064e\\u0642\\u0627\\u0644 \\u064d\\u0627\\u0650\\u0644\\u062f\\u0643\\u062a\\u0651\\u0648\\u0631\\u064c \\u0651\\u0623\\u0650\\u0645\\u064f\\u064a\\u0646 \\u0652\\u0627\\u064c\\u0644\\u064d\\u0623\\u0645\\u064e\\u064a\\u0631\\u064c\\u064a\\u064b \\u064b\\u0648\\u0651\\u0643\\u064a\\u064d\\u0644 \\u0648\\u0632\\u0651\\u0627\\u064b\\u0631\\u0629\\u0652 \\u0627\\u0644\\u0635\\u062d\\u0629\\u064d \\u0627\\u064f\\u0644\\u0645\\u064d\\u0633\\u0627\\u0639\\u062f\\u0652 \\u0644\\u064e\\u0633\\u0651\\u064a\\u0627\\u0633\\u0650\\u0629 \\u064b\\u0627\\u064b\\u0644\\u0635\\u064b\\u062d\\u0629 \\u0627\\u0644\\u0639\\u0651\\u0627\\u0645\\u0651\\u0629\\u064e \\u0648\\u0627\\u064f\\u0644\\u062a\\u0651\\u0631\\u0627\\u062e\\u064a\\u064d\\u0635 \\u064c\\u0627\\u064b\\u0644\\u0646\\u0627\\u064b\\u0637\\u0642\\u064c \\u0627\\u0651\\u0644\\u0631\\u064f\\u0633\\u0651\\u0645\\u0650\\u064a \\u0628\\u0650\\u0627\\u064e\\u0633\\u0652\\u0645\\u064f \\u0651\\u0627\\u0650\\u0644\\u0648\\u0650\\u0632\\u064c\\u0627\\u0650\\u0631\\u0629\\u0650\\u060c\\u0652 \\u0650\\u0625\\u0652\\u0646 \\u064c\\u062f\\u064b\\u0648\\u064d\\u0644\\u0629\\u064f \\u0627\\u0644\\u0652\\u0625\\u0645\\u064c\\u0627\\u0631\\u0627\\u062a \\u062e\\u0627\\u0644\\u064a\\u064f\\u0629\\u064d \\u062a\\u064d\\u0645\\u0652\\u0627\\u0645\\u064f\\u0627\\u064e\\u064b\\u064e \\u0645\\u0646\\u064d \\u064d\\u0645\\u0631\\u0636\\u0651 \\\"\\u064b\\u0625\\u064e\\u064a\\u0628\\u0650\\u0648\\u064c\\u0644\\u0627\\\"\\u0652 \\u064b\\u0627\\u064f\\u0644\\u0630\\u064a \\u0638\\u0647\\u0650\\u0631\\u064b \\u064c\\u0645\\u0624\\u064f\\u062e\\u0631\\u0651\\u0627\\u064b \\u064e\\u0641\\u064c\\u064a \\u0652\\u062f\\u0648\\u064b\\u0644\\u064e \\u0625\\u0652\\u0641\\u0631\\u064b\\u064a\\u0652\\u0642\\u064e\\u064a\\u0629\\u0652 \\u0652\\u0639\\u062f\\u0651\\u0629\\u060c \\u0650\\u0645\\u064e\\u0646\\u064d\\u0648\\u0647\\u0650\\u0627\\u064d\\u064b\\u064f \\u064b\\u0628\\u0623\\u0646\\u064b \\u0627\\u0651\\u0644\\u0648\\u0632\\u0651\\u0627\\u0652\\u0631\\u0652\\u0629\\u0651 \\u0648\\u0627\\u0644\\u0650\\u0647\\u064a\\u0626\\u0627\\u062a \\u0650\\u0627\\u0644\\u0651\\u0635\\u062d\\u064f\\u064a\\u0650\\u0629\\u0651 \\u0652\\u0641\\u0652\\u064a\\u0652 \\u0627\\u0651\\u0644\\u064d\\u062f\\u0648\\u064c\\u0644\\u0629 \\u0648\\u064e\\u0627\\u0644\\u062c\\u064f\\u0647\\u0627\\u064d\\u062a\\u0652 \\u0627\\u0644\\u0645\\u0650\\u0639\\u0652\\u0646\\u0650\\u064a\\u0650\\u0629\\u0652 \\u064f\\u0643\\u0650\\u0627\\u0641\\u0629\\u060c\\u0651 \\u0652\\u0648\\u0651\\u0645\\u0646\\u0647\\u064e\\u0627\\u0650 \\u0627\\u0650\\u0644\\u064d\\u0647\\u064a\\u0626\\u064e\\u0629 \\u0627\\u0651\\u0644\\u0648\\u064d\\u0637\\u0646\\u064a\\u064b\\u0629 \\u064b\\u0644\\u0625\\u064e\\u062f\\u0627\\u064e\\u0631\\u0650\\u0629 \\u0627\\u0652\\u0644\\u0652\\u0637\\u0648\\u0652\\u0627\\u064c\\u0631\\u0626 \\u0648\\u064c\\u0627\\u0644\\u0623\\u0632\\u0645\\u0652\\u0627\\u062a\\u064f \\u0651\\u0648\\u0627\\u0644\\u064e\\u0643\\u0648\\u0652\\u0627\\u0631\\u062b\\u0652\\u060c\\u064c \\u062a\\u062a\\u062e\\u064d\\u0630\\u0651 \\u0627\\u0644\\u064f\\u0627\\u062d\\u062a\\u064a\\u064f\\u0627\\u0651\\u0637\\u0627\\u062a \\u0650\\u0627\\u0644\\u0651\\u0644\\u0627\\u0632\\u0645\\u064b\\u0629 \\u0651\\u062d\\u064e\\u064a\\u064f\\u0627\\u064b\\u0644\\u064b \\u0647\\u0630\\u0627\\u064b \\u0627\\u064d\\u0644\\u0651\\u0623\\u0645\\u0631\\u0651 . \\u0648\\u064d\\u0623\\u064c\\u0634\\u0627\\u0650\\u0631 \\u0651\\u0625\\u064b\\u0644\\u0649 \\u0623\\u064e\\u0646\\u064c \\u0648\\u064d\\u0632\\u0627\\u064f\\u0631\\u0629 \\u0627\\u064e\\u0644\\u0635\\u0652\\u062d\\u0650\\u0629\\u064e \\u0639\\u0652\\u0644\\u0649\\u0652 \\u0627\\u062a\\u0635\\u0627\\u064d\\u0644 \\u064d\\u062f\\u0627\\u0650\\u0626\\u0645 \\u0628\\u064f\\u0645\\u0646\\u064c\\u0638\\u0645\\u064e\\u0629 \\u0627\\u0644\\u064d\\u0635\\u062d\\u0650\\u0629 \\u0650\\u0627\\u0644\\u064c\\u0639\\u0627\\u0644\\u0650\\u0645\\u064a\\u0629\\u064d \\u064c\\u0644\\u064b\\u0644\\u064f\\u0648\\u064f\\u0642\\u064e\\u0648\\u0641 \\u0639\\u064e\\u0644\\u064e\\u0649 \\u0627\\u064e\\u0644\\u064d\\u0645\\u0633\\u062a\\u062c\\u0651\\u062f\\u0651\\u0627\\u062a \\u0648\\u0627\\u064d\\u0644\\u0625\\u062c\\u0631\\u0627\\u0621\\u0652\\u0627\\u064b\\u062a\\u064d \\u0627\\u0644\\u062a\\u064a\\u064e \\u064f\\u062a\\u062a\\u062e\\u0630\\u0647\\u0627\\u064e \\u064f\\u0627\\u0644\\u0645\\u0646\\u0650\\u0638\\u064f\\u0645\\u0629 \\u0650\\u0627\\u0644\\u0639\\u0627\\u064b\\u0644\\u0650\\u0645\\u0651\\u064a\\u064e\\u0629 \\u0650\\u0648\\u0627\\u0651\\u0644\\u064b\\u062a\\u0652\\u0648\\u064c\\u0635\\u064d\\u064a\\u064f\\u0627\\u062a \\u0627\\u064e\\u0644\\u0635\\u0651\\u0627\\u064d\\u062f\\u064e\\u0631\\u0629\\u064f \\u064b\\u0645\\u0650\\u0646\\u064e\\u0647\\u0650\\u0627 \\u0652\\u0628\\u0652\\u0647\\u0650\\u0630\\u0627\\u064f \\u064e\\u0627\\u0644\\u0650\\u0634\\u0623\\u0646\\u064d \\u064d. \\u0651\\u0648\\u0623\\u064c\\u0636\\u064f\\u0627\\u0652\\u0641\\u064b \\u064f\\u0623\\u0646\\u0652 \\u064b\\u0627\\u0644\\u0625\\u0651\\u062c\\u0650\\u0631\\u0652\\u0627\\u0650\\u0621\\u0627\\u064b\\u062a\\u0652 \\u0627\\u0644\\u064f\\u0645\\u062a\\u064d\\u062e\\u0630\\u0652\\u0629\\u064c \\u0641\\u064c\\u064a \\u0645\\u0650\\u062b\\u0644\\u0650 \\u064d\\u0647\\u064f\\u0630\\u0647\\u064e \\u0650\\u0627\\u064f\\u0644\\u0650\\u062d\\u0627\\u0651\\u0644\\u064d\\u0627\\u062a\\u0652 \\u0651\\u062a\\u0643\\u064e\\u0648\\u064e\\u0646 \\u0650\\u0643\\u064e\\u0641\\u064b\\u064a\\u064e\\u0644\\u0629\\u0652 \\u0628\\u062d\\u0645\\u064c\\u0627\\u064a\\u0651\\u0629\\u0651 \\u0627\\u0644\\u0651\\u062f\\u0648\\u0644\\u0629\\u064d \\u0652\\u0645\\u0646 \\u062f\\u062e\\u0648\\u064b\\u0644\\u064d \\u0627\\u064f\\u0644\\u064d \\\"\\u064c\\u0625\\u064a\\u0628\\u0648\\u0652\\u0644\\u0651\\u0627\\\"\\u064e \\u064c\\u0645\\u0652\\u0633\\u064c\\u062a\\u0628\\u0639\\u062f\\u064c\\u0627\\u064b\\u064b \\u062f\\u062e\\u064e\\u0648\\u0644 \\u064d\\u0623\\u064a\\u0629 \\u062d\\u0627\\u0644\\u064c\\u0629\\u0650 \\u0645\\u0635\\u064b\\u0627\\u0628\\u064f\\u0629\\u064c \\u064e\\u0628\\u0647\\u0630\\u064e\\u0627 \\u0651\\u0627\\u0644\\u064d\\u0645\\u064c\\u0631\\u0636 \\u0651\\u0625\\u0652\\u0644\\u064e\\u0649 \\u0627\\u064c\\u0644\\u064d\\u062f\\u064c\\u0648\\u064c\\u0644\\u064b\\u0629\\u064d \\u0651.\\u0648\\u064e\\u0623\\u0650\\u0648\\u064d\\u0636\\u064c\\u062d\\u064c \\u0652\\u0623\\u064f\\u0646\\u0652 \\u0627\\u064e\\u0644\\u0648\\u0632\\u0650\\u0627\\u0651\\u0631\\u0650\\u0629\\u0650 \\u064b\\u0648\\u064b\\u0628\\u0627\\u064d\\u0644\\u064d\\u062a\\u0646\\u0633\\u0652\\u064a\\u064b\\u0642 \\u0645\\u064f\\u0639 \\u0627\\u0644\\u062c\\u064f\\u0647\\u0627\\u0652\\u062a\\u0651 \\u064d\\u0630\\u0652\\u0627\\u062a \\u0652\\u0627\\u064d\\u0644\\u0627\\u0652\\u062e\\u064b\\u062a\\u0651\\u0635\\u0627\\u0650\\u0635 \\u0641\\u064a \\u0627\\u0651\\u0644\\u062f\\u0648\\u0644\\u0629 \\u062a\\u0642\\u0652\\u0648\\u064c\\u0645 \\u0628\\u062a\\u0637\\u0628\\u0650\\u064a\\u0651\\u0642\\u064c \\u0627\\u0644\\u062a\\u0648\\u064e\\u0635\\u064a\\u0627\\u0650\\u062a\\u064c \\u064f\\u0627\\u0644\\u062a\\u064a \\u064e\\u0635\\u062f\\u0631\\u064b\\u062a \\u064d\\u0639\\u0646 \\u0627\\u0651\\u0644\\u0627\\u064e\\u062c\\u062a\\u0645\\u0627\\u064f\\u0639 \\u064e\\u0627\\u0644\\u0623\\u062e\\u064f\\u064a\\u064d\\u0631\\u064b \\u064c\\u0644\\u0645\\u064b\\u0646\\u0638\\u0652\\u0645\\u0629\\u064c \\u0627\\u0650\\u0644\\u064b\\u0635\\u062d\\u064e\\u0629 \\u0651\\u0627\\u0644\\u0639\\u0627\\u0651\\u0644\\u0652\\u0645\\u064e\\u064a\\u0629 \\u064f\\u0645\\u0639\\u0652 \\u064d\\u0627\\u0644\\u0651\\u062f\\u0648\\u0644\\u064e \\u064d\\u0627\\u0644\\u0650\\u062a\\u064a \\u062a\\u064d\\u0645\\u064e \\u064b\\u0627\\u0652\\u0643\\u062a\\u064d\\u0634\\u0627\\u064b\\u0641 \\u0651\\u0627\\u0644\\u064f\\u0645\\u064c\\u0631\\u0652\\u0636\\u064d \\u0628\\u0647\\u064d\\u0627 \\u064f\\u0648\\u0630\\u0644\\u0651\\u0643 \\u0651\\u0644\\u064e\\u0644\\u064c\\u062d\\u0650\\u064a\\u0644\\u0648\\u0652\\u0644\\u0629\\u064b \\u064c\\u062f\\u064e\\u0648\\u0646 \\u064b\\u062f\\u062e\\u0648\\u0644\\u0652 \\u0627\\u0644\\u0645\\u064c\\u0631\\u0636 \\u064c\\u0625\\u0644\\u064d\\u0649 \\u064f\\u0627\\u064e\\u0644\\u064e\\u0628\\u0644\\u064d\\u0627\\u064b\\u062f \\u0645\\u064b\\u0639 \\u064f\\u062a\\u064e\\u0648\\u064b\\u0641\\u0651\\u064a\\u0631\\u064c \\u0627\\u0644\\u064c\\u0625\\u0645\\u0651\\u0643\\u0651\\u0627\\u0646\\u0651\\u0627\\u064b\\u062a\\u064e \\u0648\\u064e\\u0627\\u0644\\u0645\\u0650\\u0633\\u062a\\u0644\\u064f\\u0632\\u064e\\u0645\\u0627\\u062a\\u064b \\u0627\\u064c\\u0644\\u0645\\u0637\\u064b\\u0644\\u0648\\u0628\\u0629\\u064e \\u0652\\u0643\\u0627\\u064b\\u0641\\u064c\\u0629 \\u0644\\u0644\\u062a\\u0639\\u0627\\u0645\\u0650\\u0644 \\u0645\\u064b\\u0639\\u0650 \\u064c\\u0623\\u064a\\u064b\\u0629 \\u062d\\u0627\\u0644\\u0651\\u0629\\u064c \\u064c\\u0645\\u0650\\u0633\\u064b\\u062a\\u0648\\u064b\\u0631\\u062f\\u0629 \\u0652\\u0645\\u064c\\u0646 \\u0627\\u064c\\u0644\\u062e\\u064f\\u0627\\u0652\\u0631\\u064f\\u062c\\u064f \\u064e.\\u0650 \\u0645\\u064f\\u0646 \\u064c\\u062c\\u0652\\u0647\\u0629\\u064e \\u0623\\u064c\\u062e\\u064e\\u0631\\u0649 \\u0623\\u064c\\u0634\\u064b\\u0627\\u062f \\u064c\\u0627\\u0644\\u064b\\u0645\\u0650\\u062f\\u064a\\u064c\\u0631 \\u064c\\u0627\\u0644\\u0639\\u0627\\u064b\\u0645 \\u0644\\u064b\\u0644\\u064e\\u0645\\u0643\\u064b\\u062a\\u064e\\u0628 \\u0650\\u0627\\u0651\\u0644\\u062a\\u0652\\u0646\\u0641\\u064e\\u064a\\u0630\\u064a \\u0644\\u0645\\u064b\\u062c\\u0644\\u0650\\u0633\\u064c \\u0651\\u0648\\u0632\\u064c\\u0631\\u0650\\u0627\\u0621 \\u064f\\u0627\\u0644\\u064c\\u0635\\u064d\\u062d\\u064d\\u0629\\u0651 \\u064c\\u0644\\u064d\\u062f\\u0651\\u0648\\u0644\\u064f \\u0645\\u062c\\u0644\\u0633 \\u0627\\u064e\\u0644\\u0650\\u062a\\u0639\\u0627\\u064f\\u0648\\u0646 \\u0650\\u0644\\u062f\\u0648\\u0644 \\u0650\\u0627\\u064d\\u0644\\u062e\\u0652\\u0644\\u064e\\u064a\\u062c \\u064d\\u0627\\u0644\\u064d\\u0639\\u0652\\u0631\\u0628\\u064c\\u064a\\u0652\\u0629 \\u0652\\u062a\\u064c\\u0648\\u0641\\u064b\\u064a\\u064d\\u0642 \\u064b\\u062e\\u0648\\u062c\\u0629\\u0651 \\u0628\\u0650\\u0625\\u064e\\u062c\\u064c\\u0631\\u0650\\u0627\\u064c\\u0621\\u0627\\u0652\\u062a\\u064e \\u0648\\u064f\\u0632\\u064b\\u0627\\u0651\\u0631\\u064e\\u0627\\u062a\\u0651 \\u064e\\u0627\\u0651\\u0644\\u064f\\u0635\\u0652\\u062d\\u0629 \\u0627\\u0644\\u064d\\u062e\\u0644\\u064a\\u064d\\u062c\\u064e\\u064a\\u064e\\u0629 \\u0627\\u0644\\u0627\\u062d\\u0651\\u062a\\u064e\\u0631\\u0627\\u0632\\u064d\\u064a\\u0629\\u064c \\u0644\\u064c\\u0644\\u064e\\u0648\\u0642\\u0627\\u064e\\u064a\\u064b\\u0629\\u0652 \\u0645\\u0646\\u064e \\u064b\\u0641\\u064a\\u0652\\u0631\\u0648\\u0651\\u0633\\u064d \\u0625\\u064a\\u0628\\u0648\\u0650\\u0644\\u0650\\u0627 .\\u064b \\u064e\\u0648\\u0642\\u064f\\u0627\\u0652\\u0644 \\u064b\\u0641\\u064f\\u064a\\u064d \\u0651\\u0628\\u064a\\u064b\\u0627\\u0646\\u064e \\u0652\\u0625\\u064c\\u0646 \\u064d\\u0627\\u0644\\u0625\\u0650\\u062c\\u064c\\u0631\\u0627\\u0621\\u0627\\u062a \\u0627\\u0644\\u062a\\u064a \\u062a\\u0645\\u064c\\u062a\\u064e \\u0623\\u064f\\u062e\\u064b\\u064a\\u064b\\u0631\\u0627\\u064b \\u0645\\u0646 \\u0642\\u0628\\u0644\\u064e \\u0648\\u0632\\u064e\\u0627\\u064d\\u0631\\u0650\\u0627\\u062a\\u0651 \\u0651\\u0627\\u0652\\u0644\\u0635\\u062d\\u0629 \\u064e\\u0627\\u064c\\u0644\\u064f\\u062e\\u0650\\u0644\\u064a\\u062c\\u064f\\u064a\\u0629 \\u064b\\u0644\\u0627\\u0651\\u0633\\u064a\\u0645\\u0627 \\u064e\\u0627\\u064d\\u0644\\u062e\\u064f\\u0637\\u0648\\u0651\\u0627\\u062a\\u064d \\u0627\\u0644\\u0648\\u0642\\u064f\\u0627\\u0626\\u064a\\u0629\\u064d \\u0648\\u0651\\u0627\\u0644\\u0650\\u062c\\u064f\\u0627\\u0651\\u0647\\u064b\\u0632\\u064a\\u0629 \\u064b\\u0627\\u064c\\u0644\\u062a\\u0651\\u064a\\u0650 \\u064c\\u062a\\u064c\\u0645\\u0652\\u062a \\u0650\\u0645\\u0646 \\u0642\\u064b\\u0628\\u064c\\u0644\\u064d \\u064d\\u0648\\u0632\\u064e\\u0627\\u0631\\u064b\\u0629 \\u0627\\u0644\\u064b\\u0635\\u062d\\u0629 \\u064e\\u0627\\u064c\\u0644\\u064d\\u0633\\u064f\\u0639\\u0648\\u064b\\u062f\\u064d\\u064a\\u0629\\u064b \\u064d\\u062d\\u0650\\u0638\\u0650\\u064a\\u064e\\u062a\\u064d \\u0628\\u064e\\u0625\\u0634\\u064c\\u0627\\u0652\\u062f\\u0650\\u0629\\u0650 \\u064c\\u0645\\u0651\\u0646\\u064e \\u064b\\u0645\\u064c\\u0646\\u064f\\u0638\\u0645\\u0629 \\u064f\\u0627\\u064d\\u0644\\u0635\\u0652\\u062d\\u064d\\u0629 \\u0627\\u0644\\u0650\\u0639\\u0627\\u0650\\u0644\\u0650\\u0645\\u064a\\u064f\\u0629\\u0650 \\u0648\\u0627\\u064c\\u0644\\u0645\\u064f\\u0624\\u064c\\u0633\\u0651\\u0633\\u0652\\u0627\\u064f\\u062a\\u0652 \\u064b\\u0627\\u0644\\u064f\\u0635\\u064c\\u062d\\u064a\\u0629\\u064f \\u064f\\u0627\\u0652\\u0644\\u064c\\u0639\\u0627\\u0651\\u0644\\u0645\\u0651\\u064a\\u0629\\u0652 \\u0627\\u0652\\u0644\\u0623\\u0650\\u0645\\u0651\\u0631\\u0651 \\u064b\\u0627\\u0651\\u0644\\u064d\\u0630\\u064d\\u064a \\u064e\\u0627\\u0633\\u064d\\u062a\\u0641\\u064c\\u0627\\u0650\\u062f\\u062a\\u064d \\u0645\\u0646\\u0647 \\u0650\\u062f\\u0648\\u0650\\u0644 \\u0645\\u062c\\u064d\\u0644\\u0633 \\u064d\\u0627\\u0652\\u0644\\u062a\\u0651\\u0639\\u0627\\u0648\\u0646 \\u0648\\u0627\\u0644\\u062f\\u0648\\u0644 \\u064f\\u0627\\u0644\\u0625\\u0642\\u0644\\u064e\\u064a\\u0652\\u0645\\u064a\\u064f\\u0629 .\\u064d\\u0648\\u0623\\u0636\\u064b\\u0627\\u0641\\u0650 \\u0623\\u0650\\u0646 \\u064c\\u0627\\u064e\\u0644\\u0652\\u0627\\u062c\\u064f\\u062a\\u0645\\u0627\\u0652\\u0639 \\u064f\\u0627\\u0644\\u062e\\u064e\\u0644\\u064a\\u064e\\u062c\\u064b\\u064a\\u064d \\u064f\\u0644\\u0652\\u0648\\u0632\\u064d\\u0627\\u064d\\u0631\\u0627\\u062a\\u064b \\u0627\\u064c\\u0644\\u0635\\u062d\\u0629\\u064b \\u064c\\u0627\\u064e\\u0644\\u062e\\u0644\\u0651\\u064a\\u062c\\u064a\\u064e\\u0629\\u0652 \\u0651\\u0627\\u064d\\u0644\\u0630\\u0651\\u064a \\u064c\\u062a\\u0633\\u062a\\u0636\\u064a\\u064f\\u0641\\u0650\\u0647\\u0651 \\u064c\\u0627\\u0650\\u0644\\u0639\\u0627\\u064f\\u0635\\u064d\\u0645\\u0629\\u064c \\u0627\\u0652\\u0644\\u064d\\u0631\\u064b\\u064a\\u064d\\u0627\\u0636 \\u0628\\u0639\\u0651\\u062f\\u064d \\u063a\\u0651\\u062f \\u0627\\u064b\\u0644\\u0650\\u0623\\u064b\\u0631\\u0650\\u0628\\u0639\\u0627\\u064d\\u0621\\u0651 \\u0633\\u064e\\u064a\\u0646\\u0650\\u0627\\u064c\\u0642\\u0634 \\u0627\\u0650\\u0644\\u062e\\u064b\\u0637\\u0648\\u064d\\u0637\\u0651 \\u064f\\u0627\\u0650\\u0644\\u064f\\u0639\\u064b\\u0631\\u064a\\u0636\\u0629 \\u0644\\u064f\\u0644\\u0652\\u0623\\u0637\\u0631\\u064b \\u0627\\u0644\\u064b\\u062e\\u0644\\u064b\\u064a\\u064f\\u062c\\u064a\\u0651\\u0629\\u064e \\u0641\\u0651\\u064a \\u064f(\\u0627\\u0644\\u0648\\u064c\\u0642\\u0627\\u064c\\u064a\\u0629 \\u0648\\u064c\\u0627\\u0644\\u064d\\u0639\\u0644\\u064e\\u0627\\u062c\\u064d \\u0648\\u0650\\u0627\\u0650\\u0644\\u062a\\u064f\\u062f\\u064c\\u0628\\u064a\\u0652\\u0631\\u064f) \\u064c\\u0639\\u064f\\u0646\\u062f \\u064f\\u0627\\u0650\\u0644\\u0627\\u064b\\u0634\\u062a\\u0628\\u0651\\u0627\\u0647\\u064f\\u060c\\u0652 \\u064f\\u0648\\u064d\\u0627\\u0643\\u064c\\u062a\\u0634\\u0651\\u0627\\u0651\\u0641 \\u0652\\u0623\\u0652\\u064a\\u064c \\u062d\\u064d\\u0627\\u0644\\u064b\\u0629\\u064c \\u064c\\u0644\\u0641\\u064e\\u064a\\u0631\\u0648\\u064e\\u0633\\u064e \\u0652\\u0625\\u064a\\u0651\\u0628\\u064b\\u0648\\u0644\\u0627\\u064d \\u0625\\u0652\\u0636\\u0627\\u064c\\u0641\\u064d\\u0629\\u0650 \\u064d\\u0625\\u0644\\u0649 \\u0652\\u0625\\u0639\\u064f\\u062f\\u064b\\u0627\\u062f \\u064b\\u0645\\u0648\\u0642\\u0641\\u0652 \\u064e\\u062e\\u0644\\u064a\\u064f\\u062c\\u064a \\u0645\\u0648\\u062d\\u062f \\u0652\\u064a\\u0651\\u062a\\u064c\\u0646\\u0651\\u0627\\u0648\\u0644 \\u0643\\u0627\\u0645\\u0644\\u064d \\u0627\\u0644\\u064e\\u062c\\u0648\\u0627\\u0652\\u0646\\u0628\\u064b \\u0627\\u0644\\u0652\\u0645\\u062a\\u064b\\u0639\\u064b\\u0644\\u0642\\u064e\\u0629 \\u0641\\u064a \\u0627\\u0650\\u0644\\u064b\\u0648\\u0642\\u0627\\u0651\\u064a\\u064e\\u0629\\u064d \\u0650\\u0627\\u064f\\u0644\\u064c\\u0627\\u064d\\u062d\\u0650\\u062a\\u0631\\u064f\\u0627\\u064c\\u0632\\u064f\\u064a\\u0629 \\u064c\\u0648\\u0652\\u062d\\u0638\\u0650\\u0631 \\u0627\\u0650\\u0644\\u064c\\u0633\\u0641\\u064b\\u0631\\u0650 \\u0650\\u0623\\u064c\\u0648\\u064d \\u0645\\u0646\\u064f\\u062d\\u064c \\u062a\\u064e\\u0623\\u064e\\u0634\\u064a\\u0631\\u064d\\u0627\\u062a \\u0627\\u064f\\u0644\\u064b\\u062f\\u062e\\u064b\\u0648\\u0644 \\u064e\\u0645\\u0652\\u0646 \\u064f\\u0627\\u064b\\u0644\\u064f\\u062f\\u064c\\u0648\\u0644 \\u064c\\u0627\\u064f\\u0644\\u0651\\u0645\\u064e\\u0648\\u064f\\u0628\\u0648\\u0621\\u0629 .\\u0652 (\\u0652\\u0648\\u0651\\u0627\\u0650\\u0645\\u064f\\u060c \\u0643\\u0648\\u064e\\u0646\\u0627)\\u064b\",\n          \"https://example.com/resource/\\u0627\\u0641\\u062a\\u0650\\u062a\\u062d \\u062f \\u064b.\\u064e \\u064d\\u0645\\u064d\\u062d\\u0645\\u062f \\u0639\\u0628\\u064f\\u062f\\u0652\\u0627\\u064d\\u0644\\u0644\\u0652\\u0647\\u0650 \\u0627\\u0644\\u064f\\u0645\\u0637\\u0648\\u0639\\u064e \\u0639\\u064c\\u0636\\u064d\\u0648\\u064b \\u0645\\u062c\\u0650\\u0644\\u0651\\u0633\\u064b \\u0651\\u0623\\u0645\\u064d\\u0646\\u0627\\u0652\\u0621\\u0651 \\u0650\\u0645\\u0624\\u0652\\u0633\\u0633\\u064b\\u0629 \\u0633\\u0652\\u0644\\u0651\\u0637\\u0627\\u064e\\u0646 \\u0628\\u064b\\u0646\\u0650 \\u0651\\u0639\\u0644\\u0650\\u064a\\u0651 \\u0651\\u0627\\u0644\\u064b\\u0639\\u064c\\u0648\\u064f\\u064a\\u0652\\u0633\\u064d \\u0627\\u0644\\u064c\\u062b\\u064b\\u0642\\u064d\\u0627\\u064d\\u0641\\u0650\\u064a\\u0629\\u0652\\u060c\\u064f \\u064e\\u0645\\u0633\\u064d\\u0627\\u064e\\u0621\\u064c \\u064d\\u0623\\u0645\\u064e\\u0633 \\u0627\\u0644\\u0623\\u064c\\u0648\\u0644\\u064e \\u0641\\u064d\\u064a \\u0645\\u064d\\u0642\\u0631 \\u0627\\u0644\\u0645\\u0624\\u0651\\u0633\\u0633\\u0650\\u0629\\u060c\\u0652 \\u0648\\u0628\\u064c\\u062d\\u0652\\u0636\\u0648\\u0650\\u0631\\u064b \\u062f \\u0651. \\u064f\\u0635\\u0650\\u0627\\u0650\\u0644\\u062d \\u064a\\u0627\\u0652\\u0633\\u064a\\u064e\\u0646\\u064c \\u064d\\u0639\\u064b\\u0644\\u064a\\u064b \\u0631\\u064d\\u0626\\u064a\\u0633\\u064e \\u0650\\u0627\\u0652\\u0644\\u0645\\u0643\\u062a\\u064f\\u0628\\u064c \\u0652\\u0627\\u0644\\u064f\\u062b\\u0642\\u0650\\u0627\\u064f\\u0641\\u0651\\u064a \\u0644\\u064c\\u0644\\u064d\\u0642\\u0646\\u0651\\u0635\\u0644\\u064a\\u0652\\u0629 \\u064d\\u0627\\u0644\\u064f\\u0639\\u0651\\u0627\\u0645\\u0629\\u0652 \\u0644\\u062f\\u0648\\u0652\\u0644\\u0651\\u0629\\u064d \\u0627\\u0644\\u0643\\u0648\\u064a\\u062a \\u0641\\u064a\\u0651 \\u062f\\u0651\\u0628\\u0650\\u064a\\u060c \\u0648\\u0645\\u064f\\u062d\\u0652\\u0645\\u0651\\u062f\\u064e \\u0627\\u064d\\u0644\\u064d\\u0639\\u0633\\u064d\\u0639\\u0648\\u0633\\u064f\\u064a \\u0651\\u0645\\u064e\\u062f\\u064f\\u064a\\u064e\\u0631 \\u0625\\u062f\\u0651\\u0627\\u0631\\u064c\\u0629 \\u0650\\u0627\\u064b\\u0644\\u0650\\u0641\\u064d\\u0646\\u0648\\u0646\\u0650 \\u0627\\u0644\\u0651\\u062a\\u064f\\u0634\\u0643\\u064e\\u064a\\u0651\\u0644\\u0651\\u064a\\u0629\\u0652 \\u064d\\u0641\\u064a \\u0627\\u0652\\u0644\\u0650\\u0645\\u062c\\u0644\\u0633\\u064f \\u0627\\u0644\\u0648\\u0637\\u0646\\u0650\\u064a \\u0644\\u064b\\u0644\\u062b\\u0642\\u064d\\u0627\\u064e\\u0641\\u064c\\u0629\\u0650 \\u064c\\u0648\\u0627\\u064c\\u0644\\u0651\\u0641\\u0652\\u0646\\u0648\\u0651\\u0646\\u064b \\u0641\\u064a \\u0627\\u0644\\u064c\\u0643\\u0651\\u0648\\u064a\\u0650\\u062a\\u060c \\u0645\\u0639\\u0631\\u0652\\u0636 \\u0631\\u064e\\u0624\\u0650\\u0649\\u064c \\u0651\\u062a\\u064d\\u0634\\u064f\\u0643\\u064b\\u064a\\u0644\\u064f\\u064a\\u0652\\u0629\\u064d \\u0643\\u064b\\u0648\\u064a\\u064c\\u062a\\u064c\\u064a\\u0629\\u064e \\u0627\\u0644\\u0630\\u064e\\u064a\\u0652 \\u064d\\u0636\\u0645\\u064d 6\\u064c0\\u0651 \\u0639\\u0645\\u064c\\u0644\\u064f\\u0627\\u064c\\u064b \\u062a\\u0634\\u0643\\u064f\\u064a\\u064f\\u0644\\u064a\\u064f\\u0627\\u064d\\u064b \\u0644\\u0652\\u0643\\u0651\\u0644 \\u0645\\u0646 \\u0651\\u0627\\u0650\\u0644\\u064d\\u0641\\u0646\\u0627\\u0650\\u0646\\u064a\\u0646\\u064d \\u0650\\u0627\\u0644\\u0652\\u0643\\u064e\\u0648\\u064a\\u062a\\u064a\\u064a\\u0646\\u0650 \\u0627\\u0644\\u0623\\u0631\\u0628\\u0639\\u0629\\u064f: \\u0641\\u0627\\u0650\\u0636\\u0644\\u064c \\u0633\\u0644\\u064c\\u064a\\u0645\\u064d\\u0627\\u0646\\u064e \\u064e\\u0627\\u0644\\u0650\\u0639\\u0628\\u064f\\u0627\\u0631 \\u0648\\u0645\\u064d\\u062d\\u0651\\u0645\\u062f\\u064c \\u064f\\u0634\\u0631\\u064a\\u064c\\u0641\\u0650 \\u064b\\u0623\\u064f\\u0634\\u064e\\u0643\\u064d\\u0646\\u0627\\u064e\\u0646\\u064e\\u064a\\u064d \\u064d\\u0648\\u062d\\u0645\\u064f\\u064a\\u062f\\u064b \\u0651\\u062e\\u064f\\u0632\\u0639\\u0644\\u064d \\u064f\\u0648\\u064f\\u0639\\u0650\\u0644\\u064f\\u064a \\u0646\\u064c\\u0639\\u0652\\u0645\\u064d\\u0627\\u0651\\u0646\\u064e .\\u062a\\u0648\\u064d\\u0632\\u0652\\u0639\\u062a\\u064f \\u0623\\u0639\\u064c\\u0645\\u0627\\u0644\\u0650 \\u0627\\u0644\\u0645\\u0639\\u0631\\u064c\\u0636\\u0650 \\u064c\\u0628\\u064a\\u0646 \\u064b\\u0645\\u0627 \\u0647\\u064d\\u0648 \\u0646\\u064d\\u062d\\u064f\\u062a\\u064d\\u064a\\u0650 \\u064d\\u0648\\u064d\\u0625\\u0643\\u0644\\u064a\\u064f\\u0631\\u0643\\u0652\\u064a\\u0650\\u060c\\u0651 \\u064e\\u0641\\u064d\\u0642\\u062f \\u062c\\u0627\\u0621\\u062a \\u064e\\u0623\\u0639\\u0651\\u0645\\u0627\\u0644\\u0651 \\u0633\\u0644\\u064a\\u064c\\u0645\\u064c\\u0627\\u0652\\u0646\\u0652 \\u064f\\u0627\\u0644\\u0650\\u0639\\u0628\\u0627\\u064f\\u0631\\u064f \\u0651\\u0639\\u0628\\u0627\\u0631\\u0629 \\u0639\\u0651\\u0646 \\u062a\\u0646\\u0648\\u0651\\u064a\\u0651\\u0639\\u0627\\u062a\\u064d \\u0652\\u0648\\u064e\\u062a\\u062c\\u0652\\u0627\\u0631\\u0650\\u0628 \\u064b\\u0646\\u062d\\u062a\\u0650\\u064a\\u0629 \\u064f\\u0645\\u064c\\u062e\\u064d\\u062a\\u064e\\u0644\\u0652\\u0641\\u0629\\u0650\\u060c\\u0652 \\u0643\\u0627\\u0646 \\u0642\\u062f \\u0627\\u0652\\u0634\\u064b\\u062a\\u063a\\u0644\\u0651 \\u064e\\u0639\\u0652\\u0644\\u064a\\u0651\\u0647\\u0627\\u064c \\u064f\\u062e\\u0644\\u0652\\u0627\\u0650\\u0644 \\u0627\\u0644 \\u06501\\u06500\\u0652\\u0633\\u0646\\u064c\\u0648\\u0627\\u062a \\u0650\\u0627\\u0644\\u0623\\u062e\\u064a\\u0631\\u0651\\u0629\\u060c \\u0628\\u0639\\u064c\\u062f\\u064f \\u062f\\u0652\\u0631\\u0627\\u0652\\u0633\\u064e\\u062a\\u064d\\u0647\\u064c \\u064d\\u0627\\u0644\\u0651\\u0623\\u0643\\u0627\\u0650\\u062f\\u064a\\u064e\\u0645\\u064c\\u064a\\u064e\\u0629\\u0651 \\u0641\\u0651\\u064a \\u0623\\u0652\\u0648\\u0631\\u064b\\u0648\\u0628\\u0627\\u064b\\u060c\\u0650 \\u0648\\u0631\\u064e\\u0643\\u064f\\u0632 \\u0646\\u0639\\u0650\\u0645\\u0627\\u0646\\u0652 \\u064d\\u0641\\u064a\\u064d \\u0645\\u0634\\u0627\\u0631\\u0643\\u064b\\u0627\\u062a\\u0647 \\u0650\\u0639\\u064f\\u0644\\u0649 \\u0651\\u0627\\u064e\\u0644\\u0652\\u0623\\u0652\\u0644\\u0639\\u0627\\u0628\\u064f \\u064e\\u0627\\u0644\\u0634\\u0650\\u0639\\u0628\\u064a\\u0629\\u0652 \\u064b\\u0627\\u0644\\u0650\\u0643\\u0648\\u064f\\u064a\\u064f\\u062a\\u064f\\u064a\\u0651\\u0629\\u060c\\u0652 \\u064c\\u0636\\u0645\\u0650\\u0646\\u064f \\u0631\\u0624\\u064d\\u064a\\u064f\\u062a\\u0647 \\u0641\\u0651\\u064a\\u0650 \\u0625\\u062b\\u064e\\u0631\\u0652\\u0627\\u064c\\u0621\\u0650 \\u0627\\u064d\\u0644\\u064f\\u062d\\u0636\\u0627\\u064d\\u0631\\u064c\\u0629 \\u064b\\u0627\\u0644\\u064d\\u0642\\u064f\\u062f\\u064b\\u064a\\u0645\\u064f\\u0629\\u060c\\u0650 \\u064e\\u0648\\u064b\\u0642\\u0651\\u062f \\u0628\\u0631\\u064c\\u0632 \\u0641\\u0651\\u064a\\u0647\\u0652\\u0627\\u0651 \\u0650\\u0639\\u0646\\u064d\\u0635\\u0631 \\u0652\\u0627\\u0644\\u0650\\u062d\\u064d\\u0631\\u0643\\u0629 \\u0652\\u0639\\u0650\\u0644\\u064c\\u0649 \\u064b\\u0646\\u064e\\u062d\\u064e\\u0648 \\u0652\\u0644\\u0627\\u0641\\u062a\\u064f\\u060c\\u064d \\u064d\\u0648\\u0651\\u0643\\u064b\\u0627\\u0646\\u064d \\u0630\\u0644\\u064f\\u0643\\u0650 \\u0651\\u0639\\u0628\\u064f\\u0631\\u064c \\u062d\\u0631\\u0643\\u0627\\u064e\\u062a\\u064c \\u0627\\u0644\\u064b\\u0631\\u0642\\u0635\\u060c \\u0648\\u0645\\u0651\\u0646\\u064d \\u064e\\u062e\\u0644\\u0627\\u0644 \\u064f\\u0645\\u0639\\u064f\\u0627\\u0644\\u062c\\u0629\\u064c \\u062a\\u064f\\u062c\\u0652\\u0631\\u0652\\u064a\\u062f\\u064d\\u064a\\u0652\\u0629\\u060c \\u0628\\u0650\\u064a\\u0646\\u062a \\u0650\\u0645\\u0651\\u0647\\u0651\\u0627\\u0631\\u0650\\u0627\\u064e\\u062a\\u0647 \\u064c\\u0641\\u064c\\u064a \\u064b\\u0627\\u0633\\u062a\\u064c\\u062e\\u064c\\u062f\\u064e\\u0627\\u064f\\u0645 \\u0627\\u064c\\u0644\\u0628\\u0631\\u0648\\u0651\\u0646\\u0632\\u0651 \\u0652.\\u0648\\u064b\\u062c\\u0652\\u0627\\u064c\\u0621\\u062a \\u0645\\u064b\\u0646\\u062d\\u0648\\u062a\\u0651\\u0627\\u062a\\u0652 \\u064f\\u062d\\u064e\\u0645\\u064f\\u064a\\u064c\\u062f \\u062e\\u0632\\u0639\\u0644\\u0650 \\u0627\\u0645\\u0652\\u062a\\u064c\\u062f\\u0627\\u062f\\u0627\\u064b \\u0644\\u064d\\u062a\\u064c\\u062c\\u0631\\u0650\\u0628\\u0652\\u062a\\u0647\\u064f \\u064e\\u0627\\u0644\\u064f\\u0639\\u0645\\u0652\\u064a\\u0642\\u064f\\u0629\\u064c \\u0641\\u064c\\u064a \\u064d\\u0645\\u062c\\u0652\\u0627\\u0651\\u0644 \\u0627\\u0651\\u0644\\u062a\\u0651\\u062c\\u0652\\u0631\\u064f\\u0628\\u064c\\u0629 \\u064d\\u0627\\u064e\\u0644\\u0632\\u0652\\u064a\\u064f\\u062a\\u0650\\u064a\\u064c\\u0629\\u064b\\u060c\\u064f \\u0648\\u0628\\u0639\\u064e\\u062f\\u0650 \\u0627\\u064b\\u0646\\u0652\\u0642\\u064b\\u0637\\u064b\\u0627\\u064e\\u0639 \\u0637\\u0648\\u0651\\u064a\\u0644 \\u0639\\u0646\\u0650\\u0647\\u0627\\u064f\\u060c\\u064c \\u064e\\u0643\\u064a\\u064d \\u0652\\u064a\\u062d\\u062f\\u064b\\u062b\\u064d \\u0650\\u062a\\u064b\\u0648\\u0650\\u0627\\u0632\\u064b\\u0646\\u064d\\u0627\\u064b\\u064b \\u0641\\u0646\\u0650\\u064a\\u0627\\u064f\\u064b\\u064f \\u0641\\u064a \\u064b\\u062a\\u062c\\u0631\\u0652\\u0628\\u064d\\u062a\\u0647\\u0650\\u060c \\u064e\\u062d\\u064b\\u064a\\u062b \\u0648\\u062c\\u0648\\u064e\\u0647 \\u0634\\u064f\\u062e\\u0650\\u0648\\u0635\\u0650\\u0647 \\u0645\\u0634\\u0648\\u0650\\u0647\\u064b\\u0629\\u064b\\u060c \\u0652\\u0648\\u0650\\u0647\\u0643\\u0630\\u064e\\u0627 \\u0652\\u0627\\u064d\\u0644\\u064c\\u062d\\u0627\\u0644 \\u064e\\u0628\\u0627\\u0644\\u0646\\u0633\\u0628\\u0652\\u0629 \\u0625\\u0644\\u0649\\u064b \\u0623\\u0637\\u0631\\u064f\\u0627\\u0641\\u064f\\u0647\\u064f\\u0645\\u0652\\u060c \\u0641\\u064e\\u0647\\u064f\\u064a \\u0652\\u0625\\u0652\\u0645\\u0627\\u064e \\u064d\\u0645\\u064d\\u062e\\u0641\\u064a\\u0652\\u0629\\u064b\\u060c \\u064f\\u0623\\u0648 \\u064c\\u0645\\u0628\\u062a\\u064f\\u0648\\u064d\\u0631\\u0629\\u060c \\u0651\\u0642\\u064d\\u0644\\u0642\\u0629\\u064c\\u060c \\u0652\\u0645\\u064c\\u062a\\u064c\\u0648\\u062a\\u0631\\u0629\\u060c \\u064f\\u062a\\u064b\\u062e\\u0631\\u064e\\u062c\\u0650 \\u064f\\u0639\\u0646\\u064d \\u064d\\u0635\\u064f\\u0645\\u062a\\u0647\\u0627\\u064b \\u0650\\u0645\\u064c\\u0646\\u0651 \\u064e\\u062e\\u0644\\u064c\\u0627\\u064b\\u0644 \\u064f\\u062d\\u064f\\u0631\\u0643\\u064c\\u062a\\u0647\\u064d\\u0627 \\u0627\\u0651\\u0644\\u062a\\u064a \\u062a\\u0633\\u064c\\u0645\\u064b \\u0650\\u0623\\u064e\\u0643\\u064b\\u062b\\u064b\\u0631\\u064f \\u0627\\u0644\\u0623\\u0639\\u064b\\u0645\\u0627\\u0644 \\u0652.\\u0648\\u0642\\u064c\\u062f \\u0652\\u0628\\u062f\\u064e\\u062a \\u0628\\u0651\\u0631\\u0627\\u0652\\u0639\\u0629 \\u0639\\u0650\\u0644\\u0652\\u064a \\u0646\\u0639\\u0645\\u064d\\u0627\\u0646 \\u064d\\u0645\\u064e\\u0646 \\u062e\\u0644\\u0627\\u064d\\u0644\\u0651 \\u062b\\u064c\\u0642\\u062a\\u0647 \\u0652\\u0641\\u064f\\u064a \\u064f\\u0627\\u064f\\u0644\\u062a\\u0639\\u064d\\u0627\\u064b\\u0645\\u0644 \\u064c\\u0645\\u0650\\u0639\\u0652 \\u062e\\u064d\\u0627\\u0645\\u0651\\u0629\\u064e \\u064c\\u0627\\u0644\\u064e\\u0625\\u0643\\u0644\\u064a\\u0631\\u064b\\u0643\\u064d\\u060c \\u0651\\u0628\\u0639\\u064f\\u064a\\u062f\\u0627\\u064e\\u064b \\u0650\\u0639\\u064f\\u0646 \\u0627\\u0644\\u062a\\u064f\\u0631\\u064d\\u0643\\u064a\\u0632\\u064d \\u0639\\u0644\\u0649\\u0651 \\u0650\\u0623\\u0651\\u0644\\u0648\\u064c\\u0627\\u0650\\u0646\\u064e \\u0651\\u0645\\u062d\\u062f\\u0650\\u062f\\u0629\\u064c\\u060c\\u064c \\u064f\\u0643\\u064e\\u0645\\u064b\\u0627 \\u064c\\u0646\\u064d\\u062c\\u062f \\u0630\\u064f\\u0644\\u064f\\u0643\\u0651 \\u0652-\\u064e \\u063a\\u0627\\u064d\\u0644\\u064b\\u0628\\u064d\\u0627\\u064b \\u064e-\\u064b \\u0651\\u0643\\u0651\\u064a\\u064c \\u062a\\u0650\\u0643\\u064c\\u0648\\u0646 \\u0627\\u0652\\u0644\\u0645\\u0650\\u0631\\u064d\\u0623\\u0650\\u0629 \\u0627\\u0650\\u0644\\u0623\\u0651\\u0643\\u062b\\u0631\\u064e \\u062d\\u0636\\u0648\\u0652\\u0631\\u064d\\u0627\\u0651\\u064b \\u0651\\u0641\\u0650\\u064a\\u064b \\u064b\\u0641\\u0636\\u064c\\u0627\\u0650\\u0621 \\u0652\\u0644\\u0650\\u0648\\u064f\\u062d\\u064c\\u062a\\u0650\\u0647\\u060c\\u064f \\u064c\\u0639\\u0628\\u064d\\u0631\\u064f \\u062d\\u0650\\u0627\\u0644\\u0627\\u064d\\u062a\\u0652\\u0647\\u0627 \\u0627\\u0644\\u0645\\u062a\\u0651\\u0639\\u062f\\u064b\\u062f\\u064d\\u0629\\u0652\\u060c \\u064d\\u062d\\u064f\\u0648\\u0627\\u064b\\u0631\\u064f\\u0627\\u0652\\u064b \\u0623\\u064d\\u0648\\u064f \\u0631\\u0642\\u0635\\u0650\\u0627\\u064c\\u064b\\u064b\\u060c \\u0623\\u0648 \\u064d\\u062e\\u0650\\u0644\\u0652\\u0627\\u0644\\u064e \\u0652\\u0627\\u0644\\u064f\\u0633\\u0650\\u064a\\u064b\\u0631 \\u0639\\u064f\\u0644\\u0649\\u064b \\u064d\\u0627\\u0644\\u0637\\u0650\\u0631\\u064a\\u0642 \\u062c\\u064a\\u064e\\u0626\\u0629\\u064f \\u064c\\u0648\\u064e\\u0630\\u0652\\u0647\\u0627\\u0651\\u0628\\u0627\\u064b\\u060c \\u0648\\u0643\\u064b\\u0623\\u0646\\u0652 \\u064d\\u0644\\u064b\\u0648\\u062d\\u062a\\u064d\\u0647\\u064c \\u0651\\u062a\\u0652\\u0624\\u064b\\u0643\\u0650\\u062f\\u0650 \\u0639\\u0644\\u064c\\u0649\\u064b \\u064e\\u0627\\u064d\\u0646\\u0641\\u062a\\u0627\\u062d \\u0627\\u064d\\u0644\\u0639\\u064e\\u0627\\u0644\\u0645\\u064e \\u0627\\u0644\\u0630\\u064c\\u064a\\u0652 \\u064b\\u0644\\u0652\\u0627 \\u064a\\u0650\\u0641\\u062a\\u0623\\u064f \\u064e\\u064a\\u064f\\u0632\\u064e\\u0627\\u0648\\u062c \\u064c\\u0628\\u0652\\u064a\\u0646 \\u064f\\u062c\\u0645\\u0627\\u064d\\u0644\\u064e\\u064a\\u0651\\u0627\\u062a\\u064e\\u0647 \\u0648\\u064f\\u062f\\u064c\\u0644\\u0651\\u0627\\u064f\\u0644\\u0627\\u062a\\u064e\\u0647\\u0650 \\u0627\\u0644\\u062a\\u0652\\u064a\\u0651 \\u064b\\u0644\\u064c\\u0627\\u064f \\u0651\\u062a\\u0633\\u062a\\u064d\\u0646\\u0641\\u062f \\u064d.\\u064d\\u0648\\u0644\\u0648\\u062d\\u0638 \\u0639\\u064f\\u0644\\u064e\\u0649\\u0651 \\u0644\\u0648\\u062d\\u0629\\u064f \\u0646\\u0651\\u0639\\u064c\\u0645\\u064b\\u0627\\u0646\\u064d \\u062a\\u0650\\u062d\\u0642\\u064a\\u0642\\u064d\\u0647\\u064c\\u0627 \\u0645\\u0639\\u064f\\u0627\\u064f\\u062f\\u064d\\u0644\\u0629\\u0650 \\u0627\\u0652\\u0644\\u0652\\u0647\\u0627\\u0652\\u0631\\u064d\\u0645\\u0648\\u0646\\u064a \\u0639\\u0628\\u0631 \\u062a\\u0648\\u064c\\u0627\\u064b\\u0632\\u0646\\u0647\\u0627 \\u0650\\u0648\\u064d\\u062a\\u064f\\u0648\\u064f\\u0632\\u064b\\u064a\\u0639\\u0647\\u0652\\u0627\\u0652 \\u0644\\u0644\\u064d\\u0648\\u0652\\u0646\\u064d \\u0648\\u064e\\u0641\\u064d\\u0642 \\u064d\\u0647\\u0650\\u0646\\u062f\\u0633\\u0629\\u064c \\u0645\\u064e\\u0642\\u064d\\u0646\\u0652\\u0639\\u064d\\u0629\\u064c\\u060c \\u0644\\u0651\\u0627\\u0652\\u0633\\u064a\\u0645\\u064c\\u0627 \\u0623\\u0646 \\u0627\\u064f\\u0644\\u0627\\u0646\\u062a\\u0650\\u0642\\u0627\\u0644 \\u0650\\u0645\\u0646\\u064d \\u064d\\u0644\\u064c\\u0648\\u0651\\u0646\\u064b \\u064c\\u0625\\u0651\\u0644\\u064c\\u0649\\u064b \\u0650\\u0622\\u064d\\u062e\\u0631 \\u064a\\u0652\\u0628\\u064a\\u0646\\u064e \\u0645\\u062f\\u0649\\u0651 \\u0627\\u0652\\u0647\\u0650\\u062a\\u0645\\u064c\\u0627\\u0645\\u064f\\u0647 \\u0628\\u062f\\u0648\\u0651\\u0631\\u064e \\u0650\\u0639\\u0646\\u0635\\u064c\\u0631\\u0650 \\u064d\\u0627\\u0644\\u0652\\u0644\\u064c\\u0648\\u0646 \\u0650\\u0641\\u064a \\u0651\\u0639\\u064b\\u0627\\u0644\\u0645 \\u0650\\u0627\\u0644\\u064d\\u0644\\u064f\\u0648\\u064f\\u062d\\u0629 \\u064c.\\u0652\\u0648\\u062a\\u0646\\u0645 \\u0644\\u0650\\u0648\\u064d\\u062d\\u0651\\u0629\\u064c \\u0634\\u064d\\u0631\\u0651\\u064a\\u0641 \\u0650\\u0623\\u0634\\u0651\\u0643\\u0651\\u0646\\u0627\\u064d\\u0646\\u064a\\u064f \\u064d\\u0627\\u0644\\u062a\\u064c\\u064a\\u064b \\u064f\\u062a\\u0639\\u0627\\u064c\\u0644\\u0651\\u062c \\u0639\\u064e\\u0644\\u0649\\u064c \\u0645\\u0652\\u0648\\u0627\\u062f\\u0650 \\u064c\\u0627\\u0644\\u064f\\u0625\\u0643\\u0644\\u0652\\u064a\\u0631\\u064d\\u0643\\u060c\\u064e \\u0652\\u0639\\u0646\\u0651 \\u0652\\u0645\\u064b\\u0647\\u0627\\u064d\\u0631\\u0651\\u0627\\u064d\\u062a\\u0650\\u0647\\u0650 \\u0627\\u0644\\u0650\\u0639\\u064b\\u0627\\u0644\\u064a\\u0629\\u060c\\u064c \\u064c\\u0643\\u064f\\u0623\\u062d\\u064f\\u062f\\u064f \\u0627\\u0651\\u0644\\u064f\\u0641\\u0646\\u0627\\u0650\\u0646\\u064a\\u0650\\u0646\\u0651 \\u064d\\u0630\\u0648\\u064b\\u064a\\u064c \\u0627\\u064b\\u0644\\u062d\\u0636\\u0648\\u0631 \\u0627\\u0644\\u0644\\u064b\\u0627\\u0641\\u062a\\u064f \\u0651\\u0641\\u064b\\u064a\\u064e \\u0627\\u0644\\u064e\\u062d\\u064e\\u0631\\u0643\\u0629\\u0652 \\u0627\\u0644\\u064f\\u062a\\u0634\\u0643\\u064a\\u0644\\u064d\\u064a\\u0651\\u0629 \\u0627\\u0644\\u0650\\u0643\\u0648\\u064c\\u064a\\u062a\\u064a\\u0629\\u0651\\u060c \\u0634\\u0652\\u0623\\u0646\\u064e \\u064e\\u0632\\u064c\\u0645\\u0644\\u0627\\u0626\\u064e\\u0647 \\u0627\\u064e\\u0644\\u0645\\u0634\\u0627\\u064e\\u0631\\u0650\\u0643\\u064a\\u0646\\u064d\\u060c\\u0651 \\u0648\\u0625\\u0646\\u064f \\u0643\\u0627\\u0646\\u062a\\u0651 \\u0637\\u0631\\u0652\\u064a\\u064f\\u0642\\u0652\\u0629\\u0651 \\u064f\\u062a\\u064f\\u0643\\u064b\\u0646\\u064a\\u0650\\u0643\\u0647\\u064f\\u060c\\u064d \\u0651\\u062a\\u062e\\u064c\\u062a\\u0650\\u0644\\u064f\\u0641 \\u0645\\u064e\\u0646\\u0652 \\u0650\\u0644\\u0648\\u064f\\u062d\\u0650\\u0629\\u0652 \\u0625\\u0652\\u0644\\u0649\\u064d \\u0651\\u0644\\u0648\\u064c\\u062d\\u064f\\u0629\\u060c\\u064c \\u064c\\u0648\\u0647\\u0648 \\u0645\\u064b\\u0627\\u064f \\u064a\\u062f\\u0644 \\u0639\\u064d\\u0644\\u0649\\u064b \\u0650\\u062b\\u0651\\u0642\\u064e\\u062a\\u0652\\u0647\\u064c \\u0651\\u0645\\u064e\\u0646\\u0652 \\u0652\\u062a\\u0650\\u0645\\u064c\\u0643\\u0646 \\u0623\\u062f\\u064b\\u0648\\u0651\\u0627\\u0652\\u062a\\u0651\\u0647\\u064e \\u0650\\u0627\\u064d\\u0644\\u064f\\u0641\\u0646\\u0652\\u064a\\u0629\\u064b\\u060c \\u064f\\u0648\\u064f\\u0639\\u064c\\u062f\\u0645 \\u0627\\u0650\\u0644\\u062a\\u064c\\u0642\\u0651\\u064a\\u0652\\u062f\\u064e \\u0652\\u0628\\u064f\\u0639\\u0652\\u0648\\u0650\\u0627\\u0651\\u0644\\u0645 \\u0645\\u062d\\u064f\\u062f\\u062f\\u0651\\u0629\\u060c\\u064c \\u064b\\u0648\\u0625\\u0646 \\u064c\\u0643\\u0650\\u0627\\u0646 \\u064e\\u0630\\u0651\\u0644\\u064b\\u0643 \\u064a\\u0628\\u064a\\u0646 -\\u064d \\u064e\\u0641\\u0650\\u064a \\u0652\\u0627\\u0644\\u064e\\u062a\\u0627\\u0644\\u064d\\u064a\\u064e \\u0651- \\u0650\\u062f\\u0631\\u064c\\u062c\\u064b\\u0629 \\u0650\\u0639\\u064d\\u0627\\u064d\\u0644\\u064b\\u064a\\u0629 \\u0645\\u064d\\u0646 \\u0627\\u0644\\u0642\\u064b\\u0644\\u0642\\u0651 \\u0627\\u064b\\u0644\\u0652\\u0631\\u064b\\u0648\\u062d\\u064a \\u064b\\u0644\\u064d\\u062f\\u0652\\u064a\\u0647\\u064b \\u0650.\\u0648\\u0643\\u0651\\u0631\\u0645\\u064c \\u062f \\u0650. \\u064d\\u0627\\u0650\\u0644\\u0650\\u0645\\u064f\\u0637\\u0648\\u0639\\u0652 \\u0652\\u0639\\u064c\\u0644\\u064f\\u0649\\u0650 \\u0647\\u0627\\u064e\\u0645\\u064d\\u0634 \\u0627\\u0644\\u064e\\u0645\\u064e\\u0639\\u0631\\u064e\\u0636\\u064c \\u0627\\u064c\\u0644\\u0641\\u0646\\u0651\\u0627\\u064b\\u0646\\u064e\\u064a\\u0646\\u0652 \\u064d\\u0627\\u0651\\u0644\\u064f\\u0623\\u0651\\u0631\\u0628\\u064d\\u0639\\u0650\\u0629\\u0650 \\u064f\\u0627\\u0644\\u0645\\u0650\\u0634\\u0627\\u064e\\u0631\\u064d\\u0643\\u064d\\u064a\\u0646\\u060c\\u064c \\u0645\\u0642\\u064e\\u062f\\u064b\\u0645\\u064c\\u0627\\u064b \\u062f\\u064e\\u0631\\u064f\\u0639\\u064c\\u0627\\u064c\\u064b \\u0652\\u062a\\u0630\\u0650\\u0643\\u0627\\u0631\\u064a\\u0629 \\u064e\\u0644\\u0652\\u0643\\u0644 \\u0650\\u0645\\u0646\\u0647\\u0645 .\\u0650\"\n        ],\n        \"semantic_type\": \"\",\n        \"description\": \"\"\n      }\n    },\n    {\n      \"column\": \"label\",\n      \"properties\": {\n        \"dtype\": \"category\",\n        \"num_unique_values\": 7,\n        \"samples\": [\n          \"Finance\",\n          \"Culture\",\n          \"Medical\"\n        ],\n        \"semantic_type\": \"\",\n        \"description\": \"\"\n      }\n    }\n  ]\n}"
            }
          },
          "metadata": {},
          "execution_count": 5
        }
      ]
    },
    {
      "cell_type": "markdown",
      "metadata": {
        "id": "kVc0b_9fQGeH"
      },
      "source": [
        "# Data Exploration"
      ]
    },
    {
      "cell_type": "markdown",
      "metadata": {
        "id": "a98DaVUvQsi8"
      },
      "source": [
        "Before diving into preprocessing and model building, it’s important to first explore the dataset to understand its structure, distribution, and key characteristics. This step will help you gain insights into the data and guide your decisions in subsequent steps. Here’s what to consider:\n",
        "\n",
        "1. **Inspect the Data**:\n",
        "   Start by looking at the first few rows of the dataset to get a sense of its structure. Check the columns, data types, and a few sample entries. This helps to ensure that the data is loaded correctly and gives you an initial overview of the content.\n",
        "\n",
        "2. **Check for Missing Values**:\n",
        "   Identify if there are any missing values in the dataset.\n",
        "\n",
        "3. **Distribution of Labels**:\n",
        "   Examine the distribution of the target labels (classes).\n",
        "\n",
        "4. **Text Data Characteristics (Bonus)**:\n",
        "   Analyze the length of the text data. It is useful to calculate the number of words or characters in each text sample to understand how long the texts are. This will help you set a suitable `max_length` for tokenization and padding later. You can plot a histogram of text lengths to visualize the distribution.\n",
        "\n",
        "5. **Common Words and Vocabulary (Bonus)**:\n",
        "   Explore the most frequent words in the text data."
      ]
    },
    {
      "cell_type": "code",
      "execution_count": 6,
      "metadata": {
        "id": "aZgYQbZxWtAt",
        "colab": {
          "base_uri": "https://localhost:8080/"
        },
        "outputId": "23fefe4a-d8cf-4c77-898c-544b50dc82c5"
      },
      "outputs": [
        {
          "output_type": "stream",
          "name": "stdout",
          "text": [
            "<class 'pandas.core.frame.DataFrame'>\n",
            "Index: 1000 entries, 10869 to 21047\n",
            "Data columns (total 2 columns):\n",
            " #   Column  Non-Null Count  Dtype \n",
            "---  ------  --------------  ----- \n",
            " 0   text    1000 non-null   object\n",
            " 1   label   1000 non-null   object\n",
            "dtypes: object(2)\n",
            "memory usage: 23.4+ KB\n",
            "None\n",
            "                                                     text     label\n",
            "count                                                1000      1000\n",
            "unique                                               1000         7\n",
            "top     https://example.com/resource/أَعلنَت الٌأّمم ا...  Politics\n",
            "freq                                                    1       169\n"
          ]
        }
      ],
      "source": [
        "#1.Inspect the Data\n",
        "print(df.info())\n",
        "print(df.describe())"
      ]
    },
    {
      "cell_type": "code",
      "source": [
        "df.shape"
      ],
      "metadata": {
        "colab": {
          "base_uri": "https://localhost:8080/"
        },
        "id": "2Oexuxbb2i0o",
        "outputId": "8b2f579b-da1b-4c49-829a-0a28de60c8d0"
      },
      "execution_count": 7,
      "outputs": [
        {
          "output_type": "execute_result",
          "data": {
            "text/plain": [
              "(1000, 2)"
            ]
          },
          "metadata": {},
          "execution_count": 7
        }
      ]
    },
    {
      "cell_type": "code",
      "source": [
        "df['text'].sample(10)"
      ],
      "metadata": {
        "colab": {
          "base_uri": "https://localhost:8080/",
          "height": 393
        },
        "id": "_3nd5D5n_bfe",
        "outputId": "985f4d7f-c42a-4a08-cbbd-412c47783437"
      },
      "execution_count": 8,
      "outputs": [
        {
          "output_type": "execute_result",
          "data": {
            "text/plain": [
              "25782    https://example.com/resource/إعْدُادُ:ٌ مْحمْد...\n",
              "23168    https://example.com/resource/أعلن اًلرٍئيس اَل...\n",
              "11666    https://example.com/resource/شُهّد سًوٍق ًدَبٍ...\n",
              "21138    https://example.com/resource/بيرَوًتٌ ُ- \"اًلّ...\n",
              "34129    https://example.com/resource/تْطٍلقُ َشركْةٍ ٍ...\n",
              "20083    https://example.com/resource/بدْأْت قوى المْعا...\n",
              "32188    https://example.com/resource/يخرُج ًبِرٌشٍلًون...\n",
              "14324    https://example.com/resource/دبِي:ٍ ّ«ٌاُلخَلِ...\n",
              "10013    https://example.com/resource/دبيْ:«ٍاٍلٍخِليج»...\n",
              "11191    https://example.com/resource/قِالت ًوًزاِرُةِ ...\n",
              "Name: text, dtype: object"
            ],
            "text/html": [
              "<div>\n",
              "<style scoped>\n",
              "    .dataframe tbody tr th:only-of-type {\n",
              "        vertical-align: middle;\n",
              "    }\n",
              "\n",
              "    .dataframe tbody tr th {\n",
              "        vertical-align: top;\n",
              "    }\n",
              "\n",
              "    .dataframe thead th {\n",
              "        text-align: right;\n",
              "    }\n",
              "</style>\n",
              "<table border=\"1\" class=\"dataframe\">\n",
              "  <thead>\n",
              "    <tr style=\"text-align: right;\">\n",
              "      <th></th>\n",
              "      <th>text</th>\n",
              "    </tr>\n",
              "  </thead>\n",
              "  <tbody>\n",
              "    <tr>\n",
              "      <th>25782</th>\n",
              "      <td>https://example.com/resource/إعْدُادُ:ٌ مْحمْد...</td>\n",
              "    </tr>\n",
              "    <tr>\n",
              "      <th>23168</th>\n",
              "      <td>https://example.com/resource/أعلن اًلرٍئيس اَل...</td>\n",
              "    </tr>\n",
              "    <tr>\n",
              "      <th>11666</th>\n",
              "      <td>https://example.com/resource/شُهّد سًوٍق ًدَبٍ...</td>\n",
              "    </tr>\n",
              "    <tr>\n",
              "      <th>21138</th>\n",
              "      <td>https://example.com/resource/بيرَوًتٌ ُ- \"اًلّ...</td>\n",
              "    </tr>\n",
              "    <tr>\n",
              "      <th>34129</th>\n",
              "      <td>https://example.com/resource/تْطٍلقُ َشركْةٍ ٍ...</td>\n",
              "    </tr>\n",
              "    <tr>\n",
              "      <th>20083</th>\n",
              "      <td>https://example.com/resource/بدْأْت قوى المْعا...</td>\n",
              "    </tr>\n",
              "    <tr>\n",
              "      <th>32188</th>\n",
              "      <td>https://example.com/resource/يخرُج ًبِرٌشٍلًون...</td>\n",
              "    </tr>\n",
              "    <tr>\n",
              "      <th>14324</th>\n",
              "      <td>https://example.com/resource/دبِي:ٍ ّ«ٌاُلخَلِ...</td>\n",
              "    </tr>\n",
              "    <tr>\n",
              "      <th>10013</th>\n",
              "      <td>https://example.com/resource/دبيْ:«ٍاٍلٍخِليج»...</td>\n",
              "    </tr>\n",
              "    <tr>\n",
              "      <th>11191</th>\n",
              "      <td>https://example.com/resource/قِالت ًوًزاِرُةِ ...</td>\n",
              "    </tr>\n",
              "  </tbody>\n",
              "</table>\n",
              "</div><br><label><b>dtype:</b> object</label>"
            ]
          },
          "metadata": {},
          "execution_count": 8
        }
      ]
    },
    {
      "cell_type": "code",
      "source": [
        "#2.Check for Missing Values:\n",
        "df.isnull().sum()"
      ],
      "metadata": {
        "colab": {
          "base_uri": "https://localhost:8080/",
          "height": 145
        },
        "id": "twnL80N90r5b",
        "outputId": "ca0680dd-7a9e-4981-8c9f-5a777df3b02c"
      },
      "execution_count": 9,
      "outputs": [
        {
          "output_type": "execute_result",
          "data": {
            "text/plain": [
              "text     0\n",
              "label    0\n",
              "dtype: int64"
            ],
            "text/html": [
              "<div>\n",
              "<style scoped>\n",
              "    .dataframe tbody tr th:only-of-type {\n",
              "        vertical-align: middle;\n",
              "    }\n",
              "\n",
              "    .dataframe tbody tr th {\n",
              "        vertical-align: top;\n",
              "    }\n",
              "\n",
              "    .dataframe thead th {\n",
              "        text-align: right;\n",
              "    }\n",
              "</style>\n",
              "<table border=\"1\" class=\"dataframe\">\n",
              "  <thead>\n",
              "    <tr style=\"text-align: right;\">\n",
              "      <th></th>\n",
              "      <th>0</th>\n",
              "    </tr>\n",
              "  </thead>\n",
              "  <tbody>\n",
              "    <tr>\n",
              "      <th>text</th>\n",
              "      <td>0</td>\n",
              "    </tr>\n",
              "    <tr>\n",
              "      <th>label</th>\n",
              "      <td>0</td>\n",
              "    </tr>\n",
              "  </tbody>\n",
              "</table>\n",
              "</div><br><label><b>dtype:</b> int64</label>"
            ]
          },
          "metadata": {},
          "execution_count": 9
        }
      ]
    },
    {
      "cell_type": "code",
      "source": [
        "#3.Distribution of Labels:\n",
        "df['label'].value_counts().plot(kind='bar')"
      ],
      "metadata": {
        "colab": {
          "base_uri": "https://localhost:8080/",
          "height": 508
        },
        "id": "dWQ64-7A02bP",
        "outputId": "b75ae33a-e0be-4627-bd5d-3a7873ffd396"
      },
      "execution_count": 10,
      "outputs": [
        {
          "output_type": "execute_result",
          "data": {
            "text/plain": [
              "<Axes: xlabel='label'>"
            ]
          },
          "metadata": {},
          "execution_count": 10
        },
        {
          "output_type": "display_data",
          "data": {
            "text/plain": [
              "<Figure size 640x480 with 1 Axes>"
            ],
            "image/png": "[encoded data removed]"
          },
          "metadata": {}
        }
      ]
    },
    {
      "cell_type": "code",
      "source": [
        "# as we can see from previous plot the religong is not distrubtion equaly with the rest of labels"
      ],
      "metadata": {
        "id": "vc75HZsC14-0"
      },
      "execution_count": 14,
      "outputs": []
    },
    {
      "cell_type": "code",
      "source": [
        "#4 max-lenght\n",
        "df['text'].str.len().max()"
      ],
      "metadata": {
        "colab": {
          "base_uri": "https://localhost:8080/"
        },
        "id": "mUGylwT01Ayq",
        "outputId": "eb844693-ec73-4105-a6d0-8e22cc5838a6"
      },
      "execution_count": 15,
      "outputs": [
        {
          "output_type": "execute_result",
          "data": {
            "text/plain": [
              "6368"
            ]
          },
          "metadata": {},
          "execution_count": 15
        }
      ]
    },
    {
      "cell_type": "code",
      "source": [
        "#4 max-length\n",
        "max_length = 6368"
      ],
      "metadata": {
        "id": "9GeHUyYN2QLJ"
      },
      "execution_count": 16,
      "outputs": []
    },
    {
      "cell_type": "code",
      "source": [
        "#Common Words and Vocabulary (Bonus):\n",
        "\n",
        "all_text = ' '.join(df['text'].tolist())\n",
        "\n",
        "tokens = word_tokenize(all_text)\n",
        "\n",
        "word_counts = Counter(tokens)\n",
        "\n",
        "most_common_words = word_counts.most_common(10)\n",
        "print(most_common_words)"
      ],
      "metadata": {
        "colab": {
          "base_uri": "https://localhost:8080/"
        },
        "id": "pW2vpeAe2zud",
        "outputId": "dfed0ede-78ca-4665-9b53-492130880438"
      },
      "execution_count": 17,
      "outputs": [
        {
          "output_type": "stream",
          "name": "stdout",
          "text": [
            "[(':', 2832), ('.', 2110), ('%', 1457), ('«', 1263), ('»', 1261), (')', 1096), ('(', 1083), ('في', 1045), ('https', 1000), (\"''\", 767)]\n"
          ]
        }
      ]
    },
    {
      "cell_type": "markdown",
      "metadata": {
        "id": "X_oEu0TkSMEB"
      },
      "source": [
        "# Data Cleaning and Preprocessing"
      ]
    },
    {
      "cell_type": "markdown",
      "metadata": {
        "id": "wSAFiozlRQHt"
      },
      "source": [
        "In this section, we will focus on cleaning and filtering the dataset, preparing it for the text classification task. We will implement the following steps:\n",
        "\n",
        "1. **Remove missing values**:\n",
        "   First, we eliminate any rows with missing values to ensure the dataset is complete and consistent.\n",
        "\n",
        "2. **Filter by text length (Bonus)**:\n",
        "   To maintain a uniform dataset, we will filter the text samples by a specified word count range. This ensures that the texts are neither too short to lack context nor too long to introduce unnecessary complexity.\n",
        "\n",
        "3. **Arabic stopwords loading**:\n",
        "   We load a list of Arabic stopwords to filter out commonly used but contextually insignificant words. This is an important step for improving the performance of the model, as stopwords do not contribute valuable information.\n",
        "\n",
        "4. **Text cleaning**:\n",
        "   We apply a series of text cleaning steps to standardize and simplify the text data. This involves:\n",
        "   - **Removing links (URLs)**: Any URLs present in the text are removed as they are not meaningful for classification purposes.\n",
        "   - **Removing special characters and punctuation**: This step removes any non-alphabetical characters, ensuring the text only contains meaningful words.\n",
        "   - **Removing Arabic diacritics (Tashkeel) and elongated letters (Tatweel)**: Diacritical marks and elongated letters are stripped out to standardize the text.\n",
        "   - **Removing Arabic stopwords**: Words that are part of the stopwords list are removed, as they do not add value to the classification task.\n",
        "   - **Stemming or Lemmmatization**: Either stemming or lemmatization is applied to reduce words to their root or base form.\n",
        "   - **Normalizing Hamza**: Any variation of the Hamza character is normalized for consistency.\n",
        "\n",
        "   **Note:** Most of these you can do using the library [PyArabic](https://pyarabic.readthedocs.io/ar/latest/README.html#features)\n",
        "\n",
        "5. **Final cleanup**:\n",
        "   Apply the cleanup function to the feature column.\n",
        "\n",
        "By following these steps, the text will be cleaned, filtered, and ready for tokenization!"
      ]
    },
    {
      "cell_type": "code",
      "source": [
        "#2. Filter by text length (Bonus)\n",
        "min_length = 5\n",
        "df = df[df['label'] != 'Mixed']\n",
        "df = df[df['text'].str.split().str.len().between(min_length, max_length)]\n",
        "df.head()"
      ],
      "metadata": {
        "colab": {
          "base_uri": "https://localhost:8080/",
          "height": 204
        },
        "id": "ng48bLRP4atX",
        "outputId": "0419847c-11d0-4d9b-dd2c-32ae5ce48b4e"
      },
      "execution_count": 18,
      "outputs": [
        {
          "output_type": "execute_result",
          "data": {
            "text/plain": [
              "                                                    text    label\n",
              "10869  https://example.com/resource/بْلِغت َتسَييلّاً...  Finance\n",
              "3643   https://example.com/resource/دبِيِ - إِبٍرِاهُ...  Culture\n",
              "3375   https://example.com/resource/أِبوظبُيّ ٌ-ِ ًمن...  Culture\n",
              "36367  https://example.com/resource/Noٍkْiaٌ 5ُ53ً0ُ ...     Tech\n",
              "30086  https://example.com/resource/واُصلُ اّلٍنَجُم ...   Sports"
            ],
            "text/html": [
              "\n",
              "  <div id=\"df-81285f36-c71a-43c7-9792-b9b01976fb75\" class=\"colab-df-container\">\n",
              "    <div>\n",
              "<style scoped>\n",
              "    .dataframe tbody tr th:only-of-type {\n",
              "        vertical-align: middle;\n",
              "    }\n",
              "\n",
              "    .dataframe tbody tr th {\n",
              "        vertical-align: top;\n",
              "    }\n",
              "\n",
              "    .dataframe thead th {\n",
              "        text-align: right;\n",
              "    }\n",
              "</style>\n",
              "<table border=\"1\" class=\"dataframe\">\n",
              "  <thead>\n",
              "    <tr style=\"text-align: right;\">\n",
              "      <th></th>\n",
              "      <th>text</th>\n",
              "      <th>label</th>\n",
              "    </tr>\n",
              "  </thead>\n",
              "  <tbody>\n",
              "    <tr>\n",
              "      <th>10869</th>\n",
              "      <td>https://example.com/resource/بْلِغت َتسَييلّاً...</td>\n",
              "      <td>Finance</td>\n",
              "    </tr>\n",
              "    <tr>\n",
              "      <th>3643</th>\n",
              "      <td>https://example.com/resource/دبِيِ - إِبٍرِاهُ...</td>\n",
              "      <td>Culture</td>\n",
              "    </tr>\n",
              "    <tr>\n",
              "      <th>3375</th>\n",
              "      <td>https://example.com/resource/أِبوظبُيّ ٌ-ِ ًمن...</td>\n",
              "      <td>Culture</td>\n",
              "    </tr>\n",
              "    <tr>\n",
              "      <th>36367</th>\n",
              "      <td>https://example.com/resource/Noٍkْiaٌ 5ُ53ً0ُ ...</td>\n",
              "      <td>Tech</td>\n",
              "    </tr>\n",
              "    <tr>\n",
              "      <th>30086</th>\n",
              "      <td>https://example.com/resource/واُصلُ اّلٍنَجُم ...</td>\n",
              "      <td>Sports</td>\n",
              "    </tr>\n",
              "  </tbody>\n",
              "</table>\n",
              "</div>\n",
              "    <div class=\"colab-df-buttons\">\n",
              "\n",
              "  <div class=\"colab-df-container\">\n",
              "    <button class=\"colab-df-convert\" onclick=\"convertToInteractive('df-81285f36-c71a-43c7-9792-b9b01976fb75')\"\n",
              "            title=\"Convert this dataframe to an interactive table.\"\n",
              "            style=\"display:none;\">\n",
              "\n",
              "  <svg xmlns=\"http://www.w3.org/2000/svg\" height=\"24px\" viewBox=\"0 -960 960 960\">\n",
              "    <path d=\"M120-120v-720h720v720H120Zm60-500h600v-160H180v160Zm220 220h160v-160H400v160Zm0 220h160v-160H400v160ZM180-400h160v-160H180v160Zm440 0h160v-160H620v160ZM180-180h160v-160H180v160Zm440 0h160v-160H620v160Z\"/>\n",
              "  </svg>\n",
              "    </button>\n",
              "\n",
              "  <style>\n",
              "    .colab-df-container {\n",
              "      display:flex;\n",
              "      gap: 12px;\n",
              "    }\n",
              "\n",
              "    .colab-df-convert {\n",
              "      background-color: #E8F0FE;\n",
              "      border: none;\n",
              "      border-radius: 50%;\n",
              "      cursor: pointer;\n",
              "      display: none;\n",
              "      fill: #1967D2;\n",
              "      height: 32px;\n",
              "      padding: 0 0 0 0;\n",
              "      width: 32px;\n",
              "    }\n",
              "\n",
              "    .colab-df-convert:hover {\n",
              "      background-color: #E2EBFA;\n",
              "      box-shadow: 0px 1px 2px rgba(60, 64, 67, 0.3), 0px 1px 3px 1px rgba(60, 64, 67, 0.15);\n",
              "      fill: #174EA6;\n",
              "    }\n",
              "\n",
              "    .colab-df-buttons div {\n",
              "      margin-bottom: 4px;\n",
              "    }\n",
              "\n",
              "    [theme=dark] .colab-df-convert {\n",
              "      background-color: #3B4455;\n",
              "      fill: #D2E3FC;\n",
              "    }\n",
              "\n",
              "    [theme=dark] .colab-df-convert:hover {\n",
              "      background-color: #434B5C;\n",
              "      box-shadow: 0px 1px 3px 1px rgba(0, 0, 0, 0.15);\n",
              "      filter: drop-shadow(0px 1px 2px rgba(0, 0, 0, 0.3));\n",
              "      fill: #FFFFFF;\n",
              "    }\n",
              "  </style>\n",
              "\n",
              "    <script>\n",
              "      const buttonEl =\n",
              "        document.querySelector('#df-81285f36-c71a-43c7-9792-b9b01976fb75 button.colab-df-convert');\n",
              "      buttonEl.style.display =\n",
              "        google.colab.kernel.accessAllowed ? 'block' : 'none';\n",
              "\n",
              "      async function convertToInteractive(key) {\n",
              "        const element = document.querySelector('#df-81285f36-c71a-43c7-9792-b9b01976fb75');\n",
              "        const dataTable =\n",
              "          await google.colab.kernel.invokeFunction('convertToInteractive',\n",
              "                                                    [key], {});\n",
              "        if (!dataTable) return;\n",
              "\n",
              "        const docLinkHtml = 'Like what you see? Visit the ' +\n",
              "          '<a target=\"_blank\" href=https://colab.research.google.com/notebooks/data_table.ipynb>data table notebook</a>'\n",
              "          + ' to learn more about interactive tables.';\n",
              "        element.innerHTML = '';\n",
              "        dataTable['output_type'] = 'display_data';\n",
              "        await google.colab.output.renderOutput(dataTable, element);\n",
              "        const docLink = document.createElement('div');\n",
              "        docLink.innerHTML = docLinkHtml;\n",
              "        element.appendChild(docLink);\n",
              "      }\n",
              "    </script>\n",
              "  </div>\n",
              "\n",
              "\n",
              "<div id=\"df-f5fe1c93-c2aa-4eae-b81d-af5d9d655ebb\">\n",
              "  <button class=\"colab-df-quickchart\" onclick=\"quickchart('df-f5fe1c93-c2aa-4eae-b81d-af5d9d655ebb')\"\n",
              "            title=\"Suggest charts\"\n",
              "            style=\"display:none;\">\n",
              "\n",
              "<svg xmlns=\"http://www.w3.org/2000/svg\" height=\"24px\"viewBox=\"0 0 24 24\"\n",
              "     width=\"24px\">\n",
              "    <g>\n",
              "        <path d=\"M19 3H5c-1.1 0-2 .9-2 2v14c0 1.1.9 2 2 2h14c1.1 0 2-.9 2-2V5c0-1.1-.9-2-2-2zM9 17H7v-7h2v7zm4 0h-2V7h2v10zm4 0h-2v-4h2v4z\"/>\n",
              "    </g>\n",
              "</svg>\n",
              "  </button>\n",
              "\n",
              "<style>\n",
              "  .colab-df-quickchart {\n",
              "      --bg-color: #E8F0FE;\n",
              "      --fill-color: #1967D2;\n",
              "      --hover-bg-color: #E2EBFA;\n",
              "      --hover-fill-color: #174EA6;\n",
              "      --disabled-fill-color: #AAA;\n",
              "      --disabled-bg-color: #DDD;\n",
              "  }\n",
              "\n",
              "  [theme=dark] .colab-df-quickchart {\n",
              "      --bg-color: #3B4455;\n",
              "      --fill-color: #D2E3FC;\n",
              "      --hover-bg-color: #434B5C;\n",
              "      --hover-fill-color: #FFFFFF;\n",
              "      --disabled-bg-color: #3B4455;\n",
              "      --disabled-fill-color: #666;\n",
              "  }\n",
              "\n",
              "  .colab-df-quickchart {\n",
              "    background-color: var(--bg-color);\n",
              "    border: none;\n",
              "    border-radius: 50%;\n",
              "    cursor: pointer;\n",
              "    display: none;\n",
              "    fill: var(--fill-color);\n",
              "    height: 32px;\n",
              "    padding: 0;\n",
              "    width: 32px;\n",
              "  }\n",
              "\n",
              "  .colab-df-quickchart:hover {\n",
              "    background-color: var(--hover-bg-color);\n",
              "    box-shadow: 0 1px 2px rgba(60, 64, 67, 0.3), 0 1px 3px 1px rgba(60, 64, 67, 0.15);\n",
              "    fill: var(--button-hover-fill-color);\n",
              "  }\n",
              "\n",
              "  .colab-df-quickchart-complete:disabled,\n",
              "  .colab-df-quickchart-complete:disabled:hover {\n",
              "    background-color: var(--disabled-bg-color);\n",
              "    fill: var(--disabled-fill-color);\n",
              "    box-shadow: none;\n",
              "  }\n",
              "\n",
              "  .colab-df-spinner {\n",
              "    border: 2px solid var(--fill-color);\n",
              "    border-color: transparent;\n",
              "    border-bottom-color: var(--fill-color);\n",
              "    animation:\n",
              "      spin 1s steps(1) infinite;\n",
              "  }\n",
              "\n",
              "  @keyframes spin {\n",
              "    0% {\n",
              "      border-color: transparent;\n",
              "      border-bottom-color: var(--fill-color);\n",
              "      border-left-color: var(--fill-color);\n",
              "    }\n",
              "    20% {\n",
              "      border-color: transparent;\n",
              "      border-left-color: var(--fill-color);\n",
              "      border-top-color: var(--fill-color);\n",
              "    }\n",
              "    30% {\n",
              "      border-color: transparent;\n",
              "      border-left-color: var(--fill-color);\n",
              "      border-top-color: var(--fill-color);\n",
              "      border-right-color: var(--fill-color);\n",
              "    }\n",
              "    40% {\n",
              "      border-color: transparent;\n",
              "      border-right-color: var(--fill-color);\n",
              "      border-top-color: var(--fill-color);\n",
              "    }\n",
              "    60% {\n",
              "      border-color: transparent;\n",
              "      border-right-color: var(--fill-color);\n",
              "    }\n",
              "    80% {\n",
              "      border-color: transparent;\n",
              "      border-right-color: var(--fill-color);\n",
              "      border-bottom-color: var(--fill-color);\n",
              "    }\n",
              "    90% {\n",
              "      border-color: transparent;\n",
              "      border-bottom-color: var(--fill-color);\n",
              "    }\n",
              "  }\n",
              "</style>\n",
              "\n",
              "  <script>\n",
              "    async function quickchart(key) {\n",
              "      const quickchartButtonEl =\n",
              "        document.querySelector('#' + key + ' button');\n",
              "      quickchartButtonEl.disabled = true;  // To prevent multiple clicks.\n",
              "      quickchartButtonEl.classList.add('colab-df-spinner');\n",
              "      try {\n",
              "        const charts = await google.colab.kernel.invokeFunction(\n",
              "            'suggestCharts', [key], {});\n",
              "      } catch (error) {\n",
              "        console.error('Error during call to suggestCharts:', error);\n",
              "      }\n",
              "      quickchartButtonEl.classList.remove('colab-df-spinner');\n",
              "      quickchartButtonEl.classList.add('colab-df-quickchart-complete');\n",
              "    }\n",
              "    (() => {\n",
              "      let quickchartButtonEl =\n",
              "        document.querySelector('#df-f5fe1c93-c2aa-4eae-b81d-af5d9d655ebb button');\n",
              "      quickchartButtonEl.style.display =\n",
              "        google.colab.kernel.accessAllowed ? 'block' : 'none';\n",
              "    })();\n",
              "  </script>\n",
              "</div>\n",
              "\n",
              "    </div>\n",
              "  </div>\n"
            ],
            "application/vnd.google.colaboratory.intrinsic+json": {
              "type": "dataframe",
              "variable_name": "df",
              "summary": "{\n  \"name\": \"df\",\n  \"rows\": 1000,\n  \"fields\": [\n    {\n      \"column\": \"text\",\n      \"properties\": {\n        \"dtype\": \"string\",\n        \"num_unique_values\": 1000,\n        \"samples\": [\n          \"https://example.com/resource/\\u0631\\u0641\\u0639\\u062a\\u064d \\u0645\\u0650\\u0628\\u064d\\u0627\\u062f\\u0631\\u064b\\u0629\\u0651 \\u0627\\u0644\\u064e\\u062d\\u064e\\u0643\\u064f\\u0648\\u0652\\u0645\\u0650\\u0629 \\u0627\\u0651\\u0644\\u0652\\u0630\\u0643\\u064a\\u064b\\u0629\\u0650\\u060c\\u064e \\u064b\\u0627\\u064c\\u0644\\u062a\\u0652\\u064a \\u0623\\u0637\\u064e\\u0644\\u064d\\u0642\\u0647\\u0627\\u064b \\u064e\\u0635\\u0627\\u062d\\u0628\\u064e \\u0627\\u0644\\u064c\\u0633\\u0652\\u0645\\u064d\\u0648\\u064b \\u0627\\u064b\\u0644\\u0634\\u0650\\u064a\\u0651\\u062e\\u064f \\u064d\\u0645\\u062d\\u064f\\u0645\\u0651\\u062f \\u0628\\u0646 \\u0631\\u0627\\u064e\\u0634\\u062f\\u064e \\u064e\\u0622\\u0644\\u0651 \\u0650\\u0645\\u0652\\u0643\\u062a\\u0648\\u064e\\u0645\\u064b \\u0646\\u0627\\u0626\\u0628\\u0651 \\u0631\\u064d\\u0626\\u0652\\u064a\\u064c\\u0633\\u0651 \\u0627\\u0644\\u062f\\u0648\\u0644\\u0629 \\u064f\\u0631\\u064d\\u0626\\u064a\\u0633 \\u0645\\u062c\\u064f\\u0644\\u0633\\u064c \\u064c\\u0627\\u0644\\u064e\\u0648\\u0632\\u064e\\u0631\\u064b\\u0627\\u0621 \\u064e\\u062d\\u064e\\u0627\\u0651\\u0643\\u0645\\u064e \\u062f\\u0628\\u064a\\u060c\\u0650 \\u0631\\u0639\\u064d\\u0627\\u0650\\u0647\\u0651 \\u064e\\u0627\\u0650\\u0644\\u0652\\u0644\\u0652\\u0647\\u064f\\u060c\\u064f \\u064b\\u0627\\u0650\\u0644\\u0637\\u0644\\u0652\\u0628 \\u0645\\u064d\\u0646\\u0650 \\u064d\\u0642\\u064b\\u0628\\u0652\\u0644 \\u0651\\u0627\\u0644\\u062c\\u0647\\u0627\\u064c\\u062a\\u064b \\u064c\\u0648\\u064b\\u0627\\u0644\\u062f\\u064b\\u0648\\u064f\\u0627\\u064c\\u0626\\u0631 \\u0627\\u0652\\u0644\\u0650\\u062d\\u0643\\u064b\\u0648\\u0645\\u0652\\u064a\\u0651\\u0629\\u064c \\u0639\\u0652\\u0644\\u064b\\u0649\\u064f \\u0651\\u0627\\u0644\\u0652\\u062a\\u0652\\u0637\\u0628\\u064a\\u0642\\u0651\\u0627\\u064c\\u062a \\u0652\\u0627\\u0644\\u0645\\u0633\\u062a\\u0651\\u062e\\u064c\\u062f\\u0645\\u0629 \\u064f\\u0639\\u0652\\u0644\\u0649\\u064d \\u0627\\u0644\\u064f\\u0623\\u062c\\u0651\\u0647\\u0652\\u0632\\u064f\\u0629 \\u064d\\u0627\\u0644\\u0644\\u0648\\u062d\\u064a\\u064f\\u0629 \\u0648\\u064e\\u0627\\u0644\\u0647\\u0648\\u064d\\u0627\\u062a\\u0641 \\u064e\\u0627\\u0651\\u0644\\u064f\\u0630\\u0643\\u0651\\u064a\\u0629 .\\u064f\\u0648\\u0623\\u064d\\u0641\\u064c\\u0627\\u064e\\u062f\\u0650 \\u0645\\u064d\\u0633\\u0650\\u0624\\u064c\\u0648\\u0644\\u064d\\u0648\\u0652 \\u0634\\u0651\\u0631\\u0643\\u0627\\u062a\\u064f \\u064d\\u0639\\u0627\\u0645\\u0629 \\u0641\\u064f\\u064a \\u064e\\u062a\\u0637\\u064b\\u0648\\u0650\\u064a\\u0631\\u064b \\u062a\\u064e\\u0637\\u0628\\u064a\\u064f\\u0642\\u0627\\u064b\\u062a \\u0627\\u0651\\u0644\\u0647\\u064f\\u0648\\u064b\\u0627\\u064d\\u062a\\u0650\\u0641 \\u0627\\u0644\\u064b\\u0630\\u0643\\u064f\\u064a\\u0629\\u064f \\u0628\\u0623\\u064f\\u0646 \\u064d\\u0627\\u0644\\u0645\\u0628\\u0627\\u0650\\u062f\\u0631\\u0629 \\u0633\\u064d\\u0627\\u0647\\u0645\\u0650\\u062a\\u064d \\u0652\\u0641\\u064a \\u0632\\u064a\\u0627\\u0652\\u062f\\u0629 \\u0627\\u0644\\u064d\\u0637\\u064c\\u0644\\u0628\\u0650 \\u064c\\u0639\\u064f\\u0644\\u0650\\u0649\\u0652 \\u064c\\u0623\\u0639\\u064b\\u0645\\u064f\\u0627\\u0650\\u0644\\u0650\\u0647\\u0645 \\u064f\\u0645\\u0646\\u0652 \\u0642\\u064b\\u0628\\u0644 \\u0627\\u064d\\u0644\\u062f\\u0650\\u0648\\u0627\\u0626\\u0631 \\u0648\\u064f\\u0627\\u064b\\u0644\\u064d\\u062c\\u0647\\u0627\\u062a \\u064f\\u0627\\u0652\\u0644\\u062d\\u0652\\u0643\\u0648\\u064b\\u0645\\u064f\\u064a\\u0652\\u0629 \\u064c\\u0628\\u0652\\u0646\\u0633\\u0628\\u0629 \\u06517\\u064b5\\u0650%\\u0651\\u060c \\u0645\\u0634\\u064a\\u0631\\u064a\\u064e\\u0646 \\u0625\\u0644\\u0649 \\u064d\\u0623\\u0646\\u064d \\u0633\\u064b\\u0648\\u064c\\u0642 \\u062a\\u0637\\u064e\\u0628\\u064a\\u064c\\u0642\\u0627\\u0651\\u062a \\u064d\\u0627\\u0644\\u064b\\u0647\\u0652\\u0648\\u0627\\u0652\\u062a\\u0641 \\u0627\\u0644\\u0630\\u0643\\u064f\\u064a\\u0629\\u064c \\u0651\\u0641\\u064a\\u064e \\u0627\\u0652\\u0644\\u064e\\u0625\\u0645\\u064c\\u0627\\u0631\\u0627\\u064e\\u062a \\u064a\\u064b\\u0639\\u062f\\u064c \\u0627\\u0644\\u064c\\u0623\\u0643\\u0651\\u0628\\u064f\\u0631 \\u064e\\u0641\\u064a \\u0651\\u0645\\u0646\\u0650\\u0637\\u0651\\u0642\\u064e\\u0629\\u064e \\u0627\\u0651\\u0644\\u062e\\u0644\\u064e\\u064a\\u062c \\u0650\\u0648\\u064e\\u0627\\u0644\\u064d\\u0645\\u0651\\u0646\\u064e\\u0637\\u0642\\u064e\\u0629 .\\u0650\\u0648\\u0652\\u0642\\u0627\\u0644\\u064b \\u0641\\u064c\\u0647\\u064d\\u064a\\u064d\\u0645 \\u0627\\u064f\\u0644\\u0632\\u0651\\u0628\\u064a\\u064d\\u062f\\u064c\\u064a\\u0652\\u060c \\u0627\\u0644\\u0645\\u064e\\u062f\\u064a\\u0650\\u0631 \\u0652\\u0627\\u0644\\u062a\\u0646\\u0641\\u064a\\u0652\\u0630\\u064a \\u064d\\u0641\\u064a \\u0650\\u0634\\u0651\\u0631\\u064b\\u0643\\u0629 \\u064e\\u0625\\u0641\\u064a\\u0651\\u0646\\u064c\\u062a\\u0648\\u060c \\u0627\\u0644\\u0650\\u0625\\u064f\\u0645\\u0627\\u064d\\u0631\\u0627\\u062a\\u064c\\u064a\\u064b\\u0629 \\u0627\\u0652\\u0644\\u0645\\u0651\\u062a\\u0651\\u062e\\u0635\\u0635\\u0629\\u0651 \\u0650\\u0641\\u064e\\u064a \\u0627\\u0644\\u062d\\u0644\\u0651\\u0648\\u064f\\u0644 \\u064f\\u0627\\u0650\\u0644\\u064d\\u062a\\u064c\\u0642\\u0646\\u064f\\u064a\\u064e\\u0629 \\u064e\\u0648\\u064d\\u062a\\u0637\\u0628\\u064c\\u064a\\u0642\\u064d\\u0627\\u062a\\u064f \\u0651\\u0627\\u0644\\u0647\\u0648\\u0627\\u062a\\u064c\\u0641 \\u064b\\u0627\\u0644\\u0630\\u064d\\u0643\\u064e\\u064a\\u0629 \\u0625\\u0646\\u0652 \\u0639\\u064c\\u062f\\u064d\\u062f \\u0627\\u064e\\u0644\\u062a\\u0652\\u0637\\u0628\\u0652\\u064a\\u064b\\u0642\\u0650\\u0627\\u064b\\u062a \\u064e\\u0627\\u064f\\u0644\\u0651\\u062a\\u064f\\u064a\\u0650 \\u064e\\u062a\\u062a\\u0651\\u0648\\u0651\\u0642\\u0639 \\u0652\\u0627\\u0644\\u0634\\u064d\\u0631\\u0652\\u0643\\u0629\\u0651 \\u0651\\u0625\\u0646\\u062c\\u0652\\u0627\\u0650\\u0632\\u064b\\u0647\\u064e\\u0627 \\u0644\\u0644\\u064b\\u0642\\u0637\\u0651\\u0627\\u064e\\u0639 \\u0627\\u064c\\u0644\\u064d\\u062d\\u0650\\u0643\\u0648\\u0645\\u064f\\u064a\\u064f \\u064d\\u0628\\u064b\\u0646\\u064b\\u0647\\u0650\\u0627\\u064b\\u064a\\u064f\\u0629 \\u064e\\u0627\\u0652\\u0644\\u064c\\u0639\\u064b\\u0627\\u0645\\u0650 \\u0651\\u0627\\u0644\\u064b\\u062c\\u064c\\u0627\\u0631\\u064e\\u064a \\u064d11 \\u062a\\u0652\\u0637\\u0652\\u0628\\u064a\\u0642\\u064f\\u0627\\u064b\\u0652\\u060c\\u064d \\u0645\\u0650\\u0634\\u064a\\u064f\\u0631\\u0627\\u0650\\u064b \\u064c\\u0623\\u0646\\u064e \\u0627\\u0651\\u0644\\u0634\\u0631\\u064d\\u0643\\u064c\\u0629\\u0651 \\u064f\\u062a\\u0639\\u0645\\u0644 \\u0651\\u062d\\u0650\\u0627\\u0644\\u064a\\u0650\\u0627\\u064c\\u064b\\u064c \\u0651\\u0639\\u064e\\u0644\\u0651\\u0649 \\u064f\\u062a\\u064c\\u0637\\u064d\\u0648\\u0651\\u064a\\u0631 \\u064d3 \\u0650\\u062a\\u0637\\u0652\\u0628\\u0650\\u064a\\u0642\\u0627\\u0652\\u062a \\u064e\\u0644\\u0651\\u062f\\u064b\\u0648\\u0627\\u064d\\u0626\\u064f\\u0631\\u064e \\u062d\\u0643\\u0648\\u0645\\u064a\\u0650\\u0629 \\u0641\\u0650\\u064a\\u064e \\u0623\\u0651\\u0628\\u064b\\u0648\\u0638\\u064d\\u0628\\u064a\\u0650 \\u064b\\u0648\\u064c\\u062f\\u0652\\u0628\\u064e\\u064a\\u064c \\u064f\\u0645\\u0650\\u0646 \\u064d\\u0628\\u064c\\u064a\\u064d\\u0646\\u064c\\u0647\\u0627 \\u0645\\u0650\\u0624\\u064c\\u0633\\u0633\\u064b\\u0629 \\u0645\\u064e\\u062d\\u064c\\u0645\\u062f\\u064b \\u0650\\u0628\\u0651\\u0646 \\u0650\\u0631\\u0650\\u0627\\u0650\\u0634\\u064f\\u062f \\u0644\\u062f\\u0639\\u0652\\u0645\\u064c \\u064b\\u0645\\u0634\\u064d\\u0627\\u0650\\u0631\\u064c\\u064a\\u0650\\u0639 \\u0651\\u0627\\u064c\\u0644\\u064e\\u0634\\u0628\\u0651\\u0627\\u064d\\u0628 .\\u0648\\u0623\\u0648\\u0636\\u062d \\u064e\\u0627\\u0644\\u0632\\u064c\\u0628\\u064b\\u064a\\u062f\\u064b\\u064a \\u064f\\u0623\\u0646\\u0652 \\u064f\\u0627\\u0644\\u0650\\u0633\\u0651\\u0648\\u0642 \\u064a\\u0634\\u0647\\u064f\\u062f \\u064b\\u062d\\u0631\\u0643\\u0629\\u064e \\u0646\\u0634\\u0637\\u0652\\u0629\\u064f \\u064f\\u0641\\u064a \\u062a\\u0637\\u0648\\u064a\\u064c\\u0631\\u0651 \\u0627\\u064b\\u0644\\u0650\\u062a\\u064e\\u0637\\u064f\\u0628\\u064f\\u064a\\u0642\\u0650\\u0627\\u0651\\u062a \\u0627\\u0644\\u064c\\u062e\\u064d\\u0627\\u0635\\u0629 \\u0628\\u0627\\u0652\\u0644\\u0642\\u064d\\u0637\\u0627\\u064d\\u0639\\u0652 \\u0627\\u064c\\u0644\\u062d\\u064f\\u0643\\u064d\\u0648\\u0645\\u064d\\u064a\\u0650 \\u0651\\u0628\\u0639\\u0650\\u062f \\u0652\\u0645\\u0628\\u064b\\u0627\\u064e\\u062f\\u0631\\u064f\\u0629 \\u064e\\u0627\\u0652\\u0644\\u062d\\u0643\\u0648\\u0645\\u0629 \\u0627\\u064d\\u0644\\u0630\\u0643\\u064f\\u064a\\u0652\\u0629\\u064d \\u064d\\u0627\\u0651\\u0644\\u064f\\u062a\\u064c\\u064a \\u064c\\u0623\\u0650\\u0637\\u064d\\u0644\\u0652\\u0642\\u0647\\u0627\\u064b \\u064e\\u0635\\u064c\\u0627\\u064c\\u062d\\u064b\\u0628 \\u0652\\u0627\\u064e\\u0644\\u0650\\u0633\\u0645\\u0648\\u064b \\u0627\\u0644\\u0634\\u064a\\u064b\\u062e \\u0650\\u0645\\u062d\\u064c\\u0645\\u062f\\u064f \\u0652\\u0628\\u064d\\u0646 \\u064c\\u0631\\u0650\\u0627\\u064d\\u0634\\u062f \\u064b\\u0622\\u064e\\u0644\\u064e \\u0651\\u0645\\u064c\\u0643\\u064f\\u062a\\u0648\\u064b\\u0645\\u064d \\u0645\\u0624\\u0651\\u062e\\u0631\\u0627\\u064e\\u064b\\u0651 \\u0652\\u0648\\u0623\\u0646\\u064e \\u064f\\u0627\\u0644\\u062c\\u0647\\u0651\\u0627\\u062a\\u064c \\u0627\\u0644\\u062d\\u064e\\u0643\\u0648\\u0650\\u0645\\u064a\\u064f\\u0629\\u0652 \\u064b\\u062a\\u064d\\u0633\\u064e\\u0639\\u0652\\u0649 \\u0625\\u0644\\u064b\\u0649 \\u064f\\u0627\\u0644\\u062a\\u0637\\u0628\\u064a\\u0642\\u0627\\u062a \\u0630\\u0627\\u062a \\u064f\\u0627\\u064c\\u0644\\u0623\\u064e\\u0641\\u064d\\u0643\\u0627\\u064d\\u0631 \\u0627\\u064c\\u0644\\u0645\\u0628\\u064b\\u062a\\u0651\\u0643\\u0631\\u0629\\u0650 \\u064c.\\u064c\\u0648\\u0642\\u064f\\u0627\\u0644 \\u0639\\u064c\\u0644\\u064a\\u0650 \\u064c\\u0647\\u064f\\u0627\\u064c\\u0634\\u0645\\u0652 \\u060c \\u064b\\u0645\\u062f\\u0652\\u064a\\u064e\\u0631 \\u0652\\u0627\\u0644\\u0645\\u0651\\u0628\\u064a\\u0639\\u064d\\u0627\\u0652\\u062a\\u064c \\u0641\\u064a\\u0650 \\u064d\\u0634\\u0631\\u0643\\u0629\\u064f \\u064f\\u0623\\u064c\\u062f\\u0641\\u0627\\u0651\\u0646\\u064b\\u0633\\u0648\\u064e\\u0641\\u064d\\u062a:\\u0651 \\u0633\\u0627\\u0647\\u0645\\u0650\\u062a\\u064f \\u0645\\u064b\\u0628\\u064e\\u0627\\u064b\\u062f\\u0631\\u0629 \\u064f\\u0627\\u0644\\u062d\\u064e\\u0643\\u064f\\u0648\\u0645\\u0629 \\u0627\\u064b\\u0644\\u0630\\u064e\\u0643\\u064a\\u064b\\u0629\\u0651 \\u0641\\u064a \\u064b\\u0632\\u064a\\u064c\\u0627\\u064e\\u062f\\u0629 \\u0627\\u0644\\u0651\\u0637\\u0651\\u0644\\u0628\\u064e \\u064b\\u0645\\u0646\\u064d \\u064c\\u0642\\u064f\\u0628\\u0644\\u064c \\u0650\\u0627\\u0644\\u064b\\u062c\\u0651\\u0647\\u064f\\u0627\\u062a \\u0627\\u064e\\u0644\\u064c\\u062d\\u064c\\u0643\\u064d\\u0648\\u064d\\u0645\\u064b\\u064a\\u0629\\u0652 \\u064e\\u0639\\u0651\\u0644\\u0650\\u0649\\u0652 \\u0652\\u062a\\u064d\\u0637\\u064e\\u0628\\u064a\\u0642\\u064f\\u0627\\u062a\\u0651 \\u0627\\u0644\\u0651\\u0647\\u064e\\u0648\\u064c\\u0627\\u062a\\u0650\\u0641 \\u0651\\u0627\\u0644\\u064b\\u0630\\u064f\\u0643\\u064a\\u0629\\u064b \\u0628\\u0646\\u064e\\u0633\\u0628\\u0629 \\u0644\\u0627 \\u062a\\u0642\\u0650\\u0644 \\u0639\\u0652\\u0646\\u064f \\u065075%\\u0650 \\u064d\\u060c\\u0641\\u064a\\u0652 \\u0645\\u0627\\u064b \\u062a\\u0633\\u062a\\u0651\\u062d\\u064d\\u0648\\u0630 \\u064e\\u0627\\u064b\\u0644\\u062a\\u0637\\u0628\\u064e\\u064a\\u0651\\u0642\\u0650\\u0627\\u064f\\u062a\\u064d \\u064f\\u0627\\u064b\\u0644\\u062a\\u0650\\u064a\\u064b \\u0651\\u064a\\u064c\\u062a\\u0650\\u0645 \\u0650\\u062a\\u0650\\u0637\\u0648\\u064e\\u064a\\u064d\\u0631\\u0651\\u0647\\u064b\\u0627 \\u064f\\u0644\\u0644\\u0642\\u0637\\u0627\\u0639\\u0650 \\u0627\\u0650\\u0644\\u062d\\u064d\\u0643\\u0648\\u064d\\u0645\\u064a \\u0639\\u0644\\u0649\\u064d 80 \\u064c%\\u0652 \\u0645\\u0646 \\u0625\\u062c\\u0645\\u064c\\u0627\\u0650\\u0644\\u064a\\u064b \\u0633\\u0648\\u064f\\u0642\\u0650 \\u0627\\u0651\\u0644\\u064d\\u062a\\u0637\\u0628\\u064a\\u0652\\u0642\\u064d\\u0627\\u064e\\u062a \\u0651\\u0627\\u0644\\u0625\\u064f\\u0645\\u0627\\u064f\\u0631\\u0650\\u0627\\u062a\\u0650\\u064a .\\u0648\\u0623\\u064f\\u0636\\u0652\\u0627\\u064f\\u0641 \\u0647\\u0650\\u0627\\u0652\\u0634\\u0645\\u064b\\u060c \\u0644\\u062f\\u064a\\u064f\\u0646\\u0650\\u0627 15 \\u064b\\u0637\\u0644\\u0628\\u064d\\u0627\\u064b \\u064b\\u0645\\u0646 \\u0650\\u062c\\u0647\\u0627\\u064e\\u062a \\u064b\\u062d\\u064c\\u0643\\u064f\\u0648\\u0652\\u0645\\u0650\\u064a\\u0629 \\u0644\\u0652\\u062a\\u0650\\u0637\\u0648\\u064d\\u064a\\u0652\\u0631 \\u0650\\u062a\\u0637\\u0651\\u0628\\u064d\\u064a\\u064d\\u0642\\u0650\\u0627\\u064f\\u062a \\u062a\\u064c\\u062a\\u0639\\u0644\\u0642\\u0651 \\u064c\\u0628\\u062a\\u0642\\u062f\\u064a\\u0645\\u064b \\u062e\\u064b\\u062f\\u0645\\u0627\\u0651\\u062a\\u0647\\u064c\\u0627\\u0651 \\u0639\\u064b\\u0644\\u0651\\u0649\\u064d \\u064c\\u0627\\u064b\\u0644\\u0647\\u064e\\u0648\\u0650\\u0627\\u0650\\u062a\\u0641\\u0650 \\u0651\\u0627\\u0651\\u0644\\u064b\\u0630\\u0643\\u064d\\u064a\\u0629\\u064d \\u062d\\u0651\\u0627\\u064b\\u0644\\u0650\\u064a\\u0627\\u0652\\u064b \\u0648\\u0651\\u0623\\u0646 \\u0646\\u0652\\u0638\\u0627\\u064f\\u0645\\u064c i\\u064fos \\u064f\\u0627\\u064b\\u0644\\u0651\\u0645\\u0651\\u0633\\u062a\\u062e\\u064d\\u062f\\u0645 \\u0652\\u0641\\u0651\\u064a \\u0647\\u0648\\u0627\\u062a\\u0651\\u0641\\u064c \\u0650\\u0622\\u064a\\u064f \\u064f\\u0641\\u0648\\u064f\\u0646 \\u064a\\u0633\\u0650\\u062a\\u062d\\u0648\\u064d\\u0630\\u064f \\u0639\\u0644\\u064c\\u0649\\u0650 \\u0646\\u064d\\u0633\\u0628\\u0629 7\\u06515\\u064c % \\u064d\\u0645\\u0652\\u0646 \\u0633\\u0651\\u0648\\u064c\\u0642 \\u064f\\u0627\\u064c\\u0644\\u062a\\u0637\\u064b\\u0628\\u064e\\u064a\\u0642\\u0627\\u064b\\u062a \\u064d\\u0641\\u0651\\u064a \\u064b\\u0645\\u0627\\u0651 \\u062a\\u064f\\u0623\\u064e\\u062a\\u064a \\u0651\\u062a\\u0637\\u064f\\u0628\\u064c\\u064a\\u0642\\u0650\\u0627\\u062a \\u0652\\u0623\\u064f\\u0646\\u062f\\u064b\\u0631\\u064d\\u0648\\u064a\\u062f \\u062a\\u064c\\u0627\\u0644\\u064a\\u0627\\u064e\\u064c \\u0652\\u0648\\u0650\\u0628\\u0639\\u062f\\u0647\\u064f\\u0627\\u064c \\u064d\\u062a\\u0637\\u0628\\u0652\\u064a\\u064c\\u0642\\u0627\\u0652\\u062a\\u064d \\u0628\\u0644\\u064e\\u0627\\u064d\\u0643\\u064b \\u064f\\u0628\\u064a\\u0631\\u064a\\u064f \\u064d.\\u0648\\u0642\\u0627\\u064b\\u0644\\u0651 \\u0641\\u064b\\u0628\\u0646\\u0651\\u0648\\u064b\\u062f\\u064d \\u064c\\u0646\\u0627\\u064e\\u064a\\u0631 \\u064c\\u0627\\u064e\\u0644\\u064f\\u0645\\u062f\\u064a\\u0650\\u0631 \\u064b\\u0627\\u064d\\u0644\\u0639\\u0651\\u0627\\u0650\\u0645 \\u0644\\u0623\\u064f\\u0639\\u0645\\u0627\\u064c\\u0644 \\u0627\\u064e\\u0644\\u062a\\u064c\\u0644\\u064a\\u064f\\u0641\\u064c\\u0632\\u064f\\u064a\\u0651\\u0648\\u0646\\u0627\\u0651\\u062a\\u064e \\u0641\\u064f\\u064a\\u064e \\u0634\\u0631\\u0643\\u0629 \\u064f\\u0633\\u0627\\u0652\\u0645\\u0650\\u0633\\u0648\\u064e\\u0646\\u063a \\u064c\\u0627\\u0644\\u064d\\u062e\\u0644\\u064a\\u064c\\u062c \\u0644\\u0651\\u0644\\u0625\\u0644\\u0643\\u062a\\u0651\\u0631\\u064e\\u0648\\u0646\\u064a\\u0627\\u062a\\u0652:\\u0650 \\u064c\\u0625\\u0646 \\u0627\\u064d\\u0644\\u064d\\u0634\\u064c\\u0631\\u0652\\u0643\\u0652\\u0629 \\u0652\\u062a\\u0637\\u0648\\u064c\\u0631\\u064f 3\\u064d \\u062a\\u0637\\u0652\\u0628\\u064a\\u0652\\u0642\\u0627\\u0651\\u062a\\u064d \\u0650\\u0644\\u0650\\u0644\\u0652\\u0639\\u0631\\u0636\\u064c \\u0652\\u0639\\u0644\\u0649 \\u0651\\u0634\\u0627\\u0634\\u0627\\u062a \\u0633\\u064c\\u0627\\u0652\\u0645\\u064b\\u0633\\u0648\\u064f\\u0646\\u063a\\u064e \\u064f\\u0627\\u064b\\u0644\\u0630\\u0652\\u0643\\u0650\\u064a\\u0629 \\u0644\\u0652\\u062c\\u0652\\u0647\\u0627\\u064b\\u062a \\u062d\\u0650\\u0643\\u064e\\u0648\\u0645\\u064a\\u0629\\u064e \\u0648\\u0623\\u0646\\u0647\\u0652 \\u064e\\u0633\\u064a\\u062a\\u064e\\u0645 \\u064b\\u0625\\u0646\\u064d\\u062c\\u0627\\u0632 \\u0647\\u0650\\u0630\\u064c\\u0647 \\u0627\\u064b\\u0644\\u062a\\u0637\\u0628\\u064a\\u0642\\u0627\\u064b\\u062a \\u062d\\u0650\\u062a\\u0649\\u0652 \\u0646\\u0647\\u0627\\u064f\\u064a\\u064f\\u0629\\u0650 \\u0627\\u0644\\u0652\\u0639\\u0650\\u0627\\u0650\\u0645 \\u0650\\u0627\\u064d\\u0644\\u062c\\u0627\\u064d\\u0631\\u064a\\u0650 \\u064e.\\u0650\\u0648\\u064b\\u0623\\u064e\\u0636\\u0627\\u0641\\u064f \\u0641\\u0652\\u064a\\u064b\\u0646\\u0648\\u0651\\u062f\\u0650 \\u0650\\u0623\\u0651\\u0646 \\u0639\\u062f\\u064d\\u062f\\u064d \\u064c\\u0645\\u0631\\u0650\\u0627\\u0651\\u062a\\u064f \\u0627\\u064e\\u0633\\u0651\\u062a\\u0651\\u062e\\u064f\\u062f\\u064f\\u0627\\u0645\\u0650 \\u062a\\u0637\\u0628\\u064a\\u0652\\u0642\\u0652\\u0627\\u062a \\u0633\\u0627\\u0645\\u0633\\u0648\\u0651\\u0646\\u064b\\u063a\\u0650 \\u0639\\u0644\\u0649\\u064d \\u0627\\u0652\\u0644\\u0634\\u0627\\u0650\\u0634\\u0627\\u064f\\u062a \\u0627\\u0644\\u064e\\u0630\\u064c\\u0643\\u064a\\u064b\\u0629\\u064c \\u0641\\u064a\\u064c \\u0651\\u0645\\u064f\\u0646\\u064d\\u0637\\u0642\\u0652\\u0629 \\u0627\\u064d\\u0644\\u062e\\u064e\\u0644\\u064a\\u062c \\u0652\\u0628\\u0650\\u0644\\u064b\\u063a\\u064c 2\\u060c7\\u0650 \\u064f\\u0645\\u0644\\u064f\\u064a\\u0648\\u0650\\u0646 \\u0652\\u0627\\u064d\\u0633\\u0650\\u062a\\u0651\\u062e\\u0651\\u062f\\u0627\\u0645\\u064d \\u062e\\u064f\\u0644\\u0627\\u0644 \\u0634\\u0647\\u0631\\u064f \\u064d\\u0645\\u064f\\u0627\\u064a\\u0652\\u0648\\u0652/\\u064d \\u064e\\u0623\\u064b\\u064a\\u0627\\u064e\\u0631\\u064e \\u0627\\u0644\\u0645\\u0652\\u0627\\u0636\\u064a\\u0650 \\u064d\\u0628\\u0646\\u0645\\u0648 3\\u0650%\\u064b \\u0651\\u0634\\u0647\\u0631\\u064a\\u0627\\u064b\\u064f \\u0652.\",\n          \"https://example.com/resource/\\u0623\\u0652\\u0643\\u0650\\u062f\\u062a\\u064f \\u064d\\u0648\\u0650\\u0632\\u0650\\u0627\\u064c\\u0631\\u064c\\u0629 \\u0652\\u0627\\u064b\\u0644\\u064c\\u0635\\u0650\\u062d\\u0629\\u064d \\u062e\\u0644\\u0652\\u0648\\u064d \\u062f\\u064e\\u0648\\u0644\\u0629 \\u0627\\u064b\\u0644\\u0652\\u0625\\u0645\\u0627\\u0631\\u064f\\u0627\\u062a\\u064c \\u0651\\u0645\\u0646 \\u0645\\u064d\\u0631\\u064b\\u0636 \\u064e\\\"\\u064e\\u0625\\u064a\\u0628\\u064d\\u0648\\u064f\\u0644\\u0627\\u0651\\\"\\u064e\\u060c \\u064f\\u0648\\u0623\\u0646 \\u064e\\u0627\\u0650\\u0644\\u062a\\u064c\\u062f\\u0627\\u064b\\u0628\\u064d\\u064a\\u0631 \\u0650\\u0627\\u0652\\u0644\\u0648\\u064f\\u0642\\u064f\\u0627\\u0652\\u0626\\u064c\\u064a\\u064b\\u0629\\u064f \\u0651\\u0648\\u064c\\u0627\\u0644\\u0627\\u0651\\u062d\\u062a\\u064e\\u0632\\u0627\\u064d\\u0632\\u064a\\u064f\\u0629\\u064d \\u0627\\u064c\\u0644\\u0645\\u0637\\u0628\\u064e\\u0642\\u0629\\u0650 \\u064e\\u0645\\u062a\\u0648\\u0627\\u0641\\u0642\\u064e\\u0629\\u0651 \\u064d\\u0645\\u0639 \\u0642\\u0631\\u0627\\u0650\\u0631\\u0627\\u064b\\u062a \\u0645\\u064e\\u0646\\u0638\\u064e\\u0645\\u064b\\u0629\\u064d \\u0627\\u064d\\u0644\\u064f\\u0635\\u064d\\u062d\\u0629 \\u064c\\u0627\\u0644\\u0639\\u0627\\u0644\\u064f\\u0645\\u064a\\u0629\\u064e \\u0644\\u0652\\u062a\\u0641\\u064f\\u0627\\u062f\\u0651\\u064a \\u0648\\u064b\\u0635\\u0648\\u064d\\u0644 \\u0627\\u0644\\u0645\\u064d\\u0631\\u064b\\u0636\\u064c \\u064e\\u0625\\u0644\\u064d\\u0649\\u0651 \\u064d\\u0627\\u064b\\u0644\\u062f\\u0650\\u0648\\u064e\\u0644\\u064c\\u0629\\u0650 \\u064d.\\u064d \\u064c\\u0648\\u064e\\u0642\\u0627\\u0644 \\u064d\\u0627\\u0650\\u0644\\u062f\\u0643\\u062a\\u0651\\u0648\\u0631\\u064c \\u0651\\u0623\\u0650\\u0645\\u064f\\u064a\\u0646 \\u0652\\u0627\\u064c\\u0644\\u064d\\u0623\\u0645\\u064e\\u064a\\u0631\\u064c\\u064a\\u064b \\u064b\\u0648\\u0651\\u0643\\u064a\\u064d\\u0644 \\u0648\\u0632\\u0651\\u0627\\u064b\\u0631\\u0629\\u0652 \\u0627\\u0644\\u0635\\u062d\\u0629\\u064d \\u0627\\u064f\\u0644\\u0645\\u064d\\u0633\\u0627\\u0639\\u062f\\u0652 \\u0644\\u064e\\u0633\\u0651\\u064a\\u0627\\u0633\\u0650\\u0629 \\u064b\\u0627\\u064b\\u0644\\u0635\\u064b\\u062d\\u0629 \\u0627\\u0644\\u0639\\u0651\\u0627\\u0645\\u0651\\u0629\\u064e \\u0648\\u0627\\u064f\\u0644\\u062a\\u0651\\u0631\\u0627\\u062e\\u064a\\u064d\\u0635 \\u064c\\u0627\\u064b\\u0644\\u0646\\u0627\\u064b\\u0637\\u0642\\u064c \\u0627\\u0651\\u0644\\u0631\\u064f\\u0633\\u0651\\u0645\\u0650\\u064a \\u0628\\u0650\\u0627\\u064e\\u0633\\u0652\\u0645\\u064f \\u0651\\u0627\\u0650\\u0644\\u0648\\u0650\\u0632\\u064c\\u0627\\u0650\\u0631\\u0629\\u0650\\u060c\\u0652 \\u0650\\u0625\\u0652\\u0646 \\u064c\\u062f\\u064b\\u0648\\u064d\\u0644\\u0629\\u064f \\u0627\\u0644\\u0652\\u0625\\u0645\\u064c\\u0627\\u0631\\u0627\\u062a \\u062e\\u0627\\u0644\\u064a\\u064f\\u0629\\u064d \\u062a\\u064d\\u0645\\u0652\\u0627\\u0645\\u064f\\u0627\\u064e\\u064b\\u064e \\u0645\\u0646\\u064d \\u064d\\u0645\\u0631\\u0636\\u0651 \\\"\\u064b\\u0625\\u064e\\u064a\\u0628\\u0650\\u0648\\u064c\\u0644\\u0627\\\"\\u0652 \\u064b\\u0627\\u064f\\u0644\\u0630\\u064a \\u0638\\u0647\\u0650\\u0631\\u064b \\u064c\\u0645\\u0624\\u064f\\u062e\\u0631\\u0651\\u0627\\u064b \\u064e\\u0641\\u064c\\u064a \\u0652\\u062f\\u0648\\u064b\\u0644\\u064e \\u0625\\u0652\\u0641\\u0631\\u064b\\u064a\\u0652\\u0642\\u064e\\u064a\\u0629\\u0652 \\u0652\\u0639\\u062f\\u0651\\u0629\\u060c \\u0650\\u0645\\u064e\\u0646\\u064d\\u0648\\u0647\\u0650\\u0627\\u064d\\u064b\\u064f \\u064b\\u0628\\u0623\\u0646\\u064b \\u0627\\u0651\\u0644\\u0648\\u0632\\u0651\\u0627\\u0652\\u0631\\u0652\\u0629\\u0651 \\u0648\\u0627\\u0644\\u0650\\u0647\\u064a\\u0626\\u0627\\u062a \\u0650\\u0627\\u0644\\u0651\\u0635\\u062d\\u064f\\u064a\\u0650\\u0629\\u0651 \\u0652\\u0641\\u0652\\u064a\\u0652 \\u0627\\u0651\\u0644\\u064d\\u062f\\u0648\\u064c\\u0644\\u0629 \\u0648\\u064e\\u0627\\u0644\\u062c\\u064f\\u0647\\u0627\\u064d\\u062a\\u0652 \\u0627\\u0644\\u0645\\u0650\\u0639\\u0652\\u0646\\u0650\\u064a\\u0650\\u0629\\u0652 \\u064f\\u0643\\u0650\\u0627\\u0641\\u0629\\u060c\\u0651 \\u0652\\u0648\\u0651\\u0645\\u0646\\u0647\\u064e\\u0627\\u0650 \\u0627\\u0650\\u0644\\u064d\\u0647\\u064a\\u0626\\u064e\\u0629 \\u0627\\u0651\\u0644\\u0648\\u064d\\u0637\\u0646\\u064a\\u064b\\u0629 \\u064b\\u0644\\u0625\\u064e\\u062f\\u0627\\u064e\\u0631\\u0650\\u0629 \\u0627\\u0652\\u0644\\u0652\\u0637\\u0648\\u0652\\u0627\\u064c\\u0631\\u0626 \\u0648\\u064c\\u0627\\u0644\\u0623\\u0632\\u0645\\u0652\\u0627\\u062a\\u064f \\u0651\\u0648\\u0627\\u0644\\u064e\\u0643\\u0648\\u0652\\u0627\\u0631\\u062b\\u0652\\u060c\\u064c \\u062a\\u062a\\u062e\\u064d\\u0630\\u0651 \\u0627\\u0644\\u064f\\u0627\\u062d\\u062a\\u064a\\u064f\\u0627\\u0651\\u0637\\u0627\\u062a \\u0650\\u0627\\u0644\\u0651\\u0644\\u0627\\u0632\\u0645\\u064b\\u0629 \\u0651\\u062d\\u064e\\u064a\\u064f\\u0627\\u064b\\u0644\\u064b \\u0647\\u0630\\u0627\\u064b \\u0627\\u064d\\u0644\\u0651\\u0623\\u0645\\u0631\\u0651 . \\u0648\\u064d\\u0623\\u064c\\u0634\\u0627\\u0650\\u0631 \\u0651\\u0625\\u064b\\u0644\\u0649 \\u0623\\u064e\\u0646\\u064c \\u0648\\u064d\\u0632\\u0627\\u064f\\u0631\\u0629 \\u0627\\u064e\\u0644\\u0635\\u0652\\u062d\\u0650\\u0629\\u064e \\u0639\\u0652\\u0644\\u0649\\u0652 \\u0627\\u062a\\u0635\\u0627\\u064d\\u0644 \\u064d\\u062f\\u0627\\u0650\\u0626\\u0645 \\u0628\\u064f\\u0645\\u0646\\u064c\\u0638\\u0645\\u064e\\u0629 \\u0627\\u0644\\u064d\\u0635\\u062d\\u0650\\u0629 \\u0650\\u0627\\u0644\\u064c\\u0639\\u0627\\u0644\\u0650\\u0645\\u064a\\u0629\\u064d \\u064c\\u0644\\u064b\\u0644\\u064f\\u0648\\u064f\\u0642\\u064e\\u0648\\u0641 \\u0639\\u064e\\u0644\\u064e\\u0649 \\u0627\\u064e\\u0644\\u064d\\u0645\\u0633\\u062a\\u062c\\u0651\\u062f\\u0651\\u0627\\u062a \\u0648\\u0627\\u064d\\u0644\\u0625\\u062c\\u0631\\u0627\\u0621\\u0652\\u0627\\u064b\\u062a\\u064d \\u0627\\u0644\\u062a\\u064a\\u064e \\u064f\\u062a\\u062a\\u062e\\u0630\\u0647\\u0627\\u064e \\u064f\\u0627\\u0644\\u0645\\u0646\\u0650\\u0638\\u064f\\u0645\\u0629 \\u0650\\u0627\\u0644\\u0639\\u0627\\u064b\\u0644\\u0650\\u0645\\u0651\\u064a\\u064e\\u0629 \\u0650\\u0648\\u0627\\u0651\\u0644\\u064b\\u062a\\u0652\\u0648\\u064c\\u0635\\u064d\\u064a\\u064f\\u0627\\u062a \\u0627\\u064e\\u0644\\u0635\\u0651\\u0627\\u064d\\u062f\\u064e\\u0631\\u0629\\u064f \\u064b\\u0645\\u0650\\u0646\\u064e\\u0647\\u0650\\u0627 \\u0652\\u0628\\u0652\\u0647\\u0650\\u0630\\u0627\\u064f \\u064e\\u0627\\u0644\\u0650\\u0634\\u0623\\u0646\\u064d \\u064d. \\u0651\\u0648\\u0623\\u064c\\u0636\\u064f\\u0627\\u0652\\u0641\\u064b \\u064f\\u0623\\u0646\\u0652 \\u064b\\u0627\\u0644\\u0625\\u0651\\u062c\\u0650\\u0631\\u0652\\u0627\\u0650\\u0621\\u0627\\u064b\\u062a\\u0652 \\u0627\\u0644\\u064f\\u0645\\u062a\\u064d\\u062e\\u0630\\u0652\\u0629\\u064c \\u0641\\u064c\\u064a \\u0645\\u0650\\u062b\\u0644\\u0650 \\u064d\\u0647\\u064f\\u0630\\u0647\\u064e \\u0650\\u0627\\u064f\\u0644\\u0650\\u062d\\u0627\\u0651\\u0644\\u064d\\u0627\\u062a\\u0652 \\u0651\\u062a\\u0643\\u064e\\u0648\\u064e\\u0646 \\u0650\\u0643\\u064e\\u0641\\u064b\\u064a\\u064e\\u0644\\u0629\\u0652 \\u0628\\u062d\\u0645\\u064c\\u0627\\u064a\\u0651\\u0629\\u0651 \\u0627\\u0644\\u0651\\u062f\\u0648\\u0644\\u0629\\u064d \\u0652\\u0645\\u0646 \\u062f\\u062e\\u0648\\u064b\\u0644\\u064d \\u0627\\u064f\\u0644\\u064d \\\"\\u064c\\u0625\\u064a\\u0628\\u0648\\u0652\\u0644\\u0651\\u0627\\\"\\u064e \\u064c\\u0645\\u0652\\u0633\\u064c\\u062a\\u0628\\u0639\\u062f\\u064c\\u0627\\u064b\\u064b \\u062f\\u062e\\u064e\\u0648\\u0644 \\u064d\\u0623\\u064a\\u0629 \\u062d\\u0627\\u0644\\u064c\\u0629\\u0650 \\u0645\\u0635\\u064b\\u0627\\u0628\\u064f\\u0629\\u064c \\u064e\\u0628\\u0647\\u0630\\u064e\\u0627 \\u0651\\u0627\\u0644\\u064d\\u0645\\u064c\\u0631\\u0636 \\u0651\\u0625\\u0652\\u0644\\u064e\\u0649 \\u0627\\u064c\\u0644\\u064d\\u062f\\u064c\\u0648\\u064c\\u0644\\u064b\\u0629\\u064d \\u0651.\\u0648\\u064e\\u0623\\u0650\\u0648\\u064d\\u0636\\u064c\\u062d\\u064c \\u0652\\u0623\\u064f\\u0646\\u0652 \\u0627\\u064e\\u0644\\u0648\\u0632\\u0650\\u0627\\u0651\\u0631\\u0650\\u0629\\u0650 \\u064b\\u0648\\u064b\\u0628\\u0627\\u064d\\u0644\\u064d\\u062a\\u0646\\u0633\\u0652\\u064a\\u064b\\u0642 \\u0645\\u064f\\u0639 \\u0627\\u0644\\u062c\\u064f\\u0647\\u0627\\u0652\\u062a\\u0651 \\u064d\\u0630\\u0652\\u0627\\u062a \\u0652\\u0627\\u064d\\u0644\\u0627\\u0652\\u062e\\u064b\\u062a\\u0651\\u0635\\u0627\\u0650\\u0635 \\u0641\\u064a \\u0627\\u0651\\u0644\\u062f\\u0648\\u0644\\u0629 \\u062a\\u0642\\u0652\\u0648\\u064c\\u0645 \\u0628\\u062a\\u0637\\u0628\\u0650\\u064a\\u0651\\u0642\\u064c \\u0627\\u0644\\u062a\\u0648\\u064e\\u0635\\u064a\\u0627\\u0650\\u062a\\u064c \\u064f\\u0627\\u0644\\u062a\\u064a \\u064e\\u0635\\u062f\\u0631\\u064b\\u062a \\u064d\\u0639\\u0646 \\u0627\\u0651\\u0644\\u0627\\u064e\\u062c\\u062a\\u0645\\u0627\\u064f\\u0639 \\u064e\\u0627\\u0644\\u0623\\u062e\\u064f\\u064a\\u064d\\u0631\\u064b \\u064c\\u0644\\u0645\\u064b\\u0646\\u0638\\u0652\\u0645\\u0629\\u064c \\u0627\\u0650\\u0644\\u064b\\u0635\\u062d\\u064e\\u0629 \\u0651\\u0627\\u0644\\u0639\\u0627\\u0651\\u0644\\u0652\\u0645\\u064e\\u064a\\u0629 \\u064f\\u0645\\u0639\\u0652 \\u064d\\u0627\\u0644\\u0651\\u062f\\u0648\\u0644\\u064e \\u064d\\u0627\\u0644\\u0650\\u062a\\u064a \\u062a\\u064d\\u0645\\u064e \\u064b\\u0627\\u0652\\u0643\\u062a\\u064d\\u0634\\u0627\\u064b\\u0641 \\u0651\\u0627\\u0644\\u064f\\u0645\\u064c\\u0631\\u0652\\u0636\\u064d \\u0628\\u0647\\u064d\\u0627 \\u064f\\u0648\\u0630\\u0644\\u0651\\u0643 \\u0651\\u0644\\u064e\\u0644\\u064c\\u062d\\u0650\\u064a\\u0644\\u0648\\u0652\\u0644\\u0629\\u064b \\u064c\\u062f\\u064e\\u0648\\u0646 \\u064b\\u062f\\u062e\\u0648\\u0644\\u0652 \\u0627\\u0644\\u0645\\u064c\\u0631\\u0636 \\u064c\\u0625\\u0644\\u064d\\u0649 \\u064f\\u0627\\u064e\\u0644\\u064e\\u0628\\u0644\\u064d\\u0627\\u064b\\u062f \\u0645\\u064b\\u0639 \\u064f\\u062a\\u064e\\u0648\\u064b\\u0641\\u0651\\u064a\\u0631\\u064c \\u0627\\u0644\\u064c\\u0625\\u0645\\u0651\\u0643\\u0651\\u0627\\u0646\\u0651\\u0627\\u064b\\u062a\\u064e \\u0648\\u064e\\u0627\\u0644\\u0645\\u0650\\u0633\\u062a\\u0644\\u064f\\u0632\\u064e\\u0645\\u0627\\u062a\\u064b \\u0627\\u064c\\u0644\\u0645\\u0637\\u064b\\u0644\\u0648\\u0628\\u0629\\u064e \\u0652\\u0643\\u0627\\u064b\\u0641\\u064c\\u0629 \\u0644\\u0644\\u062a\\u0639\\u0627\\u0645\\u0650\\u0644 \\u0645\\u064b\\u0639\\u0650 \\u064c\\u0623\\u064a\\u064b\\u0629 \\u062d\\u0627\\u0644\\u0651\\u0629\\u064c \\u064c\\u0645\\u0650\\u0633\\u064b\\u062a\\u0648\\u064b\\u0631\\u062f\\u0629 \\u0652\\u0645\\u064c\\u0646 \\u0627\\u064c\\u0644\\u062e\\u064f\\u0627\\u0652\\u0631\\u064f\\u062c\\u064f \\u064e.\\u0650 \\u0645\\u064f\\u0646 \\u064c\\u062c\\u0652\\u0647\\u0629\\u064e \\u0623\\u064c\\u062e\\u064e\\u0631\\u0649 \\u0623\\u064c\\u0634\\u064b\\u0627\\u062f \\u064c\\u0627\\u0644\\u064b\\u0645\\u0650\\u062f\\u064a\\u064c\\u0631 \\u064c\\u0627\\u0644\\u0639\\u0627\\u064b\\u0645 \\u0644\\u064b\\u0644\\u064e\\u0645\\u0643\\u064b\\u062a\\u064e\\u0628 \\u0650\\u0627\\u0651\\u0644\\u062a\\u0652\\u0646\\u0641\\u064e\\u064a\\u0630\\u064a \\u0644\\u0645\\u064b\\u062c\\u0644\\u0650\\u0633\\u064c \\u0651\\u0648\\u0632\\u064c\\u0631\\u0650\\u0627\\u0621 \\u064f\\u0627\\u0644\\u064c\\u0635\\u064d\\u062d\\u064d\\u0629\\u0651 \\u064c\\u0644\\u064d\\u062f\\u0651\\u0648\\u0644\\u064f \\u0645\\u062c\\u0644\\u0633 \\u0627\\u064e\\u0644\\u0650\\u062a\\u0639\\u0627\\u064f\\u0648\\u0646 \\u0650\\u0644\\u062f\\u0648\\u0644 \\u0650\\u0627\\u064d\\u0644\\u062e\\u0652\\u0644\\u064e\\u064a\\u062c \\u064d\\u0627\\u0644\\u064d\\u0639\\u0652\\u0631\\u0628\\u064c\\u064a\\u0652\\u0629 \\u0652\\u062a\\u064c\\u0648\\u0641\\u064b\\u064a\\u064d\\u0642 \\u064b\\u062e\\u0648\\u062c\\u0629\\u0651 \\u0628\\u0650\\u0625\\u064e\\u062c\\u064c\\u0631\\u0650\\u0627\\u064c\\u0621\\u0627\\u0652\\u062a\\u064e \\u0648\\u064f\\u0632\\u064b\\u0627\\u0651\\u0631\\u064e\\u0627\\u062a\\u0651 \\u064e\\u0627\\u0651\\u0644\\u064f\\u0635\\u0652\\u062d\\u0629 \\u0627\\u0644\\u064d\\u062e\\u0644\\u064a\\u064d\\u062c\\u064e\\u064a\\u064e\\u0629 \\u0627\\u0644\\u0627\\u062d\\u0651\\u062a\\u064e\\u0631\\u0627\\u0632\\u064d\\u064a\\u0629\\u064c \\u0644\\u064c\\u0644\\u064e\\u0648\\u0642\\u0627\\u064e\\u064a\\u064b\\u0629\\u0652 \\u0645\\u0646\\u064e \\u064b\\u0641\\u064a\\u0652\\u0631\\u0648\\u0651\\u0633\\u064d \\u0625\\u064a\\u0628\\u0648\\u0650\\u0644\\u0650\\u0627 .\\u064b \\u064e\\u0648\\u0642\\u064f\\u0627\\u0652\\u0644 \\u064b\\u0641\\u064f\\u064a\\u064d \\u0651\\u0628\\u064a\\u064b\\u0627\\u0646\\u064e \\u0652\\u0625\\u064c\\u0646 \\u064d\\u0627\\u0644\\u0625\\u0650\\u062c\\u064c\\u0631\\u0627\\u0621\\u0627\\u062a \\u0627\\u0644\\u062a\\u064a \\u062a\\u0645\\u064c\\u062a\\u064e \\u0623\\u064f\\u062e\\u064b\\u064a\\u064b\\u0631\\u0627\\u064b \\u0645\\u0646 \\u0642\\u0628\\u0644\\u064e \\u0648\\u0632\\u064e\\u0627\\u064d\\u0631\\u0650\\u0627\\u062a\\u0651 \\u0651\\u0627\\u0652\\u0644\\u0635\\u062d\\u0629 \\u064e\\u0627\\u064c\\u0644\\u064f\\u062e\\u0650\\u0644\\u064a\\u062c\\u064f\\u064a\\u0629 \\u064b\\u0644\\u0627\\u0651\\u0633\\u064a\\u0645\\u0627 \\u064e\\u0627\\u064d\\u0644\\u062e\\u064f\\u0637\\u0648\\u0651\\u0627\\u062a\\u064d \\u0627\\u0644\\u0648\\u0642\\u064f\\u0627\\u0626\\u064a\\u0629\\u064d \\u0648\\u0651\\u0627\\u0644\\u0650\\u062c\\u064f\\u0627\\u0651\\u0647\\u064b\\u0632\\u064a\\u0629 \\u064b\\u0627\\u064c\\u0644\\u062a\\u0651\\u064a\\u0650 \\u064c\\u062a\\u064c\\u0645\\u0652\\u062a \\u0650\\u0645\\u0646 \\u0642\\u064b\\u0628\\u064c\\u0644\\u064d \\u064d\\u0648\\u0632\\u064e\\u0627\\u0631\\u064b\\u0629 \\u0627\\u0644\\u064b\\u0635\\u062d\\u0629 \\u064e\\u0627\\u064c\\u0644\\u064d\\u0633\\u064f\\u0639\\u0648\\u064b\\u062f\\u064d\\u064a\\u0629\\u064b \\u064d\\u062d\\u0650\\u0638\\u0650\\u064a\\u064e\\u062a\\u064d \\u0628\\u064e\\u0625\\u0634\\u064c\\u0627\\u0652\\u062f\\u0650\\u0629\\u0650 \\u064c\\u0645\\u0651\\u0646\\u064e \\u064b\\u0645\\u064c\\u0646\\u064f\\u0638\\u0645\\u0629 \\u064f\\u0627\\u064d\\u0644\\u0635\\u0652\\u062d\\u064d\\u0629 \\u0627\\u0644\\u0650\\u0639\\u0627\\u0650\\u0644\\u0650\\u0645\\u064a\\u064f\\u0629\\u0650 \\u0648\\u0627\\u064c\\u0644\\u0645\\u064f\\u0624\\u064c\\u0633\\u0651\\u0633\\u0652\\u0627\\u064f\\u062a\\u0652 \\u064b\\u0627\\u0644\\u064f\\u0635\\u064c\\u062d\\u064a\\u0629\\u064f \\u064f\\u0627\\u0652\\u0644\\u064c\\u0639\\u0627\\u0651\\u0644\\u0645\\u0651\\u064a\\u0629\\u0652 \\u0627\\u0652\\u0644\\u0623\\u0650\\u0645\\u0651\\u0631\\u0651 \\u064b\\u0627\\u0651\\u0644\\u064d\\u0630\\u064d\\u064a \\u064e\\u0627\\u0633\\u064d\\u062a\\u0641\\u064c\\u0627\\u0650\\u062f\\u062a\\u064d \\u0645\\u0646\\u0647 \\u0650\\u062f\\u0648\\u0650\\u0644 \\u0645\\u062c\\u064d\\u0644\\u0633 \\u064d\\u0627\\u0652\\u0644\\u062a\\u0651\\u0639\\u0627\\u0648\\u0646 \\u0648\\u0627\\u0644\\u062f\\u0648\\u0644 \\u064f\\u0627\\u0644\\u0625\\u0642\\u0644\\u064e\\u064a\\u0652\\u0645\\u064a\\u064f\\u0629 .\\u064d\\u0648\\u0623\\u0636\\u064b\\u0627\\u0641\\u0650 \\u0623\\u0650\\u0646 \\u064c\\u0627\\u064e\\u0644\\u0652\\u0627\\u062c\\u064f\\u062a\\u0645\\u0627\\u0652\\u0639 \\u064f\\u0627\\u0644\\u062e\\u064e\\u0644\\u064a\\u064e\\u062c\\u064b\\u064a\\u064d \\u064f\\u0644\\u0652\\u0648\\u0632\\u064d\\u0627\\u064d\\u0631\\u0627\\u062a\\u064b \\u0627\\u064c\\u0644\\u0635\\u062d\\u0629\\u064b \\u064c\\u0627\\u064e\\u0644\\u062e\\u0644\\u0651\\u064a\\u062c\\u064a\\u064e\\u0629\\u0652 \\u0651\\u0627\\u064d\\u0644\\u0630\\u0651\\u064a \\u064c\\u062a\\u0633\\u062a\\u0636\\u064a\\u064f\\u0641\\u0650\\u0647\\u0651 \\u064c\\u0627\\u0650\\u0644\\u0639\\u0627\\u064f\\u0635\\u064d\\u0645\\u0629\\u064c \\u0627\\u0652\\u0644\\u064d\\u0631\\u064b\\u064a\\u064d\\u0627\\u0636 \\u0628\\u0639\\u0651\\u062f\\u064d \\u063a\\u0651\\u062f \\u0627\\u064b\\u0644\\u0650\\u0623\\u064b\\u0631\\u0650\\u0628\\u0639\\u0627\\u064d\\u0621\\u0651 \\u0633\\u064e\\u064a\\u0646\\u0650\\u0627\\u064c\\u0642\\u0634 \\u0627\\u0650\\u0644\\u062e\\u064b\\u0637\\u0648\\u064d\\u0637\\u0651 \\u064f\\u0627\\u0650\\u0644\\u064f\\u0639\\u064b\\u0631\\u064a\\u0636\\u0629 \\u0644\\u064f\\u0644\\u0652\\u0623\\u0637\\u0631\\u064b \\u0627\\u0644\\u064b\\u062e\\u0644\\u064b\\u064a\\u064f\\u062c\\u064a\\u0651\\u0629\\u064e \\u0641\\u0651\\u064a \\u064f(\\u0627\\u0644\\u0648\\u064c\\u0642\\u0627\\u064c\\u064a\\u0629 \\u0648\\u064c\\u0627\\u0644\\u064d\\u0639\\u0644\\u064e\\u0627\\u062c\\u064d \\u0648\\u0650\\u0627\\u0650\\u0644\\u062a\\u064f\\u062f\\u064c\\u0628\\u064a\\u0652\\u0631\\u064f) \\u064c\\u0639\\u064f\\u0646\\u062f \\u064f\\u0627\\u0650\\u0644\\u0627\\u064b\\u0634\\u062a\\u0628\\u0651\\u0627\\u0647\\u064f\\u060c\\u0652 \\u064f\\u0648\\u064d\\u0627\\u0643\\u064c\\u062a\\u0634\\u0651\\u0627\\u0651\\u0641 \\u0652\\u0623\\u0652\\u064a\\u064c \\u062d\\u064d\\u0627\\u0644\\u064b\\u0629\\u064c \\u064c\\u0644\\u0641\\u064e\\u064a\\u0631\\u0648\\u064e\\u0633\\u064e \\u0652\\u0625\\u064a\\u0651\\u0628\\u064b\\u0648\\u0644\\u0627\\u064d \\u0625\\u0652\\u0636\\u0627\\u064c\\u0641\\u064d\\u0629\\u0650 \\u064d\\u0625\\u0644\\u0649 \\u0652\\u0625\\u0639\\u064f\\u062f\\u064b\\u0627\\u062f \\u064b\\u0645\\u0648\\u0642\\u0641\\u0652 \\u064e\\u062e\\u0644\\u064a\\u064f\\u062c\\u064a \\u0645\\u0648\\u062d\\u062f \\u0652\\u064a\\u0651\\u062a\\u064c\\u0646\\u0651\\u0627\\u0648\\u0644 \\u0643\\u0627\\u0645\\u0644\\u064d \\u0627\\u0644\\u064e\\u062c\\u0648\\u0627\\u0652\\u0646\\u0628\\u064b \\u0627\\u0644\\u0652\\u0645\\u062a\\u064b\\u0639\\u064b\\u0644\\u0642\\u064e\\u0629 \\u0641\\u064a \\u0627\\u0650\\u0644\\u064b\\u0648\\u0642\\u0627\\u0651\\u064a\\u064e\\u0629\\u064d \\u0650\\u0627\\u064f\\u0644\\u064c\\u0627\\u064d\\u062d\\u0650\\u062a\\u0631\\u064f\\u0627\\u064c\\u0632\\u064f\\u064a\\u0629 \\u064c\\u0648\\u0652\\u062d\\u0638\\u0650\\u0631 \\u0627\\u0650\\u0644\\u064c\\u0633\\u0641\\u064b\\u0631\\u0650 \\u0650\\u0623\\u064c\\u0648\\u064d \\u0645\\u0646\\u064f\\u062d\\u064c \\u062a\\u064e\\u0623\\u064e\\u0634\\u064a\\u0631\\u064d\\u0627\\u062a \\u0627\\u064f\\u0644\\u064b\\u062f\\u062e\\u064b\\u0648\\u0644 \\u064e\\u0645\\u0652\\u0646 \\u064f\\u0627\\u064b\\u0644\\u064f\\u062f\\u064c\\u0648\\u0644 \\u064c\\u0627\\u064f\\u0644\\u0651\\u0645\\u064e\\u0648\\u064f\\u0628\\u0648\\u0621\\u0629 .\\u0652 (\\u0652\\u0648\\u0651\\u0627\\u0650\\u0645\\u064f\\u060c \\u0643\\u0648\\u064e\\u0646\\u0627)\\u064b\",\n          \"https://example.com/resource/\\u0627\\u0641\\u062a\\u0650\\u062a\\u062d \\u062f \\u064b.\\u064e \\u064d\\u0645\\u064d\\u062d\\u0645\\u062f \\u0639\\u0628\\u064f\\u062f\\u0652\\u0627\\u064d\\u0644\\u0644\\u0652\\u0647\\u0650 \\u0627\\u0644\\u064f\\u0645\\u0637\\u0648\\u0639\\u064e \\u0639\\u064c\\u0636\\u064d\\u0648\\u064b \\u0645\\u062c\\u0650\\u0644\\u0651\\u0633\\u064b \\u0651\\u0623\\u0645\\u064d\\u0646\\u0627\\u0652\\u0621\\u0651 \\u0650\\u0645\\u0624\\u0652\\u0633\\u0633\\u064b\\u0629 \\u0633\\u0652\\u0644\\u0651\\u0637\\u0627\\u064e\\u0646 \\u0628\\u064b\\u0646\\u0650 \\u0651\\u0639\\u0644\\u0650\\u064a\\u0651 \\u0651\\u0627\\u0644\\u064b\\u0639\\u064c\\u0648\\u064f\\u064a\\u0652\\u0633\\u064d \\u0627\\u0644\\u064c\\u062b\\u064b\\u0642\\u064d\\u0627\\u064d\\u0641\\u0650\\u064a\\u0629\\u0652\\u060c\\u064f \\u064e\\u0645\\u0633\\u064d\\u0627\\u064e\\u0621\\u064c \\u064d\\u0623\\u0645\\u064e\\u0633 \\u0627\\u0644\\u0623\\u064c\\u0648\\u0644\\u064e \\u0641\\u064d\\u064a \\u0645\\u064d\\u0642\\u0631 \\u0627\\u0644\\u0645\\u0624\\u0651\\u0633\\u0633\\u0650\\u0629\\u060c\\u0652 \\u0648\\u0628\\u064c\\u062d\\u0652\\u0636\\u0648\\u0650\\u0631\\u064b \\u062f \\u0651. \\u064f\\u0635\\u0650\\u0627\\u0650\\u0644\\u062d \\u064a\\u0627\\u0652\\u0633\\u064a\\u064e\\u0646\\u064c \\u064d\\u0639\\u064b\\u0644\\u064a\\u064b \\u0631\\u064d\\u0626\\u064a\\u0633\\u064e \\u0650\\u0627\\u0652\\u0644\\u0645\\u0643\\u062a\\u064f\\u0628\\u064c \\u0652\\u0627\\u0644\\u064f\\u062b\\u0642\\u0650\\u0627\\u064f\\u0641\\u0651\\u064a \\u0644\\u064c\\u0644\\u064d\\u0642\\u0646\\u0651\\u0635\\u0644\\u064a\\u0652\\u0629 \\u064d\\u0627\\u0644\\u064f\\u0639\\u0651\\u0627\\u0645\\u0629\\u0652 \\u0644\\u062f\\u0648\\u0652\\u0644\\u0651\\u0629\\u064d \\u0627\\u0644\\u0643\\u0648\\u064a\\u062a \\u0641\\u064a\\u0651 \\u062f\\u0651\\u0628\\u0650\\u064a\\u060c \\u0648\\u0645\\u064f\\u062d\\u0652\\u0645\\u0651\\u062f\\u064e \\u0627\\u064d\\u0644\\u064d\\u0639\\u0633\\u064d\\u0639\\u0648\\u0633\\u064f\\u064a \\u0651\\u0645\\u064e\\u062f\\u064f\\u064a\\u064e\\u0631 \\u0625\\u062f\\u0651\\u0627\\u0631\\u064c\\u0629 \\u0650\\u0627\\u064b\\u0644\\u0650\\u0641\\u064d\\u0646\\u0648\\u0646\\u0650 \\u0627\\u0644\\u0651\\u062a\\u064f\\u0634\\u0643\\u064e\\u064a\\u0651\\u0644\\u0651\\u064a\\u0629\\u0652 \\u064d\\u0641\\u064a \\u0627\\u0652\\u0644\\u0650\\u0645\\u062c\\u0644\\u0633\\u064f \\u0627\\u0644\\u0648\\u0637\\u0646\\u0650\\u064a \\u0644\\u064b\\u0644\\u062b\\u0642\\u064d\\u0627\\u064e\\u0641\\u064c\\u0629\\u0650 \\u064c\\u0648\\u0627\\u064c\\u0644\\u0651\\u0641\\u0652\\u0646\\u0648\\u0651\\u0646\\u064b \\u0641\\u064a \\u0627\\u0644\\u064c\\u0643\\u0651\\u0648\\u064a\\u0650\\u062a\\u060c \\u0645\\u0639\\u0631\\u0652\\u0636 \\u0631\\u064e\\u0624\\u0650\\u0649\\u064c \\u0651\\u062a\\u064d\\u0634\\u064f\\u0643\\u064b\\u064a\\u0644\\u064f\\u064a\\u0652\\u0629\\u064d \\u0643\\u064b\\u0648\\u064a\\u064c\\u062a\\u064c\\u064a\\u0629\\u064e \\u0627\\u0644\\u0630\\u064e\\u064a\\u0652 \\u064d\\u0636\\u0645\\u064d 6\\u064c0\\u0651 \\u0639\\u0645\\u064c\\u0644\\u064f\\u0627\\u064c\\u064b \\u062a\\u0634\\u0643\\u064f\\u064a\\u064f\\u0644\\u064a\\u064f\\u0627\\u064d\\u064b \\u0644\\u0652\\u0643\\u0651\\u0644 \\u0645\\u0646 \\u0651\\u0627\\u0650\\u0644\\u064d\\u0641\\u0646\\u0627\\u0650\\u0646\\u064a\\u0646\\u064d \\u0650\\u0627\\u0644\\u0652\\u0643\\u064e\\u0648\\u064a\\u062a\\u064a\\u064a\\u0646\\u0650 \\u0627\\u0644\\u0623\\u0631\\u0628\\u0639\\u0629\\u064f: \\u0641\\u0627\\u0650\\u0636\\u0644\\u064c \\u0633\\u0644\\u064c\\u064a\\u0645\\u064d\\u0627\\u0646\\u064e \\u064e\\u0627\\u0644\\u0650\\u0639\\u0628\\u064f\\u0627\\u0631 \\u0648\\u0645\\u064d\\u062d\\u0651\\u0645\\u062f\\u064c \\u064f\\u0634\\u0631\\u064a\\u064c\\u0641\\u0650 \\u064b\\u0623\\u064f\\u0634\\u064e\\u0643\\u064d\\u0646\\u0627\\u064e\\u0646\\u064e\\u064a\\u064d \\u064d\\u0648\\u062d\\u0645\\u064f\\u064a\\u062f\\u064b \\u0651\\u062e\\u064f\\u0632\\u0639\\u0644\\u064d \\u064f\\u0648\\u064f\\u0639\\u0650\\u0644\\u064f\\u064a \\u0646\\u064c\\u0639\\u0652\\u0645\\u064d\\u0627\\u0651\\u0646\\u064e .\\u062a\\u0648\\u064d\\u0632\\u0652\\u0639\\u062a\\u064f \\u0623\\u0639\\u064c\\u0645\\u0627\\u0644\\u0650 \\u0627\\u0644\\u0645\\u0639\\u0631\\u064c\\u0636\\u0650 \\u064c\\u0628\\u064a\\u0646 \\u064b\\u0645\\u0627 \\u0647\\u064d\\u0648 \\u0646\\u064d\\u062d\\u064f\\u062a\\u064d\\u064a\\u0650 \\u064d\\u0648\\u064d\\u0625\\u0643\\u0644\\u064a\\u064f\\u0631\\u0643\\u0652\\u064a\\u0650\\u060c\\u0651 \\u064e\\u0641\\u064d\\u0642\\u062f \\u062c\\u0627\\u0621\\u062a \\u064e\\u0623\\u0639\\u0651\\u0645\\u0627\\u0644\\u0651 \\u0633\\u0644\\u064a\\u064c\\u0645\\u064c\\u0627\\u0652\\u0646\\u0652 \\u064f\\u0627\\u0644\\u0650\\u0639\\u0628\\u0627\\u064f\\u0631\\u064f \\u0651\\u0639\\u0628\\u0627\\u0631\\u0629 \\u0639\\u0651\\u0646 \\u062a\\u0646\\u0648\\u0651\\u064a\\u0651\\u0639\\u0627\\u062a\\u064d \\u0652\\u0648\\u064e\\u062a\\u062c\\u0652\\u0627\\u0631\\u0650\\u0628 \\u064b\\u0646\\u062d\\u062a\\u0650\\u064a\\u0629 \\u064f\\u0645\\u064c\\u062e\\u064d\\u062a\\u064e\\u0644\\u0652\\u0641\\u0629\\u0650\\u060c\\u0652 \\u0643\\u0627\\u0646 \\u0642\\u062f \\u0627\\u0652\\u0634\\u064b\\u062a\\u063a\\u0644\\u0651 \\u064e\\u0639\\u0652\\u0644\\u064a\\u0651\\u0647\\u0627\\u064c \\u064f\\u062e\\u0644\\u0652\\u0627\\u0650\\u0644 \\u0627\\u0644 \\u06501\\u06500\\u0652\\u0633\\u0646\\u064c\\u0648\\u0627\\u062a \\u0650\\u0627\\u0644\\u0623\\u062e\\u064a\\u0631\\u0651\\u0629\\u060c \\u0628\\u0639\\u064c\\u062f\\u064f \\u062f\\u0652\\u0631\\u0627\\u0652\\u0633\\u064e\\u062a\\u064d\\u0647\\u064c \\u064d\\u0627\\u0644\\u0651\\u0623\\u0643\\u0627\\u0650\\u062f\\u064a\\u064e\\u0645\\u064c\\u064a\\u064e\\u0629\\u0651 \\u0641\\u0651\\u064a \\u0623\\u0652\\u0648\\u0631\\u064b\\u0648\\u0628\\u0627\\u064b\\u060c\\u0650 \\u0648\\u0631\\u064e\\u0643\\u064f\\u0632 \\u0646\\u0639\\u0650\\u0645\\u0627\\u0646\\u0652 \\u064d\\u0641\\u064a\\u064d \\u0645\\u0634\\u0627\\u0631\\u0643\\u064b\\u0627\\u062a\\u0647 \\u0650\\u0639\\u064f\\u0644\\u0649 \\u0651\\u0627\\u064e\\u0644\\u0652\\u0623\\u0652\\u0644\\u0639\\u0627\\u0628\\u064f \\u064e\\u0627\\u0644\\u0634\\u0650\\u0639\\u0628\\u064a\\u0629\\u0652 \\u064b\\u0627\\u0644\\u0650\\u0643\\u0648\\u064f\\u064a\\u064f\\u062a\\u064f\\u064a\\u0651\\u0629\\u060c\\u0652 \\u064c\\u0636\\u0645\\u0650\\u0646\\u064f \\u0631\\u0624\\u064d\\u064a\\u064f\\u062a\\u0647 \\u0641\\u0651\\u064a\\u0650 \\u0625\\u062b\\u064e\\u0631\\u0652\\u0627\\u064c\\u0621\\u0650 \\u0627\\u064d\\u0644\\u064f\\u062d\\u0636\\u0627\\u064d\\u0631\\u064c\\u0629 \\u064b\\u0627\\u0644\\u064d\\u0642\\u064f\\u062f\\u064b\\u064a\\u0645\\u064f\\u0629\\u060c\\u0650 \\u064e\\u0648\\u064b\\u0642\\u0651\\u062f \\u0628\\u0631\\u064c\\u0632 \\u0641\\u0651\\u064a\\u0647\\u0652\\u0627\\u0651 \\u0650\\u0639\\u0646\\u064d\\u0635\\u0631 \\u0652\\u0627\\u0644\\u0650\\u062d\\u064d\\u0631\\u0643\\u0629 \\u0652\\u0639\\u0650\\u0644\\u064c\\u0649 \\u064b\\u0646\\u064e\\u062d\\u064e\\u0648 \\u0652\\u0644\\u0627\\u0641\\u062a\\u064f\\u060c\\u064d \\u064d\\u0648\\u0651\\u0643\\u064b\\u0627\\u0646\\u064d \\u0630\\u0644\\u064f\\u0643\\u0650 \\u0651\\u0639\\u0628\\u064f\\u0631\\u064c \\u062d\\u0631\\u0643\\u0627\\u064e\\u062a\\u064c \\u0627\\u0644\\u064b\\u0631\\u0642\\u0635\\u060c \\u0648\\u0645\\u0651\\u0646\\u064d \\u064e\\u062e\\u0644\\u0627\\u0644 \\u064f\\u0645\\u0639\\u064f\\u0627\\u0644\\u062c\\u0629\\u064c \\u062a\\u064f\\u062c\\u0652\\u0631\\u0652\\u064a\\u062f\\u064d\\u064a\\u0652\\u0629\\u060c \\u0628\\u0650\\u064a\\u0646\\u062a \\u0650\\u0645\\u0651\\u0647\\u0651\\u0627\\u0631\\u0650\\u0627\\u064e\\u062a\\u0647 \\u064c\\u0641\\u064c\\u064a \\u064b\\u0627\\u0633\\u062a\\u064c\\u062e\\u064c\\u062f\\u064e\\u0627\\u064f\\u0645 \\u0627\\u064c\\u0644\\u0628\\u0631\\u0648\\u0651\\u0646\\u0632\\u0651 \\u0652.\\u0648\\u064b\\u062c\\u0652\\u0627\\u064c\\u0621\\u062a \\u0645\\u064b\\u0646\\u062d\\u0648\\u062a\\u0651\\u0627\\u062a\\u0652 \\u064f\\u062d\\u064e\\u0645\\u064f\\u064a\\u064c\\u062f \\u062e\\u0632\\u0639\\u0644\\u0650 \\u0627\\u0645\\u0652\\u062a\\u064c\\u062f\\u0627\\u062f\\u0627\\u064b \\u0644\\u064d\\u062a\\u064c\\u062c\\u0631\\u0650\\u0628\\u0652\\u062a\\u0647\\u064f \\u064e\\u0627\\u0644\\u064f\\u0639\\u0645\\u0652\\u064a\\u0642\\u064f\\u0629\\u064c \\u0641\\u064c\\u064a \\u064d\\u0645\\u062c\\u0652\\u0627\\u0651\\u0644 \\u0627\\u0651\\u0644\\u062a\\u0651\\u062c\\u0652\\u0631\\u064f\\u0628\\u064c\\u0629 \\u064d\\u0627\\u064e\\u0644\\u0632\\u0652\\u064a\\u064f\\u062a\\u0650\\u064a\\u064c\\u0629\\u064b\\u060c\\u064f \\u0648\\u0628\\u0639\\u064e\\u062f\\u0650 \\u0627\\u064b\\u0646\\u0652\\u0642\\u064b\\u0637\\u064b\\u0627\\u064e\\u0639 \\u0637\\u0648\\u0651\\u064a\\u0644 \\u0639\\u0646\\u0650\\u0647\\u0627\\u064f\\u060c\\u064c \\u064e\\u0643\\u064a\\u064d \\u0652\\u064a\\u062d\\u062f\\u064b\\u062b\\u064d \\u0650\\u062a\\u064b\\u0648\\u0650\\u0627\\u0632\\u064b\\u0646\\u064d\\u0627\\u064b\\u064b \\u0641\\u0646\\u0650\\u064a\\u0627\\u064f\\u064b\\u064f \\u0641\\u064a \\u064b\\u062a\\u062c\\u0631\\u0652\\u0628\\u064d\\u062a\\u0647\\u0650\\u060c \\u064e\\u062d\\u064b\\u064a\\u062b \\u0648\\u062c\\u0648\\u064e\\u0647 \\u0634\\u064f\\u062e\\u0650\\u0648\\u0635\\u0650\\u0647 \\u0645\\u0634\\u0648\\u0650\\u0647\\u064b\\u0629\\u064b\\u060c \\u0652\\u0648\\u0650\\u0647\\u0643\\u0630\\u064e\\u0627 \\u0652\\u0627\\u064d\\u0644\\u064c\\u062d\\u0627\\u0644 \\u064e\\u0628\\u0627\\u0644\\u0646\\u0633\\u0628\\u0652\\u0629 \\u0625\\u0644\\u0649\\u064b \\u0623\\u0637\\u0631\\u064f\\u0627\\u0641\\u064f\\u0647\\u064f\\u0645\\u0652\\u060c \\u0641\\u064e\\u0647\\u064f\\u064a \\u0652\\u0625\\u0652\\u0645\\u0627\\u064e \\u064d\\u0645\\u064d\\u062e\\u0641\\u064a\\u0652\\u0629\\u064b\\u060c \\u064f\\u0623\\u0648 \\u064c\\u0645\\u0628\\u062a\\u064f\\u0648\\u064d\\u0631\\u0629\\u060c \\u0651\\u0642\\u064d\\u0644\\u0642\\u0629\\u064c\\u060c \\u0652\\u0645\\u064c\\u062a\\u064c\\u0648\\u062a\\u0631\\u0629\\u060c \\u064f\\u062a\\u064b\\u062e\\u0631\\u064e\\u062c\\u0650 \\u064f\\u0639\\u0646\\u064d \\u064d\\u0635\\u064f\\u0645\\u062a\\u0647\\u0627\\u064b \\u0650\\u0645\\u064c\\u0646\\u0651 \\u064e\\u062e\\u0644\\u064c\\u0627\\u064b\\u0644 \\u064f\\u062d\\u064f\\u0631\\u0643\\u064c\\u062a\\u0647\\u064d\\u0627 \\u0627\\u0651\\u0644\\u062a\\u064a \\u062a\\u0633\\u064c\\u0645\\u064b \\u0650\\u0623\\u064e\\u0643\\u064b\\u062b\\u064b\\u0631\\u064f \\u0627\\u0644\\u0623\\u0639\\u064b\\u0645\\u0627\\u0644 \\u0652.\\u0648\\u0642\\u064c\\u062f \\u0652\\u0628\\u062f\\u064e\\u062a \\u0628\\u0651\\u0631\\u0627\\u0652\\u0639\\u0629 \\u0639\\u0650\\u0644\\u0652\\u064a \\u0646\\u0639\\u0645\\u064d\\u0627\\u0646 \\u064d\\u0645\\u064e\\u0646 \\u062e\\u0644\\u0627\\u064d\\u0644\\u0651 \\u062b\\u064c\\u0642\\u062a\\u0647 \\u0652\\u0641\\u064f\\u064a \\u064f\\u0627\\u064f\\u0644\\u062a\\u0639\\u064d\\u0627\\u064b\\u0645\\u0644 \\u064c\\u0645\\u0650\\u0639\\u0652 \\u062e\\u064d\\u0627\\u0645\\u0651\\u0629\\u064e \\u064c\\u0627\\u0644\\u064e\\u0625\\u0643\\u0644\\u064a\\u0631\\u064b\\u0643\\u064d\\u060c \\u0651\\u0628\\u0639\\u064f\\u064a\\u062f\\u0627\\u064e\\u064b \\u0650\\u0639\\u064f\\u0646 \\u0627\\u0644\\u062a\\u064f\\u0631\\u064d\\u0643\\u064a\\u0632\\u064d \\u0639\\u0644\\u0649\\u0651 \\u0650\\u0623\\u0651\\u0644\\u0648\\u064c\\u0627\\u0650\\u0646\\u064e \\u0651\\u0645\\u062d\\u062f\\u0650\\u062f\\u0629\\u064c\\u060c\\u064c \\u064f\\u0643\\u064e\\u0645\\u064b\\u0627 \\u064c\\u0646\\u064d\\u062c\\u062f \\u0630\\u064f\\u0644\\u064f\\u0643\\u0651 \\u0652-\\u064e \\u063a\\u0627\\u064d\\u0644\\u064b\\u0628\\u064d\\u0627\\u064b \\u064e-\\u064b \\u0651\\u0643\\u0651\\u064a\\u064c \\u062a\\u0650\\u0643\\u064c\\u0648\\u0646 \\u0627\\u0652\\u0644\\u0645\\u0650\\u0631\\u064d\\u0623\\u0650\\u0629 \\u0627\\u0650\\u0644\\u0623\\u0651\\u0643\\u062b\\u0631\\u064e \\u062d\\u0636\\u0648\\u0652\\u0631\\u064d\\u0627\\u0651\\u064b \\u0651\\u0641\\u0650\\u064a\\u064b \\u064b\\u0641\\u0636\\u064c\\u0627\\u0650\\u0621 \\u0652\\u0644\\u0650\\u0648\\u064f\\u062d\\u064c\\u062a\\u0650\\u0647\\u060c\\u064f \\u064c\\u0639\\u0628\\u064d\\u0631\\u064f \\u062d\\u0650\\u0627\\u0644\\u0627\\u064d\\u062a\\u0652\\u0647\\u0627 \\u0627\\u0644\\u0645\\u062a\\u0651\\u0639\\u062f\\u064b\\u062f\\u064d\\u0629\\u0652\\u060c \\u064d\\u062d\\u064f\\u0648\\u0627\\u064b\\u0631\\u064f\\u0627\\u0652\\u064b \\u0623\\u064d\\u0648\\u064f \\u0631\\u0642\\u0635\\u0650\\u0627\\u064c\\u064b\\u064b\\u060c \\u0623\\u0648 \\u064d\\u062e\\u0650\\u0644\\u0652\\u0627\\u0644\\u064e \\u0652\\u0627\\u0644\\u064f\\u0633\\u0650\\u064a\\u064b\\u0631 \\u0639\\u064f\\u0644\\u0649\\u064b \\u064d\\u0627\\u0644\\u0637\\u0650\\u0631\\u064a\\u0642 \\u062c\\u064a\\u064e\\u0626\\u0629\\u064f \\u064c\\u0648\\u064e\\u0630\\u0652\\u0647\\u0627\\u0651\\u0628\\u0627\\u064b\\u060c \\u0648\\u0643\\u064b\\u0623\\u0646\\u0652 \\u064d\\u0644\\u064b\\u0648\\u062d\\u062a\\u064d\\u0647\\u064c \\u0651\\u062a\\u0652\\u0624\\u064b\\u0643\\u0650\\u062f\\u0650 \\u0639\\u0644\\u064c\\u0649\\u064b \\u064e\\u0627\\u064d\\u0646\\u0641\\u062a\\u0627\\u062d \\u0627\\u064d\\u0644\\u0639\\u064e\\u0627\\u0644\\u0645\\u064e \\u0627\\u0644\\u0630\\u064c\\u064a\\u0652 \\u064b\\u0644\\u0652\\u0627 \\u064a\\u0650\\u0641\\u062a\\u0623\\u064f \\u064e\\u064a\\u064f\\u0632\\u064e\\u0627\\u0648\\u062c \\u064c\\u0628\\u0652\\u064a\\u0646 \\u064f\\u062c\\u0645\\u0627\\u064d\\u0644\\u064e\\u064a\\u0651\\u0627\\u062a\\u064e\\u0647 \\u0648\\u064f\\u062f\\u064c\\u0644\\u0651\\u0627\\u064f\\u0644\\u0627\\u062a\\u064e\\u0647\\u0650 \\u0627\\u0644\\u062a\\u0652\\u064a\\u0651 \\u064b\\u0644\\u064c\\u0627\\u064f \\u0651\\u062a\\u0633\\u062a\\u064d\\u0646\\u0641\\u062f \\u064d.\\u064d\\u0648\\u0644\\u0648\\u062d\\u0638 \\u0639\\u064f\\u0644\\u064e\\u0649\\u0651 \\u0644\\u0648\\u062d\\u0629\\u064f \\u0646\\u0651\\u0639\\u064c\\u0645\\u064b\\u0627\\u0646\\u064d \\u062a\\u0650\\u062d\\u0642\\u064a\\u0642\\u064d\\u0647\\u064c\\u0627 \\u0645\\u0639\\u064f\\u0627\\u064f\\u062f\\u064d\\u0644\\u0629\\u0650 \\u0627\\u0652\\u0644\\u0652\\u0647\\u0627\\u0652\\u0631\\u064d\\u0645\\u0648\\u0646\\u064a \\u0639\\u0628\\u0631 \\u062a\\u0648\\u064c\\u0627\\u064b\\u0632\\u0646\\u0647\\u0627 \\u0650\\u0648\\u064d\\u062a\\u064f\\u0648\\u064f\\u0632\\u064b\\u064a\\u0639\\u0647\\u0652\\u0627\\u0652 \\u0644\\u0644\\u064d\\u0648\\u0652\\u0646\\u064d \\u0648\\u064e\\u0641\\u064d\\u0642 \\u064d\\u0647\\u0650\\u0646\\u062f\\u0633\\u0629\\u064c \\u0645\\u064e\\u0642\\u064d\\u0646\\u0652\\u0639\\u064d\\u0629\\u064c\\u060c \\u0644\\u0651\\u0627\\u0652\\u0633\\u064a\\u0645\\u064c\\u0627 \\u0623\\u0646 \\u0627\\u064f\\u0644\\u0627\\u0646\\u062a\\u0650\\u0642\\u0627\\u0644 \\u0650\\u0645\\u0646\\u064d \\u064d\\u0644\\u064c\\u0648\\u0651\\u0646\\u064b \\u064c\\u0625\\u0651\\u0644\\u064c\\u0649\\u064b \\u0650\\u0622\\u064d\\u062e\\u0631 \\u064a\\u0652\\u0628\\u064a\\u0646\\u064e \\u0645\\u062f\\u0649\\u0651 \\u0627\\u0652\\u0647\\u0650\\u062a\\u0645\\u064c\\u0627\\u0645\\u064f\\u0647 \\u0628\\u062f\\u0648\\u0651\\u0631\\u064e \\u0650\\u0639\\u0646\\u0635\\u064c\\u0631\\u0650 \\u064d\\u0627\\u0644\\u0652\\u0644\\u064c\\u0648\\u0646 \\u0650\\u0641\\u064a \\u0651\\u0639\\u064b\\u0627\\u0644\\u0645 \\u0650\\u0627\\u0644\\u064d\\u0644\\u064f\\u0648\\u064f\\u062d\\u0629 \\u064c.\\u0652\\u0648\\u062a\\u0646\\u0645 \\u0644\\u0650\\u0648\\u064d\\u062d\\u0651\\u0629\\u064c \\u0634\\u064d\\u0631\\u0651\\u064a\\u0641 \\u0650\\u0623\\u0634\\u0651\\u0643\\u0651\\u0646\\u0627\\u064d\\u0646\\u064a\\u064f \\u064d\\u0627\\u0644\\u062a\\u064c\\u064a\\u064b \\u064f\\u062a\\u0639\\u0627\\u064c\\u0644\\u0651\\u062c \\u0639\\u064e\\u0644\\u0649\\u064c \\u0645\\u0652\\u0648\\u0627\\u062f\\u0650 \\u064c\\u0627\\u0644\\u064f\\u0625\\u0643\\u0644\\u0652\\u064a\\u0631\\u064d\\u0643\\u060c\\u064e \\u0652\\u0639\\u0646\\u0651 \\u0652\\u0645\\u064b\\u0647\\u0627\\u064d\\u0631\\u0651\\u0627\\u064d\\u062a\\u0650\\u0647\\u0650 \\u0627\\u0644\\u0650\\u0639\\u064b\\u0627\\u0644\\u064a\\u0629\\u060c\\u064c \\u064c\\u0643\\u064f\\u0623\\u062d\\u064f\\u062f\\u064f \\u0627\\u0651\\u0644\\u064f\\u0641\\u0646\\u0627\\u0650\\u0646\\u064a\\u0650\\u0646\\u0651 \\u064d\\u0630\\u0648\\u064b\\u064a\\u064c \\u0627\\u064b\\u0644\\u062d\\u0636\\u0648\\u0631 \\u0627\\u0644\\u0644\\u064b\\u0627\\u0641\\u062a\\u064f \\u0651\\u0641\\u064b\\u064a\\u064e \\u0627\\u0644\\u064e\\u062d\\u064e\\u0631\\u0643\\u0629\\u0652 \\u0627\\u0644\\u064f\\u062a\\u0634\\u0643\\u064a\\u0644\\u064d\\u064a\\u0651\\u0629 \\u0627\\u0644\\u0650\\u0643\\u0648\\u064c\\u064a\\u062a\\u064a\\u0629\\u0651\\u060c \\u0634\\u0652\\u0623\\u0646\\u064e \\u064e\\u0632\\u064c\\u0645\\u0644\\u0627\\u0626\\u064e\\u0647 \\u0627\\u064e\\u0644\\u0645\\u0634\\u0627\\u064e\\u0631\\u0650\\u0643\\u064a\\u0646\\u064d\\u060c\\u0651 \\u0648\\u0625\\u0646\\u064f \\u0643\\u0627\\u0646\\u062a\\u0651 \\u0637\\u0631\\u0652\\u064a\\u064f\\u0642\\u0652\\u0629\\u0651 \\u064f\\u062a\\u064f\\u0643\\u064b\\u0646\\u064a\\u0650\\u0643\\u0647\\u064f\\u060c\\u064d \\u0651\\u062a\\u062e\\u064c\\u062a\\u0650\\u0644\\u064f\\u0641 \\u0645\\u064e\\u0646\\u0652 \\u0650\\u0644\\u0648\\u064f\\u062d\\u0650\\u0629\\u0652 \\u0625\\u0652\\u0644\\u0649\\u064d \\u0651\\u0644\\u0648\\u064c\\u062d\\u064f\\u0629\\u060c\\u064c \\u064c\\u0648\\u0647\\u0648 \\u0645\\u064b\\u0627\\u064f \\u064a\\u062f\\u0644 \\u0639\\u064d\\u0644\\u0649\\u064b \\u0650\\u062b\\u0651\\u0642\\u064e\\u062a\\u0652\\u0647\\u064c \\u0651\\u0645\\u064e\\u0646\\u0652 \\u0652\\u062a\\u0650\\u0645\\u064c\\u0643\\u0646 \\u0623\\u062f\\u064b\\u0648\\u0651\\u0627\\u0652\\u062a\\u0651\\u0647\\u064e \\u0650\\u0627\\u064d\\u0644\\u064f\\u0641\\u0646\\u0652\\u064a\\u0629\\u064b\\u060c \\u064f\\u0648\\u064f\\u0639\\u064c\\u062f\\u0645 \\u0627\\u0650\\u0644\\u062a\\u064c\\u0642\\u0651\\u064a\\u0652\\u062f\\u064e \\u0652\\u0628\\u064f\\u0639\\u0652\\u0648\\u0650\\u0627\\u0651\\u0644\\u0645 \\u0645\\u062d\\u064f\\u062f\\u062f\\u0651\\u0629\\u060c\\u064c \\u064b\\u0648\\u0625\\u0646 \\u064c\\u0643\\u0650\\u0627\\u0646 \\u064e\\u0630\\u0651\\u0644\\u064b\\u0643 \\u064a\\u0628\\u064a\\u0646 -\\u064d \\u064e\\u0641\\u0650\\u064a \\u0652\\u0627\\u0644\\u064e\\u062a\\u0627\\u0644\\u064d\\u064a\\u064e \\u0651- \\u0650\\u062f\\u0631\\u064c\\u062c\\u064b\\u0629 \\u0650\\u0639\\u064d\\u0627\\u064d\\u0644\\u064b\\u064a\\u0629 \\u0645\\u064d\\u0646 \\u0627\\u0644\\u0642\\u064b\\u0644\\u0642\\u0651 \\u0627\\u064b\\u0644\\u0652\\u0631\\u064b\\u0648\\u062d\\u064a \\u064b\\u0644\\u064d\\u062f\\u0652\\u064a\\u0647\\u064b \\u0650.\\u0648\\u0643\\u0651\\u0631\\u0645\\u064c \\u062f \\u0650. \\u064d\\u0627\\u0650\\u0644\\u0650\\u0645\\u064f\\u0637\\u0648\\u0639\\u0652 \\u0652\\u0639\\u064c\\u0644\\u064f\\u0649\\u0650 \\u0647\\u0627\\u064e\\u0645\\u064d\\u0634 \\u0627\\u0644\\u064e\\u0645\\u064e\\u0639\\u0631\\u064e\\u0636\\u064c \\u0627\\u064c\\u0644\\u0641\\u0646\\u0651\\u0627\\u064b\\u0646\\u064e\\u064a\\u0646\\u0652 \\u064d\\u0627\\u0651\\u0644\\u064f\\u0623\\u0651\\u0631\\u0628\\u064d\\u0639\\u0650\\u0629\\u0650 \\u064f\\u0627\\u0644\\u0645\\u0650\\u0634\\u0627\\u064e\\u0631\\u064d\\u0643\\u064d\\u064a\\u0646\\u060c\\u064c \\u0645\\u0642\\u064e\\u062f\\u064b\\u0645\\u064c\\u0627\\u064b \\u062f\\u064e\\u0631\\u064f\\u0639\\u064c\\u0627\\u064c\\u064b \\u0652\\u062a\\u0630\\u0650\\u0643\\u0627\\u0631\\u064a\\u0629 \\u064e\\u0644\\u0652\\u0643\\u0644 \\u0650\\u0645\\u0646\\u0647\\u0645 .\\u0650\"\n        ],\n        \"semantic_type\": \"\",\n        \"description\": \"\"\n      }\n    },\n    {\n      \"column\": \"label\",\n      \"properties\": {\n        \"dtype\": \"category\",\n        \"num_unique_values\": 7,\n        \"samples\": [\n          \"Finance\",\n          \"Culture\",\n          \"Medical\"\n        ],\n        \"semantic_type\": \"\",\n        \"description\": \"\"\n      }\n    }\n  ]\n}"
            }
          },
          "metadata": {},
          "execution_count": 18
        }
      ]
    },
    {
      "cell_type": "code",
      "source": [
        "#3. Arabic stopwords loading:\n",
        "arabic_stopwords = set(stopwords.words('arabic'))"
      ],
      "metadata": {
        "id": "Bx4qzXhK4iIU"
      },
      "execution_count": 19,
      "outputs": []
    },
    {
      "cell_type": "code",
      "execution_count": 24,
      "metadata": {
        "id": "mHEObOY_fHhq"
      },
      "outputs": [],
      "source": [
        "# Load Arabic stemmer\n",
        "stemmer = ISRIStemmer()\n",
        "\n",
        "def clean_text(text):\n",
        "    # Removing links (URLs):\n",
        "    cleaned_text = re.sub(r'http\\S+|www\\S+|https\\S+', '', text, flags=re.MULTILINE)\n",
        "\n",
        "    #Removing special characters and punctuation:\n",
        "    cleaned_text = re.sub(r'[^\\w\\s]', '', cleaned_text)\n",
        "\n",
        "    #Removing Arabic diacritics (Tashkeel) and elongated letters (Tatweel):\n",
        "    cleaned_text = araby.strip_tashkeel(cleaned_text)\n",
        "    cleaned_text = araby.strip_tatweel(cleaned_text)\n",
        "\n",
        "\n",
        "    #Removing Arabic stopwords:\n",
        "    words = cleaned_text.split()\n",
        "    filtered_words = [word for word in words if word not in arabic_stopwords]\n",
        "\n",
        "    # Stemming or Lemmmatization: (i chose stemming)\n",
        "    stemmed_words = []\n",
        "    for word in words:\n",
        "      stemmed_words.append(stemmer.stem(word))\n",
        "\n",
        "    stemmed_words = ' '.join(filtered_words)\n",
        "\n",
        "    #Normalizing Hamza:\n",
        "    cleaned_text = araby.normalize_hamza(stemmed_words)\n",
        "\n",
        "    return cleaned_text"
      ]
    },
    {
      "cell_type": "code",
      "source": [
        "#5. Final cleanup:\n",
        "df['clean_text'] = df['text'].apply(clean_text)\n",
        "df.head()"
      ],
      "metadata": {
        "colab": {
          "base_uri": "https://localhost:8080/",
          "height": 204
        },
        "id": "_48lR0zdAHbO",
        "outputId": "5b9c2d25-26d5-4b4e-dc98-234855dd76cc"
      },
      "execution_count": 25,
      "outputs": [
        {
          "output_type": "execute_result",
          "data": {
            "text/plain": [
              "                                                    text    label  \\\n",
              "10869  https://example.com/resource/بْلِغت َتسَييلّاً...  Finance   \n",
              "3643   https://example.com/resource/دبِيِ - إِبٍرِاهُ...  Culture   \n",
              "3375   https://example.com/resource/أِبوظبُيّ ٌ-ِ ًمن...  Culture   \n",
              "36367  https://example.com/resource/Noٍkْiaٌ 5ُ53ً0ُ ...     Tech   \n",
              "30086  https://example.com/resource/واُصلُ اّلٍنَجُم ...   Sports   \n",
              "\n",
              "                                              clean_text  \n",
              "10869  تسييلات الءجانب سوق دبي المالي 59 مليونا فقد ب...  \n",
              "3643   ءبراهيم اليوسفبحضور محمد المر رءيس المجلس الوط...  \n",
              "3375   مني بونعامةنظم اتحاد كتاب وءدباء الءمارات ءبوظ...  \n",
              "36367  5530 XpressMusicهاتف متحرك جديد ءنتاج نوكيا وي...  \n",
              "30086  النجم الءرجنتيني ليونيل ميسي لاعب فريق برشلونة...  "
            ],
            "text/html": [
              "\n",
              "  <div id=\"df-e2e4eefe-b8bd-412c-bb32-d8384c04a1c4\" class=\"colab-df-container\">\n",
              "    <div>\n",
              "<style scoped>\n",
              "    .dataframe tbody tr th:only-of-type {\n",
              "        vertical-align: middle;\n",
              "    }\n",
              "\n",
              "    .dataframe tbody tr th {\n",
              "        vertical-align: top;\n",
              "    }\n",
              "\n",
              "    .dataframe thead th {\n",
              "        text-align: right;\n",
              "    }\n",
              "</style>\n",
              "<table border=\"1\" class=\"dataframe\">\n",
              "  <thead>\n",
              "    <tr style=\"text-align: right;\">\n",
              "      <th></th>\n",
              "      <th>text</th>\n",
              "      <th>label</th>\n",
              "      <th>clean_text</th>\n",
              "    </tr>\n",
              "  </thead>\n",
              "  <tbody>\n",
              "    <tr>\n",
              "      <th>10869</th>\n",
              "      <td>https://example.com/resource/بْلِغت َتسَييلّاً...</td>\n",
              "      <td>Finance</td>\n",
              "      <td>تسييلات الءجانب سوق دبي المالي 59 مليونا فقد ب...</td>\n",
              "    </tr>\n",
              "    <tr>\n",
              "      <th>3643</th>\n",
              "      <td>https://example.com/resource/دبِيِ - إِبٍرِاهُ...</td>\n",
              "      <td>Culture</td>\n",
              "      <td>ءبراهيم اليوسفبحضور محمد المر رءيس المجلس الوط...</td>\n",
              "    </tr>\n",
              "    <tr>\n",
              "      <th>3375</th>\n",
              "      <td>https://example.com/resource/أِبوظبُيّ ٌ-ِ ًمن...</td>\n",
              "      <td>Culture</td>\n",
              "      <td>مني بونعامةنظم اتحاد كتاب وءدباء الءمارات ءبوظ...</td>\n",
              "    </tr>\n",
              "    <tr>\n",
              "      <th>36367</th>\n",
              "      <td>https://example.com/resource/Noٍkْiaٌ 5ُ53ً0ُ ...</td>\n",
              "      <td>Tech</td>\n",
              "      <td>5530 XpressMusicهاتف متحرك جديد ءنتاج نوكيا وي...</td>\n",
              "    </tr>\n",
              "    <tr>\n",
              "      <th>30086</th>\n",
              "      <td>https://example.com/resource/واُصلُ اّلٍنَجُم ...</td>\n",
              "      <td>Sports</td>\n",
              "      <td>النجم الءرجنتيني ليونيل ميسي لاعب فريق برشلونة...</td>\n",
              "    </tr>\n",
              "  </tbody>\n",
              "</table>\n",
              "</div>\n",
              "    <div class=\"colab-df-buttons\">\n",
              "\n",
              "  <div class=\"colab-df-container\">\n",
              "    <button class=\"colab-df-convert\" onclick=\"convertToInteractive('df-e2e4eefe-b8bd-412c-bb32-d8384c04a1c4')\"\n",
              "            title=\"Convert this dataframe to an interactive table.\"\n",
              "            style=\"display:none;\">\n",
              "\n",
              "  <svg xmlns=\"http://www.w3.org/2000/svg\" height=\"24px\" viewBox=\"0 -960 960 960\">\n",
              "    <path d=\"M120-120v-720h720v720H120Zm60-500h600v-160H180v160Zm220 220h160v-160H400v160Zm0 220h160v-160H400v160ZM180-400h160v-160H180v160Zm440 0h160v-160H620v160ZM180-180h160v-160H180v160Zm440 0h160v-160H620v160Z\"/>\n",
              "  </svg>\n",
              "    </button>\n",
              "\n",
              "  <style>\n",
              "    .colab-df-container {\n",
              "      display:flex;\n",
              "      gap: 12px;\n",
              "    }\n",
              "\n",
              "    .colab-df-convert {\n",
              "      background-color: #E8F0FE;\n",
              "      border: none;\n",
              "      border-radius: 50%;\n",
              "      cursor: pointer;\n",
              "      display: none;\n",
              "      fill: #1967D2;\n",
              "      height: 32px;\n",
              "      padding: 0 0 0 0;\n",
              "      width: 32px;\n",
              "    }\n",
              "\n",
              "    .colab-df-convert:hover {\n",
              "      background-color: #E2EBFA;\n",
              "      box-shadow: 0px 1px 2px rgba(60, 64, 67, 0.3), 0px 1px 3px 1px rgba(60, 64, 67, 0.15);\n",
              "      fill: #174EA6;\n",
              "    }\n",
              "\n",
              "    .colab-df-buttons div {\n",
              "      margin-bottom: 4px;\n",
              "    }\n",
              "\n",
              "    [theme=dark] .colab-df-convert {\n",
              "      background-color: #3B4455;\n",
              "      fill: #D2E3FC;\n",
              "    }\n",
              "\n",
              "    [theme=dark] .colab-df-convert:hover {\n",
              "      background-color: #434B5C;\n",
              "      box-shadow: 0px 1px 3px 1px rgba(0, 0, 0, 0.15);\n",
              "      filter: drop-shadow(0px 1px 2px rgba(0, 0, 0, 0.3));\n",
              "      fill: #FFFFFF;\n",
              "    }\n",
              "  </style>\n",
              "\n",
              "    <script>\n",
              "      const buttonEl =\n",
              "        document.querySelector('#df-e2e4eefe-b8bd-412c-bb32-d8384c04a1c4 button.colab-df-convert');\n",
              "      buttonEl.style.display =\n",
              "        google.colab.kernel.accessAllowed ? 'block' : 'none';\n",
              "\n",
              "      async function convertToInteractive(key) {\n",
              "        const element = document.querySelector('#df-e2e4eefe-b8bd-412c-bb32-d8384c04a1c4');\n",
              "        const dataTable =\n",
              "          await google.colab.kernel.invokeFunction('convertToInteractive',\n",
              "                                                    [key], {});\n",
              "        if (!dataTable) return;\n",
              "\n",
              "        const docLinkHtml = 'Like what you see? Visit the ' +\n",
              "          '<a target=\"_blank\" href=https://colab.research.google.com/notebooks/data_table.ipynb>data table notebook</a>'\n",
              "          + ' to learn more about interactive tables.';\n",
              "        element.innerHTML = '';\n",
              "        dataTable['output_type'] = 'display_data';\n",
              "        await google.colab.output.renderOutput(dataTable, element);\n",
              "        const docLink = document.createElement('div');\n",
              "        docLink.innerHTML = docLinkHtml;\n",
              "        element.appendChild(docLink);\n",
              "      }\n",
              "    </script>\n",
              "  </div>\n",
              "\n",
              "\n",
              "<div id=\"df-18edb5a0-b8f9-46b6-8e9a-7fbf89054f69\">\n",
              "  <button class=\"colab-df-quickchart\" onclick=\"quickchart('df-18edb5a0-b8f9-46b6-8e9a-7fbf89054f69')\"\n",
              "            title=\"Suggest charts\"\n",
              "            style=\"display:none;\">\n",
              "\n",
              "<svg xmlns=\"http://www.w3.org/2000/svg\" height=\"24px\"viewBox=\"0 0 24 24\"\n",
              "     width=\"24px\">\n",
              "    <g>\n",
              "        <path d=\"M19 3H5c-1.1 0-2 .9-2 2v14c0 1.1.9 2 2 2h14c1.1 0 2-.9 2-2V5c0-1.1-.9-2-2-2zM9 17H7v-7h2v7zm4 0h-2V7h2v10zm4 0h-2v-4h2v4z\"/>\n",
              "    </g>\n",
              "</svg>\n",
              "  </button>\n",
              "\n",
              "<style>\n",
              "  .colab-df-quickchart {\n",
              "      --bg-color: #E8F0FE;\n",
              "      --fill-color: #1967D2;\n",
              "      --hover-bg-color: #E2EBFA;\n",
              "      --hover-fill-color: #174EA6;\n",
              "      --disabled-fill-color: #AAA;\n",
              "      --disabled-bg-color: #DDD;\n",
              "  }\n",
              "\n",
              "  [theme=dark] .colab-df-quickchart {\n",
              "      --bg-color: #3B4455;\n",
              "      --fill-color: #D2E3FC;\n",
              "      --hover-bg-color: #434B5C;\n",
              "      --hover-fill-color: #FFFFFF;\n",
              "      --disabled-bg-color: #3B4455;\n",
              "      --disabled-fill-color: #666;\n",
              "  }\n",
              "\n",
              "  .colab-df-quickchart {\n",
              "    background-color: var(--bg-color);\n",
              "    border: none;\n",
              "    border-radius: 50%;\n",
              "    cursor: pointer;\n",
              "    display: none;\n",
              "    fill: var(--fill-color);\n",
              "    height: 32px;\n",
              "    padding: 0;\n",
              "    width: 32px;\n",
              "  }\n",
              "\n",
              "  .colab-df-quickchart:hover {\n",
              "    background-color: var(--hover-bg-color);\n",
              "    box-shadow: 0 1px 2px rgba(60, 64, 67, 0.3), 0 1px 3px 1px rgba(60, 64, 67, 0.15);\n",
              "    fill: var(--button-hover-fill-color);\n",
              "  }\n",
              "\n",
              "  .colab-df-quickchart-complete:disabled,\n",
              "  .colab-df-quickchart-complete:disabled:hover {\n",
              "    background-color: var(--disabled-bg-color);\n",
              "    fill: var(--disabled-fill-color);\n",
              "    box-shadow: none;\n",
              "  }\n",
              "\n",
              "  .colab-df-spinner {\n",
              "    border: 2px solid var(--fill-color);\n",
              "    border-color: transparent;\n",
              "    border-bottom-color: var(--fill-color);\n",
              "    animation:\n",
              "      spin 1s steps(1) infinite;\n",
              "  }\n",
              "\n",
              "  @keyframes spin {\n",
              "    0% {\n",
              "      border-color: transparent;\n",
              "      border-bottom-color: var(--fill-color);\n",
              "      border-left-color: var(--fill-color);\n",
              "    }\n",
              "    20% {\n",
              "      border-color: transparent;\n",
              "      border-left-color: var(--fill-color);\n",
              "      border-top-color: var(--fill-color);\n",
              "    }\n",
              "    30% {\n",
              "      border-color: transparent;\n",
              "      border-left-color: var(--fill-color);\n",
              "      border-top-color: var(--fill-color);\n",
              "      border-right-color: var(--fill-color);\n",
              "    }\n",
              "    40% {\n",
              "      border-color: transparent;\n",
              "      border-right-color: var(--fill-color);\n",
              "      border-top-color: var(--fill-color);\n",
              "    }\n",
              "    60% {\n",
              "      border-color: transparent;\n",
              "      border-right-color: var(--fill-color);\n",
              "    }\n",
              "    80% {\n",
              "      border-color: transparent;\n",
              "      border-right-color: var(--fill-color);\n",
              "      border-bottom-color: var(--fill-color);\n",
              "    }\n",
              "    90% {\n",
              "      border-color: transparent;\n",
              "      border-bottom-color: var(--fill-color);\n",
              "    }\n",
              "  }\n",
              "</style>\n",
              "\n",
              "  <script>\n",
              "    async function quickchart(key) {\n",
              "      const quickchartButtonEl =\n",
              "        document.querySelector('#' + key + ' button');\n",
              "      quickchartButtonEl.disabled = true;  // To prevent multiple clicks.\n",
              "      quickchartButtonEl.classList.add('colab-df-spinner');\n",
              "      try {\n",
              "        const charts = await google.colab.kernel.invokeFunction(\n",
              "            'suggestCharts', [key], {});\n",
              "      } catch (error) {\n",
              "        console.error('Error during call to suggestCharts:', error);\n",
              "      }\n",
              "      quickchartButtonEl.classList.remove('colab-df-spinner');\n",
              "      quickchartButtonEl.classList.add('colab-df-quickchart-complete');\n",
              "    }\n",
              "    (() => {\n",
              "      let quickchartButtonEl =\n",
              "        document.querySelector('#df-18edb5a0-b8f9-46b6-8e9a-7fbf89054f69 button');\n",
              "      quickchartButtonEl.style.display =\n",
              "        google.colab.kernel.accessAllowed ? 'block' : 'none';\n",
              "    })();\n",
              "  </script>\n",
              "</div>\n",
              "\n",
              "    </div>\n",
              "  </div>\n"
            ],
            "application/vnd.google.colaboratory.intrinsic+json": {
              "type": "dataframe",
              "variable_name": "df",
              "summary": "{\n  \"name\": \"df\",\n  \"rows\": 1000,\n  \"fields\": [\n    {\n      \"column\": \"text\",\n      \"properties\": {\n        \"dtype\": \"string\",\n        \"num_unique_values\": 1000,\n        \"samples\": [\n          \"https://example.com/resource/\\u0631\\u0641\\u0639\\u062a\\u064d \\u0645\\u0650\\u0628\\u064d\\u0627\\u062f\\u0631\\u064b\\u0629\\u0651 \\u0627\\u0644\\u064e\\u062d\\u064e\\u0643\\u064f\\u0648\\u0652\\u0645\\u0650\\u0629 \\u0627\\u0651\\u0644\\u0652\\u0630\\u0643\\u064a\\u064b\\u0629\\u0650\\u060c\\u064e \\u064b\\u0627\\u064c\\u0644\\u062a\\u0652\\u064a \\u0623\\u0637\\u064e\\u0644\\u064d\\u0642\\u0647\\u0627\\u064b \\u064e\\u0635\\u0627\\u062d\\u0628\\u064e \\u0627\\u0644\\u064c\\u0633\\u0652\\u0645\\u064d\\u0648\\u064b \\u0627\\u064b\\u0644\\u0634\\u0650\\u064a\\u0651\\u062e\\u064f \\u064d\\u0645\\u062d\\u064f\\u0645\\u0651\\u062f \\u0628\\u0646 \\u0631\\u0627\\u064e\\u0634\\u062f\\u064e \\u064e\\u0622\\u0644\\u0651 \\u0650\\u0645\\u0652\\u0643\\u062a\\u0648\\u064e\\u0645\\u064b \\u0646\\u0627\\u0626\\u0628\\u0651 \\u0631\\u064d\\u0626\\u0652\\u064a\\u064c\\u0633\\u0651 \\u0627\\u0644\\u062f\\u0648\\u0644\\u0629 \\u064f\\u0631\\u064d\\u0626\\u064a\\u0633 \\u0645\\u062c\\u064f\\u0644\\u0633\\u064c \\u064c\\u0627\\u0644\\u064e\\u0648\\u0632\\u064e\\u0631\\u064b\\u0627\\u0621 \\u064e\\u062d\\u064e\\u0627\\u0651\\u0643\\u0645\\u064e \\u062f\\u0628\\u064a\\u060c\\u0650 \\u0631\\u0639\\u064d\\u0627\\u0650\\u0647\\u0651 \\u064e\\u0627\\u0650\\u0644\\u0652\\u0644\\u0652\\u0647\\u064f\\u060c\\u064f \\u064b\\u0627\\u0650\\u0644\\u0637\\u0644\\u0652\\u0628 \\u0645\\u064d\\u0646\\u0650 \\u064d\\u0642\\u064b\\u0628\\u0652\\u0644 \\u0651\\u0627\\u0644\\u062c\\u0647\\u0627\\u064c\\u062a\\u064b \\u064c\\u0648\\u064b\\u0627\\u0644\\u062f\\u064b\\u0648\\u064f\\u0627\\u064c\\u0626\\u0631 \\u0627\\u0652\\u0644\\u0650\\u062d\\u0643\\u064b\\u0648\\u0645\\u0652\\u064a\\u0651\\u0629\\u064c \\u0639\\u0652\\u0644\\u064b\\u0649\\u064f \\u0651\\u0627\\u0644\\u0652\\u062a\\u0652\\u0637\\u0628\\u064a\\u0642\\u0651\\u0627\\u064c\\u062a \\u0652\\u0627\\u0644\\u0645\\u0633\\u062a\\u0651\\u062e\\u064c\\u062f\\u0645\\u0629 \\u064f\\u0639\\u0652\\u0644\\u0649\\u064d \\u0627\\u0644\\u064f\\u0623\\u062c\\u0651\\u0647\\u0652\\u0632\\u064f\\u0629 \\u064d\\u0627\\u0644\\u0644\\u0648\\u062d\\u064a\\u064f\\u0629 \\u0648\\u064e\\u0627\\u0644\\u0647\\u0648\\u064d\\u0627\\u062a\\u0641 \\u064e\\u0627\\u0651\\u0644\\u064f\\u0630\\u0643\\u0651\\u064a\\u0629 .\\u064f\\u0648\\u0623\\u064d\\u0641\\u064c\\u0627\\u064e\\u062f\\u0650 \\u0645\\u064d\\u0633\\u0650\\u0624\\u064c\\u0648\\u0644\\u064d\\u0648\\u0652 \\u0634\\u0651\\u0631\\u0643\\u0627\\u062a\\u064f \\u064d\\u0639\\u0627\\u0645\\u0629 \\u0641\\u064f\\u064a \\u064e\\u062a\\u0637\\u064b\\u0648\\u0650\\u064a\\u0631\\u064b \\u062a\\u064e\\u0637\\u0628\\u064a\\u064f\\u0642\\u0627\\u064b\\u062a \\u0627\\u0651\\u0644\\u0647\\u064f\\u0648\\u064b\\u0627\\u064d\\u062a\\u0650\\u0641 \\u0627\\u0644\\u064b\\u0630\\u0643\\u064f\\u064a\\u0629\\u064f \\u0628\\u0623\\u064f\\u0646 \\u064d\\u0627\\u0644\\u0645\\u0628\\u0627\\u0650\\u062f\\u0631\\u0629 \\u0633\\u064d\\u0627\\u0647\\u0645\\u0650\\u062a\\u064d \\u0652\\u0641\\u064a \\u0632\\u064a\\u0627\\u0652\\u062f\\u0629 \\u0627\\u0644\\u064d\\u0637\\u064c\\u0644\\u0628\\u0650 \\u064c\\u0639\\u064f\\u0644\\u0650\\u0649\\u0652 \\u064c\\u0623\\u0639\\u064b\\u0645\\u064f\\u0627\\u0650\\u0644\\u0650\\u0647\\u0645 \\u064f\\u0645\\u0646\\u0652 \\u0642\\u064b\\u0628\\u0644 \\u0627\\u064d\\u0644\\u062f\\u0650\\u0648\\u0627\\u0626\\u0631 \\u0648\\u064f\\u0627\\u064b\\u0644\\u064d\\u062c\\u0647\\u0627\\u062a \\u064f\\u0627\\u0652\\u0644\\u062d\\u0652\\u0643\\u0648\\u064b\\u0645\\u064f\\u064a\\u0652\\u0629 \\u064c\\u0628\\u0652\\u0646\\u0633\\u0628\\u0629 \\u06517\\u064b5\\u0650%\\u0651\\u060c \\u0645\\u0634\\u064a\\u0631\\u064a\\u064e\\u0646 \\u0625\\u0644\\u0649 \\u064d\\u0623\\u0646\\u064d \\u0633\\u064b\\u0648\\u064c\\u0642 \\u062a\\u0637\\u064e\\u0628\\u064a\\u064c\\u0642\\u0627\\u0651\\u062a \\u064d\\u0627\\u0644\\u064b\\u0647\\u0652\\u0648\\u0627\\u0652\\u062a\\u0641 \\u0627\\u0644\\u0630\\u0643\\u064f\\u064a\\u0629\\u064c \\u0651\\u0641\\u064a\\u064e \\u0627\\u0652\\u0644\\u064e\\u0625\\u0645\\u064c\\u0627\\u0631\\u0627\\u064e\\u062a \\u064a\\u064b\\u0639\\u062f\\u064c \\u0627\\u0644\\u064c\\u0623\\u0643\\u0651\\u0628\\u064f\\u0631 \\u064e\\u0641\\u064a \\u0651\\u0645\\u0646\\u0650\\u0637\\u0651\\u0642\\u064e\\u0629\\u064e \\u0627\\u0651\\u0644\\u062e\\u0644\\u064e\\u064a\\u062c \\u0650\\u0648\\u064e\\u0627\\u0644\\u064d\\u0645\\u0651\\u0646\\u064e\\u0637\\u0642\\u064e\\u0629 .\\u0650\\u0648\\u0652\\u0642\\u0627\\u0644\\u064b \\u0641\\u064c\\u0647\\u064d\\u064a\\u064d\\u0645 \\u0627\\u064f\\u0644\\u0632\\u0651\\u0628\\u064a\\u064d\\u062f\\u064c\\u064a\\u0652\\u060c \\u0627\\u0644\\u0645\\u064e\\u062f\\u064a\\u0650\\u0631 \\u0652\\u0627\\u0644\\u062a\\u0646\\u0641\\u064a\\u0652\\u0630\\u064a \\u064d\\u0641\\u064a \\u0650\\u0634\\u0651\\u0631\\u064b\\u0643\\u0629 \\u064e\\u0625\\u0641\\u064a\\u0651\\u0646\\u064c\\u062a\\u0648\\u060c \\u0627\\u0644\\u0650\\u0625\\u064f\\u0645\\u0627\\u064d\\u0631\\u0627\\u062a\\u064c\\u064a\\u064b\\u0629 \\u0627\\u0652\\u0644\\u0645\\u0651\\u062a\\u0651\\u062e\\u0635\\u0635\\u0629\\u0651 \\u0650\\u0641\\u064e\\u064a \\u0627\\u0644\\u062d\\u0644\\u0651\\u0648\\u064f\\u0644 \\u064f\\u0627\\u0650\\u0644\\u064d\\u062a\\u064c\\u0642\\u0646\\u064f\\u064a\\u064e\\u0629 \\u064e\\u0648\\u064d\\u062a\\u0637\\u0628\\u064c\\u064a\\u0642\\u064d\\u0627\\u062a\\u064f \\u0651\\u0627\\u0644\\u0647\\u0648\\u0627\\u062a\\u064c\\u0641 \\u064b\\u0627\\u0644\\u0630\\u064d\\u0643\\u064e\\u064a\\u0629 \\u0625\\u0646\\u0652 \\u0639\\u064c\\u062f\\u064d\\u062f \\u0627\\u064e\\u0644\\u062a\\u0652\\u0637\\u0628\\u0652\\u064a\\u064b\\u0642\\u0650\\u0627\\u064b\\u062a \\u064e\\u0627\\u064f\\u0644\\u0651\\u062a\\u064f\\u064a\\u0650 \\u064e\\u062a\\u062a\\u0651\\u0648\\u0651\\u0642\\u0639 \\u0652\\u0627\\u0644\\u0634\\u064d\\u0631\\u0652\\u0643\\u0629\\u0651 \\u0651\\u0625\\u0646\\u062c\\u0652\\u0627\\u0650\\u0632\\u064b\\u0647\\u064e\\u0627 \\u0644\\u0644\\u064b\\u0642\\u0637\\u0651\\u0627\\u064e\\u0639 \\u0627\\u064c\\u0644\\u064d\\u062d\\u0650\\u0643\\u0648\\u0645\\u064f\\u064a\\u064f \\u064d\\u0628\\u064b\\u0646\\u064b\\u0647\\u0650\\u0627\\u064b\\u064a\\u064f\\u0629 \\u064e\\u0627\\u0652\\u0644\\u064c\\u0639\\u064b\\u0627\\u0645\\u0650 \\u0651\\u0627\\u0644\\u064b\\u062c\\u064c\\u0627\\u0631\\u064e\\u064a \\u064d11 \\u062a\\u0652\\u0637\\u0652\\u0628\\u064a\\u0642\\u064f\\u0627\\u064b\\u0652\\u060c\\u064d \\u0645\\u0650\\u0634\\u064a\\u064f\\u0631\\u0627\\u0650\\u064b \\u064c\\u0623\\u0646\\u064e \\u0627\\u0651\\u0644\\u0634\\u0631\\u064d\\u0643\\u064c\\u0629\\u0651 \\u064f\\u062a\\u0639\\u0645\\u0644 \\u0651\\u062d\\u0650\\u0627\\u0644\\u064a\\u0650\\u0627\\u064c\\u064b\\u064c \\u0651\\u0639\\u064e\\u0644\\u0651\\u0649 \\u064f\\u062a\\u064c\\u0637\\u064d\\u0648\\u0651\\u064a\\u0631 \\u064d3 \\u0650\\u062a\\u0637\\u0652\\u0628\\u0650\\u064a\\u0642\\u0627\\u0652\\u062a \\u064e\\u0644\\u0651\\u062f\\u064b\\u0648\\u0627\\u064d\\u0626\\u064f\\u0631\\u064e \\u062d\\u0643\\u0648\\u0645\\u064a\\u0650\\u0629 \\u0641\\u0650\\u064a\\u064e \\u0623\\u0651\\u0628\\u064b\\u0648\\u0638\\u064d\\u0628\\u064a\\u0650 \\u064b\\u0648\\u064c\\u062f\\u0652\\u0628\\u064e\\u064a\\u064c \\u064f\\u0645\\u0650\\u0646 \\u064d\\u0628\\u064c\\u064a\\u064d\\u0646\\u064c\\u0647\\u0627 \\u0645\\u0650\\u0624\\u064c\\u0633\\u0633\\u064b\\u0629 \\u0645\\u064e\\u062d\\u064c\\u0645\\u062f\\u064b \\u0650\\u0628\\u0651\\u0646 \\u0650\\u0631\\u0650\\u0627\\u0650\\u0634\\u064f\\u062f \\u0644\\u062f\\u0639\\u0652\\u0645\\u064c \\u064b\\u0645\\u0634\\u064d\\u0627\\u0650\\u0631\\u064c\\u064a\\u0650\\u0639 \\u0651\\u0627\\u064c\\u0644\\u064e\\u0634\\u0628\\u0651\\u0627\\u064d\\u0628 .\\u0648\\u0623\\u0648\\u0636\\u062d \\u064e\\u0627\\u0644\\u0632\\u064c\\u0628\\u064b\\u064a\\u062f\\u064b\\u064a \\u064f\\u0623\\u0646\\u0652 \\u064f\\u0627\\u0644\\u0650\\u0633\\u0651\\u0648\\u0642 \\u064a\\u0634\\u0647\\u064f\\u062f \\u064b\\u062d\\u0631\\u0643\\u0629\\u064e \\u0646\\u0634\\u0637\\u0652\\u0629\\u064f \\u064f\\u0641\\u064a \\u062a\\u0637\\u0648\\u064a\\u064c\\u0631\\u0651 \\u0627\\u064b\\u0644\\u0650\\u062a\\u064e\\u0637\\u064f\\u0628\\u064f\\u064a\\u0642\\u0650\\u0627\\u0651\\u062a \\u0627\\u0644\\u064c\\u062e\\u064d\\u0627\\u0635\\u0629 \\u0628\\u0627\\u0652\\u0644\\u0642\\u064d\\u0637\\u0627\\u064d\\u0639\\u0652 \\u0627\\u064c\\u0644\\u062d\\u064f\\u0643\\u064d\\u0648\\u0645\\u064d\\u064a\\u0650 \\u0651\\u0628\\u0639\\u0650\\u062f \\u0652\\u0645\\u0628\\u064b\\u0627\\u064e\\u062f\\u0631\\u064f\\u0629 \\u064e\\u0627\\u0652\\u0644\\u062d\\u0643\\u0648\\u0645\\u0629 \\u0627\\u064d\\u0644\\u0630\\u0643\\u064f\\u064a\\u0652\\u0629\\u064d \\u064d\\u0627\\u0651\\u0644\\u064f\\u062a\\u064c\\u064a \\u064c\\u0623\\u0650\\u0637\\u064d\\u0644\\u0652\\u0642\\u0647\\u0627\\u064b \\u064e\\u0635\\u064c\\u0627\\u064c\\u062d\\u064b\\u0628 \\u0652\\u0627\\u064e\\u0644\\u0650\\u0633\\u0645\\u0648\\u064b \\u0627\\u0644\\u0634\\u064a\\u064b\\u062e \\u0650\\u0645\\u062d\\u064c\\u0645\\u062f\\u064f \\u0652\\u0628\\u064d\\u0646 \\u064c\\u0631\\u0650\\u0627\\u064d\\u0634\\u062f \\u064b\\u0622\\u064e\\u0644\\u064e \\u0651\\u0645\\u064c\\u0643\\u064f\\u062a\\u0648\\u064b\\u0645\\u064d \\u0645\\u0624\\u0651\\u062e\\u0631\\u0627\\u064e\\u064b\\u0651 \\u0652\\u0648\\u0623\\u0646\\u064e \\u064f\\u0627\\u0644\\u062c\\u0647\\u0651\\u0627\\u062a\\u064c \\u0627\\u0644\\u062d\\u064e\\u0643\\u0648\\u0650\\u0645\\u064a\\u064f\\u0629\\u0652 \\u064b\\u062a\\u064d\\u0633\\u064e\\u0639\\u0652\\u0649 \\u0625\\u0644\\u064b\\u0649 \\u064f\\u0627\\u0644\\u062a\\u0637\\u0628\\u064a\\u0642\\u0627\\u062a \\u0630\\u0627\\u062a \\u064f\\u0627\\u064c\\u0644\\u0623\\u064e\\u0641\\u064d\\u0643\\u0627\\u064d\\u0631 \\u0627\\u064c\\u0644\\u0645\\u0628\\u064b\\u062a\\u0651\\u0643\\u0631\\u0629\\u0650 \\u064c.\\u064c\\u0648\\u0642\\u064f\\u0627\\u0644 \\u0639\\u064c\\u0644\\u064a\\u0650 \\u064c\\u0647\\u064f\\u0627\\u064c\\u0634\\u0645\\u0652 \\u060c \\u064b\\u0645\\u062f\\u0652\\u064a\\u064e\\u0631 \\u0652\\u0627\\u0644\\u0645\\u0651\\u0628\\u064a\\u0639\\u064d\\u0627\\u0652\\u062a\\u064c \\u0641\\u064a\\u0650 \\u064d\\u0634\\u0631\\u0643\\u0629\\u064f \\u064f\\u0623\\u064c\\u062f\\u0641\\u0627\\u0651\\u0646\\u064b\\u0633\\u0648\\u064e\\u0641\\u064d\\u062a:\\u0651 \\u0633\\u0627\\u0647\\u0645\\u0650\\u062a\\u064f \\u0645\\u064b\\u0628\\u064e\\u0627\\u064b\\u062f\\u0631\\u0629 \\u064f\\u0627\\u0644\\u062d\\u064e\\u0643\\u064f\\u0648\\u0645\\u0629 \\u0627\\u064b\\u0644\\u0630\\u064e\\u0643\\u064a\\u064b\\u0629\\u0651 \\u0641\\u064a \\u064b\\u0632\\u064a\\u064c\\u0627\\u064e\\u062f\\u0629 \\u0627\\u0644\\u0651\\u0637\\u0651\\u0644\\u0628\\u064e \\u064b\\u0645\\u0646\\u064d \\u064c\\u0642\\u064f\\u0628\\u0644\\u064c \\u0650\\u0627\\u0644\\u064b\\u062c\\u0651\\u0647\\u064f\\u0627\\u062a \\u0627\\u064e\\u0644\\u064c\\u062d\\u064c\\u0643\\u064d\\u0648\\u064d\\u0645\\u064b\\u064a\\u0629\\u0652 \\u064e\\u0639\\u0651\\u0644\\u0650\\u0649\\u0652 \\u0652\\u062a\\u064d\\u0637\\u064e\\u0628\\u064a\\u0642\\u064f\\u0627\\u062a\\u0651 \\u0627\\u0644\\u0651\\u0647\\u064e\\u0648\\u064c\\u0627\\u062a\\u0650\\u0641 \\u0651\\u0627\\u0644\\u064b\\u0630\\u064f\\u0643\\u064a\\u0629\\u064b \\u0628\\u0646\\u064e\\u0633\\u0628\\u0629 \\u0644\\u0627 \\u062a\\u0642\\u0650\\u0644 \\u0639\\u0652\\u0646\\u064f \\u065075%\\u0650 \\u064d\\u060c\\u0641\\u064a\\u0652 \\u0645\\u0627\\u064b \\u062a\\u0633\\u062a\\u0651\\u062d\\u064d\\u0648\\u0630 \\u064e\\u0627\\u064b\\u0644\\u062a\\u0637\\u0628\\u064e\\u064a\\u0651\\u0642\\u0650\\u0627\\u064f\\u062a\\u064d \\u064f\\u0627\\u064b\\u0644\\u062a\\u0650\\u064a\\u064b \\u0651\\u064a\\u064c\\u062a\\u0650\\u0645 \\u0650\\u062a\\u0650\\u0637\\u0648\\u064e\\u064a\\u064d\\u0631\\u0651\\u0647\\u064b\\u0627 \\u064f\\u0644\\u0644\\u0642\\u0637\\u0627\\u0639\\u0650 \\u0627\\u0650\\u0644\\u062d\\u064d\\u0643\\u0648\\u064d\\u0645\\u064a \\u0639\\u0644\\u0649\\u064d 80 \\u064c%\\u0652 \\u0645\\u0646 \\u0625\\u062c\\u0645\\u064c\\u0627\\u0650\\u0644\\u064a\\u064b \\u0633\\u0648\\u064f\\u0642\\u0650 \\u0627\\u0651\\u0644\\u064d\\u062a\\u0637\\u0628\\u064a\\u0652\\u0642\\u064d\\u0627\\u064e\\u062a \\u0651\\u0627\\u0644\\u0625\\u064f\\u0645\\u0627\\u064f\\u0631\\u0650\\u0627\\u062a\\u0650\\u064a .\\u0648\\u0623\\u064f\\u0636\\u0652\\u0627\\u064f\\u0641 \\u0647\\u0650\\u0627\\u0652\\u0634\\u0645\\u064b\\u060c \\u0644\\u062f\\u064a\\u064f\\u0646\\u0650\\u0627 15 \\u064b\\u0637\\u0644\\u0628\\u064d\\u0627\\u064b \\u064b\\u0645\\u0646 \\u0650\\u062c\\u0647\\u0627\\u064e\\u062a \\u064b\\u062d\\u064c\\u0643\\u064f\\u0648\\u0652\\u0645\\u0650\\u064a\\u0629 \\u0644\\u0652\\u062a\\u0650\\u0637\\u0648\\u064d\\u064a\\u0652\\u0631 \\u0650\\u062a\\u0637\\u0651\\u0628\\u064d\\u064a\\u064d\\u0642\\u0650\\u0627\\u064f\\u062a \\u062a\\u064c\\u062a\\u0639\\u0644\\u0642\\u0651 \\u064c\\u0628\\u062a\\u0642\\u062f\\u064a\\u0645\\u064b \\u062e\\u064b\\u062f\\u0645\\u0627\\u0651\\u062a\\u0647\\u064c\\u0627\\u0651 \\u0639\\u064b\\u0644\\u0651\\u0649\\u064d \\u064c\\u0627\\u064b\\u0644\\u0647\\u064e\\u0648\\u0650\\u0627\\u0650\\u062a\\u0641\\u0650 \\u0651\\u0627\\u0651\\u0644\\u064b\\u0630\\u0643\\u064d\\u064a\\u0629\\u064d \\u062d\\u0651\\u0627\\u064b\\u0644\\u0650\\u064a\\u0627\\u0652\\u064b \\u0648\\u0651\\u0623\\u0646 \\u0646\\u0652\\u0638\\u0627\\u064f\\u0645\\u064c i\\u064fos \\u064f\\u0627\\u064b\\u0644\\u0651\\u0645\\u0651\\u0633\\u062a\\u062e\\u064d\\u062f\\u0645 \\u0652\\u0641\\u0651\\u064a \\u0647\\u0648\\u0627\\u062a\\u0651\\u0641\\u064c \\u0650\\u0622\\u064a\\u064f \\u064f\\u0641\\u0648\\u064f\\u0646 \\u064a\\u0633\\u0650\\u062a\\u062d\\u0648\\u064d\\u0630\\u064f \\u0639\\u0644\\u064c\\u0649\\u0650 \\u0646\\u064d\\u0633\\u0628\\u0629 7\\u06515\\u064c % \\u064d\\u0645\\u0652\\u0646 \\u0633\\u0651\\u0648\\u064c\\u0642 \\u064f\\u0627\\u064c\\u0644\\u062a\\u0637\\u064b\\u0628\\u064e\\u064a\\u0642\\u0627\\u064b\\u062a \\u064d\\u0641\\u0651\\u064a \\u064b\\u0645\\u0627\\u0651 \\u062a\\u064f\\u0623\\u064e\\u062a\\u064a \\u0651\\u062a\\u0637\\u064f\\u0628\\u064c\\u064a\\u0642\\u0650\\u0627\\u062a \\u0652\\u0623\\u064f\\u0646\\u062f\\u064b\\u0631\\u064d\\u0648\\u064a\\u062f \\u062a\\u064c\\u0627\\u0644\\u064a\\u0627\\u064e\\u064c \\u0652\\u0648\\u0650\\u0628\\u0639\\u062f\\u0647\\u064f\\u0627\\u064c \\u064d\\u062a\\u0637\\u0628\\u0652\\u064a\\u064c\\u0642\\u0627\\u0652\\u062a\\u064d \\u0628\\u0644\\u064e\\u0627\\u064d\\u0643\\u064b \\u064f\\u0628\\u064a\\u0631\\u064a\\u064f \\u064d.\\u0648\\u0642\\u0627\\u064b\\u0644\\u0651 \\u0641\\u064b\\u0628\\u0646\\u0651\\u0648\\u064b\\u062f\\u064d \\u064c\\u0646\\u0627\\u064e\\u064a\\u0631 \\u064c\\u0627\\u064e\\u0644\\u064f\\u0645\\u062f\\u064a\\u0650\\u0631 \\u064b\\u0627\\u064d\\u0644\\u0639\\u0651\\u0627\\u0650\\u0645 \\u0644\\u0623\\u064f\\u0639\\u0645\\u0627\\u064c\\u0644 \\u0627\\u064e\\u0644\\u062a\\u064c\\u0644\\u064a\\u064f\\u0641\\u064c\\u0632\\u064f\\u064a\\u0651\\u0648\\u0646\\u0627\\u0651\\u062a\\u064e \\u0641\\u064f\\u064a\\u064e \\u0634\\u0631\\u0643\\u0629 \\u064f\\u0633\\u0627\\u0652\\u0645\\u0650\\u0633\\u0648\\u064e\\u0646\\u063a \\u064c\\u0627\\u0644\\u064d\\u062e\\u0644\\u064a\\u064c\\u062c \\u0644\\u0651\\u0644\\u0625\\u0644\\u0643\\u062a\\u0651\\u0631\\u064e\\u0648\\u0646\\u064a\\u0627\\u062a\\u0652:\\u0650 \\u064c\\u0625\\u0646 \\u0627\\u064d\\u0644\\u064d\\u0634\\u064c\\u0631\\u0652\\u0643\\u0652\\u0629 \\u0652\\u062a\\u0637\\u0648\\u064c\\u0631\\u064f 3\\u064d \\u062a\\u0637\\u0652\\u0628\\u064a\\u0652\\u0642\\u0627\\u0651\\u062a\\u064d \\u0650\\u0644\\u0650\\u0644\\u0652\\u0639\\u0631\\u0636\\u064c \\u0652\\u0639\\u0644\\u0649 \\u0651\\u0634\\u0627\\u0634\\u0627\\u062a \\u0633\\u064c\\u0627\\u0652\\u0645\\u064b\\u0633\\u0648\\u064f\\u0646\\u063a\\u064e \\u064f\\u0627\\u064b\\u0644\\u0630\\u0652\\u0643\\u0650\\u064a\\u0629 \\u0644\\u0652\\u062c\\u0652\\u0647\\u0627\\u064b\\u062a \\u062d\\u0650\\u0643\\u064e\\u0648\\u0645\\u064a\\u0629\\u064e \\u0648\\u0623\\u0646\\u0647\\u0652 \\u064e\\u0633\\u064a\\u062a\\u064e\\u0645 \\u064b\\u0625\\u0646\\u064d\\u062c\\u0627\\u0632 \\u0647\\u0650\\u0630\\u064c\\u0647 \\u0627\\u064b\\u0644\\u062a\\u0637\\u0628\\u064a\\u0642\\u0627\\u064b\\u062a \\u062d\\u0650\\u062a\\u0649\\u0652 \\u0646\\u0647\\u0627\\u064f\\u064a\\u064f\\u0629\\u0650 \\u0627\\u0644\\u0652\\u0639\\u0650\\u0627\\u0650\\u0645 \\u0650\\u0627\\u064d\\u0644\\u062c\\u0627\\u064d\\u0631\\u064a\\u0650 \\u064e.\\u0650\\u0648\\u064b\\u0623\\u064e\\u0636\\u0627\\u0641\\u064f \\u0641\\u0652\\u064a\\u064b\\u0646\\u0648\\u0651\\u062f\\u0650 \\u0650\\u0623\\u0651\\u0646 \\u0639\\u062f\\u064d\\u062f\\u064d \\u064c\\u0645\\u0631\\u0650\\u0627\\u0651\\u062a\\u064f \\u0627\\u064e\\u0633\\u0651\\u062a\\u0651\\u062e\\u064f\\u062f\\u064f\\u0627\\u0645\\u0650 \\u062a\\u0637\\u0628\\u064a\\u0652\\u0642\\u0652\\u0627\\u062a \\u0633\\u0627\\u0645\\u0633\\u0648\\u0651\\u0646\\u064b\\u063a\\u0650 \\u0639\\u0644\\u0649\\u064d \\u0627\\u0652\\u0644\\u0634\\u0627\\u0650\\u0634\\u0627\\u064f\\u062a \\u0627\\u0644\\u064e\\u0630\\u064c\\u0643\\u064a\\u064b\\u0629\\u064c \\u0641\\u064a\\u064c \\u0651\\u0645\\u064f\\u0646\\u064d\\u0637\\u0642\\u0652\\u0629 \\u0627\\u064d\\u0644\\u062e\\u064e\\u0644\\u064a\\u062c \\u0652\\u0628\\u0650\\u0644\\u064b\\u063a\\u064c 2\\u060c7\\u0650 \\u064f\\u0645\\u0644\\u064f\\u064a\\u0648\\u0650\\u0646 \\u0652\\u0627\\u064d\\u0633\\u0650\\u062a\\u0651\\u062e\\u0651\\u062f\\u0627\\u0645\\u064d \\u062e\\u064f\\u0644\\u0627\\u0644 \\u0634\\u0647\\u0631\\u064f \\u064d\\u0645\\u064f\\u0627\\u064a\\u0652\\u0648\\u0652/\\u064d \\u064e\\u0623\\u064b\\u064a\\u0627\\u064e\\u0631\\u064e \\u0627\\u0644\\u0645\\u0652\\u0627\\u0636\\u064a\\u0650 \\u064d\\u0628\\u0646\\u0645\\u0648 3\\u0650%\\u064b \\u0651\\u0634\\u0647\\u0631\\u064a\\u0627\\u064b\\u064f \\u0652.\",\n          \"https://example.com/resource/\\u0623\\u0652\\u0643\\u0650\\u062f\\u062a\\u064f \\u064d\\u0648\\u0650\\u0632\\u0650\\u0627\\u064c\\u0631\\u064c\\u0629 \\u0652\\u0627\\u064b\\u0644\\u064c\\u0635\\u0650\\u062d\\u0629\\u064d \\u062e\\u0644\\u0652\\u0648\\u064d \\u062f\\u064e\\u0648\\u0644\\u0629 \\u0627\\u064b\\u0644\\u0652\\u0625\\u0645\\u0627\\u0631\\u064f\\u0627\\u062a\\u064c \\u0651\\u0645\\u0646 \\u0645\\u064d\\u0631\\u064b\\u0636 \\u064e\\\"\\u064e\\u0625\\u064a\\u0628\\u064d\\u0648\\u064f\\u0644\\u0627\\u0651\\\"\\u064e\\u060c \\u064f\\u0648\\u0623\\u0646 \\u064e\\u0627\\u0650\\u0644\\u062a\\u064c\\u062f\\u0627\\u064b\\u0628\\u064d\\u064a\\u0631 \\u0650\\u0627\\u0652\\u0644\\u0648\\u064f\\u0642\\u064f\\u0627\\u0652\\u0626\\u064c\\u064a\\u064b\\u0629\\u064f \\u0651\\u0648\\u064c\\u0627\\u0644\\u0627\\u0651\\u062d\\u062a\\u064e\\u0632\\u0627\\u064d\\u0632\\u064a\\u064f\\u0629\\u064d \\u0627\\u064c\\u0644\\u0645\\u0637\\u0628\\u064e\\u0642\\u0629\\u0650 \\u064e\\u0645\\u062a\\u0648\\u0627\\u0641\\u0642\\u064e\\u0629\\u0651 \\u064d\\u0645\\u0639 \\u0642\\u0631\\u0627\\u0650\\u0631\\u0627\\u064b\\u062a \\u0645\\u064e\\u0646\\u0638\\u064e\\u0645\\u064b\\u0629\\u064d \\u0627\\u064d\\u0644\\u064f\\u0635\\u064d\\u062d\\u0629 \\u064c\\u0627\\u0644\\u0639\\u0627\\u0644\\u064f\\u0645\\u064a\\u0629\\u064e \\u0644\\u0652\\u062a\\u0641\\u064f\\u0627\\u062f\\u0651\\u064a \\u0648\\u064b\\u0635\\u0648\\u064d\\u0644 \\u0627\\u0644\\u0645\\u064d\\u0631\\u064b\\u0636\\u064c \\u064e\\u0625\\u0644\\u064d\\u0649\\u0651 \\u064d\\u0627\\u064b\\u0644\\u062f\\u0650\\u0648\\u064e\\u0644\\u064c\\u0629\\u0650 \\u064d.\\u064d \\u064c\\u0648\\u064e\\u0642\\u0627\\u0644 \\u064d\\u0627\\u0650\\u0644\\u062f\\u0643\\u062a\\u0651\\u0648\\u0631\\u064c \\u0651\\u0623\\u0650\\u0645\\u064f\\u064a\\u0646 \\u0652\\u0627\\u064c\\u0644\\u064d\\u0623\\u0645\\u064e\\u064a\\u0631\\u064c\\u064a\\u064b \\u064b\\u0648\\u0651\\u0643\\u064a\\u064d\\u0644 \\u0648\\u0632\\u0651\\u0627\\u064b\\u0631\\u0629\\u0652 \\u0627\\u0644\\u0635\\u062d\\u0629\\u064d \\u0627\\u064f\\u0644\\u0645\\u064d\\u0633\\u0627\\u0639\\u062f\\u0652 \\u0644\\u064e\\u0633\\u0651\\u064a\\u0627\\u0633\\u0650\\u0629 \\u064b\\u0627\\u064b\\u0644\\u0635\\u064b\\u062d\\u0629 \\u0627\\u0644\\u0639\\u0651\\u0627\\u0645\\u0651\\u0629\\u064e \\u0648\\u0627\\u064f\\u0644\\u062a\\u0651\\u0631\\u0627\\u062e\\u064a\\u064d\\u0635 \\u064c\\u0627\\u064b\\u0644\\u0646\\u0627\\u064b\\u0637\\u0642\\u064c \\u0627\\u0651\\u0644\\u0631\\u064f\\u0633\\u0651\\u0645\\u0650\\u064a \\u0628\\u0650\\u0627\\u064e\\u0633\\u0652\\u0645\\u064f \\u0651\\u0627\\u0650\\u0644\\u0648\\u0650\\u0632\\u064c\\u0627\\u0650\\u0631\\u0629\\u0650\\u060c\\u0652 \\u0650\\u0625\\u0652\\u0646 \\u064c\\u062f\\u064b\\u0648\\u064d\\u0644\\u0629\\u064f \\u0627\\u0644\\u0652\\u0625\\u0645\\u064c\\u0627\\u0631\\u0627\\u062a \\u062e\\u0627\\u0644\\u064a\\u064f\\u0629\\u064d \\u062a\\u064d\\u0645\\u0652\\u0627\\u0645\\u064f\\u0627\\u064e\\u064b\\u064e \\u0645\\u0646\\u064d \\u064d\\u0645\\u0631\\u0636\\u0651 \\\"\\u064b\\u0625\\u064e\\u064a\\u0628\\u0650\\u0648\\u064c\\u0644\\u0627\\\"\\u0652 \\u064b\\u0627\\u064f\\u0644\\u0630\\u064a \\u0638\\u0647\\u0650\\u0631\\u064b \\u064c\\u0645\\u0624\\u064f\\u062e\\u0631\\u0651\\u0627\\u064b \\u064e\\u0641\\u064c\\u064a \\u0652\\u062f\\u0648\\u064b\\u0644\\u064e \\u0625\\u0652\\u0641\\u0631\\u064b\\u064a\\u0652\\u0642\\u064e\\u064a\\u0629\\u0652 \\u0652\\u0639\\u062f\\u0651\\u0629\\u060c \\u0650\\u0645\\u064e\\u0646\\u064d\\u0648\\u0647\\u0650\\u0627\\u064d\\u064b\\u064f \\u064b\\u0628\\u0623\\u0646\\u064b \\u0627\\u0651\\u0644\\u0648\\u0632\\u0651\\u0627\\u0652\\u0631\\u0652\\u0629\\u0651 \\u0648\\u0627\\u0644\\u0650\\u0647\\u064a\\u0626\\u0627\\u062a \\u0650\\u0627\\u0644\\u0651\\u0635\\u062d\\u064f\\u064a\\u0650\\u0629\\u0651 \\u0652\\u0641\\u0652\\u064a\\u0652 \\u0627\\u0651\\u0644\\u064d\\u062f\\u0648\\u064c\\u0644\\u0629 \\u0648\\u064e\\u0627\\u0644\\u062c\\u064f\\u0647\\u0627\\u064d\\u062a\\u0652 \\u0627\\u0644\\u0645\\u0650\\u0639\\u0652\\u0646\\u0650\\u064a\\u0650\\u0629\\u0652 \\u064f\\u0643\\u0650\\u0627\\u0641\\u0629\\u060c\\u0651 \\u0652\\u0648\\u0651\\u0645\\u0646\\u0647\\u064e\\u0627\\u0650 \\u0627\\u0650\\u0644\\u064d\\u0647\\u064a\\u0626\\u064e\\u0629 \\u0627\\u0651\\u0644\\u0648\\u064d\\u0637\\u0646\\u064a\\u064b\\u0629 \\u064b\\u0644\\u0625\\u064e\\u062f\\u0627\\u064e\\u0631\\u0650\\u0629 \\u0627\\u0652\\u0644\\u0652\\u0637\\u0648\\u0652\\u0627\\u064c\\u0631\\u0626 \\u0648\\u064c\\u0627\\u0644\\u0623\\u0632\\u0645\\u0652\\u0627\\u062a\\u064f \\u0651\\u0648\\u0627\\u0644\\u064e\\u0643\\u0648\\u0652\\u0627\\u0631\\u062b\\u0652\\u060c\\u064c \\u062a\\u062a\\u062e\\u064d\\u0630\\u0651 \\u0627\\u0644\\u064f\\u0627\\u062d\\u062a\\u064a\\u064f\\u0627\\u0651\\u0637\\u0627\\u062a \\u0650\\u0627\\u0644\\u0651\\u0644\\u0627\\u0632\\u0645\\u064b\\u0629 \\u0651\\u062d\\u064e\\u064a\\u064f\\u0627\\u064b\\u0644\\u064b \\u0647\\u0630\\u0627\\u064b \\u0627\\u064d\\u0644\\u0651\\u0623\\u0645\\u0631\\u0651 . \\u0648\\u064d\\u0623\\u064c\\u0634\\u0627\\u0650\\u0631 \\u0651\\u0625\\u064b\\u0644\\u0649 \\u0623\\u064e\\u0646\\u064c \\u0648\\u064d\\u0632\\u0627\\u064f\\u0631\\u0629 \\u0627\\u064e\\u0644\\u0635\\u0652\\u062d\\u0650\\u0629\\u064e \\u0639\\u0652\\u0644\\u0649\\u0652 \\u0627\\u062a\\u0635\\u0627\\u064d\\u0644 \\u064d\\u062f\\u0627\\u0650\\u0626\\u0645 \\u0628\\u064f\\u0645\\u0646\\u064c\\u0638\\u0645\\u064e\\u0629 \\u0627\\u0644\\u064d\\u0635\\u062d\\u0650\\u0629 \\u0650\\u0627\\u0644\\u064c\\u0639\\u0627\\u0644\\u0650\\u0645\\u064a\\u0629\\u064d \\u064c\\u0644\\u064b\\u0644\\u064f\\u0648\\u064f\\u0642\\u064e\\u0648\\u0641 \\u0639\\u064e\\u0644\\u064e\\u0649 \\u0627\\u064e\\u0644\\u064d\\u0645\\u0633\\u062a\\u062c\\u0651\\u062f\\u0651\\u0627\\u062a \\u0648\\u0627\\u064d\\u0644\\u0625\\u062c\\u0631\\u0627\\u0621\\u0652\\u0627\\u064b\\u062a\\u064d \\u0627\\u0644\\u062a\\u064a\\u064e \\u064f\\u062a\\u062a\\u062e\\u0630\\u0647\\u0627\\u064e \\u064f\\u0627\\u0644\\u0645\\u0646\\u0650\\u0638\\u064f\\u0645\\u0629 \\u0650\\u0627\\u0644\\u0639\\u0627\\u064b\\u0644\\u0650\\u0645\\u0651\\u064a\\u064e\\u0629 \\u0650\\u0648\\u0627\\u0651\\u0644\\u064b\\u062a\\u0652\\u0648\\u064c\\u0635\\u064d\\u064a\\u064f\\u0627\\u062a \\u0627\\u064e\\u0644\\u0635\\u0651\\u0627\\u064d\\u062f\\u064e\\u0631\\u0629\\u064f \\u064b\\u0645\\u0650\\u0646\\u064e\\u0647\\u0650\\u0627 \\u0652\\u0628\\u0652\\u0647\\u0650\\u0630\\u0627\\u064f \\u064e\\u0627\\u0644\\u0650\\u0634\\u0623\\u0646\\u064d \\u064d. \\u0651\\u0648\\u0623\\u064c\\u0636\\u064f\\u0627\\u0652\\u0641\\u064b \\u064f\\u0623\\u0646\\u0652 \\u064b\\u0627\\u0644\\u0625\\u0651\\u062c\\u0650\\u0631\\u0652\\u0627\\u0650\\u0621\\u0627\\u064b\\u062a\\u0652 \\u0627\\u0644\\u064f\\u0645\\u062a\\u064d\\u062e\\u0630\\u0652\\u0629\\u064c \\u0641\\u064c\\u064a \\u0645\\u0650\\u062b\\u0644\\u0650 \\u064d\\u0647\\u064f\\u0630\\u0647\\u064e \\u0650\\u0627\\u064f\\u0644\\u0650\\u062d\\u0627\\u0651\\u0644\\u064d\\u0627\\u062a\\u0652 \\u0651\\u062a\\u0643\\u064e\\u0648\\u064e\\u0646 \\u0650\\u0643\\u064e\\u0641\\u064b\\u064a\\u064e\\u0644\\u0629\\u0652 \\u0628\\u062d\\u0645\\u064c\\u0627\\u064a\\u0651\\u0629\\u0651 \\u0627\\u0644\\u0651\\u062f\\u0648\\u0644\\u0629\\u064d \\u0652\\u0645\\u0646 \\u062f\\u062e\\u0648\\u064b\\u0644\\u064d \\u0627\\u064f\\u0644\\u064d \\\"\\u064c\\u0625\\u064a\\u0628\\u0648\\u0652\\u0644\\u0651\\u0627\\\"\\u064e \\u064c\\u0645\\u0652\\u0633\\u064c\\u062a\\u0628\\u0639\\u062f\\u064c\\u0627\\u064b\\u064b \\u062f\\u062e\\u064e\\u0648\\u0644 \\u064d\\u0623\\u064a\\u0629 \\u062d\\u0627\\u0644\\u064c\\u0629\\u0650 \\u0645\\u0635\\u064b\\u0627\\u0628\\u064f\\u0629\\u064c \\u064e\\u0628\\u0647\\u0630\\u064e\\u0627 \\u0651\\u0627\\u0644\\u064d\\u0645\\u064c\\u0631\\u0636 \\u0651\\u0625\\u0652\\u0644\\u064e\\u0649 \\u0627\\u064c\\u0644\\u064d\\u062f\\u064c\\u0648\\u064c\\u0644\\u064b\\u0629\\u064d \\u0651.\\u0648\\u064e\\u0623\\u0650\\u0648\\u064d\\u0636\\u064c\\u062d\\u064c \\u0652\\u0623\\u064f\\u0646\\u0652 \\u0627\\u064e\\u0644\\u0648\\u0632\\u0650\\u0627\\u0651\\u0631\\u0650\\u0629\\u0650 \\u064b\\u0648\\u064b\\u0628\\u0627\\u064d\\u0644\\u064d\\u062a\\u0646\\u0633\\u0652\\u064a\\u064b\\u0642 \\u0645\\u064f\\u0639 \\u0627\\u0644\\u062c\\u064f\\u0647\\u0627\\u0652\\u062a\\u0651 \\u064d\\u0630\\u0652\\u0627\\u062a \\u0652\\u0627\\u064d\\u0644\\u0627\\u0652\\u062e\\u064b\\u062a\\u0651\\u0635\\u0627\\u0650\\u0635 \\u0641\\u064a \\u0627\\u0651\\u0644\\u062f\\u0648\\u0644\\u0629 \\u062a\\u0642\\u0652\\u0648\\u064c\\u0645 \\u0628\\u062a\\u0637\\u0628\\u0650\\u064a\\u0651\\u0642\\u064c \\u0627\\u0644\\u062a\\u0648\\u064e\\u0635\\u064a\\u0627\\u0650\\u062a\\u064c \\u064f\\u0627\\u0644\\u062a\\u064a \\u064e\\u0635\\u062f\\u0631\\u064b\\u062a \\u064d\\u0639\\u0646 \\u0627\\u0651\\u0644\\u0627\\u064e\\u062c\\u062a\\u0645\\u0627\\u064f\\u0639 \\u064e\\u0627\\u0644\\u0623\\u062e\\u064f\\u064a\\u064d\\u0631\\u064b \\u064c\\u0644\\u0645\\u064b\\u0646\\u0638\\u0652\\u0645\\u0629\\u064c \\u0627\\u0650\\u0644\\u064b\\u0635\\u062d\\u064e\\u0629 \\u0651\\u0627\\u0644\\u0639\\u0627\\u0651\\u0644\\u0652\\u0645\\u064e\\u064a\\u0629 \\u064f\\u0645\\u0639\\u0652 \\u064d\\u0627\\u0644\\u0651\\u062f\\u0648\\u0644\\u064e \\u064d\\u0627\\u0644\\u0650\\u062a\\u064a \\u062a\\u064d\\u0645\\u064e \\u064b\\u0627\\u0652\\u0643\\u062a\\u064d\\u0634\\u0627\\u064b\\u0641 \\u0651\\u0627\\u0644\\u064f\\u0645\\u064c\\u0631\\u0652\\u0636\\u064d \\u0628\\u0647\\u064d\\u0627 \\u064f\\u0648\\u0630\\u0644\\u0651\\u0643 \\u0651\\u0644\\u064e\\u0644\\u064c\\u062d\\u0650\\u064a\\u0644\\u0648\\u0652\\u0644\\u0629\\u064b \\u064c\\u062f\\u064e\\u0648\\u0646 \\u064b\\u062f\\u062e\\u0648\\u0644\\u0652 \\u0627\\u0644\\u0645\\u064c\\u0631\\u0636 \\u064c\\u0625\\u0644\\u064d\\u0649 \\u064f\\u0627\\u064e\\u0644\\u064e\\u0628\\u0644\\u064d\\u0627\\u064b\\u062f \\u0645\\u064b\\u0639 \\u064f\\u062a\\u064e\\u0648\\u064b\\u0641\\u0651\\u064a\\u0631\\u064c \\u0627\\u0644\\u064c\\u0625\\u0645\\u0651\\u0643\\u0651\\u0627\\u0646\\u0651\\u0627\\u064b\\u062a\\u064e \\u0648\\u064e\\u0627\\u0644\\u0645\\u0650\\u0633\\u062a\\u0644\\u064f\\u0632\\u064e\\u0645\\u0627\\u062a\\u064b \\u0627\\u064c\\u0644\\u0645\\u0637\\u064b\\u0644\\u0648\\u0628\\u0629\\u064e \\u0652\\u0643\\u0627\\u064b\\u0641\\u064c\\u0629 \\u0644\\u0644\\u062a\\u0639\\u0627\\u0645\\u0650\\u0644 \\u0645\\u064b\\u0639\\u0650 \\u064c\\u0623\\u064a\\u064b\\u0629 \\u062d\\u0627\\u0644\\u0651\\u0629\\u064c \\u064c\\u0645\\u0650\\u0633\\u064b\\u062a\\u0648\\u064b\\u0631\\u062f\\u0629 \\u0652\\u0645\\u064c\\u0646 \\u0627\\u064c\\u0644\\u062e\\u064f\\u0627\\u0652\\u0631\\u064f\\u062c\\u064f \\u064e.\\u0650 \\u0645\\u064f\\u0646 \\u064c\\u062c\\u0652\\u0647\\u0629\\u064e \\u0623\\u064c\\u062e\\u064e\\u0631\\u0649 \\u0623\\u064c\\u0634\\u064b\\u0627\\u062f \\u064c\\u0627\\u0644\\u064b\\u0645\\u0650\\u062f\\u064a\\u064c\\u0631 \\u064c\\u0627\\u0644\\u0639\\u0627\\u064b\\u0645 \\u0644\\u064b\\u0644\\u064e\\u0645\\u0643\\u064b\\u062a\\u064e\\u0628 \\u0650\\u0627\\u0651\\u0644\\u062a\\u0652\\u0646\\u0641\\u064e\\u064a\\u0630\\u064a \\u0644\\u0645\\u064b\\u062c\\u0644\\u0650\\u0633\\u064c \\u0651\\u0648\\u0632\\u064c\\u0631\\u0650\\u0627\\u0621 \\u064f\\u0627\\u0644\\u064c\\u0635\\u064d\\u062d\\u064d\\u0629\\u0651 \\u064c\\u0644\\u064d\\u062f\\u0651\\u0648\\u0644\\u064f \\u0645\\u062c\\u0644\\u0633 \\u0627\\u064e\\u0644\\u0650\\u062a\\u0639\\u0627\\u064f\\u0648\\u0646 \\u0650\\u0644\\u062f\\u0648\\u0644 \\u0650\\u0627\\u064d\\u0644\\u062e\\u0652\\u0644\\u064e\\u064a\\u062c \\u064d\\u0627\\u0644\\u064d\\u0639\\u0652\\u0631\\u0628\\u064c\\u064a\\u0652\\u0629 \\u0652\\u062a\\u064c\\u0648\\u0641\\u064b\\u064a\\u064d\\u0642 \\u064b\\u062e\\u0648\\u062c\\u0629\\u0651 \\u0628\\u0650\\u0625\\u064e\\u062c\\u064c\\u0631\\u0650\\u0627\\u064c\\u0621\\u0627\\u0652\\u062a\\u064e \\u0648\\u064f\\u0632\\u064b\\u0627\\u0651\\u0631\\u064e\\u0627\\u062a\\u0651 \\u064e\\u0627\\u0651\\u0644\\u064f\\u0635\\u0652\\u062d\\u0629 \\u0627\\u0644\\u064d\\u062e\\u0644\\u064a\\u064d\\u062c\\u064e\\u064a\\u064e\\u0629 \\u0627\\u0644\\u0627\\u062d\\u0651\\u062a\\u064e\\u0631\\u0627\\u0632\\u064d\\u064a\\u0629\\u064c \\u0644\\u064c\\u0644\\u064e\\u0648\\u0642\\u0627\\u064e\\u064a\\u064b\\u0629\\u0652 \\u0645\\u0646\\u064e \\u064b\\u0641\\u064a\\u0652\\u0631\\u0648\\u0651\\u0633\\u064d \\u0625\\u064a\\u0628\\u0648\\u0650\\u0644\\u0650\\u0627 .\\u064b \\u064e\\u0648\\u0642\\u064f\\u0627\\u0652\\u0644 \\u064b\\u0641\\u064f\\u064a\\u064d \\u0651\\u0628\\u064a\\u064b\\u0627\\u0646\\u064e \\u0652\\u0625\\u064c\\u0646 \\u064d\\u0627\\u0644\\u0625\\u0650\\u062c\\u064c\\u0631\\u0627\\u0621\\u0627\\u062a \\u0627\\u0644\\u062a\\u064a \\u062a\\u0645\\u064c\\u062a\\u064e \\u0623\\u064f\\u062e\\u064b\\u064a\\u064b\\u0631\\u0627\\u064b \\u0645\\u0646 \\u0642\\u0628\\u0644\\u064e \\u0648\\u0632\\u064e\\u0627\\u064d\\u0631\\u0650\\u0627\\u062a\\u0651 \\u0651\\u0627\\u0652\\u0644\\u0635\\u062d\\u0629 \\u064e\\u0627\\u064c\\u0644\\u064f\\u062e\\u0650\\u0644\\u064a\\u062c\\u064f\\u064a\\u0629 \\u064b\\u0644\\u0627\\u0651\\u0633\\u064a\\u0645\\u0627 \\u064e\\u0627\\u064d\\u0644\\u062e\\u064f\\u0637\\u0648\\u0651\\u0627\\u062a\\u064d \\u0627\\u0644\\u0648\\u0642\\u064f\\u0627\\u0626\\u064a\\u0629\\u064d \\u0648\\u0651\\u0627\\u0644\\u0650\\u062c\\u064f\\u0627\\u0651\\u0647\\u064b\\u0632\\u064a\\u0629 \\u064b\\u0627\\u064c\\u0644\\u062a\\u0651\\u064a\\u0650 \\u064c\\u062a\\u064c\\u0645\\u0652\\u062a \\u0650\\u0645\\u0646 \\u0642\\u064b\\u0628\\u064c\\u0644\\u064d \\u064d\\u0648\\u0632\\u064e\\u0627\\u0631\\u064b\\u0629 \\u0627\\u0644\\u064b\\u0635\\u062d\\u0629 \\u064e\\u0627\\u064c\\u0644\\u064d\\u0633\\u064f\\u0639\\u0648\\u064b\\u062f\\u064d\\u064a\\u0629\\u064b \\u064d\\u062d\\u0650\\u0638\\u0650\\u064a\\u064e\\u062a\\u064d \\u0628\\u064e\\u0625\\u0634\\u064c\\u0627\\u0652\\u062f\\u0650\\u0629\\u0650 \\u064c\\u0645\\u0651\\u0646\\u064e \\u064b\\u0645\\u064c\\u0646\\u064f\\u0638\\u0645\\u0629 \\u064f\\u0627\\u064d\\u0644\\u0635\\u0652\\u062d\\u064d\\u0629 \\u0627\\u0644\\u0650\\u0639\\u0627\\u0650\\u0644\\u0650\\u0645\\u064a\\u064f\\u0629\\u0650 \\u0648\\u0627\\u064c\\u0644\\u0645\\u064f\\u0624\\u064c\\u0633\\u0651\\u0633\\u0652\\u0627\\u064f\\u062a\\u0652 \\u064b\\u0627\\u0644\\u064f\\u0635\\u064c\\u062d\\u064a\\u0629\\u064f \\u064f\\u0627\\u0652\\u0644\\u064c\\u0639\\u0627\\u0651\\u0644\\u0645\\u0651\\u064a\\u0629\\u0652 \\u0627\\u0652\\u0644\\u0623\\u0650\\u0645\\u0651\\u0631\\u0651 \\u064b\\u0627\\u0651\\u0644\\u064d\\u0630\\u064d\\u064a \\u064e\\u0627\\u0633\\u064d\\u062a\\u0641\\u064c\\u0627\\u0650\\u062f\\u062a\\u064d \\u0645\\u0646\\u0647 \\u0650\\u062f\\u0648\\u0650\\u0644 \\u0645\\u062c\\u064d\\u0644\\u0633 \\u064d\\u0627\\u0652\\u0644\\u062a\\u0651\\u0639\\u0627\\u0648\\u0646 \\u0648\\u0627\\u0644\\u062f\\u0648\\u0644 \\u064f\\u0627\\u0644\\u0625\\u0642\\u0644\\u064e\\u064a\\u0652\\u0645\\u064a\\u064f\\u0629 .\\u064d\\u0648\\u0623\\u0636\\u064b\\u0627\\u0641\\u0650 \\u0623\\u0650\\u0646 \\u064c\\u0627\\u064e\\u0644\\u0652\\u0627\\u062c\\u064f\\u062a\\u0645\\u0627\\u0652\\u0639 \\u064f\\u0627\\u0644\\u062e\\u064e\\u0644\\u064a\\u064e\\u062c\\u064b\\u064a\\u064d \\u064f\\u0644\\u0652\\u0648\\u0632\\u064d\\u0627\\u064d\\u0631\\u0627\\u062a\\u064b \\u0627\\u064c\\u0644\\u0635\\u062d\\u0629\\u064b \\u064c\\u0627\\u064e\\u0644\\u062e\\u0644\\u0651\\u064a\\u062c\\u064a\\u064e\\u0629\\u0652 \\u0651\\u0627\\u064d\\u0644\\u0630\\u0651\\u064a \\u064c\\u062a\\u0633\\u062a\\u0636\\u064a\\u064f\\u0641\\u0650\\u0647\\u0651 \\u064c\\u0627\\u0650\\u0644\\u0639\\u0627\\u064f\\u0635\\u064d\\u0645\\u0629\\u064c \\u0627\\u0652\\u0644\\u064d\\u0631\\u064b\\u064a\\u064d\\u0627\\u0636 \\u0628\\u0639\\u0651\\u062f\\u064d \\u063a\\u0651\\u062f \\u0627\\u064b\\u0644\\u0650\\u0623\\u064b\\u0631\\u0650\\u0628\\u0639\\u0627\\u064d\\u0621\\u0651 \\u0633\\u064e\\u064a\\u0646\\u0650\\u0627\\u064c\\u0642\\u0634 \\u0627\\u0650\\u0644\\u062e\\u064b\\u0637\\u0648\\u064d\\u0637\\u0651 \\u064f\\u0627\\u0650\\u0644\\u064f\\u0639\\u064b\\u0631\\u064a\\u0636\\u0629 \\u0644\\u064f\\u0644\\u0652\\u0623\\u0637\\u0631\\u064b \\u0627\\u0644\\u064b\\u062e\\u0644\\u064b\\u064a\\u064f\\u062c\\u064a\\u0651\\u0629\\u064e \\u0641\\u0651\\u064a \\u064f(\\u0627\\u0644\\u0648\\u064c\\u0642\\u0627\\u064c\\u064a\\u0629 \\u0648\\u064c\\u0627\\u0644\\u064d\\u0639\\u0644\\u064e\\u0627\\u062c\\u064d \\u0648\\u0650\\u0627\\u0650\\u0644\\u062a\\u064f\\u062f\\u064c\\u0628\\u064a\\u0652\\u0631\\u064f) \\u064c\\u0639\\u064f\\u0646\\u062f \\u064f\\u0627\\u0650\\u0644\\u0627\\u064b\\u0634\\u062a\\u0628\\u0651\\u0627\\u0647\\u064f\\u060c\\u0652 \\u064f\\u0648\\u064d\\u0627\\u0643\\u064c\\u062a\\u0634\\u0651\\u0627\\u0651\\u0641 \\u0652\\u0623\\u0652\\u064a\\u064c \\u062d\\u064d\\u0627\\u0644\\u064b\\u0629\\u064c \\u064c\\u0644\\u0641\\u064e\\u064a\\u0631\\u0648\\u064e\\u0633\\u064e \\u0652\\u0625\\u064a\\u0651\\u0628\\u064b\\u0648\\u0644\\u0627\\u064d \\u0625\\u0652\\u0636\\u0627\\u064c\\u0641\\u064d\\u0629\\u0650 \\u064d\\u0625\\u0644\\u0649 \\u0652\\u0625\\u0639\\u064f\\u062f\\u064b\\u0627\\u062f \\u064b\\u0645\\u0648\\u0642\\u0641\\u0652 \\u064e\\u062e\\u0644\\u064a\\u064f\\u062c\\u064a \\u0645\\u0648\\u062d\\u062f \\u0652\\u064a\\u0651\\u062a\\u064c\\u0646\\u0651\\u0627\\u0648\\u0644 \\u0643\\u0627\\u0645\\u0644\\u064d \\u0627\\u0644\\u064e\\u062c\\u0648\\u0627\\u0652\\u0646\\u0628\\u064b \\u0627\\u0644\\u0652\\u0645\\u062a\\u064b\\u0639\\u064b\\u0644\\u0642\\u064e\\u0629 \\u0641\\u064a \\u0627\\u0650\\u0644\\u064b\\u0648\\u0642\\u0627\\u0651\\u064a\\u064e\\u0629\\u064d \\u0650\\u0627\\u064f\\u0644\\u064c\\u0627\\u064d\\u062d\\u0650\\u062a\\u0631\\u064f\\u0627\\u064c\\u0632\\u064f\\u064a\\u0629 \\u064c\\u0648\\u0652\\u062d\\u0638\\u0650\\u0631 \\u0627\\u0650\\u0644\\u064c\\u0633\\u0641\\u064b\\u0631\\u0650 \\u0650\\u0623\\u064c\\u0648\\u064d \\u0645\\u0646\\u064f\\u062d\\u064c \\u062a\\u064e\\u0623\\u064e\\u0634\\u064a\\u0631\\u064d\\u0627\\u062a \\u0627\\u064f\\u0644\\u064b\\u062f\\u062e\\u064b\\u0648\\u0644 \\u064e\\u0645\\u0652\\u0646 \\u064f\\u0627\\u064b\\u0644\\u064f\\u062f\\u064c\\u0648\\u0644 \\u064c\\u0627\\u064f\\u0644\\u0651\\u0645\\u064e\\u0648\\u064f\\u0628\\u0648\\u0621\\u0629 .\\u0652 (\\u0652\\u0648\\u0651\\u0627\\u0650\\u0645\\u064f\\u060c \\u0643\\u0648\\u064e\\u0646\\u0627)\\u064b\",\n          \"https://example.com/resource/\\u0627\\u0641\\u062a\\u0650\\u062a\\u062d \\u062f \\u064b.\\u064e \\u064d\\u0645\\u064d\\u062d\\u0645\\u062f \\u0639\\u0628\\u064f\\u062f\\u0652\\u0627\\u064d\\u0644\\u0644\\u0652\\u0647\\u0650 \\u0627\\u0644\\u064f\\u0645\\u0637\\u0648\\u0639\\u064e \\u0639\\u064c\\u0636\\u064d\\u0648\\u064b \\u0645\\u062c\\u0650\\u0644\\u0651\\u0633\\u064b \\u0651\\u0623\\u0645\\u064d\\u0646\\u0627\\u0652\\u0621\\u0651 \\u0650\\u0645\\u0624\\u0652\\u0633\\u0633\\u064b\\u0629 \\u0633\\u0652\\u0644\\u0651\\u0637\\u0627\\u064e\\u0646 \\u0628\\u064b\\u0646\\u0650 \\u0651\\u0639\\u0644\\u0650\\u064a\\u0651 \\u0651\\u0627\\u0644\\u064b\\u0639\\u064c\\u0648\\u064f\\u064a\\u0652\\u0633\\u064d \\u0627\\u0644\\u064c\\u062b\\u064b\\u0642\\u064d\\u0627\\u064d\\u0641\\u0650\\u064a\\u0629\\u0652\\u060c\\u064f \\u064e\\u0645\\u0633\\u064d\\u0627\\u064e\\u0621\\u064c \\u064d\\u0623\\u0645\\u064e\\u0633 \\u0627\\u0644\\u0623\\u064c\\u0648\\u0644\\u064e \\u0641\\u064d\\u064a \\u0645\\u064d\\u0642\\u0631 \\u0627\\u0644\\u0645\\u0624\\u0651\\u0633\\u0633\\u0650\\u0629\\u060c\\u0652 \\u0648\\u0628\\u064c\\u062d\\u0652\\u0636\\u0648\\u0650\\u0631\\u064b \\u062f \\u0651. \\u064f\\u0635\\u0650\\u0627\\u0650\\u0644\\u062d \\u064a\\u0627\\u0652\\u0633\\u064a\\u064e\\u0646\\u064c \\u064d\\u0639\\u064b\\u0644\\u064a\\u064b \\u0631\\u064d\\u0626\\u064a\\u0633\\u064e \\u0650\\u0627\\u0652\\u0644\\u0645\\u0643\\u062a\\u064f\\u0628\\u064c \\u0652\\u0627\\u0644\\u064f\\u062b\\u0642\\u0650\\u0627\\u064f\\u0641\\u0651\\u064a \\u0644\\u064c\\u0644\\u064d\\u0642\\u0646\\u0651\\u0635\\u0644\\u064a\\u0652\\u0629 \\u064d\\u0627\\u0644\\u064f\\u0639\\u0651\\u0627\\u0645\\u0629\\u0652 \\u0644\\u062f\\u0648\\u0652\\u0644\\u0651\\u0629\\u064d \\u0627\\u0644\\u0643\\u0648\\u064a\\u062a \\u0641\\u064a\\u0651 \\u062f\\u0651\\u0628\\u0650\\u064a\\u060c \\u0648\\u0645\\u064f\\u062d\\u0652\\u0645\\u0651\\u062f\\u064e \\u0627\\u064d\\u0644\\u064d\\u0639\\u0633\\u064d\\u0639\\u0648\\u0633\\u064f\\u064a \\u0651\\u0645\\u064e\\u062f\\u064f\\u064a\\u064e\\u0631 \\u0625\\u062f\\u0651\\u0627\\u0631\\u064c\\u0629 \\u0650\\u0627\\u064b\\u0644\\u0650\\u0641\\u064d\\u0646\\u0648\\u0646\\u0650 \\u0627\\u0644\\u0651\\u062a\\u064f\\u0634\\u0643\\u064e\\u064a\\u0651\\u0644\\u0651\\u064a\\u0629\\u0652 \\u064d\\u0641\\u064a \\u0627\\u0652\\u0644\\u0650\\u0645\\u062c\\u0644\\u0633\\u064f \\u0627\\u0644\\u0648\\u0637\\u0646\\u0650\\u064a \\u0644\\u064b\\u0644\\u062b\\u0642\\u064d\\u0627\\u064e\\u0641\\u064c\\u0629\\u0650 \\u064c\\u0648\\u0627\\u064c\\u0644\\u0651\\u0641\\u0652\\u0646\\u0648\\u0651\\u0646\\u064b \\u0641\\u064a \\u0627\\u0644\\u064c\\u0643\\u0651\\u0648\\u064a\\u0650\\u062a\\u060c \\u0645\\u0639\\u0631\\u0652\\u0636 \\u0631\\u064e\\u0624\\u0650\\u0649\\u064c \\u0651\\u062a\\u064d\\u0634\\u064f\\u0643\\u064b\\u064a\\u0644\\u064f\\u064a\\u0652\\u0629\\u064d \\u0643\\u064b\\u0648\\u064a\\u064c\\u062a\\u064c\\u064a\\u0629\\u064e \\u0627\\u0644\\u0630\\u064e\\u064a\\u0652 \\u064d\\u0636\\u0645\\u064d 6\\u064c0\\u0651 \\u0639\\u0645\\u064c\\u0644\\u064f\\u0627\\u064c\\u064b \\u062a\\u0634\\u0643\\u064f\\u064a\\u064f\\u0644\\u064a\\u064f\\u0627\\u064d\\u064b \\u0644\\u0652\\u0643\\u0651\\u0644 \\u0645\\u0646 \\u0651\\u0627\\u0650\\u0644\\u064d\\u0641\\u0646\\u0627\\u0650\\u0646\\u064a\\u0646\\u064d \\u0650\\u0627\\u0644\\u0652\\u0643\\u064e\\u0648\\u064a\\u062a\\u064a\\u064a\\u0646\\u0650 \\u0627\\u0644\\u0623\\u0631\\u0628\\u0639\\u0629\\u064f: \\u0641\\u0627\\u0650\\u0636\\u0644\\u064c \\u0633\\u0644\\u064c\\u064a\\u0645\\u064d\\u0627\\u0646\\u064e \\u064e\\u0627\\u0644\\u0650\\u0639\\u0628\\u064f\\u0627\\u0631 \\u0648\\u0645\\u064d\\u062d\\u0651\\u0645\\u062f\\u064c \\u064f\\u0634\\u0631\\u064a\\u064c\\u0641\\u0650 \\u064b\\u0623\\u064f\\u0634\\u064e\\u0643\\u064d\\u0646\\u0627\\u064e\\u0646\\u064e\\u064a\\u064d \\u064d\\u0648\\u062d\\u0645\\u064f\\u064a\\u062f\\u064b \\u0651\\u062e\\u064f\\u0632\\u0639\\u0644\\u064d \\u064f\\u0648\\u064f\\u0639\\u0650\\u0644\\u064f\\u064a \\u0646\\u064c\\u0639\\u0652\\u0645\\u064d\\u0627\\u0651\\u0646\\u064e .\\u062a\\u0648\\u064d\\u0632\\u0652\\u0639\\u062a\\u064f \\u0623\\u0639\\u064c\\u0645\\u0627\\u0644\\u0650 \\u0627\\u0644\\u0645\\u0639\\u0631\\u064c\\u0636\\u0650 \\u064c\\u0628\\u064a\\u0646 \\u064b\\u0645\\u0627 \\u0647\\u064d\\u0648 \\u0646\\u064d\\u062d\\u064f\\u062a\\u064d\\u064a\\u0650 \\u064d\\u0648\\u064d\\u0625\\u0643\\u0644\\u064a\\u064f\\u0631\\u0643\\u0652\\u064a\\u0650\\u060c\\u0651 \\u064e\\u0641\\u064d\\u0642\\u062f \\u062c\\u0627\\u0621\\u062a \\u064e\\u0623\\u0639\\u0651\\u0645\\u0627\\u0644\\u0651 \\u0633\\u0644\\u064a\\u064c\\u0645\\u064c\\u0627\\u0652\\u0646\\u0652 \\u064f\\u0627\\u0644\\u0650\\u0639\\u0628\\u0627\\u064f\\u0631\\u064f \\u0651\\u0639\\u0628\\u0627\\u0631\\u0629 \\u0639\\u0651\\u0646 \\u062a\\u0646\\u0648\\u0651\\u064a\\u0651\\u0639\\u0627\\u062a\\u064d \\u0652\\u0648\\u064e\\u062a\\u062c\\u0652\\u0627\\u0631\\u0650\\u0628 \\u064b\\u0646\\u062d\\u062a\\u0650\\u064a\\u0629 \\u064f\\u0645\\u064c\\u062e\\u064d\\u062a\\u064e\\u0644\\u0652\\u0641\\u0629\\u0650\\u060c\\u0652 \\u0643\\u0627\\u0646 \\u0642\\u062f \\u0627\\u0652\\u0634\\u064b\\u062a\\u063a\\u0644\\u0651 \\u064e\\u0639\\u0652\\u0644\\u064a\\u0651\\u0647\\u0627\\u064c \\u064f\\u062e\\u0644\\u0652\\u0627\\u0650\\u0644 \\u0627\\u0644 \\u06501\\u06500\\u0652\\u0633\\u0646\\u064c\\u0648\\u0627\\u062a \\u0650\\u0627\\u0644\\u0623\\u062e\\u064a\\u0631\\u0651\\u0629\\u060c \\u0628\\u0639\\u064c\\u062f\\u064f \\u062f\\u0652\\u0631\\u0627\\u0652\\u0633\\u064e\\u062a\\u064d\\u0647\\u064c \\u064d\\u0627\\u0644\\u0651\\u0623\\u0643\\u0627\\u0650\\u062f\\u064a\\u064e\\u0645\\u064c\\u064a\\u064e\\u0629\\u0651 \\u0641\\u0651\\u064a \\u0623\\u0652\\u0648\\u0631\\u064b\\u0648\\u0628\\u0627\\u064b\\u060c\\u0650 \\u0648\\u0631\\u064e\\u0643\\u064f\\u0632 \\u0646\\u0639\\u0650\\u0645\\u0627\\u0646\\u0652 \\u064d\\u0641\\u064a\\u064d \\u0645\\u0634\\u0627\\u0631\\u0643\\u064b\\u0627\\u062a\\u0647 \\u0650\\u0639\\u064f\\u0644\\u0649 \\u0651\\u0627\\u064e\\u0644\\u0652\\u0623\\u0652\\u0644\\u0639\\u0627\\u0628\\u064f \\u064e\\u0627\\u0644\\u0634\\u0650\\u0639\\u0628\\u064a\\u0629\\u0652 \\u064b\\u0627\\u0644\\u0650\\u0643\\u0648\\u064f\\u064a\\u064f\\u062a\\u064f\\u064a\\u0651\\u0629\\u060c\\u0652 \\u064c\\u0636\\u0645\\u0650\\u0646\\u064f \\u0631\\u0624\\u064d\\u064a\\u064f\\u062a\\u0647 \\u0641\\u0651\\u064a\\u0650 \\u0625\\u062b\\u064e\\u0631\\u0652\\u0627\\u064c\\u0621\\u0650 \\u0627\\u064d\\u0644\\u064f\\u062d\\u0636\\u0627\\u064d\\u0631\\u064c\\u0629 \\u064b\\u0627\\u0644\\u064d\\u0642\\u064f\\u062f\\u064b\\u064a\\u0645\\u064f\\u0629\\u060c\\u0650 \\u064e\\u0648\\u064b\\u0642\\u0651\\u062f \\u0628\\u0631\\u064c\\u0632 \\u0641\\u0651\\u064a\\u0647\\u0652\\u0627\\u0651 \\u0650\\u0639\\u0646\\u064d\\u0635\\u0631 \\u0652\\u0627\\u0644\\u0650\\u062d\\u064d\\u0631\\u0643\\u0629 \\u0652\\u0639\\u0650\\u0644\\u064c\\u0649 \\u064b\\u0646\\u064e\\u062d\\u064e\\u0648 \\u0652\\u0644\\u0627\\u0641\\u062a\\u064f\\u060c\\u064d \\u064d\\u0648\\u0651\\u0643\\u064b\\u0627\\u0646\\u064d \\u0630\\u0644\\u064f\\u0643\\u0650 \\u0651\\u0639\\u0628\\u064f\\u0631\\u064c \\u062d\\u0631\\u0643\\u0627\\u064e\\u062a\\u064c \\u0627\\u0644\\u064b\\u0631\\u0642\\u0635\\u060c \\u0648\\u0645\\u0651\\u0646\\u064d \\u064e\\u062e\\u0644\\u0627\\u0644 \\u064f\\u0645\\u0639\\u064f\\u0627\\u0644\\u062c\\u0629\\u064c \\u062a\\u064f\\u062c\\u0652\\u0631\\u0652\\u064a\\u062f\\u064d\\u064a\\u0652\\u0629\\u060c \\u0628\\u0650\\u064a\\u0646\\u062a \\u0650\\u0645\\u0651\\u0647\\u0651\\u0627\\u0631\\u0650\\u0627\\u064e\\u062a\\u0647 \\u064c\\u0641\\u064c\\u064a \\u064b\\u0627\\u0633\\u062a\\u064c\\u062e\\u064c\\u062f\\u064e\\u0627\\u064f\\u0645 \\u0627\\u064c\\u0644\\u0628\\u0631\\u0648\\u0651\\u0646\\u0632\\u0651 \\u0652.\\u0648\\u064b\\u062c\\u0652\\u0627\\u064c\\u0621\\u062a \\u0645\\u064b\\u0646\\u062d\\u0648\\u062a\\u0651\\u0627\\u062a\\u0652 \\u064f\\u062d\\u064e\\u0645\\u064f\\u064a\\u064c\\u062f \\u062e\\u0632\\u0639\\u0644\\u0650 \\u0627\\u0645\\u0652\\u062a\\u064c\\u062f\\u0627\\u062f\\u0627\\u064b \\u0644\\u064d\\u062a\\u064c\\u062c\\u0631\\u0650\\u0628\\u0652\\u062a\\u0647\\u064f \\u064e\\u0627\\u0644\\u064f\\u0639\\u0645\\u0652\\u064a\\u0642\\u064f\\u0629\\u064c \\u0641\\u064c\\u064a \\u064d\\u0645\\u062c\\u0652\\u0627\\u0651\\u0644 \\u0627\\u0651\\u0644\\u062a\\u0651\\u062c\\u0652\\u0631\\u064f\\u0628\\u064c\\u0629 \\u064d\\u0627\\u064e\\u0644\\u0632\\u0652\\u064a\\u064f\\u062a\\u0650\\u064a\\u064c\\u0629\\u064b\\u060c\\u064f \\u0648\\u0628\\u0639\\u064e\\u062f\\u0650 \\u0627\\u064b\\u0646\\u0652\\u0642\\u064b\\u0637\\u064b\\u0627\\u064e\\u0639 \\u0637\\u0648\\u0651\\u064a\\u0644 \\u0639\\u0646\\u0650\\u0647\\u0627\\u064f\\u060c\\u064c \\u064e\\u0643\\u064a\\u064d \\u0652\\u064a\\u062d\\u062f\\u064b\\u062b\\u064d \\u0650\\u062a\\u064b\\u0648\\u0650\\u0627\\u0632\\u064b\\u0646\\u064d\\u0627\\u064b\\u064b \\u0641\\u0646\\u0650\\u064a\\u0627\\u064f\\u064b\\u064f \\u0641\\u064a \\u064b\\u062a\\u062c\\u0631\\u0652\\u0628\\u064d\\u062a\\u0647\\u0650\\u060c \\u064e\\u062d\\u064b\\u064a\\u062b \\u0648\\u062c\\u0648\\u064e\\u0647 \\u0634\\u064f\\u062e\\u0650\\u0648\\u0635\\u0650\\u0647 \\u0645\\u0634\\u0648\\u0650\\u0647\\u064b\\u0629\\u064b\\u060c \\u0652\\u0648\\u0650\\u0647\\u0643\\u0630\\u064e\\u0627 \\u0652\\u0627\\u064d\\u0644\\u064c\\u062d\\u0627\\u0644 \\u064e\\u0628\\u0627\\u0644\\u0646\\u0633\\u0628\\u0652\\u0629 \\u0625\\u0644\\u0649\\u064b \\u0623\\u0637\\u0631\\u064f\\u0627\\u0641\\u064f\\u0647\\u064f\\u0645\\u0652\\u060c \\u0641\\u064e\\u0647\\u064f\\u064a \\u0652\\u0625\\u0652\\u0645\\u0627\\u064e \\u064d\\u0645\\u064d\\u062e\\u0641\\u064a\\u0652\\u0629\\u064b\\u060c \\u064f\\u0623\\u0648 \\u064c\\u0645\\u0628\\u062a\\u064f\\u0648\\u064d\\u0631\\u0629\\u060c \\u0651\\u0642\\u064d\\u0644\\u0642\\u0629\\u064c\\u060c \\u0652\\u0645\\u064c\\u062a\\u064c\\u0648\\u062a\\u0631\\u0629\\u060c \\u064f\\u062a\\u064b\\u062e\\u0631\\u064e\\u062c\\u0650 \\u064f\\u0639\\u0646\\u064d \\u064d\\u0635\\u064f\\u0645\\u062a\\u0647\\u0627\\u064b \\u0650\\u0645\\u064c\\u0646\\u0651 \\u064e\\u062e\\u0644\\u064c\\u0627\\u064b\\u0644 \\u064f\\u062d\\u064f\\u0631\\u0643\\u064c\\u062a\\u0647\\u064d\\u0627 \\u0627\\u0651\\u0644\\u062a\\u064a \\u062a\\u0633\\u064c\\u0645\\u064b \\u0650\\u0623\\u064e\\u0643\\u064b\\u062b\\u064b\\u0631\\u064f \\u0627\\u0644\\u0623\\u0639\\u064b\\u0645\\u0627\\u0644 \\u0652.\\u0648\\u0642\\u064c\\u062f \\u0652\\u0628\\u062f\\u064e\\u062a \\u0628\\u0651\\u0631\\u0627\\u0652\\u0639\\u0629 \\u0639\\u0650\\u0644\\u0652\\u064a \\u0646\\u0639\\u0645\\u064d\\u0627\\u0646 \\u064d\\u0645\\u064e\\u0646 \\u062e\\u0644\\u0627\\u064d\\u0644\\u0651 \\u062b\\u064c\\u0642\\u062a\\u0647 \\u0652\\u0641\\u064f\\u064a \\u064f\\u0627\\u064f\\u0644\\u062a\\u0639\\u064d\\u0627\\u064b\\u0645\\u0644 \\u064c\\u0645\\u0650\\u0639\\u0652 \\u062e\\u064d\\u0627\\u0645\\u0651\\u0629\\u064e \\u064c\\u0627\\u0644\\u064e\\u0625\\u0643\\u0644\\u064a\\u0631\\u064b\\u0643\\u064d\\u060c \\u0651\\u0628\\u0639\\u064f\\u064a\\u062f\\u0627\\u064e\\u064b \\u0650\\u0639\\u064f\\u0646 \\u0627\\u0644\\u062a\\u064f\\u0631\\u064d\\u0643\\u064a\\u0632\\u064d \\u0639\\u0644\\u0649\\u0651 \\u0650\\u0623\\u0651\\u0644\\u0648\\u064c\\u0627\\u0650\\u0646\\u064e \\u0651\\u0645\\u062d\\u062f\\u0650\\u062f\\u0629\\u064c\\u060c\\u064c \\u064f\\u0643\\u064e\\u0645\\u064b\\u0627 \\u064c\\u0646\\u064d\\u062c\\u062f \\u0630\\u064f\\u0644\\u064f\\u0643\\u0651 \\u0652-\\u064e \\u063a\\u0627\\u064d\\u0644\\u064b\\u0628\\u064d\\u0627\\u064b \\u064e-\\u064b \\u0651\\u0643\\u0651\\u064a\\u064c \\u062a\\u0650\\u0643\\u064c\\u0648\\u0646 \\u0627\\u0652\\u0644\\u0645\\u0650\\u0631\\u064d\\u0623\\u0650\\u0629 \\u0627\\u0650\\u0644\\u0623\\u0651\\u0643\\u062b\\u0631\\u064e \\u062d\\u0636\\u0648\\u0652\\u0631\\u064d\\u0627\\u0651\\u064b \\u0651\\u0641\\u0650\\u064a\\u064b \\u064b\\u0641\\u0636\\u064c\\u0627\\u0650\\u0621 \\u0652\\u0644\\u0650\\u0648\\u064f\\u062d\\u064c\\u062a\\u0650\\u0647\\u060c\\u064f \\u064c\\u0639\\u0628\\u064d\\u0631\\u064f \\u062d\\u0650\\u0627\\u0644\\u0627\\u064d\\u062a\\u0652\\u0647\\u0627 \\u0627\\u0644\\u0645\\u062a\\u0651\\u0639\\u062f\\u064b\\u062f\\u064d\\u0629\\u0652\\u060c \\u064d\\u062d\\u064f\\u0648\\u0627\\u064b\\u0631\\u064f\\u0627\\u0652\\u064b \\u0623\\u064d\\u0648\\u064f \\u0631\\u0642\\u0635\\u0650\\u0627\\u064c\\u064b\\u064b\\u060c \\u0623\\u0648 \\u064d\\u062e\\u0650\\u0644\\u0652\\u0627\\u0644\\u064e \\u0652\\u0627\\u0644\\u064f\\u0633\\u0650\\u064a\\u064b\\u0631 \\u0639\\u064f\\u0644\\u0649\\u064b \\u064d\\u0627\\u0644\\u0637\\u0650\\u0631\\u064a\\u0642 \\u062c\\u064a\\u064e\\u0626\\u0629\\u064f \\u064c\\u0648\\u064e\\u0630\\u0652\\u0647\\u0627\\u0651\\u0628\\u0627\\u064b\\u060c \\u0648\\u0643\\u064b\\u0623\\u0646\\u0652 \\u064d\\u0644\\u064b\\u0648\\u062d\\u062a\\u064d\\u0647\\u064c \\u0651\\u062a\\u0652\\u0624\\u064b\\u0643\\u0650\\u062f\\u0650 \\u0639\\u0644\\u064c\\u0649\\u064b \\u064e\\u0627\\u064d\\u0646\\u0641\\u062a\\u0627\\u062d \\u0627\\u064d\\u0644\\u0639\\u064e\\u0627\\u0644\\u0645\\u064e \\u0627\\u0644\\u0630\\u064c\\u064a\\u0652 \\u064b\\u0644\\u0652\\u0627 \\u064a\\u0650\\u0641\\u062a\\u0623\\u064f \\u064e\\u064a\\u064f\\u0632\\u064e\\u0627\\u0648\\u062c \\u064c\\u0628\\u0652\\u064a\\u0646 \\u064f\\u062c\\u0645\\u0627\\u064d\\u0644\\u064e\\u064a\\u0651\\u0627\\u062a\\u064e\\u0647 \\u0648\\u064f\\u062f\\u064c\\u0644\\u0651\\u0627\\u064f\\u0644\\u0627\\u062a\\u064e\\u0647\\u0650 \\u0627\\u0644\\u062a\\u0652\\u064a\\u0651 \\u064b\\u0644\\u064c\\u0627\\u064f \\u0651\\u062a\\u0633\\u062a\\u064d\\u0646\\u0641\\u062f \\u064d.\\u064d\\u0648\\u0644\\u0648\\u062d\\u0638 \\u0639\\u064f\\u0644\\u064e\\u0649\\u0651 \\u0644\\u0648\\u062d\\u0629\\u064f \\u0646\\u0651\\u0639\\u064c\\u0645\\u064b\\u0627\\u0646\\u064d \\u062a\\u0650\\u062d\\u0642\\u064a\\u0642\\u064d\\u0647\\u064c\\u0627 \\u0645\\u0639\\u064f\\u0627\\u064f\\u062f\\u064d\\u0644\\u0629\\u0650 \\u0627\\u0652\\u0644\\u0652\\u0647\\u0627\\u0652\\u0631\\u064d\\u0645\\u0648\\u0646\\u064a \\u0639\\u0628\\u0631 \\u062a\\u0648\\u064c\\u0627\\u064b\\u0632\\u0646\\u0647\\u0627 \\u0650\\u0648\\u064d\\u062a\\u064f\\u0648\\u064f\\u0632\\u064b\\u064a\\u0639\\u0647\\u0652\\u0627\\u0652 \\u0644\\u0644\\u064d\\u0648\\u0652\\u0646\\u064d \\u0648\\u064e\\u0641\\u064d\\u0642 \\u064d\\u0647\\u0650\\u0646\\u062f\\u0633\\u0629\\u064c \\u0645\\u064e\\u0642\\u064d\\u0646\\u0652\\u0639\\u064d\\u0629\\u064c\\u060c \\u0644\\u0651\\u0627\\u0652\\u0633\\u064a\\u0645\\u064c\\u0627 \\u0623\\u0646 \\u0627\\u064f\\u0644\\u0627\\u0646\\u062a\\u0650\\u0642\\u0627\\u0644 \\u0650\\u0645\\u0646\\u064d \\u064d\\u0644\\u064c\\u0648\\u0651\\u0646\\u064b \\u064c\\u0625\\u0651\\u0644\\u064c\\u0649\\u064b \\u0650\\u0622\\u064d\\u062e\\u0631 \\u064a\\u0652\\u0628\\u064a\\u0646\\u064e \\u0645\\u062f\\u0649\\u0651 \\u0627\\u0652\\u0647\\u0650\\u062a\\u0645\\u064c\\u0627\\u0645\\u064f\\u0647 \\u0628\\u062f\\u0648\\u0651\\u0631\\u064e \\u0650\\u0639\\u0646\\u0635\\u064c\\u0631\\u0650 \\u064d\\u0627\\u0644\\u0652\\u0644\\u064c\\u0648\\u0646 \\u0650\\u0641\\u064a \\u0651\\u0639\\u064b\\u0627\\u0644\\u0645 \\u0650\\u0627\\u0644\\u064d\\u0644\\u064f\\u0648\\u064f\\u062d\\u0629 \\u064c.\\u0652\\u0648\\u062a\\u0646\\u0645 \\u0644\\u0650\\u0648\\u064d\\u062d\\u0651\\u0629\\u064c \\u0634\\u064d\\u0631\\u0651\\u064a\\u0641 \\u0650\\u0623\\u0634\\u0651\\u0643\\u0651\\u0646\\u0627\\u064d\\u0646\\u064a\\u064f \\u064d\\u0627\\u0644\\u062a\\u064c\\u064a\\u064b \\u064f\\u062a\\u0639\\u0627\\u064c\\u0644\\u0651\\u062c \\u0639\\u064e\\u0644\\u0649\\u064c \\u0645\\u0652\\u0648\\u0627\\u062f\\u0650 \\u064c\\u0627\\u0644\\u064f\\u0625\\u0643\\u0644\\u0652\\u064a\\u0631\\u064d\\u0643\\u060c\\u064e \\u0652\\u0639\\u0646\\u0651 \\u0652\\u0645\\u064b\\u0647\\u0627\\u064d\\u0631\\u0651\\u0627\\u064d\\u062a\\u0650\\u0647\\u0650 \\u0627\\u0644\\u0650\\u0639\\u064b\\u0627\\u0644\\u064a\\u0629\\u060c\\u064c \\u064c\\u0643\\u064f\\u0623\\u062d\\u064f\\u062f\\u064f \\u0627\\u0651\\u0644\\u064f\\u0641\\u0646\\u0627\\u0650\\u0646\\u064a\\u0650\\u0646\\u0651 \\u064d\\u0630\\u0648\\u064b\\u064a\\u064c \\u0627\\u064b\\u0644\\u062d\\u0636\\u0648\\u0631 \\u0627\\u0644\\u0644\\u064b\\u0627\\u0641\\u062a\\u064f \\u0651\\u0641\\u064b\\u064a\\u064e \\u0627\\u0644\\u064e\\u062d\\u064e\\u0631\\u0643\\u0629\\u0652 \\u0627\\u0644\\u064f\\u062a\\u0634\\u0643\\u064a\\u0644\\u064d\\u064a\\u0651\\u0629 \\u0627\\u0644\\u0650\\u0643\\u0648\\u064c\\u064a\\u062a\\u064a\\u0629\\u0651\\u060c \\u0634\\u0652\\u0623\\u0646\\u064e \\u064e\\u0632\\u064c\\u0645\\u0644\\u0627\\u0626\\u064e\\u0647 \\u0627\\u064e\\u0644\\u0645\\u0634\\u0627\\u064e\\u0631\\u0650\\u0643\\u064a\\u0646\\u064d\\u060c\\u0651 \\u0648\\u0625\\u0646\\u064f \\u0643\\u0627\\u0646\\u062a\\u0651 \\u0637\\u0631\\u0652\\u064a\\u064f\\u0642\\u0652\\u0629\\u0651 \\u064f\\u062a\\u064f\\u0643\\u064b\\u0646\\u064a\\u0650\\u0643\\u0647\\u064f\\u060c\\u064d \\u0651\\u062a\\u062e\\u064c\\u062a\\u0650\\u0644\\u064f\\u0641 \\u0645\\u064e\\u0646\\u0652 \\u0650\\u0644\\u0648\\u064f\\u062d\\u0650\\u0629\\u0652 \\u0625\\u0652\\u0644\\u0649\\u064d \\u0651\\u0644\\u0648\\u064c\\u062d\\u064f\\u0629\\u060c\\u064c \\u064c\\u0648\\u0647\\u0648 \\u0645\\u064b\\u0627\\u064f \\u064a\\u062f\\u0644 \\u0639\\u064d\\u0644\\u0649\\u064b \\u0650\\u062b\\u0651\\u0642\\u064e\\u062a\\u0652\\u0647\\u064c \\u0651\\u0645\\u064e\\u0646\\u0652 \\u0652\\u062a\\u0650\\u0645\\u064c\\u0643\\u0646 \\u0623\\u062f\\u064b\\u0648\\u0651\\u0627\\u0652\\u062a\\u0651\\u0647\\u064e \\u0650\\u0627\\u064d\\u0644\\u064f\\u0641\\u0646\\u0652\\u064a\\u0629\\u064b\\u060c \\u064f\\u0648\\u064f\\u0639\\u064c\\u062f\\u0645 \\u0627\\u0650\\u0644\\u062a\\u064c\\u0642\\u0651\\u064a\\u0652\\u062f\\u064e \\u0652\\u0628\\u064f\\u0639\\u0652\\u0648\\u0650\\u0627\\u0651\\u0644\\u0645 \\u0645\\u062d\\u064f\\u062f\\u062f\\u0651\\u0629\\u060c\\u064c \\u064b\\u0648\\u0625\\u0646 \\u064c\\u0643\\u0650\\u0627\\u0646 \\u064e\\u0630\\u0651\\u0644\\u064b\\u0643 \\u064a\\u0628\\u064a\\u0646 -\\u064d \\u064e\\u0641\\u0650\\u064a \\u0652\\u0627\\u0644\\u064e\\u062a\\u0627\\u0644\\u064d\\u064a\\u064e \\u0651- \\u0650\\u062f\\u0631\\u064c\\u062c\\u064b\\u0629 \\u0650\\u0639\\u064d\\u0627\\u064d\\u0644\\u064b\\u064a\\u0629 \\u0645\\u064d\\u0646 \\u0627\\u0644\\u0642\\u064b\\u0644\\u0642\\u0651 \\u0627\\u064b\\u0644\\u0652\\u0631\\u064b\\u0648\\u062d\\u064a \\u064b\\u0644\\u064d\\u062f\\u0652\\u064a\\u0647\\u064b \\u0650.\\u0648\\u0643\\u0651\\u0631\\u0645\\u064c \\u062f \\u0650. \\u064d\\u0627\\u0650\\u0644\\u0650\\u0645\\u064f\\u0637\\u0648\\u0639\\u0652 \\u0652\\u0639\\u064c\\u0644\\u064f\\u0649\\u0650 \\u0647\\u0627\\u064e\\u0645\\u064d\\u0634 \\u0627\\u0644\\u064e\\u0645\\u064e\\u0639\\u0631\\u064e\\u0636\\u064c \\u0627\\u064c\\u0644\\u0641\\u0646\\u0651\\u0627\\u064b\\u0646\\u064e\\u064a\\u0646\\u0652 \\u064d\\u0627\\u0651\\u0644\\u064f\\u0623\\u0651\\u0631\\u0628\\u064d\\u0639\\u0650\\u0629\\u0650 \\u064f\\u0627\\u0644\\u0645\\u0650\\u0634\\u0627\\u064e\\u0631\\u064d\\u0643\\u064d\\u064a\\u0646\\u060c\\u064c \\u0645\\u0642\\u064e\\u062f\\u064b\\u0645\\u064c\\u0627\\u064b \\u062f\\u064e\\u0631\\u064f\\u0639\\u064c\\u0627\\u064c\\u064b \\u0652\\u062a\\u0630\\u0650\\u0643\\u0627\\u0631\\u064a\\u0629 \\u064e\\u0644\\u0652\\u0643\\u0644 \\u0650\\u0645\\u0646\\u0647\\u0645 .\\u0650\"\n        ],\n        \"semantic_type\": \"\",\n        \"description\": \"\"\n      }\n    },\n    {\n      \"column\": \"label\",\n      \"properties\": {\n        \"dtype\": \"category\",\n        \"num_unique_values\": 7,\n        \"samples\": [\n          \"Finance\",\n          \"Culture\",\n          \"Medical\"\n        ],\n        \"semantic_type\": \"\",\n        \"description\": \"\"\n      }\n    },\n    {\n      \"column\": \"clean_text\",\n      \"properties\": {\n        \"dtype\": \"string\",\n        \"num_unique_values\": 1000,\n        \"samples\": [\n          \"\\u0645\\u0628\\u0627\\u062f\\u0631\\u0629 \\u0627\\u0644\\u062d\\u0643\\u0648\\u0645\\u0629 \\u0627\\u0644\\u0630\\u0643\\u064a\\u0629 \\u0621\\u0637\\u0644\\u0642\\u0647\\u0627 \\u0635\\u0627\\u062d\\u0628 \\u0627\\u0644\\u0633\\u0645\\u0648 \\u0627\\u0644\\u0634\\u064a\\u062e \\u0645\\u062d\\u0645\\u062f \\u0628\\u0646 \\u0631\\u0627\\u0634\\u062f \\u0621\\u0621\\u0644 \\u0645\\u0643\\u062a\\u0648\\u0645 \\u0646\\u0627\\u0621\\u0628 \\u0631\\u0621\\u064a\\u0633 \\u0627\\u0644\\u062f\\u0648\\u0644\\u0629 \\u0631\\u0621\\u064a\\u0633 \\u0645\\u062c\\u0644\\u0633 \\u0627\\u0644\\u0648\\u0632\\u0631\\u0627\\u0621 \\u062d\\u0627\\u0643\\u0645 \\u062f\\u0628\\u064a \\u0631\\u0639\\u0627\\u0647 \\u0627\\u0644\\u0644\\u0647 \\u0627\\u0644\\u0637\\u0644\\u0628 \\u0627\\u0644\\u062c\\u0647\\u0627\\u062a \\u0648\\u0627\\u0644\\u062f\\u0648\\u0627\\u0621\\u0631 \\u0627\\u0644\\u062d\\u0643\\u0648\\u0645\\u064a\\u0629 \\u0627\\u0644\\u062a\\u0637\\u0628\\u064a\\u0642\\u0627\\u062a \\u0627\\u0644\\u0645\\u0633\\u062a\\u062e\\u062f\\u0645\\u0629 \\u0627\\u0644\\u0621\\u062c\\u0647\\u0632\\u0629 \\u0627\\u0644\\u0644\\u0648\\u062d\\u064a\\u0629 \\u0648\\u0627\\u0644\\u0647\\u0648\\u0627\\u062a\\u0641 \\u0627\\u0644\\u0630\\u0643\\u064a\\u0629 \\u0648\\u0621\\u0641\\u0627\\u062f \\u0645\\u0633\\u0621\\u0648\\u0644\\u0648 \\u0634\\u0631\\u0643\\u0627\\u062a \\u062a\\u0637\\u0648\\u064a\\u0631 \\u062a\\u0637\\u0628\\u064a\\u0642\\u0627\\u062a \\u0627\\u0644\\u0647\\u0648\\u0627\\u062a\\u0641 \\u0627\\u0644\\u0630\\u0643\\u064a\\u0629 \\u0628\\u0621\\u0646 \\u0627\\u0644\\u0645\\u0628\\u0627\\u062f\\u0631\\u0629 \\u0633\\u0627\\u0647\\u0645\\u062a \\u0632\\u064a\\u0627\\u062f\\u0629 \\u0627\\u0644\\u0637\\u0644\\u0628 \\u0621\\u0639\\u0645\\u0627\\u0644\\u0647\\u0645 \\u0627\\u0644\\u062f\\u0648\\u0627\\u0621\\u0631 \\u0648\\u0627\\u0644\\u062c\\u0647\\u0627\\u062a \\u0627\\u0644\\u062d\\u0643\\u0648\\u0645\\u064a\\u0629 \\u0628\\u0646\\u0633\\u0628\\u0629 75 \\u0645\\u0634\\u064a\\u0631\\u064a\\u0646 \\u0633\\u0648\\u0642 \\u062a\\u0637\\u0628\\u064a\\u0642\\u0627\\u062a \\u0627\\u0644\\u0647\\u0648\\u0627\\u062a\\u0641 \\u0627\\u0644\\u0630\\u0643\\u064a\\u0629 \\u0627\\u0644\\u0621\\u0645\\u0627\\u0631\\u0627\\u062a \\u064a\\u0639\\u062f \\u0627\\u0644\\u0621\\u0643\\u0628\\u0631 \\u0645\\u0646\\u0637\\u0642\\u0629 \\u0627\\u0644\\u062e\\u0644\\u064a\\u062c \\u0648\\u0627\\u0644\\u0645\\u0646\\u0637\\u0642\\u0629 \\u0648\\u0642\\u0627\\u0644 \\u0641\\u0647\\u064a\\u0645 \\u0627\\u0644\\u0632\\u0628\\u064a\\u062f\\u064a \\u0627\\u0644\\u0645\\u062f\\u064a\\u0631 \\u0627\\u0644\\u062a\\u0646\\u0641\\u064a\\u0630\\u064a \\u0634\\u0631\\u0643\\u0629 \\u0621\\u0641\\u064a\\u0646\\u062a\\u0648 \\u0627\\u0644\\u0621\\u0645\\u0627\\u0631\\u0627\\u062a\\u064a\\u0629 \\u0627\\u0644\\u0645\\u062a\\u062e\\u0635\\u0635\\u0629 \\u0627\\u0644\\u062d\\u0644\\u0648\\u0644 \\u0627\\u0644\\u062a\\u0642\\u0646\\u064a\\u0629 \\u0648\\u062a\\u0637\\u0628\\u064a\\u0642\\u0627\\u062a \\u0627\\u0644\\u0647\\u0648\\u0627\\u062a\\u0641 \\u0627\\u0644\\u0630\\u0643\\u064a\\u0629 \\u0639\\u062f\\u062f \\u0627\\u0644\\u062a\\u0637\\u0628\\u064a\\u0642\\u0627\\u062a \\u062a\\u062a\\u0648\\u0642\\u0639 \\u0627\\u0644\\u0634\\u0631\\u0643\\u0629 \\u0621\\u0646\\u062c\\u0627\\u0632\\u0647\\u0627 \\u0644\\u0644\\u0642\\u0637\\u0627\\u0639 \\u0627\\u0644\\u062d\\u0643\\u0648\\u0645\\u064a \\u0628\\u0646\\u0647\\u0627\\u064a\\u0629 \\u0627\\u0644\\u0639\\u0627\\u0645 \\u0627\\u0644\\u062c\\u0627\\u0631\\u064a 11 \\u062a\\u0637\\u0628\\u064a\\u0642\\u0627 \\u0645\\u0634\\u064a\\u0631\\u0627 \\u0627\\u0644\\u0634\\u0631\\u0643\\u0629 \\u062a\\u0639\\u0645\\u0644 \\u062d\\u0627\\u0644\\u064a\\u0627 \\u062a\\u0637\\u0648\\u064a\\u0631 3 \\u062a\\u0637\\u0628\\u064a\\u0642\\u0627\\u062a \\u0644\\u062f\\u0648\\u0627\\u0621\\u0631 \\u062d\\u0643\\u0648\\u0645\\u064a\\u0629 \\u0621\\u0628\\u0648\\u0638\\u0628\\u064a \\u0648\\u062f\\u0628\\u064a \\u0628\\u064a\\u0646\\u0647\\u0627 \\u0645\\u0621\\u0633\\u0633\\u0629 \\u0645\\u062d\\u0645\\u062f \\u0628\\u0646 \\u0631\\u0627\\u0634\\u062f \\u0644\\u062f\\u0639\\u0645 \\u0645\\u0634\\u0627\\u0631\\u064a\\u0639 \\u0627\\u0644\\u0634\\u0628\\u0627\\u0628 \\u0648\\u0621\\u0648\\u0636\\u062d \\u0627\\u0644\\u0632\\u0628\\u064a\\u062f\\u064a \\u0627\\u0644\\u0633\\u0648\\u0642 \\u064a\\u0634\\u0647\\u062f \\u062d\\u0631\\u0643\\u0629 \\u0646\\u0634\\u0637\\u0629 \\u062a\\u0637\\u0648\\u064a\\u0631 \\u0627\\u0644\\u062a\\u0637\\u0628\\u064a\\u0642\\u0627\\u062a \\u0627\\u0644\\u062e\\u0627\\u0635\\u0629 \\u0628\\u0627\\u0644\\u0642\\u0637\\u0627\\u0639 \\u0627\\u0644\\u062d\\u0643\\u0648\\u0645\\u064a \\u0645\\u0628\\u0627\\u062f\\u0631\\u0629 \\u0627\\u0644\\u062d\\u0643\\u0648\\u0645\\u0629 \\u0627\\u0644\\u0630\\u0643\\u064a\\u0629 \\u0621\\u0637\\u0644\\u0642\\u0647\\u0627 \\u0635\\u0627\\u062d\\u0628 \\u0627\\u0644\\u0633\\u0645\\u0648 \\u0627\\u0644\\u0634\\u064a\\u062e \\u0645\\u062d\\u0645\\u062f \\u0628\\u0646 \\u0631\\u0627\\u0634\\u062f \\u0621\\u0621\\u0644 \\u0645\\u0643\\u062a\\u0648\\u0645 \\u0645\\u0621\\u062e\\u0631\\u0627 \\u0648\\u0621\\u0646 \\u0627\\u0644\\u062c\\u0647\\u0627\\u062a \\u0627\\u0644\\u062d\\u0643\\u0648\\u0645\\u064a\\u0629 \\u062a\\u0633\\u0639\\u0649 \\u0627\\u0644\\u062a\\u0637\\u0628\\u064a\\u0642\\u0627\\u062a \\u0627\\u0644\\u0621\\u0641\\u0643\\u0627\\u0631 \\u0627\\u0644\\u0645\\u0628\\u062a\\u0643\\u0631\\u0629 \\u0648\\u0642\\u0627\\u0644 \\u0639\\u0644\\u064a \\u0647\\u0627\\u0634\\u0645 \\u0645\\u062f\\u064a\\u0631 \\u0627\\u0644\\u0645\\u0628\\u064a\\u0639\\u0627\\u062a \\u0634\\u0631\\u0643\\u0629 \\u0621\\u062f\\u0641\\u0627\\u0646\\u0633\\u0648\\u0641\\u062a \\u0633\\u0627\\u0647\\u0645\\u062a \\u0645\\u0628\\u0627\\u062f\\u0631\\u0629 \\u0627\\u0644\\u062d\\u0643\\u0648\\u0645\\u0629 \\u0627\\u0644\\u0630\\u0643\\u064a\\u0629 \\u0632\\u064a\\u0627\\u062f\\u0629 \\u0627\\u0644\\u0637\\u0644\\u0628 \\u0627\\u0644\\u062c\\u0647\\u0627\\u062a \\u0627\\u0644\\u062d\\u0643\\u0648\\u0645\\u064a\\u0629 \\u062a\\u0637\\u0628\\u064a\\u0642\\u0627\\u062a \\u0627\\u0644\\u0647\\u0648\\u0627\\u062a\\u0641 \\u0627\\u0644\\u0630\\u0643\\u064a\\u0629 \\u0628\\u0646\\u0633\\u0628\\u0629 \\u062a\\u0642\\u0644 75 \\u062a\\u0633\\u062a\\u062d\\u0648\\u0630 \\u0627\\u0644\\u062a\\u0637\\u0628\\u064a\\u0642\\u0627\\u062a \\u064a\\u062a\\u0645 \\u062a\\u0637\\u0648\\u064a\\u0631\\u0647\\u0627 \\u0644\\u0644\\u0642\\u0637\\u0627\\u0639 \\u0627\\u0644\\u062d\\u0643\\u0648\\u0645\\u064a 80 \\u0621\\u062c\\u0645\\u0627\\u0644\\u064a \\u0633\\u0648\\u0642 \\u0627\\u0644\\u062a\\u0637\\u0628\\u064a\\u0642\\u0627\\u062a \\u0627\\u0644\\u0621\\u0645\\u0627\\u0631\\u0627\\u062a\\u064a \\u0648\\u0621\\u0636\\u0627\\u0641 \\u0647\\u0627\\u0634\\u0645 \\u0644\\u062f\\u064a\\u0646\\u0627 15 \\u0637\\u0644\\u0628\\u0627 \\u062c\\u0647\\u0627\\u062a \\u062d\\u0643\\u0648\\u0645\\u064a\\u0629 \\u0644\\u062a\\u0637\\u0648\\u064a\\u0631 \\u062a\\u0637\\u0628\\u064a\\u0642\\u0627\\u062a \\u062a\\u062a\\u0639\\u0644\\u0642 \\u0628\\u062a\\u0642\\u062f\\u064a\\u0645 \\u062e\\u062f\\u0645\\u0627\\u062a\\u0647\\u0627 \\u0627\\u0644\\u0647\\u0648\\u0627\\u062a\\u0641 \\u0627\\u0644\\u0630\\u0643\\u064a\\u0629 \\u062d\\u0627\\u0644\\u064a\\u0627 \\u0648\\u0621\\u0646 \\u0646\\u0638\\u0627\\u0645 ios \\u0627\\u0644\\u0645\\u0633\\u062a\\u062e\\u062f\\u0645 \\u0647\\u0648\\u0627\\u062a\\u0641 \\u0641\\u0648\\u0646 \\u064a\\u0633\\u062a\\u062d\\u0648\\u0630 \\u0646\\u0633\\u0628\\u0629 75 \\u0633\\u0648\\u0642 \\u0627\\u0644\\u062a\\u0637\\u0628\\u064a\\u0642\\u0627\\u062a \\u062a\\u0621\\u062a\\u064a \\u062a\\u0637\\u0628\\u064a\\u0642\\u0627\\u062a \\u0621\\u0646\\u062f\\u0631\\u0648\\u064a\\u062f \\u062a\\u0627\\u0644\\u064a\\u0627 \\u0648\\u0628\\u0639\\u062f\\u0647\\u0627 \\u062a\\u0637\\u0628\\u064a\\u0642\\u0627\\u062a \\u0628\\u0644\\u0627\\u0643 \\u0628\\u064a\\u0631\\u064a \\u0648\\u0642\\u0627\\u0644 \\u0641\\u0628\\u0646\\u0648\\u062f \\u0646\\u0627\\u064a\\u0631 \\u0627\\u0644\\u0645\\u062f\\u064a\\u0631 \\u0627\\u0644\\u0639\\u0627\\u0645 \\u0644\\u0621\\u0639\\u0645\\u0627\\u0644 \\u0627\\u0644\\u062a\\u0644\\u064a\\u0641\\u0632\\u064a\\u0648\\u0646\\u0627\\u062a \\u0634\\u0631\\u0643\\u0629 \\u0633\\u0627\\u0645\\u0633\\u0648\\u0646\\u063a \\u0627\\u0644\\u062e\\u0644\\u064a\\u062c \\u0644\\u0644\\u0621\\u0644\\u0643\\u062a\\u0631\\u0648\\u0646\\u064a\\u0627\\u062a \\u0627\\u0644\\u0634\\u0631\\u0643\\u0629 \\u062a\\u0637\\u0648\\u0631 3 \\u062a\\u0637\\u0628\\u064a\\u0642\\u0627\\u062a \\u0644\\u0644\\u0639\\u0631\\u0636 \\u0634\\u0627\\u0634\\u0627\\u062a \\u0633\\u0627\\u0645\\u0633\\u0648\\u0646\\u063a \\u0627\\u0644\\u0630\\u0643\\u064a\\u0629 \\u0644\\u062c\\u0647\\u0627\\u062a \\u062d\\u0643\\u0648\\u0645\\u064a\\u0629 \\u0648\\u0621\\u0646\\u0647 \\u0633\\u064a\\u062a\\u0645 \\u0621\\u0646\\u062c\\u0627\\u0632 \\u0627\\u0644\\u062a\\u0637\\u0628\\u064a\\u0642\\u0627\\u062a \\u0646\\u0647\\u0627\\u064a\\u0629 \\u0627\\u0644\\u0639\\u0627\\u0645 \\u0627\\u0644\\u062c\\u0627\\u0631\\u064a \\u0648\\u0621\\u0636\\u0627\\u0641 \\u0641\\u064a\\u0646\\u0648\\u062f \\u0639\\u062f\\u062f \\u0645\\u0631\\u0627\\u062a \\u0627\\u0633\\u062a\\u062e\\u062f\\u0627\\u0645 \\u062a\\u0637\\u0628\\u064a\\u0642\\u0627\\u062a \\u0633\\u0627\\u0645\\u0633\\u0648\\u0646\\u063a \\u0627\\u0644\\u0634\\u0627\\u0634\\u0627\\u062a \\u0627\\u0644\\u0630\\u0643\\u064a\\u0629 \\u0645\\u0646\\u0637\\u0642\\u0629 \\u0627\\u0644\\u062e\\u0644\\u064a\\u062c \\u0628\\u0644\\u063a 27 \\u0645\\u0644\\u064a\\u0648\\u0646 \\u0627\\u0633\\u062a\\u062e\\u062f\\u0627\\u0645 \\u062e\\u0644\\u0627\\u0644 \\u0634\\u0647\\u0631 \\u0627\\u0644\\u0645\\u0627\\u0636\\u064a \\u0628\\u0646\\u0645\\u0648 3 \\u0634\\u0647\\u0631\\u064a\\u0627\",\n          \"\\u0648\\u0632\\u0627\\u0631\\u0629 \\u0627\\u0644\\u0635\\u062d\\u0629 \\u062e\\u0644\\u0648 \\u062f\\u0648\\u0644\\u0629 \\u0627\\u0644\\u0621\\u0645\\u0627\\u0631\\u0627\\u062a \\u0645\\u0631\\u0636 \\u0621\\u064a\\u0628\\u0648\\u0644\\u0627 \\u0648\\u0621\\u0646 \\u0627\\u0644\\u062a\\u062f\\u0627\\u0628\\u064a\\u0631 \\u0627\\u0644\\u0648\\u0642\\u0627\\u0621\\u064a\\u0629 \\u0648\\u0627\\u0644\\u0627\\u062d\\u062a\\u0632\\u0627\\u0632\\u064a\\u0629 \\u0627\\u0644\\u0645\\u0637\\u0628\\u0642\\u0629 \\u0645\\u062a\\u0648\\u0627\\u0641\\u0642\\u0629 \\u0642\\u0631\\u0627\\u0631\\u0627\\u062a \\u0645\\u0646\\u0638\\u0645\\u0629 \\u0627\\u0644\\u0635\\u062d\\u0629 \\u0627\\u0644\\u0639\\u0627\\u0644\\u0645\\u064a\\u0629 \\u0644\\u062a\\u0641\\u0627\\u062f\\u064a \\u0648\\u0635\\u0648\\u0644 \\u0627\\u0644\\u0645\\u0631\\u0636 \\u0627\\u0644\\u062f\\u0648\\u0644\\u0629 \\u0648\\u0642\\u0627\\u0644 \\u0627\\u0644\\u062f\\u0643\\u062a\\u0648\\u0631 \\u0621\\u0645\\u064a\\u0646 \\u0627\\u0644\\u0621\\u0645\\u064a\\u0631\\u064a \\u0648\\u0643\\u064a\\u0644 \\u0648\\u0632\\u0627\\u0631\\u0629 \\u0627\\u0644\\u0635\\u062d\\u0629 \\u0627\\u0644\\u0645\\u0633\\u0627\\u0639\\u062f \\u0644\\u0633\\u064a\\u0627\\u0633\\u0629 \\u0627\\u0644\\u0635\\u062d\\u0629 \\u0627\\u0644\\u0639\\u0627\\u0645\\u0629 \\u0648\\u0627\\u0644\\u062a\\u0631\\u0627\\u062e\\u064a\\u0635 \\u0627\\u0644\\u0646\\u0627\\u0637\\u0642 \\u0627\\u0644\\u0631\\u0633\\u0645\\u064a \\u0628\\u0627\\u0633\\u0645 \\u0627\\u0644\\u0648\\u0632\\u0627\\u0631\\u0629 \\u062f\\u0648\\u0644\\u0629 \\u0627\\u0644\\u0621\\u0645\\u0627\\u0631\\u0627\\u062a \\u062e\\u0627\\u0644\\u064a\\u0629 \\u062a\\u0645\\u0627\\u0645\\u0627 \\u0645\\u0631\\u0636 \\u0621\\u064a\\u0628\\u0648\\u0644\\u0627 \\u0638\\u0647\\u0631 \\u0645\\u0621\\u062e\\u0631\\u0627 \\u062f\\u0648\\u0644 \\u0621\\u0641\\u0631\\u064a\\u0642\\u064a\\u0629 \\u0639\\u062f\\u0629 \\u0645\\u0646\\u0648\\u0647\\u0627 \\u0628\\u0621\\u0646 \\u0627\\u0644\\u0648\\u0632\\u0627\\u0631\\u0629 \\u0648\\u0627\\u0644\\u0647\\u064a\\u0621\\u0627\\u062a \\u0627\\u0644\\u0635\\u062d\\u064a\\u0629 \\u0627\\u0644\\u062f\\u0648\\u0644\\u0629 \\u0648\\u0627\\u0644\\u062c\\u0647\\u0627\\u062a \\u0627\\u0644\\u0645\\u0639\\u0646\\u064a\\u0629 \\u0643\\u0627\\u0641\\u0629 \\u0648\\u0645\\u0646\\u0647\\u0627 \\u0627\\u0644\\u0647\\u064a\\u0621\\u0629 \\u0627\\u0644\\u0648\\u0637\\u0646\\u064a\\u0629 \\u0644\\u0621\\u062f\\u0627\\u0631\\u0629 \\u0627\\u0644\\u0637\\u0648\\u0627\\u0631\\u0621 \\u0648\\u0627\\u0644\\u0621\\u0632\\u0645\\u0627\\u062a \\u0648\\u0627\\u0644\\u0643\\u0648\\u0627\\u0631\\u062b \\u062a\\u062a\\u062e\\u0630 \\u0627\\u0644\\u0627\\u062d\\u062a\\u064a\\u0627\\u0637\\u0627\\u062a \\u0627\\u0644\\u0644\\u0627\\u0632\\u0645\\u0629 \\u062d\\u064a\\u0627\\u0644 \\u0627\\u0644\\u0621\\u0645\\u0631 \\u0648\\u0621\\u0634\\u0627\\u0631 \\u0648\\u0632\\u0627\\u0631\\u0629 \\u0627\\u0644\\u0635\\u062d\\u0629 \\u0627\\u062a\\u0635\\u0627\\u0644 \\u062f\\u0627\\u0621\\u0645 \\u0628\\u0645\\u0646\\u0638\\u0645\\u0629 \\u0627\\u0644\\u0635\\u062d\\u0629 \\u0627\\u0644\\u0639\\u0627\\u0644\\u0645\\u064a\\u0629 \\u0644\\u0644\\u0648\\u0642\\u0648\\u0641 \\u0627\\u0644\\u0645\\u0633\\u062a\\u062c\\u062f\\u0627\\u062a \\u0648\\u0627\\u0644\\u0621\\u062c\\u0631\\u0627\\u0621\\u0627\\u062a \\u062a\\u062a\\u062e\\u0630\\u0647\\u0627 \\u0627\\u0644\\u0645\\u0646\\u0638\\u0645\\u0629 \\u0627\\u0644\\u0639\\u0627\\u0644\\u0645\\u064a\\u0629 \\u0648\\u0627\\u0644\\u062a\\u0648\\u0635\\u064a\\u0627\\u062a \\u0627\\u0644\\u0635\\u0627\\u062f\\u0631\\u0629 \\u0628\\u0647\\u0630\\u0627 \\u0627\\u0644\\u0634\\u0621\\u0646 \\u0648\\u0621\\u0636\\u0627\\u0641 \\u0627\\u0644\\u0621\\u062c\\u0631\\u0627\\u0621\\u0627\\u062a \\u0627\\u0644\\u0645\\u062a\\u062e\\u0630\\u0629 \\u0627\\u0644\\u062d\\u0627\\u0644\\u0627\\u062a \\u062a\\u0643\\u0648\\u0646 \\u0643\\u0641\\u064a\\u0644\\u0629 \\u0628\\u062d\\u0645\\u0627\\u064a\\u0629 \\u0627\\u0644\\u062f\\u0648\\u0644\\u0629 \\u062f\\u062e\\u0648\\u0644 \\u0627\\u0644 \\u0621\\u064a\\u0628\\u0648\\u0644\\u0627 \\u0645\\u0633\\u062a\\u0628\\u0639\\u062f\\u0627 \\u062f\\u062e\\u0648\\u0644 \\u0621\\u064a\\u0629 \\u062d\\u0627\\u0644\\u0629 \\u0645\\u0635\\u0627\\u0628\\u0629 \\u0628\\u0647\\u0630\\u0627 \\u0627\\u0644\\u0645\\u0631\\u0636 \\u0627\\u0644\\u062f\\u0648\\u0644\\u0629 \\u0648\\u0621\\u0648\\u0636\\u062d \\u0627\\u0644\\u0648\\u0632\\u0627\\u0631\\u0629 \\u0648\\u0628\\u0627\\u0644\\u062a\\u0646\\u0633\\u064a\\u0642 \\u0627\\u0644\\u062c\\u0647\\u0627\\u062a \\u0627\\u0644\\u0627\\u062e\\u062a\\u0635\\u0627\\u0635 \\u0627\\u0644\\u062f\\u0648\\u0644\\u0629 \\u062a\\u0642\\u0648\\u0645 \\u0628\\u062a\\u0637\\u0628\\u064a\\u0642 \\u0627\\u0644\\u062a\\u0648\\u0635\\u064a\\u0627\\u062a \\u0635\\u062f\\u0631\\u062a \\u0627\\u0644\\u0627\\u062c\\u062a\\u0645\\u0627\\u0639 \\u0627\\u0644\\u0621\\u062e\\u064a\\u0631 \\u0644\\u0645\\u0646\\u0638\\u0645\\u0629 \\u0627\\u0644\\u0635\\u062d\\u0629 \\u0627\\u0644\\u0639\\u0627\\u0644\\u0645\\u064a\\u0629 \\u0627\\u0644\\u062f\\u0648\\u0644 \\u062a\\u0645 \\u0627\\u0643\\u062a\\u0634\\u0627\\u0641 \\u0627\\u0644\\u0645\\u0631\\u0636 \\u0648\\u0630\\u0644\\u0643 \\u0644\\u0644\\u062d\\u064a\\u0644\\u0648\\u0644\\u0629 \\u062f\\u062e\\u0648\\u0644 \\u0627\\u0644\\u0645\\u0631\\u0636 \\u0627\\u0644\\u0628\\u0644\\u0627\\u062f \\u062a\\u0648\\u0641\\u064a\\u0631 \\u0627\\u0644\\u0621\\u0645\\u0643\\u0627\\u0646\\u0627\\u062a \\u0648\\u0627\\u0644\\u0645\\u0633\\u062a\\u0644\\u0632\\u0645\\u0627\\u062a \\u0627\\u0644\\u0645\\u0637\\u0644\\u0648\\u0628\\u0629 \\u0643\\u0627\\u0641\\u0629 \\u0644\\u0644\\u062a\\u0639\\u0627\\u0645\\u0644 \\u0621\\u064a\\u0629 \\u062d\\u0627\\u0644\\u0629 \\u0645\\u0633\\u062a\\u0648\\u0631\\u062f\\u0629 \\u0627\\u0644\\u062e\\u0627\\u0631\\u062c \\u062c\\u0647\\u0629 \\u0621\\u062e\\u0631\\u0649 \\u0621\\u0634\\u0627\\u062f \\u0627\\u0644\\u0645\\u062f\\u064a\\u0631 \\u0627\\u0644\\u0639\\u0627\\u0645 \\u0644\\u0644\\u0645\\u0643\\u062a\\u0628 \\u0627\\u0644\\u062a\\u0646\\u0641\\u064a\\u0630\\u064a \\u0644\\u0645\\u062c\\u0644\\u0633 \\u0648\\u0632\\u0631\\u0627\\u0621 \\u0627\\u0644\\u0635\\u062d\\u0629 \\u0644\\u062f\\u0648\\u0644 \\u0645\\u062c\\u0644\\u0633 \\u0627\\u0644\\u062a\\u0639\\u0627\\u0648\\u0646 \\u0644\\u062f\\u0648\\u0644 \\u0627\\u0644\\u062e\\u0644\\u064a\\u062c \\u0627\\u0644\\u0639\\u0631\\u0628\\u064a\\u0629 \\u062a\\u0648\\u0641\\u064a\\u0642 \\u062e\\u0648\\u062c\\u0629 \\u0628\\u0621\\u062c\\u0631\\u0627\\u0621\\u0627\\u062a \\u0648\\u0632\\u0627\\u0631\\u0627\\u062a \\u0627\\u0644\\u0635\\u062d\\u0629 \\u0627\\u0644\\u062e\\u0644\\u064a\\u062c\\u064a\\u0629 \\u0627\\u0644\\u0627\\u062d\\u062a\\u0631\\u0627\\u0632\\u064a\\u0629 \\u0644\\u0644\\u0648\\u0642\\u0627\\u064a\\u0629 \\u0641\\u064a\\u0631\\u0648\\u0633 \\u0621\\u064a\\u0628\\u0648\\u0644\\u0627 \\u0648\\u0642\\u0627\\u0644 \\u0628\\u064a\\u0627\\u0646 \\u0627\\u0644\\u0621\\u062c\\u0631\\u0627\\u0621\\u0627\\u062a \\u062a\\u0645\\u062a \\u0621\\u062e\\u064a\\u0631\\u0627 \\u0648\\u0632\\u0627\\u0631\\u0627\\u062a \\u0627\\u0644\\u0635\\u062d\\u0629 \\u0627\\u0644\\u062e\\u0644\\u064a\\u062c\\u064a\\u0629 \\u0627\\u0644\\u062e\\u0637\\u0648\\u0627\\u062a \\u0627\\u0644\\u0648\\u0642\\u0627\\u0621\\u064a\\u0629 \\u0648\\u0627\\u0644\\u062c\\u0627\\u0647\\u0632\\u064a\\u0629 \\u062a\\u0645\\u062a \\u0648\\u0632\\u0627\\u0631\\u0629 \\u0627\\u0644\\u0635\\u062d\\u0629 \\u0627\\u0644\\u0633\\u0639\\u0648\\u062f\\u064a\\u0629 \\u062d\\u0638\\u064a\\u062a \\u0628\\u0621\\u0634\\u0627\\u062f\\u0629 \\u0645\\u0646\\u0638\\u0645\\u0629 \\u0627\\u0644\\u0635\\u062d\\u0629 \\u0627\\u0644\\u0639\\u0627\\u0644\\u0645\\u064a\\u0629 \\u0648\\u0627\\u0644\\u0645\\u0621\\u0633\\u0633\\u0627\\u062a \\u0627\\u0644\\u0635\\u062d\\u064a\\u0629 \\u0627\\u0644\\u0639\\u0627\\u0644\\u0645\\u064a\\u0629 \\u0627\\u0644\\u0621\\u0645\\u0631 \\u0627\\u0633\\u062a\\u0641\\u0627\\u062f\\u062a \\u062f\\u0648\\u0644 \\u0645\\u062c\\u0644\\u0633 \\u0627\\u0644\\u062a\\u0639\\u0627\\u0648\\u0646 \\u0648\\u0627\\u0644\\u062f\\u0648\\u0644 \\u0627\\u0644\\u0621\\u0642\\u0644\\u064a\\u0645\\u064a\\u0629 \\u0648\\u0621\\u0636\\u0627\\u0641 \\u0627\\u0644\\u0627\\u062c\\u062a\\u0645\\u0627\\u0639 \\u0627\\u0644\\u062e\\u0644\\u064a\\u062c\\u064a \\u0644\\u0648\\u0632\\u0627\\u0631\\u0627\\u062a \\u0627\\u0644\\u0635\\u062d\\u0629 \\u0627\\u0644\\u062e\\u0644\\u064a\\u062c\\u064a\\u0629 \\u062a\\u0633\\u062a\\u0636\\u064a\\u0641\\u0647 \\u0627\\u0644\\u0639\\u0627\\u0635\\u0645\\u0629 \\u0627\\u0644\\u0631\\u064a\\u0627\\u0636 \\u063a\\u062f \\u0627\\u0644\\u0621\\u0631\\u0628\\u0639\\u0627\\u0621 \\u0633\\u064a\\u0646\\u0627\\u0642\\u0634 \\u0627\\u0644\\u062e\\u0637\\u0648\\u0637 \\u0627\\u0644\\u0639\\u0631\\u064a\\u0636\\u0629 \\u0644\\u0644\\u0621\\u0637\\u0631 \\u0627\\u0644\\u062e\\u0644\\u064a\\u062c\\u064a\\u0629 \\u0627\\u0644\\u0648\\u0642\\u0627\\u064a\\u0629 \\u0648\\u0627\\u0644\\u0639\\u0644\\u0627\\u062c \\u0648\\u0627\\u0644\\u062a\\u062f\\u0628\\u064a\\u0631 \\u0627\\u0644\\u0627\\u0634\\u062a\\u0628\\u0627\\u0647 \\u0648\\u0627\\u0643\\u062a\\u0634\\u0627\\u0641 \\u062d\\u0627\\u0644\\u0629 \\u0644\\u0641\\u064a\\u0631\\u0648\\u0633 \\u0621\\u064a\\u0628\\u0648\\u0644\\u0627 \\u0621\\u0636\\u0627\\u0641\\u0629 \\u0621\\u0639\\u062f\\u0627\\u062f \\u0645\\u0648\\u0642\\u0641 \\u062e\\u0644\\u064a\\u062c\\u064a \\u0645\\u0648\\u062d\\u062f \\u064a\\u062a\\u0646\\u0627\\u0648\\u0644 \\u0643\\u0627\\u0645\\u0644 \\u0627\\u0644\\u062c\\u0648\\u0627\\u0646\\u0628 \\u0627\\u0644\\u0645\\u062a\\u0639\\u0644\\u0642\\u0629 \\u0627\\u0644\\u0648\\u0642\\u0627\\u064a\\u0629 \\u0627\\u0644\\u0627\\u062d\\u062a\\u0631\\u0627\\u0632\\u064a\\u0629 \\u0648\\u062d\\u0638\\u0631 \\u0627\\u0644\\u0633\\u0641\\u0631 \\u0645\\u0646\\u062d \\u062a\\u0621\\u0634\\u064a\\u0631\\u0627\\u062a \\u0627\\u0644\\u062f\\u062e\\u0648\\u0644 \\u0627\\u0644\\u062f\\u0648\\u0644 \\u0627\\u0644\\u0645\\u0648\\u0628\\u0648\\u0621\\u0629 \\u0648\\u0627\\u0645 \\u0643\\u0648\\u0646\\u0627\",\n          \"\\u0645\\u062d\\u0645\\u062f \\u0639\\u0628\\u062f\\u0627\\u0644\\u0644\\u0647 \\u0627\\u0644\\u0645\\u0637\\u0648\\u0639 \\u0639\\u0636\\u0648 \\u0645\\u062c\\u0644\\u0633 \\u0621\\u0645\\u0646\\u0627\\u0621 \\u0645\\u0621\\u0633\\u0633\\u0629 \\u0633\\u0644\\u0637\\u0627\\u0646 \\u0628\\u0646 \\u0639\\u0644\\u064a \\u0627\\u0644\\u0639\\u0648\\u064a\\u0633 \\u0627\\u0644\\u062b\\u0642\\u0627\\u0641\\u064a\\u0629 \\u0627\\u0644\\u0621\\u0648\\u0644 \\u0645\\u0642\\u0631 \\u0627\\u0644\\u0645\\u0621\\u0633\\u0633\\u0629 \\u0648\\u0628\\u062d\\u0636\\u0648\\u0631 \\u0635\\u0627\\u0644\\u062d \\u064a\\u0627\\u0633\\u064a\\u0646 \\u0639\\u0644\\u064a \\u0631\\u0621\\u064a\\u0633 \\u0627\\u0644\\u0645\\u0643\\u062a\\u0628 \\u0627\\u0644\\u062b\\u0642\\u0627\\u0641\\u064a \\u0644\\u0644\\u0642\\u0646\\u0635\\u0644\\u064a\\u0629 \\u0627\\u0644\\u0639\\u0627\\u0645\\u0629 \\u0644\\u062f\\u0648\\u0644\\u0629 \\u0627\\u0644\\u0643\\u0648\\u064a\\u062a \\u062f\\u0628\\u064a \\u0648\\u0645\\u062d\\u0645\\u062f \\u0627\\u0644\\u0639\\u0633\\u0639\\u0648\\u0633\\u064a \\u0645\\u062f\\u064a\\u0631 \\u0621\\u062f\\u0627\\u0631\\u0629 \\u0627\\u0644\\u0641\\u0646\\u0648\\u0646 \\u0627\\u0644\\u062a\\u0634\\u0643\\u064a\\u0644\\u064a\\u0629 \\u0627\\u0644\\u0645\\u062c\\u0644\\u0633 \\u0627\\u0644\\u0648\\u0637\\u0646\\u064a \\u0644\\u0644\\u062b\\u0642\\u0627\\u0641\\u0629 \\u0648\\u0627\\u0644\\u0641\\u0646\\u0648\\u0646 \\u0627\\u0644\\u0643\\u0648\\u064a\\u062a \\u0645\\u0639\\u0631\\u0636 \\u0631\\u0621\\u0649 \\u062a\\u0634\\u0643\\u064a\\u0644\\u064a\\u0629 \\u0643\\u0648\\u064a\\u062a\\u064a\\u0629 \\u0636\\u0645 60 \\u0639\\u0645\\u0644\\u0627 \\u062a\\u0634\\u0643\\u064a\\u0644\\u064a\\u0627 \\u0644\\u0643\\u0644 \\u0627\\u0644\\u0641\\u0646\\u0627\\u0646\\u064a\\u0646 \\u0627\\u0644\\u0643\\u0648\\u064a\\u062a\\u064a\\u064a\\u0646 \\u0627\\u0644\\u0621\\u0631\\u0628\\u0639\\u0629 \\u0641\\u0627\\u0636\\u0644 \\u0633\\u0644\\u064a\\u0645\\u0627\\u0646 \\u0627\\u0644\\u0639\\u0628\\u0627\\u0631 \\u0648\\u0645\\u062d\\u0645\\u062f \\u0634\\u0631\\u064a\\u0641 \\u0621\\u0634\\u0643\\u0646\\u0627\\u0646\\u064a \\u0648\\u062d\\u0645\\u064a\\u062f \\u062e\\u0632\\u0639\\u0644 \\u0648\\u0639\\u0644\\u064a \\u0646\\u0639\\u0645\\u0627\\u0646 \\u062a\\u0648\\u0632\\u0639\\u062a \\u0621\\u0639\\u0645\\u0627\\u0644 \\u0627\\u0644\\u0645\\u0639\\u0631\\u0636 \\u0646\\u062d\\u062a\\u064a \\u0648\\u0621\\u0643\\u0644\\u064a\\u0631\\u0643\\u064a \\u0641\\u0642\\u062f \\u062c\\u0627\\u0621\\u062a \\u0621\\u0639\\u0645\\u0627\\u0644 \\u0633\\u0644\\u064a\\u0645\\u0627\\u0646 \\u0627\\u0644\\u0639\\u0628\\u0627\\u0631 \\u0639\\u0628\\u0627\\u0631\\u0629 \\u062a\\u0646\\u0648\\u064a\\u0639\\u0627\\u062a \\u0648\\u062a\\u062c\\u0627\\u0631\\u0628 \\u0646\\u062d\\u062a\\u064a\\u0629 \\u0645\\u062e\\u062a\\u0644\\u0641\\u0629 \\u0627\\u0634\\u062a\\u063a\\u0644 \\u0639\\u0644\\u064a\\u0647\\u0627 \\u062e\\u0644\\u0627\\u0644 \\u0627\\u0644 10\\u0633\\u0646\\u0648\\u0627\\u062a \\u0627\\u0644\\u0621\\u062e\\u064a\\u0631\\u0629 \\u062f\\u0631\\u0627\\u0633\\u062a\\u0647 \\u0627\\u0644\\u0621\\u0643\\u0627\\u062f\\u064a\\u0645\\u064a\\u0629 \\u0621\\u0648\\u0631\\u0648\\u0628\\u0627 \\u0648\\u0631\\u0643\\u0632 \\u0646\\u0639\\u0645\\u0627\\u0646 \\u0645\\u0634\\u0627\\u0631\\u0643\\u0627\\u062a\\u0647 \\u0627\\u0644\\u0621\\u0644\\u0639\\u0627\\u0628 \\u0627\\u0644\\u0634\\u0639\\u0628\\u064a\\u0629 \\u0627\\u0644\\u0643\\u0648\\u064a\\u062a\\u064a\\u0629 \\u0636\\u0645\\u0646 \\u0631\\u0621\\u064a\\u062a\\u0647 \\u0621\\u062b\\u0631\\u0627\\u0621 \\u0627\\u0644\\u062d\\u0636\\u0627\\u0631\\u0629 \\u0627\\u0644\\u0642\\u062f\\u064a\\u0645\\u0629 \\u0648\\u0642\\u062f \\u0628\\u0631\\u0632 \\u0639\\u0646\\u0635\\u0631 \\u0627\\u0644\\u062d\\u0631\\u0643\\u0629 \\u0644\\u0627\\u0641\\u062a \\u0648\\u0643\\u0627\\u0646 \\u0639\\u0628\\u0631 \\u062d\\u0631\\u0643\\u0627\\u062a \\u0627\\u0644\\u0631\\u0642\\u0635 \\u062e\\u0644\\u0627\\u0644 \\u0645\\u0639\\u0627\\u0644\\u062c\\u0629 \\u062a\\u062c\\u0631\\u064a\\u062f\\u064a\\u0629 \\u0628\\u064a\\u0646\\u062a \\u0645\\u0647\\u0627\\u0631\\u0627\\u062a\\u0647 \\u0627\\u0633\\u062a\\u062e\\u062f\\u0627\\u0645 \\u0627\\u0644\\u0628\\u0631\\u0648\\u0646\\u0632 \\u0648\\u062c\\u0627\\u0621\\u062a \\u0645\\u0646\\u062d\\u0648\\u062a\\u0627\\u062a \\u062d\\u0645\\u064a\\u062f \\u062e\\u0632\\u0639\\u0644 \\u0627\\u0645\\u062a\\u062f\\u0627\\u062f\\u0627 \\u0644\\u062a\\u062c\\u0631\\u0628\\u062a\\u0647 \\u0627\\u0644\\u0639\\u0645\\u064a\\u0642\\u0629 \\u0645\\u062c\\u0627\\u0644 \\u0627\\u0644\\u062a\\u062c\\u0631\\u0628\\u0629 \\u0627\\u0644\\u0632\\u064a\\u062a\\u064a\\u0629 \\u0648\\u0628\\u0639\\u062f \\u0627\\u0646\\u0642\\u0637\\u0627\\u0639 \\u0637\\u0648\\u064a\\u0644 \\u0639\\u0646\\u0647\\u0627 \\u064a\\u062d\\u062f\\u062b \\u062a\\u0648\\u0627\\u0632\\u0646\\u0627 \\u0641\\u0646\\u064a\\u0627 \\u062a\\u062c\\u0631\\u0628\\u062a\\u0647 \\u0648\\u062c\\u0648\\u0647 \\u0634\\u062e\\u0648\\u0635\\u0647 \\u0645\\u0634\\u0648\\u0647\\u0629 \\u0648\\u0647\\u0643\\u0630\\u0627 \\u0627\\u0644\\u062d\\u0627\\u0644 \\u0628\\u0627\\u0644\\u0646\\u0633\\u0628\\u0629 \\u0621\\u0637\\u0631\\u0627\\u0641\\u0647\\u0645 \\u0641\\u0647\\u064a \\u0645\\u062e\\u0641\\u064a\\u0629 \\u0645\\u0628\\u062a\\u0648\\u0631\\u0629 \\u0642\\u0644\\u0642\\u0629 \\u0645\\u062a\\u0648\\u062a\\u0631\\u0629 \\u062a\\u062e\\u0631\\u062c \\u0635\\u0645\\u062a\\u0647\\u0627 \\u062e\\u0644\\u0627\\u0644 \\u062d\\u0631\\u0643\\u062a\\u0647\\u0627 \\u062a\\u0633\\u0645 \\u0627\\u0644\\u0621\\u0639\\u0645\\u0627\\u0644 \\u0648\\u0642\\u062f \\u0628\\u062f\\u062a \\u0628\\u0631\\u0627\\u0639\\u0629 \\u0639\\u0644\\u064a \\u0646\\u0639\\u0645\\u0627\\u0646 \\u062e\\u0644\\u0627\\u0644 \\u062b\\u0642\\u062a\\u0647 \\u0627\\u0644\\u062a\\u0639\\u0627\\u0645\\u0644 \\u062e\\u0627\\u0645\\u0629 \\u0627\\u0644\\u0621\\u0643\\u0644\\u064a\\u0631\\u0643 \\u0628\\u0639\\u064a\\u062f\\u0627 \\u0627\\u0644\\u062a\\u0631\\u0643\\u064a\\u0632 \\u0621\\u0644\\u0648\\u0627\\u0646 \\u0645\\u062d\\u062f\\u062f\\u0629 \\u0646\\u062c\\u062f \\u062a\\u0643\\u0648\\u0646 \\u0627\\u0644\\u0645\\u0631\\u0621\\u0629 \\u0627\\u0644\\u0621\\u0643\\u062b\\u0631 \\u062d\\u0636\\u0648\\u0631\\u0627 \\u0641\\u0636\\u0627\\u0621 \\u0644\\u0648\\u062d\\u062a\\u0647 \\u0639\\u0628\\u0631 \\u062d\\u0627\\u0644\\u0627\\u062a\\u0647\\u0627 \\u0627\\u0644\\u0645\\u062a\\u0639\\u062f\\u062f\\u0629 \\u062d\\u0648\\u0627\\u0631\\u0627 \\u0631\\u0642\\u0635\\u0627 \\u062e\\u0644\\u0627\\u0644 \\u0627\\u0644\\u0633\\u064a\\u0631 \\u0627\\u0644\\u0637\\u0631\\u064a\\u0642 \\u062c\\u064a\\u0621\\u0629 \\u0648\\u0630\\u0647\\u0627\\u0628\\u0627 \\u0648\\u0643\\u0621\\u0646 \\u0644\\u0648\\u062d\\u062a\\u0647 \\u062a\\u0621\\u0643\\u062f \\u0627\\u0646\\u0641\\u062a\\u0627\\u062d \\u0627\\u0644\\u0639\\u0627\\u0644\\u0645 \\u064a\\u0641\\u062a\\u0621 \\u064a\\u0632\\u0627\\u0648\\u062c \\u062c\\u0645\\u0627\\u0644\\u064a\\u0627\\u062a\\u0647 \\u0648\\u062f\\u0644\\u0627\\u0644\\u0627\\u062a\\u0647 \\u062a\\u0633\\u062a\\u0646\\u0641\\u062f \\u0648\\u0644\\u0648\\u062d\\u0638 \\u0644\\u0648\\u062d\\u0629 \\u0646\\u0639\\u0645\\u0627\\u0646 \\u062a\\u062d\\u0642\\u064a\\u0642\\u0647\\u0627 \\u0645\\u0639\\u0627\\u062f\\u0644\\u0629 \\u0627\\u0644\\u0647\\u0627\\u0631\\u0645\\u0648\\u0646\\u064a \\u0639\\u0628\\u0631 \\u062a\\u0648\\u0627\\u0632\\u0646\\u0647\\u0627 \\u0648\\u062a\\u0648\\u0632\\u064a\\u0639\\u0647\\u0627 \\u0644\\u0644\\u0648\\u0646 \\u0648\\u0641\\u0642 \\u0647\\u0646\\u062f\\u0633\\u0629 \\u0645\\u0642\\u0646\\u0639\\u0629 \\u0627\\u0644\\u0627\\u0646\\u062a\\u0642\\u0627\\u0644 \\u0644\\u0648\\u0646 \\u0621\\u0621\\u062e\\u0631 \\u064a\\u0628\\u064a\\u0646 \\u0645\\u062f\\u0649 \\u0627\\u0647\\u062a\\u0645\\u0627\\u0645\\u0647 \\u0628\\u062f\\u0648\\u0631 \\u0639\\u0646\\u0635\\u0631 \\u0627\\u0644\\u0644\\u0648\\u0646 \\u0639\\u0627\\u0644\\u0645 \\u0627\\u0644\\u0644\\u0648\\u062d\\u0629 \\u0648\\u062a\\u0646\\u0645 \\u0644\\u0648\\u062d\\u0629 \\u0634\\u0631\\u064a\\u0641 \\u0621\\u0634\\u0643\\u0646\\u0627\\u0646\\u064a \\u062a\\u0639\\u0627\\u0644\\u062c \\u0645\\u0648\\u0627\\u062f \\u0627\\u0644\\u0621\\u0643\\u0644\\u064a\\u0631\\u0643 \\u0645\\u0647\\u0627\\u0631\\u0627\\u062a\\u0647 \\u0627\\u0644\\u0639\\u0627\\u0644\\u064a\\u0629 \\u0643\\u0621\\u062d\\u062f \\u0627\\u0644\\u0641\\u0646\\u0627\\u0646\\u064a\\u0646 \\u0630\\u0648\\u064a \\u0627\\u0644\\u062d\\u0636\\u0648\\u0631 \\u0627\\u0644\\u0644\\u0627\\u0641\\u062a \\u0627\\u0644\\u062d\\u0631\\u0643\\u0629 \\u0627\\u0644\\u062a\\u0634\\u0643\\u064a\\u0644\\u064a\\u0629 \\u0627\\u0644\\u0643\\u0648\\u064a\\u062a\\u064a\\u0629 \\u0634\\u0621\\u0646 \\u0632\\u0645\\u0644\\u0627\\u0621\\u0647 \\u0627\\u0644\\u0645\\u0634\\u0627\\u0631\\u0643\\u064a\\u0646 \\u0643\\u0627\\u0646\\u062a \\u0637\\u0631\\u064a\\u0642\\u0629 \\u062a\\u0643\\u0646\\u064a\\u0643\\u0647 \\u062a\\u062e\\u062a\\u0644\\u0641 \\u0644\\u0648\\u062d\\u0629 \\u0644\\u0648\\u062d\\u0629 \\u064a\\u062f\\u0644 \\u062b\\u0642\\u062a\\u0647 \\u062a\\u0645\\u0643\\u0646 \\u0621\\u062f\\u0648\\u0627\\u062a\\u0647 \\u0627\\u0644\\u0641\\u0646\\u064a\\u0629 \\u0648\\u0639\\u062f\\u0645 \\u0627\\u0644\\u062a\\u0642\\u064a\\u062f \\u0628\\u0639\\u0648\\u0627\\u0644\\u0645 \\u0645\\u062d\\u062f\\u062f\\u0629 \\u064a\\u0628\\u064a\\u0646 \\u0627\\u0644\\u062a\\u0627\\u0644\\u064a \\u062f\\u0631\\u062c\\u0629 \\u0639\\u0627\\u0644\\u064a\\u0629 \\u0627\\u0644\\u0642\\u0644\\u0642 \\u0627\\u0644\\u0631\\u0648\\u062d\\u064a \\u0644\\u062f\\u064a\\u0647 \\u0648\\u0643\\u0631\\u0645 \\u0627\\u0644\\u0645\\u0637\\u0648\\u0639 \\u0647\\u0627\\u0645\\u0634 \\u0627\\u0644\\u0645\\u0639\\u0631\\u0636 \\u0627\\u0644\\u0641\\u0646\\u0627\\u0646\\u064a\\u0646 \\u0627\\u0644\\u0621\\u0631\\u0628\\u0639\\u0629 \\u0627\\u0644\\u0645\\u0634\\u0627\\u0631\\u0643\\u064a\\u0646 \\u0645\\u0642\\u062f\\u0645\\u0627 \\u062f\\u0631\\u0639\\u0627 \\u062a\\u0630\\u0643\\u0627\\u0631\\u064a\\u0629 \\u0644\\u0643\\u0644 \\u0645\\u0646\\u0647\\u0645\"\n        ],\n        \"semantic_type\": \"\",\n        \"description\": \"\"\n      }\n    }\n  ]\n}"
            }
          },
          "metadata": {},
          "execution_count": 25
        }
      ]
    },
    {
      "cell_type": "code",
      "source": [
        "df['clean_text'].sample(10)"
      ],
      "metadata": {
        "colab": {
          "base_uri": "https://localhost:8080/",
          "height": 393
        },
        "id": "1bv6wuBqWTQI",
        "outputId": "149ba2cb-9e58-4468-dc0a-390d097cc670"
      },
      "execution_count": 38,
      "outputs": [
        {
          "output_type": "execute_result",
          "data": {
            "text/plain": [
              "32760    ضمياء فالح عرضت الصين منتخب ويلز يتولى تدربيه ...\n",
              "19737    مرض انفلونزا الخنازير 6 وفيات دول عربية العراق...\n",
              "6648     مءشر سوق الءمارات المالي الصادر هيءة الءوراق ا...\n",
              "13125    الخليجءعلنت منطقة عجمان الطبية انطلاق فعاليات ...\n",
              "18893    الخليج دانت القوى والحركات والءحزاب الفلسطينية...\n",
              "1319     ءية قراءة محايدة مضمون اللافتات ترافقت والءحدا...\n",
              "9960     ءسواق الءسهم المحلية القيام بدورها كمحرك ءساس ...\n",
              "11898    الاسهم الاوروبية مرتفعة استفادة شركات التعدين ...\n",
              "8445     مءشر سوق الءمارات المالي الصادر هيءة الءوراق ا...\n",
              "9826     الءسهم المحلية 20 مليار قيمتها السوقية وصلت 66...\n",
              "Name: clean_text, dtype: object"
            ],
            "text/html": [
              "<div>\n",
              "<style scoped>\n",
              "    .dataframe tbody tr th:only-of-type {\n",
              "        vertical-align: middle;\n",
              "    }\n",
              "\n",
              "    .dataframe tbody tr th {\n",
              "        vertical-align: top;\n",
              "    }\n",
              "\n",
              "    .dataframe thead th {\n",
              "        text-align: right;\n",
              "    }\n",
              "</style>\n",
              "<table border=\"1\" class=\"dataframe\">\n",
              "  <thead>\n",
              "    <tr style=\"text-align: right;\">\n",
              "      <th></th>\n",
              "      <th>clean_text</th>\n",
              "    </tr>\n",
              "  </thead>\n",
              "  <tbody>\n",
              "    <tr>\n",
              "      <th>32760</th>\n",
              "      <td>ضمياء فالح عرضت الصين منتخب ويلز يتولى تدربيه ...</td>\n",
              "    </tr>\n",
              "    <tr>\n",
              "      <th>19737</th>\n",
              "      <td>مرض انفلونزا الخنازير 6 وفيات دول عربية العراق...</td>\n",
              "    </tr>\n",
              "    <tr>\n",
              "      <th>6648</th>\n",
              "      <td>مءشر سوق الءمارات المالي الصادر هيءة الءوراق ا...</td>\n",
              "    </tr>\n",
              "    <tr>\n",
              "      <th>13125</th>\n",
              "      <td>الخليجءعلنت منطقة عجمان الطبية انطلاق فعاليات ...</td>\n",
              "    </tr>\n",
              "    <tr>\n",
              "      <th>18893</th>\n",
              "      <td>الخليج دانت القوى والحركات والءحزاب الفلسطينية...</td>\n",
              "    </tr>\n",
              "    <tr>\n",
              "      <th>1319</th>\n",
              "      <td>ءية قراءة محايدة مضمون اللافتات ترافقت والءحدا...</td>\n",
              "    </tr>\n",
              "    <tr>\n",
              "      <th>9960</th>\n",
              "      <td>ءسواق الءسهم المحلية القيام بدورها كمحرك ءساس ...</td>\n",
              "    </tr>\n",
              "    <tr>\n",
              "      <th>11898</th>\n",
              "      <td>الاسهم الاوروبية مرتفعة استفادة شركات التعدين ...</td>\n",
              "    </tr>\n",
              "    <tr>\n",
              "      <th>8445</th>\n",
              "      <td>مءشر سوق الءمارات المالي الصادر هيءة الءوراق ا...</td>\n",
              "    </tr>\n",
              "    <tr>\n",
              "      <th>9826</th>\n",
              "      <td>الءسهم المحلية 20 مليار قيمتها السوقية وصلت 66...</td>\n",
              "    </tr>\n",
              "  </tbody>\n",
              "</table>\n",
              "</div><br><label><b>dtype:</b> object</label>"
            ]
          },
          "metadata": {},
          "execution_count": 38
        }
      ]
    },
    {
      "cell_type": "markdown",
      "metadata": {
        "id": "VF45GS_ZSEix"
      },
      "source": [
        "# Tokenization, Padding, and Data Splitting"
      ]
    },
    {
      "cell_type": "markdown",
      "metadata": {
        "id": "YmsL3S-5SIbl"
      },
      "source": [
        "In this step, we will prepare the text data for input into a model by converting the text into numerical sequences, padding them to a uniform length, and splitting the dataset into training and testing sets. Here's an overview of the steps involved:\n",
        "\n",
        "1. **Tokenization**:\n",
        "   We use a tokenizer to convert the cleaned text into numerical sequences. You can use `Tokenizer` tokenizer from `tensorflow.keras.preprocessing.text` package or any other tokenizer you like.\n",
        "\n",
        "2. **Text to sequences**:\n",
        "   After fitting the tokenizer on the cleaned text, we transform each text into a sequence of numbers, where each number corresponds to a token (word) in the text.\n",
        "\n",
        "3. **Padding the sequences**:\n",
        "   Since different texts may vary in length, we pad the sequences to ensure they all have the same length.\n",
        "\n",
        "4. **Label encoding**:\n",
        "   The labels (target values) also need to be converted into numerical form if they are not encoded.\n",
        "\n",
        "5. **Train-test split**:\n",
        "   The dataset is divided into training and testing sets. We allocate 80% of the data for training the model and reserve 20% for testing its performance.\n",
        "   \n",
        "   - The **training data** consists of the padded sequences used to train the model.\n",
        "   - The **training labels** are the encoded labels corresponding to the training data.\n",
        "   - The **testing data** is used to assess the model’s performance after training.\n",
        "   - The **testing labels** are the encoded labels corresponding to the testing data.\n",
        "\n",
        "6. **Data shape confirmation**:\n",
        "   After splitting the data, we print the shape (dimensions) of both the training and testing sets to confirm that the data is properly divided and formatted.\n",
        "\n",
        "By the end of this step, the text data will be transformed into padded numerical sequences, the labels will be encoded, and the data will be split into training and testing sets for model development and evaluation."
      ]
    },
    {
      "cell_type": "markdown",
      "source": [],
      "metadata": {
        "id": "uqVTKrq-7DZH"
      }
    },
    {
      "cell_type": "code",
      "source": [
        "#1.Tokenization\n",
        "tokenizer = Tokenizer()\n",
        "tokenizer.fit_on_texts(df['clean_text'])\n",
        "\n",
        "#2.Text to sequences\n",
        "sequences = tokenizer.texts_to_sequences(df['clean_text'])\n",
        "\n",
        "#3.Padding the sequences:\n",
        "padded_sequences = pad_sequences(sequences, maxlen=max_length, padding='post')\n",
        "\n",
        "#4.Label encoding:\n",
        "label_encoder = LabelEncoder()\n",
        "encoded_labels = label_encoder.fit_transform(df['label'])\n",
        "\n",
        "#4... extrta :) scince the distrbution is not equal i will implement SMOT\n",
        "smote = SMOTE(random_state=42)\n",
        "padded_sequences, encoded_labels = smote.fit_resample(padded_sequences, encoded_labels)\n",
        "#5.Train-test split:\n",
        "train_data, test_data, train_labels, test_labels = train_test_split(padded_sequences, encoded_labels, test_size=0.2, random_state=42)\n"
      ],
      "metadata": {
        "id": "SKUI7ORH6fjh"
      },
      "execution_count": 26,
      "outputs": []
    },
    {
      "cell_type": "code",
      "source": [
        "#Data shape confirmation:\n",
        "train_data.shape, train_labels.shape ,test_data.shape, test_labels.shape"
      ],
      "metadata": {
        "colab": {
          "base_uri": "https://localhost:8080/"
        },
        "id": "74Ou7bos7X1b",
        "outputId": "443e18b6-39af-4954-bf3d-9c72edcfdafb"
      },
      "execution_count": 27,
      "outputs": [
        {
          "output_type": "execute_result",
          "data": {
            "text/plain": [
              "((946, 6368), (946,), (237, 6368), (237,))"
            ]
          },
          "metadata": {},
          "execution_count": 27
        }
      ]
    },
    {
      "cell_type": "markdown",
      "metadata": {
        "id": "qd5Ek4NLTgVN"
      },
      "source": [
        "# Building the Classifier"
      ]
    },
    {
      "cell_type": "markdown",
      "metadata": {
        "id": "HpLEoTaITEGx"
      },
      "source": [
        "In this step, you will design and build a NLP Classifier model to classify text data. Below is a breakdown of the key components you'll implement, but it's up to you to decide how to configure them based on your understanding and experimentation:\n",
        "\n",
        "1. **Model Type**:\n",
        "   You will use a Sequential model, which allows you to stack layers in a linear sequence.\n",
        "\n",
        "2. **Input Layer**:\n",
        "   Define the shape of the input data. Consider the dimensions of your padded sequences and set the input shape accordingly.\n",
        "\n",
        "3. **Embedding Layer**:\n",
        "   The embedding layer will convert input tokens (integers) into dense vector representations. You will need to determine the size of the input dimension (based on your vocabulary) and the output dimension (embedding size).\n",
        "\n",
        "4. **Bidirectional Simple RNN/LSTM Layers**:\n",
        "   You can add one or more recurrent layers. Consider using Bidirectional layers to capture contextual information from both directions (forward and backward). You can chose SimpleRNN/GRU/LSTM to perform this step.\n",
        "\n",
        "5. **Dense Layers**:\n",
        "   Add one or more fully connected (Dense) layers to process the output from the RNN/GRU/LSTM layers.\n",
        "\n",
        "6. **Output Layer**:\n",
        "   The output layer should match the type of classification task you're working on. Consider using appropriate activation function with appropriate number of units.\n",
        "\n",
        "7. **Model Summary**:\n",
        "   After defining your model architecture, print a summary to review the number of layers, types of layers, and total parameters.\n",
        "\n",
        "8. **Model Compilation**:\n",
        "   Finally, compile the model by selecting an optimizer, a loss function, and metrics."
      ]
    },
    {
      "cell_type": "code",
      "source": [
        "# model2 = Sequential([\n",
        "#     # Input layer, specifying the shape of the input data (e.g., sequence length)\n",
        "#     Input(shape=(max_length,)),\n",
        "#     Embedding(input_dim=len(tokenizer.word_index) + 1, output_dim=128, input_length=max_length),\n",
        "#     Bidirectional(LSTM(64, return_sequences=True)),\n",
        "#     Bidirectional(LSTM(32)),\n",
        "#     # Dense(64, activation='relu'),\n",
        "#     Dense(7, activation='softmax')\n",
        "# ])\n",
        "# model2.summary()\n",
        "\n",
        "# model2.compile(optimizer='adam', loss='sparse_categorical_crossentropy', metrics=['accuracy'])\n"
      ],
      "metadata": {
        "colab": {
          "base_uri": "https://localhost:8080/",
          "height": 289
        },
        "id": "cN1no--7LB5q",
        "outputId": "6905b788-0ca9-4880-c8f2-ecc1b413027f"
      },
      "execution_count": 114,
      "outputs": [
        {
          "output_type": "display_data",
          "data": {
            "text/plain": [
              "\u001b[1mModel: \"sequential_13\"\u001b[0m\n"
            ],
            "text/html": [
              "<pre style=\"white-space:pre;overflow-x:auto;line-height:normal;font-family:Menlo,'DejaVu Sans Mono',consolas,'Courier New',monospace\"><span style=\"font-weight: bold\">Model: \"sequential_13\"</span>\n",
              "</pre>\n"
            ]
          },
          "metadata": {}
        },
        {
          "output_type": "display_data",
          "data": {
            "text/plain": [
              "┏━━━━━━━━━━━━━━━━━━━━━━━━━━━━━━━━━━━━━━┳━━━━━━━━━━━━━━━━━━━━━━━━━━━━━┳━━━━━━━━━━━━━━━━━┓\n",
              "┃\u001b[1m \u001b[0m\u001b[1mLayer (type)                        \u001b[0m\u001b[1m \u001b[0m┃\u001b[1m \u001b[0m\u001b[1mOutput Shape               \u001b[0m\u001b[1m \u001b[0m┃\u001b[1m \u001b[0m\u001b[1m        Param #\u001b[0m\u001b[1m \u001b[0m┃\n",
              "┡━━━━━━━━━━━━━━━━━━━━━━━━━━━━━━━━━━━━━━╇━━━━━━━━━━━━━━━━━━━━━━━━━━━━━╇━━━━━━━━━━━━━━━━━┩\n",
              "│ embedding_12 (\u001b[38;5;33mEmbedding\u001b[0m)             │ (\u001b[38;5;45mNone\u001b[0m, \u001b[38;5;34m6368\u001b[0m, \u001b[38;5;34m128\u001b[0m)           │       \u001b[38;5;34m6,074,112\u001b[0m │\n",
              "├──────────────────────────────────────┼─────────────────────────────┼─────────────────┤\n",
              "│ bidirectional_26 (\u001b[38;5;33mBidirectional\u001b[0m)     │ (\u001b[38;5;45mNone\u001b[0m, \u001b[38;5;34m6368\u001b[0m, \u001b[38;5;34m128\u001b[0m)           │          \u001b[38;5;34m98,816\u001b[0m │\n",
              "├──────────────────────────────────────┼─────────────────────────────┼─────────────────┤\n",
              "│ bidirectional_27 (\u001b[38;5;33mBidirectional\u001b[0m)     │ (\u001b[38;5;45mNone\u001b[0m, \u001b[38;5;34m64\u001b[0m)                  │          \u001b[38;5;34m41,216\u001b[0m │\n",
              "├──────────────────────────────────────┼─────────────────────────────┼─────────────────┤\n",
              "│ dense_24 (\u001b[38;5;33mDense\u001b[0m)                     │ (\u001b[38;5;45mNone\u001b[0m, \u001b[38;5;34m64\u001b[0m)                  │           \u001b[38;5;34m4,160\u001b[0m │\n",
              "├──────────────────────────────────────┼─────────────────────────────┼─────────────────┤\n",
              "│ dense_25 (\u001b[38;5;33mDense\u001b[0m)                     │ (\u001b[38;5;45mNone\u001b[0m, \u001b[38;5;34m7\u001b[0m)                   │             \u001b[38;5;34m455\u001b[0m │\n",
              "└──────────────────────────────────────┴─────────────────────────────┴─────────────────┘\n"
            ],
            "text/html": [
              "<pre style=\"white-space:pre;overflow-x:auto;line-height:normal;font-family:Menlo,'DejaVu Sans Mono',consolas,'Courier New',monospace\">┏━━━━━━━━━━━━━━━━━━━━━━━━━━━━━━━━━━━━━━┳━━━━━━━━━━━━━━━━━━━━━━━━━━━━━┳━━━━━━━━━━━━━━━━━┓\n",
              "┃<span style=\"font-weight: bold\"> Layer (type)                         </span>┃<span style=\"font-weight: bold\"> Output Shape                </span>┃<span style=\"font-weight: bold\">         Param # </span>┃\n",
              "┡━━━━━━━━━━━━━━━━━━━━━━━━━━━━━━━━━━━━━━╇━━━━━━━━━━━━━━━━━━━━━━━━━━━━━╇━━━━━━━━━━━━━━━━━┩\n",
              "│ embedding_12 (<span style=\"color: #0087ff; text-decoration-color: #0087ff\">Embedding</span>)             │ (<span style=\"color: #00d7ff; text-decoration-color: #00d7ff\">None</span>, <span style=\"color: #00af00; text-decoration-color: #00af00\">6368</span>, <span style=\"color: #00af00; text-decoration-color: #00af00\">128</span>)           │       <span style=\"color: #00af00; text-decoration-color: #00af00\">6,074,112</span> │\n",
              "├──────────────────────────────────────┼─────────────────────────────┼─────────────────┤\n",
              "│ bidirectional_26 (<span style=\"color: #0087ff; text-decoration-color: #0087ff\">Bidirectional</span>)     │ (<span style=\"color: #00d7ff; text-decoration-color: #00d7ff\">None</span>, <span style=\"color: #00af00; text-decoration-color: #00af00\">6368</span>, <span style=\"color: #00af00; text-decoration-color: #00af00\">128</span>)           │          <span style=\"color: #00af00; text-decoration-color: #00af00\">98,816</span> │\n",
              "├──────────────────────────────────────┼─────────────────────────────┼─────────────────┤\n",
              "│ bidirectional_27 (<span style=\"color: #0087ff; text-decoration-color: #0087ff\">Bidirectional</span>)     │ (<span style=\"color: #00d7ff; text-decoration-color: #00d7ff\">None</span>, <span style=\"color: #00af00; text-decoration-color: #00af00\">64</span>)                  │          <span style=\"color: #00af00; text-decoration-color: #00af00\">41,216</span> │\n",
              "├──────────────────────────────────────┼─────────────────────────────┼─────────────────┤\n",
              "│ dense_24 (<span style=\"color: #0087ff; text-decoration-color: #0087ff\">Dense</span>)                     │ (<span style=\"color: #00d7ff; text-decoration-color: #00d7ff\">None</span>, <span style=\"color: #00af00; text-decoration-color: #00af00\">64</span>)                  │           <span style=\"color: #00af00; text-decoration-color: #00af00\">4,160</span> │\n",
              "├──────────────────────────────────────┼─────────────────────────────┼─────────────────┤\n",
              "│ dense_25 (<span style=\"color: #0087ff; text-decoration-color: #0087ff\">Dense</span>)                     │ (<span style=\"color: #00d7ff; text-decoration-color: #00d7ff\">None</span>, <span style=\"color: #00af00; text-decoration-color: #00af00\">7</span>)                   │             <span style=\"color: #00af00; text-decoration-color: #00af00\">455</span> │\n",
              "└──────────────────────────────────────┴─────────────────────────────┴─────────────────┘\n",
              "</pre>\n"
            ]
          },
          "metadata": {}
        },
        {
          "output_type": "display_data",
          "data": {
            "text/plain": [
              "\u001b[1m Total params: \u001b[0m\u001b[38;5;34m6,218,759\u001b[0m (23.72 MB)\n"
            ],
            "text/html": [
              "<pre style=\"white-space:pre;overflow-x:auto;line-height:normal;font-family:Menlo,'DejaVu Sans Mono',consolas,'Courier New',monospace\"><span style=\"font-weight: bold\"> Total params: </span><span style=\"color: #00af00; text-decoration-color: #00af00\">6,218,759</span> (23.72 MB)\n",
              "</pre>\n"
            ]
          },
          "metadata": {}
        },
        {
          "output_type": "display_data",
          "data": {
            "text/plain": [
              "\u001b[1m Trainable params: \u001b[0m\u001b[38;5;34m6,218,759\u001b[0m (23.72 MB)\n"
            ],
            "text/html": [
              "<pre style=\"white-space:pre;overflow-x:auto;line-height:normal;font-family:Menlo,'DejaVu Sans Mono',consolas,'Courier New',monospace\"><span style=\"font-weight: bold\"> Trainable params: </span><span style=\"color: #00af00; text-decoration-color: #00af00\">6,218,759</span> (23.72 MB)\n",
              "</pre>\n"
            ]
          },
          "metadata": {}
        },
        {
          "output_type": "display_data",
          "data": {
            "text/plain": [
              "\u001b[1m Non-trainable params: \u001b[0m\u001b[38;5;34m0\u001b[0m (0.00 B)\n"
            ],
            "text/html": [
              "<pre style=\"white-space:pre;overflow-x:auto;line-height:normal;font-family:Menlo,'DejaVu Sans Mono',consolas,'Courier New',monospace\"><span style=\"font-weight: bold\"> Non-trainable params: </span><span style=\"color: #00af00; text-decoration-color: #00af00\">0</span> (0.00 B)\n",
              "</pre>\n"
            ]
          },
          "metadata": {}
        }
      ]
    },
    {
      "cell_type": "code",
      "source": [
        "model = Sequential([\n",
        "    # Input layer, specifying the shape of the input data (e.g., sequence length)\n",
        "    Input(shape=(max_length,)),\n",
        "    Embedding(input_dim=len(tokenizer.word_index) + 1, output_dim=128, input_length=max_length),\n",
        "    Bidirectional(SimpleRNN(64, return_sequences=True)),\n",
        "    Bidirectional(SimpleRNN(32)),\n",
        "\n",
        "    Dense(64, activation='relu'),\n",
        "    Dense(7, activation='softmax')\n",
        "])\n",
        "\n",
        "model.summary()\n",
        "\n",
        "model.compile(optimizer='adam', loss='sparse_categorical_crossentropy', metrics=['accuracy'])"
      ],
      "metadata": {
        "colab": {
          "base_uri": "https://localhost:8080/",
          "height": 323
        },
        "id": "Rcegeh3qS5Yp",
        "outputId": "a3d581cd-b534-4909-c88d-cddc8f07638c"
      },
      "execution_count": 32,
      "outputs": [
        {
          "output_type": "stream",
          "name": "stderr",
          "text": [
            "/usr/local/lib/python3.10/dist-packages/keras/src/layers/core/embedding.py:90: UserWarning: Argument `input_length` is deprecated. Just remove it.\n",
            "  warnings.warn(\n"
          ]
        },
        {
          "output_type": "display_data",
          "data": {
            "text/plain": [
              "\u001b[1mModel: \"sequential_1\"\u001b[0m\n"
            ],
            "text/html": [
              "<pre style=\"white-space:pre;overflow-x:auto;line-height:normal;font-family:Menlo,'DejaVu Sans Mono',consolas,'Courier New',monospace\"><span style=\"font-weight: bold\">Model: \"sequential_1\"</span>\n",
              "</pre>\n"
            ]
          },
          "metadata": {}
        },
        {
          "output_type": "display_data",
          "data": {
            "text/plain": [
              "┏━━━━━━━━━━━━━━━━━━━━━━━━━━━━━━━━━━━━━━┳━━━━━━━━━━━━━━━━━━━━━━━━━━━━━┳━━━━━━━━━━━━━━━━━┓\n",
              "┃\u001b[1m \u001b[0m\u001b[1mLayer (type)                        \u001b[0m\u001b[1m \u001b[0m┃\u001b[1m \u001b[0m\u001b[1mOutput Shape               \u001b[0m\u001b[1m \u001b[0m┃\u001b[1m \u001b[0m\u001b[1m        Param #\u001b[0m\u001b[1m \u001b[0m┃\n",
              "┡━━━━━━━━━━━━━━━━━━━━━━━━━━━━━━━━━━━━━━╇━━━━━━━━━━━━━━━━━━━━━━━━━━━━━╇━━━━━━━━━━━━━━━━━┩\n",
              "│ embedding_1 (\u001b[38;5;33mEmbedding\u001b[0m)              │ (\u001b[38;5;45mNone\u001b[0m, \u001b[38;5;34m6368\u001b[0m, \u001b[38;5;34m128\u001b[0m)           │       \u001b[38;5;34m6,074,112\u001b[0m │\n",
              "├──────────────────────────────────────┼─────────────────────────────┼─────────────────┤\n",
              "│ bidirectional_2 (\u001b[38;5;33mBidirectional\u001b[0m)      │ (\u001b[38;5;45mNone\u001b[0m, \u001b[38;5;34m6368\u001b[0m, \u001b[38;5;34m128\u001b[0m)           │          \u001b[38;5;34m24,704\u001b[0m │\n",
              "├──────────────────────────────────────┼─────────────────────────────┼─────────────────┤\n",
              "│ bidirectional_3 (\u001b[38;5;33mBidirectional\u001b[0m)      │ (\u001b[38;5;45mNone\u001b[0m, \u001b[38;5;34m64\u001b[0m)                  │          \u001b[38;5;34m10,304\u001b[0m │\n",
              "├──────────────────────────────────────┼─────────────────────────────┼─────────────────┤\n",
              "│ dense_2 (\u001b[38;5;33mDense\u001b[0m)                      │ (\u001b[38;5;45mNone\u001b[0m, \u001b[38;5;34m64\u001b[0m)                  │           \u001b[38;5;34m4,160\u001b[0m │\n",
              "├──────────────────────────────────────┼─────────────────────────────┼─────────────────┤\n",
              "│ dense_3 (\u001b[38;5;33mDense\u001b[0m)                      │ (\u001b[38;5;45mNone\u001b[0m, \u001b[38;5;34m7\u001b[0m)                   │             \u001b[38;5;34m455\u001b[0m │\n",
              "└──────────────────────────────────────┴─────────────────────────────┴─────────────────┘\n"
            ],
            "text/html": [
              "<pre style=\"white-space:pre;overflow-x:auto;line-height:normal;font-family:Menlo,'DejaVu Sans Mono',consolas,'Courier New',monospace\">┏━━━━━━━━━━━━━━━━━━━━━━━━━━━━━━━━━━━━━━┳━━━━━━━━━━━━━━━━━━━━━━━━━━━━━┳━━━━━━━━━━━━━━━━━┓\n",
              "┃<span style=\"font-weight: bold\"> Layer (type)                         </span>┃<span style=\"font-weight: bold\"> Output Shape                </span>┃<span style=\"font-weight: bold\">         Param # </span>┃\n",
              "┡━━━━━━━━━━━━━━━━━━━━━━━━━━━━━━━━━━━━━━╇━━━━━━━━━━━━━━━━━━━━━━━━━━━━━╇━━━━━━━━━━━━━━━━━┩\n",
              "│ embedding_1 (<span style=\"color: #0087ff; text-decoration-color: #0087ff\">Embedding</span>)              │ (<span style=\"color: #00d7ff; text-decoration-color: #00d7ff\">None</span>, <span style=\"color: #00af00; text-decoration-color: #00af00\">6368</span>, <span style=\"color: #00af00; text-decoration-color: #00af00\">128</span>)           │       <span style=\"color: #00af00; text-decoration-color: #00af00\">6,074,112</span> │\n",
              "├──────────────────────────────────────┼─────────────────────────────┼─────────────────┤\n",
              "│ bidirectional_2 (<span style=\"color: #0087ff; text-decoration-color: #0087ff\">Bidirectional</span>)      │ (<span style=\"color: #00d7ff; text-decoration-color: #00d7ff\">None</span>, <span style=\"color: #00af00; text-decoration-color: #00af00\">6368</span>, <span style=\"color: #00af00; text-decoration-color: #00af00\">128</span>)           │          <span style=\"color: #00af00; text-decoration-color: #00af00\">24,704</span> │\n",
              "├──────────────────────────────────────┼─────────────────────────────┼─────────────────┤\n",
              "│ bidirectional_3 (<span style=\"color: #0087ff; text-decoration-color: #0087ff\">Bidirectional</span>)      │ (<span style=\"color: #00d7ff; text-decoration-color: #00d7ff\">None</span>, <span style=\"color: #00af00; text-decoration-color: #00af00\">64</span>)                  │          <span style=\"color: #00af00; text-decoration-color: #00af00\">10,304</span> │\n",
              "├──────────────────────────────────────┼─────────────────────────────┼─────────────────┤\n",
              "│ dense_2 (<span style=\"color: #0087ff; text-decoration-color: #0087ff\">Dense</span>)                      │ (<span style=\"color: #00d7ff; text-decoration-color: #00d7ff\">None</span>, <span style=\"color: #00af00; text-decoration-color: #00af00\">64</span>)                  │           <span style=\"color: #00af00; text-decoration-color: #00af00\">4,160</span> │\n",
              "├──────────────────────────────────────┼─────────────────────────────┼─────────────────┤\n",
              "│ dense_3 (<span style=\"color: #0087ff; text-decoration-color: #0087ff\">Dense</span>)                      │ (<span style=\"color: #00d7ff; text-decoration-color: #00d7ff\">None</span>, <span style=\"color: #00af00; text-decoration-color: #00af00\">7</span>)                   │             <span style=\"color: #00af00; text-decoration-color: #00af00\">455</span> │\n",
              "└──────────────────────────────────────┴─────────────────────────────┴─────────────────┘\n",
              "</pre>\n"
            ]
          },
          "metadata": {}
        },
        {
          "output_type": "display_data",
          "data": {
            "text/plain": [
              "\u001b[1m Total params: \u001b[0m\u001b[38;5;34m6,113,735\u001b[0m (23.32 MB)\n"
            ],
            "text/html": [
              "<pre style=\"white-space:pre;overflow-x:auto;line-height:normal;font-family:Menlo,'DejaVu Sans Mono',consolas,'Courier New',monospace\"><span style=\"font-weight: bold\"> Total params: </span><span style=\"color: #00af00; text-decoration-color: #00af00\">6,113,735</span> (23.32 MB)\n",
              "</pre>\n"
            ]
          },
          "metadata": {}
        },
        {
          "output_type": "display_data",
          "data": {
            "text/plain": [
              "\u001b[1m Trainable params: \u001b[0m\u001b[38;5;34m6,113,735\u001b[0m (23.32 MB)\n"
            ],
            "text/html": [
              "<pre style=\"white-space:pre;overflow-x:auto;line-height:normal;font-family:Menlo,'DejaVu Sans Mono',consolas,'Courier New',monospace\"><span style=\"font-weight: bold\"> Trainable params: </span><span style=\"color: #00af00; text-decoration-color: #00af00\">6,113,735</span> (23.32 MB)\n",
              "</pre>\n"
            ]
          },
          "metadata": {}
        },
        {
          "output_type": "display_data",
          "data": {
            "text/plain": [
              "\u001b[1m Non-trainable params: \u001b[0m\u001b[38;5;34m0\u001b[0m (0.00 B)\n"
            ],
            "text/html": [
              "<pre style=\"white-space:pre;overflow-x:auto;line-height:normal;font-family:Menlo,'DejaVu Sans Mono',consolas,'Courier New',monospace\"><span style=\"font-weight: bold\"> Non-trainable params: </span><span style=\"color: #00af00; text-decoration-color: #00af00\">0</span> (0.00 B)\n",
              "</pre>\n"
            ]
          },
          "metadata": {}
        }
      ]
    },
    {
      "cell_type": "markdown",
      "metadata": {
        "id": "57DXwqqQTloy"
      },
      "source": [
        "# Defining Batch Size, Creating Datasets, and Training the Model"
      ]
    },
    {
      "cell_type": "markdown",
      "metadata": {
        "id": "LEOvs_dETmQp"
      },
      "source": [
        "In this step, you will define the batch size, create TensorFlow Datasets for both training and testing, and train the model. The key elements to consider are outlined below, and it is up to you to choose the specific configurations based on your preferences and experimentation:\n",
        "\n",
        "1. **Batch Size**:\n",
        "   Select a batch size for training and testing. The batch size determines how many samples will be processed together in one forward and backward pass during training.\n",
        "\n",
        "2. **Creating Datasets**:\n",
        "   Use TensorFlow’s `Dataset.from_tensor_slices()` to create datasets from the training and testing data.\n",
        "\n",
        "3. **Batching the Datasets**:\n",
        "   Batch the datasets by grouping the data into batches of the specified size.\n",
        "\n",
        "4. **Training the Model**:\n",
        "   Train the model by fitting it on the training dataset for a specified number of epochs. You will also need to provide the validation data to monitor the model’s performance on unseen data during training.\n",
        "\n",
        "5. **Tracking Training History**:\n",
        "   During training, the model’s performance metrics (such as loss and accuracy) will be tracked over the epochs, and the results will be stored in the `history` object."
      ]
    },
    {
      "cell_type": "code",
      "source": [
        "# from tensorflow.keras.callbacks import EarlyStopping\n",
        "\n",
        "# early_stop = EarlyStopping(monitor='val_loss', patience=3)\n",
        "\n",
        "# # history = model.fit(train_dataset, epochs=10, validation_data=test_dataset, callbacks=[early_stop])"
      ],
      "metadata": {
        "id": "MoonQeH5UmUH"
      },
      "execution_count": null,
      "outputs": []
    },
    {
      "cell_type": "code",
      "source": [
        "train_dataset = tensorflow.data.Dataset.from_tensor_slices((train_data, train_labels))\n",
        "test_dataset = tensorflow.data.Dataset.from_tensor_slices((test_data, test_labels))\n",
        "\n",
        "# make them batches\n",
        "train_dataset = train_dataset.batch(batch_size)\n",
        "test_dataset = test_dataset.batch(batch_size)\n"
      ],
      "metadata": {
        "id": "HE1_6vr0Sujb"
      },
      "execution_count": 33,
      "outputs": []
    },
    {
      "cell_type": "code",
      "source": [
        "history = model.fit(train_dataset, epochs=3, validation_data=test_dataset)"
      ],
      "metadata": {
        "colab": {
          "base_uri": "https://localhost:8080/"
        },
        "id": "yGpREKWbDaul",
        "outputId": "f14fc96a-ff28-4e4d-e7c3-0338d22fa3f9"
      },
      "execution_count": 34,
      "outputs": [
        {
          "output_type": "stream",
          "name": "stdout",
          "text": [
            "Epoch 1/3\n",
            "\u001b[1m30/30\u001b[0m \u001b[32m━━━━━━━━━━━━━━━━━━━━\u001b[0m\u001b[37m\u001b[0m \u001b[1m98s\u001b[0m 3s/step - accuracy: 0.1497 - loss: 1.9659 - val_accuracy: 0.2236 - val_loss: 1.8812\n",
            "Epoch 2/3\n",
            "\u001b[1m30/30\u001b[0m \u001b[32m━━━━━━━━━━━━━━━━━━━━\u001b[0m\u001b[37m\u001b[0m \u001b[1m133s\u001b[0m 3s/step - accuracy: 0.6630 - loss: 1.4839 - val_accuracy: 0.3671 - val_loss: 1.6221\n",
            "Epoch 3/3\n",
            "\u001b[1m30/30\u001b[0m \u001b[32m━━━━━━━━━━━━━━━━━━━━\u001b[0m\u001b[37m\u001b[0m \u001b[1m76s\u001b[0m 3s/step - accuracy: 0.9727 - loss: 0.5912 - val_accuracy: 0.3333 - val_loss: 1.7104\n"
          ]
        }
      ]
    },
    {
      "cell_type": "markdown",
      "metadata": {
        "id": "XmoJfr3nfP-n"
      },
      "source": [
        "# Model Evaluation"
      ]
    },
    {
      "cell_type": "markdown",
      "metadata": {
        "id": "2Gb8G9XiT-ec"
      },
      "source": [
        "Once the model is trained, the next step is to evaluate its performance on the testing dataset.\n",
        "\n",
        "1. **Evaluate the Model**:\n",
        "   You will use the `evaluate()` method to assess the model’s performance on the test dataset.\n",
        "\n",
        "2. **Testing Dataset**:\n",
        "   Ensure that the testing dataset is properly prepared and batched, just like the training dataset.\n",
        "\n",
        "4. **Loss Curve**:\n",
        "   A loss curve plots the loss values for both the training and validation datasets over the epochs."
      ]
    },
    {
      "cell_type": "code",
      "execution_count": 35,
      "metadata": {
        "id": "SdECXvQGUQae",
        "colab": {
          "base_uri": "https://localhost:8080/",
          "height": 879
        },
        "outputId": "87675022-71e1-48e3-ede4-c955f0ec77cd"
      },
      "outputs": [
        {
          "output_type": "stream",
          "name": "stdout",
          "text": [
            "\u001b[1m8/8\u001b[0m \u001b[32m━━━━━━━━━━━━━━━━━━━━\u001b[0m\u001b[37m\u001b[0m \u001b[1m9s\u001b[0m 1s/step - accuracy: 0.3027 - loss: 1.8012\n",
            "Test Loss: 1.7103885412216187, Test Accuracy: 0.3333333432674408\n"
          ]
        },
        {
          "output_type": "display_data",
          "data": {
            "text/plain": [
              "<Figure size 640x480 with 1 Axes>"
            ],
            "image/png": "[encoded data removed]"
          },
          "metadata": {}
        },
        {
          "output_type": "display_data",
          "data": {
            "text/plain": [
              "<Figure size 640x480 with 1 Axes>"
            ],
            "image/png": "[encoded data removed]"
          },
          "metadata": {}
        }
      ],
      "source": [
        "#Evaluate the Model:\n",
        "loss, accuracy = model.evaluate(test_dataset)\n",
        "print(f\"Test Loss: {loss}, Test Accuracy: {accuracy}\")\n",
        "\n",
        "#plot the evaluation\n",
        "plt.plot(history.history['loss'], label='Train Loss')\n",
        "plt.plot(history.history['val_loss'], label='Test Loss')\n",
        "plt.legend(loc='upper right')\n",
        "plt.show()\n",
        "\n",
        "plt.plot(history.history['accuracy'], label='Train Acc')\n",
        "plt.plot(history.history['val_accuracy'], label='Test Acc')\n",
        "plt.legend(loc='upper right')\n",
        "plt.show()"
      ]
    },
    {
      "cell_type": "markdown",
      "metadata": {
        "id": "ifx5RFxnUQqc"
      },
      "source": [
        "# Model Inference"
      ]
    },
    {
      "cell_type": "markdown",
      "metadata": {
        "id": "sVh0WCBoUSlP"
      },
      "source": [
        "In this step, you will use the trained model to make predictions on new, unseen data (inference). Here’s an outline of the key points:\n",
        "\n",
        "1. **Create Test Sample**:\n",
        "   Create a string to test your modelm the goal here is to give the model Before making predictions, ensure that the new data is preprocessed in the same way as the training data. This includes tokenization, padding, and any other transformations you applied during the data preprocessing step. The data can be single text to see the result of the prediction.\n",
        "\n",
        "2. **Model Prediction**:\n",
        "   Use the `predict()` method to feed new samples into the trained model and obtain predictions. The model will output probabilities or predicted class labels based on the type of classification task (binary or multi-class).\n",
        "\n",
        "3. **Interpreting Predictions**:\n",
        "   The model will return probabilities for each class."
      ]
    },
    {
      "cell_type": "code",
      "source": [
        "# Example text and tokenizer setup\n",
        "sample_text = [\"الأسهم الأوروبية مرتفعة، مستفيدة من الزيادة في أسعار المعادن والمواد الخام، مما يعزز أرباح شركات التعدين ويعكس الانتعاش في القطاع الاقتصادي. هذا الارتفاع يأتي في ظل طلب قوي على الموارد الطبيعية، مع استفادة شركات التعدين من تحسن الظروف الاقتصادية العالمية وزيادة الاستثمارات في مشاريع البنية التحتية والطاقة النظيفة.\"]\n",
        "sampSequences = tokenizer.texts_to_sequences(sample_text)\n",
        "samplePAD_sequences = pad_sequences(sampSequences, maxlen=max_length, padding='post')\n",
        "\n"
      ],
      "metadata": {
        "id": "qICY0RCjYIAh"
      },
      "execution_count": 47,
      "outputs": []
    },
    {
      "cell_type": "code",
      "execution_count": 51,
      "metadata": {
        "id": "2XiahrhffR0J",
        "colab": {
          "base_uri": "https://localhost:8080/"
        },
        "outputId": "c9659401-6eef-49d9-b886-ff989cf6bcb4"
      },
      "outputs": [
        {
          "output_type": "stream",
          "name": "stdout",
          "text": [
            "\u001b[1m1/1\u001b[0m \u001b[32m━━━━━━━━━━━━━━━━━━━━\u001b[0m\u001b[37m\u001b[0m \u001b[1m0s\u001b[0m 387ms/step\n",
            "Predictetion: ['Finance']\n"
          ]
        }
      ],
      "source": [
        "predictions = model.predict(samplePAD_sequences)\n",
        "pred = label_encoder.inverse_transform([predictions.argmax()])\n",
        "print(f\"Predictetion:\",pred )"
      ]
    },
    {
      "cell_type": "markdown",
      "metadata": {
        "id": "fHbgQVrt43DQ"
      },
      "source": [
        "# Notebook Question:\n",
        "- How did you handle text preprocessing? Why did you choose this approach?\n",
        "\n",
        "- Why did you choose this model design?\n",
        "\n",
        "- Why did you pick this number of layers or units for the model?\n",
        "\n",
        "- Why did you select these evaluation methods?\n",
        "\n",
        "- Does your model show signs of overfitting or underfitting? How do you know?\n",
        "\n",
        "- What changes could you make to improve the model and fix overfitting or underfitting?"
      ]
    },
    {
      "cell_type": "markdown",
      "metadata": {
        "id": "x7vOe0JZ43DQ"
      },
      "source": [
        "Answer Here:"
      ]
    },
    {
      "cell_type": "markdown",
      "source": [
        "first i checked if there was missing value and then i checked the distrubtion witch shows thst itsnt equals so i handel it after encouding. then i made functoin for cleaning data toknizeing punctions stemming...\n",
        "\n",
        "then i used embbding to convert to vectors and bidirectional to understand from two dorection and the output is softmax for 7 labels to classify\n",
        "\n",
        "i tested it with simple number of layers and it works so i countouned\n",
        "\n",
        "\n",
        "i used accureacy and loss because it will show how the model is working and its the sutiable ecaluating metrics for calssification\n",
        "\n",
        "slitly overfitting because the valdation accureacy is much lower\n",
        "\n",
        "perhabse maybe adding layers for model to make it more specify .. i would try but i am afraid it will take too long for running"
      ],
      "metadata": {
        "id": "RStnouEgYCnv"
      }
    }
  ],
  "metadata": {
    "accelerator": "GPU",
    "colab": {
      "gpuType": "T4",
      "provenance": []
    },
    "kernelspec": {
      "display_name": "Python 3",
      "name": "python3"
    },
    "language_info": {
      "name": "python"
    }
  },
  "nbformat": 4,
  "nbformat_minor": 0
}